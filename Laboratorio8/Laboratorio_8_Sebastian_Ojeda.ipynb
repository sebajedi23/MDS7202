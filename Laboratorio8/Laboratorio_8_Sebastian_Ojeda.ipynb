{
  "cells": [
    {
      "cell_type": "markdown",
      "metadata": {
        "id": "XUZ1dFPHzAHl",
        "cell_id": "e651654461c3474fb2b0d36de22a6c14",
        "deepnote_cell_height": 103.53334045410156,
        "deepnote_cell_type": "markdown"
      },
      "source": [
        "<h1><center>Laboratorio 8: Aprendizaje Supervisado 🔮</center></h1>\n",
        "\n",
        "<center><strong>MDS7202: Laboratorio de Programación Científica para Ciencia de Datos</strong></center>"
      ]
    },
    {
      "cell_type": "markdown",
      "metadata": {
        "id": "UD8X1uhGzAHq",
        "cell_id": "7a6943958920482eb851e608d1efb6ac",
        "deepnote_cell_type": "markdown"
      },
      "source": [
        "### Cuerpo Docente:\n",
        "\n",
        "- Profesor: Ignacio Meza y Gabriel Iturra\n",
        "- Auxiliar: Sebastián Tinoco\n",
        "- Ayudante: Arturo Lazcano y Angelo Muñoz"
      ]
    },
    {
      "cell_type": "markdown",
      "metadata": {
        "id": "tXflExjqzAHr",
        "cell_id": "0202c4ed94184a289e51ca5325b8afba",
        "deepnote_cell_height": 139.5,
        "deepnote_cell_type": "markdown"
      },
      "source": [
        "### Equipo: SUPER IMPORTANTE - notebooks sin nombre no serán revisados\n",
        "\n",
        "- Nombre de alumno 1: Sebastián Ojeda G.\n"
      ]
    },
    {
      "cell_type": "markdown",
      "metadata": {
        "id": "AD-V0bbZzAHr",
        "cell_id": "ce180f8cd3f3485fabbe6c0959a648db",
        "deepnote_cell_height": 61.28334045410156,
        "deepnote_cell_type": "markdown"
      },
      "source": [
        "### **Link de repositorio de GitHub:** `https://github.com/sebajedi23/MDS7202`"
      ]
    },
    {
      "cell_type": "markdown",
      "metadata": {
        "id": "6uBLPj1PzAHs",
        "cell_id": "df3ab193db4a4f09ac25dbe605e3a83a",
        "deepnote_cell_height": 603.8499755859375,
        "deepnote_cell_type": "markdown"
      },
      "source": [
        "## Temas a tratar\n",
        "\n",
        "- Aprendizaje Supervisado\n",
        "- Flujos de datos a través de `Pipelines`.\n",
        "\n",
        "## Reglas\n",
        "\n",
        "- **Grupos de 2 personas**\n",
        "- Asistencia **obligatoria** a instrucciones del lab (viernes 16.15). Luego, pueden quedarse trabajando en las salas o irse.\n",
        "- **No se revisarán entregas de personas ausentes**.\n",
        "- Cualquier duda fuera del horario de clases al foro. Mensajes al equipo docente serán respondidos por este medio.\n",
        "- Prohibidas las copias.\n",
        "- Pueden usar cualquer matrial del curso que estimen conveniente.\n",
        "\n",
        "## Objetivos principales del laboratorio\n",
        "\n",
        "- Comprender el funcionamiento de clasificadores/regresores.\n",
        "- Generar múltiples modelos predictivos.\n",
        "- Comprender las ventajas de crear modelos en pipeline vs hacer las operaciones a mano.\n",
        "\n",
        "El laboratorio deberá ser desarrollado sin el uso indiscriminado de iteradores nativos de python (aka \"for\", \"while\"). La idea es que aprendan a exprimir al máximo las funciones optimizadas que nos entrega `pandas`, las cuales vale mencionar, son bastante más eficientes que los iteradores nativos sobre `DataFrames`."
      ]
    },
    {
      "cell_type": "markdown",
      "metadata": {
        "id": "MhISwri4zAHy",
        "cell_id": "ad2df18de2544420960174a3f424bc5c",
        "deepnote_cell_height": 61.133331298828125,
        "deepnote_cell_type": "markdown"
      },
      "source": [
        "### Importamos librerias utiles 😸"
      ]
    },
    {
      "cell_type": "code",
      "metadata": {
        "id": "uyc33dKdzAHy",
        "colab": {
          "base_uri": "https://localhost:8080/"
        },
        "cell_id": "c99537db269c4b04970732c3cccac0c9",
        "outputId": "26457f84-ee7c-4c59-d553-d61f7d33729f",
        "ExecuteTime": {
          "end_time": "2021-03-29T00:08:16.884674Z",
          "start_time": "2021-03-29T00:08:16.349846Z"
        },
        "source_hash": "cb3614e",
        "owner_user_id": "badcc427-fd3d-4615-9296-faa43ec69cfb",
        "execution_start": 1636741163382,
        "execution_millis": 7630,
        "deepnote_to_be_reexecuted": false,
        "deepnote_cell_type": "code"
      },
      "source": [
        "# Libreria Core del lab.\n",
        "import numpy as np\n",
        "import pandas as pd\n",
        "from sklearn.pipeline import Pipeline\n",
        "from sklearn.compose import ColumnTransformer\n",
        "from sklearn.model_selection import train_test_split\n",
        "\n",
        "# Pre-procesamiento\n",
        "from sklearn.preprocessing import MinMaxScaler\n",
        "from sklearn.preprocessing import StandardScaler\n",
        "from sklearn.preprocessing import FunctionTransformer\n",
        "from sklearn.preprocessing import PowerTransformer\n",
        "from sklearn.preprocessing import OneHotEncoder\n",
        "from sklearn.tree import DecisionTreeClassifier\n",
        "\n",
        "# Metricas de evaluación\n",
        "from sklearn.metrics import classification_report\n",
        "from sklearn.metrics import accuracy_score\n",
        "from sklearn.metrics import f1_score\n",
        "from sklearn.metrics import cohen_kappa_score\n",
        "\n",
        "#Libreria para plotear\n",
        "!pip install --upgrade plotly\n",
        "import plotly.express as px\n",
        "from plotly.subplots import make_subplots\n",
        "import plotly.graph_objects as go"
      ],
      "execution_count": 2,
      "outputs": [
        {
          "output_type": "stream",
          "name": "stdout",
          "text": [
            "Requirement already satisfied: plotly in /usr/local/lib/python3.10/dist-packages (5.15.0)\n",
            "Collecting plotly\n",
            "  Downloading plotly-5.18.0-py3-none-any.whl (15.6 MB)\n",
            "\u001b[2K     \u001b[90m━━━━━━━━━━━━━━━━━━━━━━━━━━━━━━━━━━━━━━━━\u001b[0m \u001b[32m15.6/15.6 MB\u001b[0m \u001b[31m55.1 MB/s\u001b[0m eta \u001b[36m0:00:00\u001b[0m\n",
            "\u001b[?25hRequirement already satisfied: tenacity>=6.2.0 in /usr/local/lib/python3.10/dist-packages (from plotly) (8.2.3)\n",
            "Requirement already satisfied: packaging in /usr/local/lib/python3.10/dist-packages (from plotly) (23.2)\n",
            "Installing collected packages: plotly\n",
            "  Attempting uninstall: plotly\n",
            "    Found existing installation: plotly 5.15.0\n",
            "    Uninstalling plotly-5.15.0:\n",
            "      Successfully uninstalled plotly-5.15.0\n",
            "\u001b[31mERROR: pip's dependency resolver does not currently take into account all the packages that are installed. This behaviour is the source of the following dependency conflicts.\n",
            "lida 0.0.10 requires fastapi, which is not installed.\n",
            "lida 0.0.10 requires kaleido, which is not installed.\n",
            "lida 0.0.10 requires python-multipart, which is not installed.\n",
            "lida 0.0.10 requires uvicorn, which is not installed.\u001b[0m\u001b[31m\n",
            "\u001b[0mSuccessfully installed plotly-5.18.0\n"
          ]
        }
      ]
    },
    {
      "cell_type": "markdown",
      "metadata": {
        "id": "5FTGE74b3FBU",
        "cell_id": "3960faa7a101458896294c72b4b0758c",
        "deepnote_cell_height": 51.53334045410156,
        "deepnote_cell_type": "markdown"
      },
      "source": [
        "https://www.kaggle.com/antoinekrajnc/soccer-players-statistics"
      ]
    },
    {
      "cell_type": "markdown",
      "metadata": {
        "id": "xpOTbQcxbSiy",
        "cell_id": "f9e9147f05744f749e29d4134157f1f3",
        "deepnote_cell_height": 305.933349609375,
        "deepnote_cell_type": "markdown"
      },
      "source": [
        "# 1. Predicciones Futboleras\n",
        "\n",
        "<p align=\"center\">\n",
        "  <img src=\"https://drive.google.com/uc?export=view&id=1BnO4tyh3vM2P199Ec9s3JjngQ4qQ9seP\"\n",
        "\" width=\"300\">\n",
        "</p>\n",
        "\n",
        "\n",
        "Tras el trágico despido de la mítica mascota de Maipú, Renacín decide adentrarse como consultor en el mercado futbolero, el cuál (para variar...) está cargado en especulaciones.\n",
        "\n",
        "Como su principal tarea será asesorar a los directivos de los clubes sobre cuál jugador comprar y cuál no, Renacín desea generar modelos predictivos que evaluén distintas características de los jugadores; todo con el fin de tomar decisiones concretas basadas en los datos.\n",
        "\n",
        "Sin embargo, su condición de corporeo le impidió tomar la versión anterior de MDS7202, por lo que este motivo Renacín contrata a su equipo para lograr su objetivo final. Dado que aún tiene fuertes vínculos con la dirección de deportes de la municipalidad, el corporeo le entrega base de datos con las estadísticas de cada jugador para que su equipo empieze a trabajar ya con un dataset listo para ser usado.\n"
      ]
    },
    {
      "cell_type": "markdown",
      "metadata": {
        "id": "jnmZfFpxTTYX",
        "deepnote_cell_height": 169.13333129882812,
        "cell_id": "5b831ae5e73547a1ae5f96b453f1ab2d",
        "deepnote_cell_type": "markdown"
      },
      "source": [
        "**Los Datos**\n",
        "\n",
        "Para este laboratorio deberán trabajar con los csv `statsplayers.csv` y `salarios.csv`, donde deberán aplicar algoritmos de de aprendizaje supervisado (clasificación y regresión) en base a características que describen de jugadores de futbol.\n",
        "\n",
        "Para comenzar cargue el dataset señalado y a continuación vea el reporte **`Player_Stats_Report.html`** (adjunto en la carpeta del enunciado) que describe las características principales del `DataFrame`."
      ]
    },
    {
      "cell_type": "code",
      "metadata": {
        "id": "Jqq-s010Iwl1",
        "colab": {
          "base_uri": "https://localhost:8080/"
        },
        "cell_id": "9b9505acaf3f4906bbfc1950b04d9dca",
        "outputId": "42d6b1b6-447e-4a34-8b51-1d27ed6dfc32",
        "source_hash": "c60dc4a7",
        "execution_start": 1636741171022,
        "execution_millis": 7,
        "deepnote_to_be_reexecuted": false,
        "deepnote_cell_type": "code"
      },
      "source": [
        "# Si usted está utilizando Colabolatory le puede ser útil este código para cargar los archivos.\n",
        "try:\n",
        "    from google.colab import drive\n",
        "    drive.mount(\"/content/drive\")\n",
        "    path = '/content/drive/MyDrive/Colab Notebooks/Laboratorio de programación científica para ciencia de datos/Lab 8/'\n",
        "except:\n",
        "    print('Ignorando conexión drive-colab')"
      ],
      "execution_count": 3,
      "outputs": [
        {
          "output_type": "stream",
          "name": "stdout",
          "text": [
            "Mounted at /content/drive\n"
          ]
        }
      ]
    },
    {
      "cell_type": "code",
      "metadata": {
        "id": "bED3w3tDbSCf",
        "colab": {
          "height": 617,
          "base_uri": "https://localhost:8080/"
        },
        "cell_id": "bbd60dabcba44542826c491f69c1f53c",
        "outputId": "1d85ff48-d938-4dc5-c02d-3f9bc218c8bc",
        "source_hash": "65944a94",
        "execution_start": 1636742947300,
        "execution_millis": 184,
        "deepnote_to_be_reexecuted": false,
        "deepnote_cell_type": "code"
      },
      "source": [
        "df_players = pd.read_csv(path + 'stats_players.csv')\n",
        "df_players"
      ],
      "execution_count": 4,
      "outputs": [
        {
          "output_type": "execute_result",
          "data": {
            "text/plain": [
              "                    Name          Nationality National_Position Club_Position  \\\n",
              "0      Cristiano Ronaldo             Portugal                LS            LW   \n",
              "1           Lionel Messi            Argentina                RW            RW   \n",
              "2                 Neymar               Brazil                LW            LW   \n",
              "3            Luis Suárez              Uruguay                LS            ST   \n",
              "4           Manuel Neuer              Germany                GK            GK   \n",
              "...                  ...                  ...               ...           ...   \n",
              "17583        Adam Dunbar  Republic of Ireland               NaN           Sub   \n",
              "17584       Dylan McGoey  Republic of Ireland               NaN           Sub   \n",
              "17585    Tommy Ouldridge              England               NaN           Res   \n",
              "17586         Mark Foden             Scotland               NaN           Sub   \n",
              "17587   Barry Richardson              England               NaN           Sub   \n",
              "\n",
              "       Height  Weight Preffered_Foot  Age        Work_Rate  Weak_foot  ...  \\\n",
              "0         185      80          Right   32       High / Low          4  ...   \n",
              "1         170      72           Left   29  Medium / Medium          4  ...   \n",
              "2         174      68          Right   25    High / Medium          5  ...   \n",
              "3         182      85          Right   30    High / Medium          4  ...   \n",
              "4         193      92          Right   31  Medium / Medium          4  ...   \n",
              "...       ...     ...            ...  ...              ...        ...  ...   \n",
              "17583     183      82          Right   19  Medium / Medium          1  ...   \n",
              "17584     185      80          Right   19  Medium / Medium          2  ...   \n",
              "17585     173      61          Right   18    High / Medium          2  ...   \n",
              "17586     180      80          Right   21  Medium / Medium          3  ...   \n",
              "17587     185      77          Right   47  Medium / Medium          2  ...   \n",
              "\n",
              "       Agility  Jumping  Heading  Shot_Power  Finishing  Long_Shots  Curve  \\\n",
              "0           90       95       85          92         93          90     81   \n",
              "1           90       68       71          85         95          88     89   \n",
              "2           96       61       62          78         89          77     79   \n",
              "3           86       69       77          87         94          86     86   \n",
              "4           52       78       25          25         13          16     14   \n",
              "...        ...      ...      ...         ...        ...         ...    ...   \n",
              "17583       27       56       14          16         13          13     11   \n",
              "17584       28       53       12          17         12          11     12   \n",
              "17585       54       61       41          44         28          42     35   \n",
              "17586       34       48       15          23         14          12     13   \n",
              "17587       38       51       12          13         11          16     12   \n",
              "\n",
              "       Freekick_Accuracy  Penalties  Volleys  \n",
              "0                     76         85       88  \n",
              "1                     90         74       85  \n",
              "2                     84         81       83  \n",
              "3                     84         85       88  \n",
              "4                     11         47       11  \n",
              "...                  ...        ...      ...  \n",
              "17583                 13         15       12  \n",
              "17584                 13         16       12  \n",
              "17585                 36         42       37  \n",
              "17586                 12         24       12  \n",
              "17587                 11         22       12  \n",
              "\n",
              "[17588 rows x 39 columns]"
            ],
            "text/html": [
              "\n",
              "  <div id=\"df-0a78093a-c3f9-472a-9fa4-0096212b3786\" class=\"colab-df-container\">\n",
              "    <div>\n",
              "<style scoped>\n",
              "    .dataframe tbody tr th:only-of-type {\n",
              "        vertical-align: middle;\n",
              "    }\n",
              "\n",
              "    .dataframe tbody tr th {\n",
              "        vertical-align: top;\n",
              "    }\n",
              "\n",
              "    .dataframe thead th {\n",
              "        text-align: right;\n",
              "    }\n",
              "</style>\n",
              "<table border=\"1\" class=\"dataframe\">\n",
              "  <thead>\n",
              "    <tr style=\"text-align: right;\">\n",
              "      <th></th>\n",
              "      <th>Name</th>\n",
              "      <th>Nationality</th>\n",
              "      <th>National_Position</th>\n",
              "      <th>Club_Position</th>\n",
              "      <th>Height</th>\n",
              "      <th>Weight</th>\n",
              "      <th>Preffered_Foot</th>\n",
              "      <th>Age</th>\n",
              "      <th>Work_Rate</th>\n",
              "      <th>Weak_foot</th>\n",
              "      <th>...</th>\n",
              "      <th>Agility</th>\n",
              "      <th>Jumping</th>\n",
              "      <th>Heading</th>\n",
              "      <th>Shot_Power</th>\n",
              "      <th>Finishing</th>\n",
              "      <th>Long_Shots</th>\n",
              "      <th>Curve</th>\n",
              "      <th>Freekick_Accuracy</th>\n",
              "      <th>Penalties</th>\n",
              "      <th>Volleys</th>\n",
              "    </tr>\n",
              "  </thead>\n",
              "  <tbody>\n",
              "    <tr>\n",
              "      <th>0</th>\n",
              "      <td>Cristiano Ronaldo</td>\n",
              "      <td>Portugal</td>\n",
              "      <td>LS</td>\n",
              "      <td>LW</td>\n",
              "      <td>185</td>\n",
              "      <td>80</td>\n",
              "      <td>Right</td>\n",
              "      <td>32</td>\n",
              "      <td>High / Low</td>\n",
              "      <td>4</td>\n",
              "      <td>...</td>\n",
              "      <td>90</td>\n",
              "      <td>95</td>\n",
              "      <td>85</td>\n",
              "      <td>92</td>\n",
              "      <td>93</td>\n",
              "      <td>90</td>\n",
              "      <td>81</td>\n",
              "      <td>76</td>\n",
              "      <td>85</td>\n",
              "      <td>88</td>\n",
              "    </tr>\n",
              "    <tr>\n",
              "      <th>1</th>\n",
              "      <td>Lionel Messi</td>\n",
              "      <td>Argentina</td>\n",
              "      <td>RW</td>\n",
              "      <td>RW</td>\n",
              "      <td>170</td>\n",
              "      <td>72</td>\n",
              "      <td>Left</td>\n",
              "      <td>29</td>\n",
              "      <td>Medium / Medium</td>\n",
              "      <td>4</td>\n",
              "      <td>...</td>\n",
              "      <td>90</td>\n",
              "      <td>68</td>\n",
              "      <td>71</td>\n",
              "      <td>85</td>\n",
              "      <td>95</td>\n",
              "      <td>88</td>\n",
              "      <td>89</td>\n",
              "      <td>90</td>\n",
              "      <td>74</td>\n",
              "      <td>85</td>\n",
              "    </tr>\n",
              "    <tr>\n",
              "      <th>2</th>\n",
              "      <td>Neymar</td>\n",
              "      <td>Brazil</td>\n",
              "      <td>LW</td>\n",
              "      <td>LW</td>\n",
              "      <td>174</td>\n",
              "      <td>68</td>\n",
              "      <td>Right</td>\n",
              "      <td>25</td>\n",
              "      <td>High / Medium</td>\n",
              "      <td>5</td>\n",
              "      <td>...</td>\n",
              "      <td>96</td>\n",
              "      <td>61</td>\n",
              "      <td>62</td>\n",
              "      <td>78</td>\n",
              "      <td>89</td>\n",
              "      <td>77</td>\n",
              "      <td>79</td>\n",
              "      <td>84</td>\n",
              "      <td>81</td>\n",
              "      <td>83</td>\n",
              "    </tr>\n",
              "    <tr>\n",
              "      <th>3</th>\n",
              "      <td>Luis Suárez</td>\n",
              "      <td>Uruguay</td>\n",
              "      <td>LS</td>\n",
              "      <td>ST</td>\n",
              "      <td>182</td>\n",
              "      <td>85</td>\n",
              "      <td>Right</td>\n",
              "      <td>30</td>\n",
              "      <td>High / Medium</td>\n",
              "      <td>4</td>\n",
              "      <td>...</td>\n",
              "      <td>86</td>\n",
              "      <td>69</td>\n",
              "      <td>77</td>\n",
              "      <td>87</td>\n",
              "      <td>94</td>\n",
              "      <td>86</td>\n",
              "      <td>86</td>\n",
              "      <td>84</td>\n",
              "      <td>85</td>\n",
              "      <td>88</td>\n",
              "    </tr>\n",
              "    <tr>\n",
              "      <th>4</th>\n",
              "      <td>Manuel Neuer</td>\n",
              "      <td>Germany</td>\n",
              "      <td>GK</td>\n",
              "      <td>GK</td>\n",
              "      <td>193</td>\n",
              "      <td>92</td>\n",
              "      <td>Right</td>\n",
              "      <td>31</td>\n",
              "      <td>Medium / Medium</td>\n",
              "      <td>4</td>\n",
              "      <td>...</td>\n",
              "      <td>52</td>\n",
              "      <td>78</td>\n",
              "      <td>25</td>\n",
              "      <td>25</td>\n",
              "      <td>13</td>\n",
              "      <td>16</td>\n",
              "      <td>14</td>\n",
              "      <td>11</td>\n",
              "      <td>47</td>\n",
              "      <td>11</td>\n",
              "    </tr>\n",
              "    <tr>\n",
              "      <th>...</th>\n",
              "      <td>...</td>\n",
              "      <td>...</td>\n",
              "      <td>...</td>\n",
              "      <td>...</td>\n",
              "      <td>...</td>\n",
              "      <td>...</td>\n",
              "      <td>...</td>\n",
              "      <td>...</td>\n",
              "      <td>...</td>\n",
              "      <td>...</td>\n",
              "      <td>...</td>\n",
              "      <td>...</td>\n",
              "      <td>...</td>\n",
              "      <td>...</td>\n",
              "      <td>...</td>\n",
              "      <td>...</td>\n",
              "      <td>...</td>\n",
              "      <td>...</td>\n",
              "      <td>...</td>\n",
              "      <td>...</td>\n",
              "      <td>...</td>\n",
              "    </tr>\n",
              "    <tr>\n",
              "      <th>17583</th>\n",
              "      <td>Adam Dunbar</td>\n",
              "      <td>Republic of Ireland</td>\n",
              "      <td>NaN</td>\n",
              "      <td>Sub</td>\n",
              "      <td>183</td>\n",
              "      <td>82</td>\n",
              "      <td>Right</td>\n",
              "      <td>19</td>\n",
              "      <td>Medium / Medium</td>\n",
              "      <td>1</td>\n",
              "      <td>...</td>\n",
              "      <td>27</td>\n",
              "      <td>56</td>\n",
              "      <td>14</td>\n",
              "      <td>16</td>\n",
              "      <td>13</td>\n",
              "      <td>13</td>\n",
              "      <td>11</td>\n",
              "      <td>13</td>\n",
              "      <td>15</td>\n",
              "      <td>12</td>\n",
              "    </tr>\n",
              "    <tr>\n",
              "      <th>17584</th>\n",
              "      <td>Dylan McGoey</td>\n",
              "      <td>Republic of Ireland</td>\n",
              "      <td>NaN</td>\n",
              "      <td>Sub</td>\n",
              "      <td>185</td>\n",
              "      <td>80</td>\n",
              "      <td>Right</td>\n",
              "      <td>19</td>\n",
              "      <td>Medium / Medium</td>\n",
              "      <td>2</td>\n",
              "      <td>...</td>\n",
              "      <td>28</td>\n",
              "      <td>53</td>\n",
              "      <td>12</td>\n",
              "      <td>17</td>\n",
              "      <td>12</td>\n",
              "      <td>11</td>\n",
              "      <td>12</td>\n",
              "      <td>13</td>\n",
              "      <td>16</td>\n",
              "      <td>12</td>\n",
              "    </tr>\n",
              "    <tr>\n",
              "      <th>17585</th>\n",
              "      <td>Tommy Ouldridge</td>\n",
              "      <td>England</td>\n",
              "      <td>NaN</td>\n",
              "      <td>Res</td>\n",
              "      <td>173</td>\n",
              "      <td>61</td>\n",
              "      <td>Right</td>\n",
              "      <td>18</td>\n",
              "      <td>High / Medium</td>\n",
              "      <td>2</td>\n",
              "      <td>...</td>\n",
              "      <td>54</td>\n",
              "      <td>61</td>\n",
              "      <td>41</td>\n",
              "      <td>44</td>\n",
              "      <td>28</td>\n",
              "      <td>42</td>\n",
              "      <td>35</td>\n",
              "      <td>36</td>\n",
              "      <td>42</td>\n",
              "      <td>37</td>\n",
              "    </tr>\n",
              "    <tr>\n",
              "      <th>17586</th>\n",
              "      <td>Mark Foden</td>\n",
              "      <td>Scotland</td>\n",
              "      <td>NaN</td>\n",
              "      <td>Sub</td>\n",
              "      <td>180</td>\n",
              "      <td>80</td>\n",
              "      <td>Right</td>\n",
              "      <td>21</td>\n",
              "      <td>Medium / Medium</td>\n",
              "      <td>3</td>\n",
              "      <td>...</td>\n",
              "      <td>34</td>\n",
              "      <td>48</td>\n",
              "      <td>15</td>\n",
              "      <td>23</td>\n",
              "      <td>14</td>\n",
              "      <td>12</td>\n",
              "      <td>13</td>\n",
              "      <td>12</td>\n",
              "      <td>24</td>\n",
              "      <td>12</td>\n",
              "    </tr>\n",
              "    <tr>\n",
              "      <th>17587</th>\n",
              "      <td>Barry Richardson</td>\n",
              "      <td>England</td>\n",
              "      <td>NaN</td>\n",
              "      <td>Sub</td>\n",
              "      <td>185</td>\n",
              "      <td>77</td>\n",
              "      <td>Right</td>\n",
              "      <td>47</td>\n",
              "      <td>Medium / Medium</td>\n",
              "      <td>2</td>\n",
              "      <td>...</td>\n",
              "      <td>38</td>\n",
              "      <td>51</td>\n",
              "      <td>12</td>\n",
              "      <td>13</td>\n",
              "      <td>11</td>\n",
              "      <td>16</td>\n",
              "      <td>12</td>\n",
              "      <td>11</td>\n",
              "      <td>22</td>\n",
              "      <td>12</td>\n",
              "    </tr>\n",
              "  </tbody>\n",
              "</table>\n",
              "<p>17588 rows × 39 columns</p>\n",
              "</div>\n",
              "    <div class=\"colab-df-buttons\">\n",
              "\n",
              "  <div class=\"colab-df-container\">\n",
              "    <button class=\"colab-df-convert\" onclick=\"convertToInteractive('df-0a78093a-c3f9-472a-9fa4-0096212b3786')\"\n",
              "            title=\"Convert this dataframe to an interactive table.\"\n",
              "            style=\"display:none;\">\n",
              "\n",
              "  <svg xmlns=\"http://www.w3.org/2000/svg\" height=\"24px\" viewBox=\"0 -960 960 960\">\n",
              "    <path d=\"M120-120v-720h720v720H120Zm60-500h600v-160H180v160Zm220 220h160v-160H400v160Zm0 220h160v-160H400v160ZM180-400h160v-160H180v160Zm440 0h160v-160H620v160ZM180-180h160v-160H180v160Zm440 0h160v-160H620v160Z\"/>\n",
              "  </svg>\n",
              "    </button>\n",
              "\n",
              "  <style>\n",
              "    .colab-df-container {\n",
              "      display:flex;\n",
              "      gap: 12px;\n",
              "    }\n",
              "\n",
              "    .colab-df-convert {\n",
              "      background-color: #E8F0FE;\n",
              "      border: none;\n",
              "      border-radius: 50%;\n",
              "      cursor: pointer;\n",
              "      display: none;\n",
              "      fill: #1967D2;\n",
              "      height: 32px;\n",
              "      padding: 0 0 0 0;\n",
              "      width: 32px;\n",
              "    }\n",
              "\n",
              "    .colab-df-convert:hover {\n",
              "      background-color: #E2EBFA;\n",
              "      box-shadow: 0px 1px 2px rgba(60, 64, 67, 0.3), 0px 1px 3px 1px rgba(60, 64, 67, 0.15);\n",
              "      fill: #174EA6;\n",
              "    }\n",
              "\n",
              "    .colab-df-buttons div {\n",
              "      margin-bottom: 4px;\n",
              "    }\n",
              "\n",
              "    [theme=dark] .colab-df-convert {\n",
              "      background-color: #3B4455;\n",
              "      fill: #D2E3FC;\n",
              "    }\n",
              "\n",
              "    [theme=dark] .colab-df-convert:hover {\n",
              "      background-color: #434B5C;\n",
              "      box-shadow: 0px 1px 3px 1px rgba(0, 0, 0, 0.15);\n",
              "      filter: drop-shadow(0px 1px 2px rgba(0, 0, 0, 0.3));\n",
              "      fill: #FFFFFF;\n",
              "    }\n",
              "  </style>\n",
              "\n",
              "    <script>\n",
              "      const buttonEl =\n",
              "        document.querySelector('#df-0a78093a-c3f9-472a-9fa4-0096212b3786 button.colab-df-convert');\n",
              "      buttonEl.style.display =\n",
              "        google.colab.kernel.accessAllowed ? 'block' : 'none';\n",
              "\n",
              "      async function convertToInteractive(key) {\n",
              "        const element = document.querySelector('#df-0a78093a-c3f9-472a-9fa4-0096212b3786');\n",
              "        const dataTable =\n",
              "          await google.colab.kernel.invokeFunction('convertToInteractive',\n",
              "                                                    [key], {});\n",
              "        if (!dataTable) return;\n",
              "\n",
              "        const docLinkHtml = 'Like what you see? Visit the ' +\n",
              "          '<a target=\"_blank\" href=https://colab.research.google.com/notebooks/data_table.ipynb>data table notebook</a>'\n",
              "          + ' to learn more about interactive tables.';\n",
              "        element.innerHTML = '';\n",
              "        dataTable['output_type'] = 'display_data';\n",
              "        await google.colab.output.renderOutput(dataTable, element);\n",
              "        const docLink = document.createElement('div');\n",
              "        docLink.innerHTML = docLinkHtml;\n",
              "        element.appendChild(docLink);\n",
              "      }\n",
              "    </script>\n",
              "  </div>\n",
              "\n",
              "\n",
              "<div id=\"df-65217994-3ff1-4ea3-bc7c-ba2a8cdcb68d\">\n",
              "  <button class=\"colab-df-quickchart\" onclick=\"quickchart('df-65217994-3ff1-4ea3-bc7c-ba2a8cdcb68d')\"\n",
              "            title=\"Suggest charts\"\n",
              "            style=\"display:none;\">\n",
              "\n",
              "<svg xmlns=\"http://www.w3.org/2000/svg\" height=\"24px\"viewBox=\"0 0 24 24\"\n",
              "     width=\"24px\">\n",
              "    <g>\n",
              "        <path d=\"M19 3H5c-1.1 0-2 .9-2 2v14c0 1.1.9 2 2 2h14c1.1 0 2-.9 2-2V5c0-1.1-.9-2-2-2zM9 17H7v-7h2v7zm4 0h-2V7h2v10zm4 0h-2v-4h2v4z\"/>\n",
              "    </g>\n",
              "</svg>\n",
              "  </button>\n",
              "\n",
              "<style>\n",
              "  .colab-df-quickchart {\n",
              "      --bg-color: #E8F0FE;\n",
              "      --fill-color: #1967D2;\n",
              "      --hover-bg-color: #E2EBFA;\n",
              "      --hover-fill-color: #174EA6;\n",
              "      --disabled-fill-color: #AAA;\n",
              "      --disabled-bg-color: #DDD;\n",
              "  }\n",
              "\n",
              "  [theme=dark] .colab-df-quickchart {\n",
              "      --bg-color: #3B4455;\n",
              "      --fill-color: #D2E3FC;\n",
              "      --hover-bg-color: #434B5C;\n",
              "      --hover-fill-color: #FFFFFF;\n",
              "      --disabled-bg-color: #3B4455;\n",
              "      --disabled-fill-color: #666;\n",
              "  }\n",
              "\n",
              "  .colab-df-quickchart {\n",
              "    background-color: var(--bg-color);\n",
              "    border: none;\n",
              "    border-radius: 50%;\n",
              "    cursor: pointer;\n",
              "    display: none;\n",
              "    fill: var(--fill-color);\n",
              "    height: 32px;\n",
              "    padding: 0;\n",
              "    width: 32px;\n",
              "  }\n",
              "\n",
              "  .colab-df-quickchart:hover {\n",
              "    background-color: var(--hover-bg-color);\n",
              "    box-shadow: 0 1px 2px rgba(60, 64, 67, 0.3), 0 1px 3px 1px rgba(60, 64, 67, 0.15);\n",
              "    fill: var(--button-hover-fill-color);\n",
              "  }\n",
              "\n",
              "  .colab-df-quickchart-complete:disabled,\n",
              "  .colab-df-quickchart-complete:disabled:hover {\n",
              "    background-color: var(--disabled-bg-color);\n",
              "    fill: var(--disabled-fill-color);\n",
              "    box-shadow: none;\n",
              "  }\n",
              "\n",
              "  .colab-df-spinner {\n",
              "    border: 2px solid var(--fill-color);\n",
              "    border-color: transparent;\n",
              "    border-bottom-color: var(--fill-color);\n",
              "    animation:\n",
              "      spin 1s steps(1) infinite;\n",
              "  }\n",
              "\n",
              "  @keyframes spin {\n",
              "    0% {\n",
              "      border-color: transparent;\n",
              "      border-bottom-color: var(--fill-color);\n",
              "      border-left-color: var(--fill-color);\n",
              "    }\n",
              "    20% {\n",
              "      border-color: transparent;\n",
              "      border-left-color: var(--fill-color);\n",
              "      border-top-color: var(--fill-color);\n",
              "    }\n",
              "    30% {\n",
              "      border-color: transparent;\n",
              "      border-left-color: var(--fill-color);\n",
              "      border-top-color: var(--fill-color);\n",
              "      border-right-color: var(--fill-color);\n",
              "    }\n",
              "    40% {\n",
              "      border-color: transparent;\n",
              "      border-right-color: var(--fill-color);\n",
              "      border-top-color: var(--fill-color);\n",
              "    }\n",
              "    60% {\n",
              "      border-color: transparent;\n",
              "      border-right-color: var(--fill-color);\n",
              "    }\n",
              "    80% {\n",
              "      border-color: transparent;\n",
              "      border-right-color: var(--fill-color);\n",
              "      border-bottom-color: var(--fill-color);\n",
              "    }\n",
              "    90% {\n",
              "      border-color: transparent;\n",
              "      border-bottom-color: var(--fill-color);\n",
              "    }\n",
              "  }\n",
              "</style>\n",
              "\n",
              "  <script>\n",
              "    async function quickchart(key) {\n",
              "      const quickchartButtonEl =\n",
              "        document.querySelector('#' + key + ' button');\n",
              "      quickchartButtonEl.disabled = true;  // To prevent multiple clicks.\n",
              "      quickchartButtonEl.classList.add('colab-df-spinner');\n",
              "      try {\n",
              "        const charts = await google.colab.kernel.invokeFunction(\n",
              "            'suggestCharts', [key], {});\n",
              "      } catch (error) {\n",
              "        console.error('Error during call to suggestCharts:', error);\n",
              "      }\n",
              "      quickchartButtonEl.classList.remove('colab-df-spinner');\n",
              "      quickchartButtonEl.classList.add('colab-df-quickchart-complete');\n",
              "    }\n",
              "    (() => {\n",
              "      let quickchartButtonEl =\n",
              "        document.querySelector('#df-65217994-3ff1-4ea3-bc7c-ba2a8cdcb68d button');\n",
              "      quickchartButtonEl.style.display =\n",
              "        google.colab.kernel.accessAllowed ? 'block' : 'none';\n",
              "    })();\n",
              "  </script>\n",
              "</div>\n",
              "    </div>\n",
              "  </div>\n"
            ]
          },
          "metadata": {},
          "execution_count": 4
        }
      ]
    },
    {
      "cell_type": "markdown",
      "metadata": {
        "id": "2R3b7Qe501t5",
        "cell_id": "9e9e7d5dbc2f420ba40afb038a3c7b37",
        "owner_user_id": "d50c3174-babb-4861-9c71-7e3af66458b8",
        "deepnote_cell_height": 169.93333435058594,
        "deepnote_cell_type": "markdown"
      },
      "source": [
        "## 1.1 Predicción de Seleccionados Nacionales\n",
        "\n",
        "Como primera tarea, Renacín, intrigado por la posibilidad de saber qué tan reconocido es un jugador, le consulta a su equipo si es posible predecir si un jugador será o no seleccionado nacional a partir de sus estadísticas en el juego.\n",
        "\n",
        "<p align=\"center\">\n",
        "  <img src=\"https://thumbs.gfycat.com/ThornyFrankFoxhound-size_restricted.gif\" width=\"500\">\n",
        "</p>"
      ]
    },
    {
      "cell_type": "markdown",
      "metadata": {
        "id": "PIe_Ha58pQRC",
        "cell_id": "4fd0ec6793474c6e8dd304827ef35c74",
        "deepnote_cell_height": 158.3333282470703,
        "deepnote_cell_type": "markdown"
      },
      "source": [
        "### 1.1.1 Generación de Labels para la Clasificación [Sin Puntaje]\n",
        "\n",
        "\n",
        "Primero comience generando las labels para la clasificación. Para esto, trabaje sobre el atributo ```National_Position``` suponiendo que los valores nulos son jugadores no seleccionados para representar a su país.\n",
        "\n",
        "Hecho esto, ¿Cuantos ejemplos por cada clase se tienen? Comente lo que observa.\n",
        "\n"
      ]
    },
    {
      "cell_type": "markdown",
      "metadata": {
        "tags": [],
        "cell_id": "4bafb6f1da424f84be4eceb20d100d91",
        "deepnote_cell_height": 51.53334045410156,
        "deepnote_cell_type": "markdown",
        "id": "Gquadno8kDSw"
      },
      "source": [
        "**Respuesta:**"
      ]
    },
    {
      "cell_type": "code",
      "source": [
        "#Creamos la columna National_Team_Selection con valor 1 para los nominados y 0 para los no nominados\n",
        "df_players['National_Team_Selection'] = ~df_players.loc[:,'National_Position'].isna()*1\n",
        "df_players['National_Team_Selection'].value_counts()"
      ],
      "metadata": {
        "colab": {
          "base_uri": "https://localhost:8080/"
        },
        "id": "nK4Xgsc5UcgU",
        "outputId": "c2a24bb4-f9d3-44a2-9e65-32b951a860ad"
      },
      "execution_count": 5,
      "outputs": [
        {
          "output_type": "execute_result",
          "data": {
            "text/plain": [
              "0    16513\n",
              "1     1075\n",
              "Name: National_Team_Selection, dtype: int64"
            ]
          },
          "metadata": {},
          "execution_count": 5
        }
      ]
    },
    {
      "cell_type": "markdown",
      "source": [
        "Luego de creadas las clases se puede ver que la clase 0 (no seleccionados) tiene 16513 jugadores, mientras que la clase 1 (seleccionados) tiene 1075, por lo que es evidente que la mayoría de los jugadores de la base de datos no fueron convocados a sus respectivas selecciones nacionales, siendo su número más de 15 veces el número de jugadores que sí fueron seleccionados."
      ],
      "metadata": {
        "id": "oa_VGR4_WA9V"
      }
    },
    {
      "cell_type": "markdown",
      "metadata": {
        "id": "0F70XPRFpWH9",
        "cell_id": "882716f31dd4415983e3ed8e403ddcf0",
        "deepnote_cell_height": 678.1500244140625,
        "deepnote_cell_type": "markdown"
      },
      "source": [
        "### 1.1.2 Camino a la clasificación [1 punto]\n",
        "\n",
        "<p align=\"center\">\n",
        "  <img src=\"https://c.tenor.com/SoXZJHWnhKAAAAAC/pitbull-medel.gif\" width=\"500\">\n",
        "</p>\n",
        "\n",
        "Para preprocesar el dataset, genere un `ColumnTransformer` en donde especifique las transformaciones que hay que realizar para cada columna (por ejemplo StandarScaler, MinMaxScaler, OneHotEncoder, etc...) para que puedan ser utilizadas correctamente por el modelo predictivo y guardelo en algúna variable.\n",
        "\n",
        "Luego, comente y justifique las transformaciones elegidas sobre cada una de las variables (para esto utilice el material ```Player_Stats_Report.html``` que viene en el zip del lab), al igual que las transformaciones aplicadas.\n",
        "\n",
        "Hecho lo anterior, **defina al menos 3 pipelines para la clasificación**, en donde utilice el mismo ColumnTransformer definido anteriormente, pero que varie entre cada pipeline los clasificadores.\n",
        "\n",
        "Para seleccionar los clasificadores más adecuados, utilice la siguiente guía:\n",
        "\n",
        "<p align=\"center\">\n",
        "  <img src=\"https://scikit-learn.org/stable/_static/ml_map.png\" width=\"500\">\n",
        "</p>\n",
        "\n",
        "<br/>\n",
        "\n",
        "Con ella, comente y justifique cada una de las decisiones tomadas al momento de desarrollar su pipeline.\n",
        "\n",
        "**Nota:** Si tiene problemas al utilizar OneHotEncoder puede utilizar el parámetro handle_unknown='ignore'. Esto hace que en la codificación se omitan las categorias que no aparecen en el entrenamiento. Pregunta dudosa (no tiene puntaje), ¿esto tiene sentido a nivel de modelos?.\n",
        "\n",
        "**To-Do:**\n",
        "\n",
        "- [ ] Genere un ```ColumnTransformer``` enfocado en preprocesar los datos.\n",
        "- [ ] Indicar y Justificar que preprocesamiento utiliza sobre cada columna.\n",
        "- [ ] Crear 3 ``pipelines`` con diferentes clasificadores.\n",
        "- [ ] Para seleccionar los clasificadores base sus decisiones en la siguiente [guía](https://scikit-learn.org/stable/tutorial/machine_learning_map/index.html)\n",
        "- [ ] No entrenar los ``pipelines`` aún.\n",
        "\n",
        "**Nota:** No es necesario entrenar los clasificadores aún."
      ]
    },
    {
      "cell_type": "markdown",
      "metadata": {
        "tags": [],
        "cell_id": "494effcc7471436084ebd22e15296fb9",
        "deepnote_cell_height": 51.53334045410156,
        "deepnote_cell_type": "markdown",
        "id": "nzBmbr5dkDSx"
      },
      "source": [
        "\n",
        "\n",
        "---\n",
        "\n",
        "\n",
        "**Respuesta:**\n",
        "\n",
        "---\n",
        "\n"
      ]
    },
    {
      "cell_type": "markdown",
      "source": [
        "Revisando las variables en el archivo html entregado es posible establecer los tipos de variables que se tienen, esto ya que se notó que estas siguen el formato del videojuego EA Sports FC (ex FIFA) que siguen la siguiente forma:\n",
        "\n",
        "\n",
        "\n",
        "1.   Variables de texto: Se incluyen variables de texto que no influyen en el juego del jugador como sus nombres o países.\n",
        "2.   Variables categóricas: Muestran categorías del tipo de juego del futbolista que no presentan algún orden jerárquico, por ejemplo el pie hábil, el nivel de esfuerzo o las posiciones en que juega.\n",
        "3.   Variables numéricas: Variables que representan niveles de habilidad en cierto aspecto del juego en valores de 0 a 100 obtenibles mediante mediciones de las cualidades del jugador.\n",
        "4.   Variables ordinales: Variables numéricas que representan niveles de habilidad en cierto aspecto del juego en valores de 0 a 5 estrellas. Debido a esta clasificación, el orden de ellas es importante (ya que 5 estrellas es mejor que 4), pero la distancia entre ellas no es necesariamente cuantificable."
      ],
      "metadata": {
        "id": "6vv292Y1XSIZ"
      }
    },
    {
      "cell_type": "code",
      "metadata": {
        "tags": [],
        "cell_id": "9613cb3a57754abc878dab6589262090",
        "deepnote_cell_height": 65.13333129882812,
        "deepnote_cell_type": "code",
        "id": "Eo68u_eJkDSx"
      },
      "source": [
        "#Creamos listas para almacenar las variables de cada tipo\n",
        "text = ['Name','Nationality','National_Team_Selection','National_Position','Club_Position']\n",
        "\n",
        "categorical = ['Preffered_Foot','Work_Rate']\n",
        "\n",
        "numeric = ['Age','Weight','Height','Ball_Control', 'Dribbling', 'Marking', 'Sliding_Tackle',\n",
        "       'Standing_Tackle', 'Aggression', 'Reactions', 'Interceptions', 'Vision',\n",
        "       'Composure', 'Crossing', 'Short_Pass', 'Long_Pass', 'Acceleration',\n",
        "       'Speed', 'Stamina', 'Strength', 'Balance', 'Agility', 'Jumping',\n",
        "       'Heading', 'Shot_Power', 'Finishing', 'Long_Shots', 'Curve',\n",
        "       'Freekick_Accuracy', 'Penalties', 'Volleys']\n",
        "\n",
        "ordinal = ['Weak_foot','Skill_Moves']"
      ],
      "execution_count": 21,
      "outputs": []
    },
    {
      "cell_type": "code",
      "metadata": {
        "tags": [],
        "cell_id": "3405035b85c6475594991b29a465a506",
        "deepnote_cell_height": 65.13333129882812,
        "deepnote_cell_type": "code",
        "id": "VzIrTb6IkDSy"
      },
      "source": [
        "from sklearn.preprocessing import OrdinalEncoder\n",
        "ct = ColumnTransformer(\n",
        "    [\n",
        "        ('Scaler',MinMaxScaler(),numeric),\n",
        "        ('One Hot',OneHotEncoder(sparse=False, handle_unknown=\"ignore\",drop='if_binary'),categorical),\n",
        "        ('Ordinal',OrdinalEncoder(),ordinal)\n",
        "    ],\n",
        "    remainder='passthrough'\n",
        ")"
      ],
      "execution_count": 22,
      "outputs": []
    },
    {
      "cell_type": "markdown",
      "source": [
        "Basado en los datos y la guía proporcionada se seleccionan los modelos a utilizar.\n",
        "\n",
        "*   Siguiendo la guía se tiene que tenemos más de 50 muestras y buscamos predecir categorías a la vez que tenemos data etiquetada, con esto se llega a la implementación de un SVC lineal debido a que se tienen cerca de 18 mil filas, lejos de las 100 mil que se recomiendan para la utilización de un clasificador SGD.\n",
        "*   Posterior a esto, dado que los datos no son de texto se procede con el siguiente paso sugerido que corresponde al modelo Nearest Neighbors.\n",
        "*   Finalmente se llega a la opción de utilizar un clasificador de conjuntos, entre los que se selecciona Random Forest debido a la familiaridad que se tiene con este método de ensamblado de árboles."
      ],
      "metadata": {
        "id": "fSa8cVwGe6WQ"
      }
    },
    {
      "cell_type": "code",
      "source": [
        "from sklearn.svm import SVC\n",
        "from sklearn.neighbors import KNeighborsClassifier\n",
        "from sklearn.ensemble import RandomForestClassifier\n",
        "\n",
        "pip_svc = Pipeline(steps=[\n",
        "                      (\"preprocessing\", ct),\n",
        "                      (\"model\",SVC(kernel='linear',random_state=42) )\n",
        "])\n",
        "\n",
        "pip_knn = Pipeline(steps=[\n",
        "                      (\"preprocessing\", ct),\n",
        "                      (\"model\",KNeighborsClassifier() )\n",
        "])\n",
        "\n",
        "pip_rf = Pipeline(steps=[\n",
        "                      (\"preprocessing\", ct),\n",
        "                      (\"model\",RandomForestClassifier(random_state=42) )\n",
        "])"
      ],
      "metadata": {
        "id": "ecaURIS1eyDj"
      },
      "execution_count": 23,
      "outputs": []
    },
    {
      "cell_type": "markdown",
      "metadata": {
        "id": "MpKq6oO3vCNL",
        "cell_id": "b7fa6937d9a043fd93b7966fb0e81861",
        "deepnote_cell_height": 101.13333129882812,
        "deepnote_cell_type": "markdown"
      },
      "source": [
        "### 1.1.3 Entrenemos los pipelines [1 punto]\n",
        "\n",
        "<p align=\"center\">\n",
        "  <img src=\"https://i.gifer.com/7Cc8.gif\" width=\"350\">\n",
        "</p>\n"
      ]
    },
    {
      "cell_type": "markdown",
      "metadata": {
        "id": "wE_1aZaIvOeN",
        "cell_id": "5ead21d7e26d4e3da1486c9937f22968",
        "deepnote_cell_height": 454.433349609375,
        "deepnote_cell_type": "markdown"
      },
      "source": [
        "Ahora, entrene los `pipeline` generados en los pasos anteriores. Para esto, primero separe los datos de entrenamiento en un conjunto de entrenamiento y de prueba  (la proporción queda a su juicio).\n",
        "\n",
        "En este paso, seleccione los ejemplos de forma aleatoria e intente mantener la distribución original de labels de cada clase en los conjuntos de prueba/entrenamiento. (vea la documentación de `train_test_split`).\n",
        "\n",
        "\n",
        "Luego, entrene los pipelines\n",
        "\n",
        "Una vez entrenado su modelo, evalue su rendimiento a través de diferentes métricas, comentando que significa cada uno de los valores obtenidos. Puede usar la función `classification_report` para corroborar sus resultados.\n",
        "\n",
        "- ¿Qué implican los valores de accuracy, precisión y recall de la clase positiva (la que indica que un jugador es seleccionado nacional)?\n",
        "- ¿Podrían mejorarse los resultados?, ¿Cómo?\n",
        "- ¿Influye la cantidad de ejemplos por clase?\n",
        "\n",
        "**To-Do**:\n",
        "\n",
        "- [ ] Separar el conjunto de datos en entrenamiento y de prueba.\n",
        "- [ ] Entrenar los `pipelines`.\n",
        "- [ ] Utilizar las métricas para evaluar los modelos generados.\n"
      ]
    },
    {
      "cell_type": "markdown",
      "metadata": {
        "tags": [],
        "cell_id": "053a95315e3245b39ba9d263d932e7d4",
        "deepnote_cell_height": 51.53334045410156,
        "deepnote_cell_type": "markdown",
        "id": "HK7U7VXBkDSy"
      },
      "source": [
        "**Respuesta:**"
      ]
    },
    {
      "cell_type": "code",
      "metadata": {
        "tags": [],
        "cell_id": "0148b8e4a7e24b838381dbee30b31758",
        "deepnote_cell_height": 65.13333129882812,
        "deepnote_cell_type": "code",
        "id": "FxPqok5DkDSz"
      },
      "source": [
        "labels = df_players.loc[:, \"National_Team_Selection\"]\n",
        "#Eliminamos las columnas de tipo texto\n",
        "features = df_players.drop(columns=text)\n",
        "#80% entrenamiento y 20% test\n",
        "X_train, X_test, y_train, y_test = train_test_split(features,labels,test_size=0.3,random_state=42,stratify=labels)"
      ],
      "execution_count": 24,
      "outputs": []
    },
    {
      "cell_type": "markdown",
      "source": [
        "##Resultados con SVC"
      ],
      "metadata": {
        "id": "DzLIBI3pkDjd"
      }
    },
    {
      "cell_type": "code",
      "source": [
        "from sklearn.metrics import confusion_matrix, classification_report, f1_score\n",
        "import prettytable as pt\n",
        "import warnings\n",
        "\n",
        "warnings.filterwarnings(\"ignore\")\n",
        "\n",
        "# Fit\n",
        "pip_svc.fit(X_train, y_train)\n",
        "\n",
        "# Predict\n",
        "y_pred = pip_svc.predict(X_train)\n",
        "\n",
        "# Matriz de confusión\n",
        "conf_matrix = confusion_matrix(y_train, y_pred)\n",
        "\n",
        "# Informe de clasificación\n",
        "classification_rep = classification_report(y_train, y_pred, zero_division=1)\n",
        "\n",
        "# F1-Score\n",
        "f1 = f1_score(y_train, y_pred).round(2)\n",
        "\n",
        "# Crear una tabla para la matriz de confusión\n",
        "table = pt.PrettyTable()\n",
        "table.field_names = [\"\", \"Predicción Negativa\", \"Predicción Positiva\"]\n",
        "table.add_row([\"Real Negativa\", conf_matrix[0, 0], conf_matrix[0, 1]])\n",
        "table.add_row([\"Real Positiva\", conf_matrix[1, 0], conf_matrix[1, 1]])\n",
        "\n",
        "# Imprimir resultados\n",
        "print(\"Matriz de confusión en conjunto de entrenamiento con svc:\")\n",
        "print(table)\n",
        "\n",
        "print(\"\\nInforme de clasificación en conjunto de entrenamiento con svc:\")\n",
        "print(classification_rep)\n",
        "\n",
        "print(f\"\\nF1-Score en conjunto de entrenamiento con svc: {f1}\")"
      ],
      "metadata": {
        "colab": {
          "base_uri": "https://localhost:8080/"
        },
        "id": "OoH0Cm2SiNZM",
        "outputId": "18a5b612-b934-46b2-b227-16d3d56c2a2c"
      },
      "execution_count": 25,
      "outputs": [
        {
          "output_type": "stream",
          "name": "stdout",
          "text": [
            "Matriz de confusión en conjunto de entrenamiento con svc:\n",
            "+---------------+---------------------+---------------------+\n",
            "|               | Predicción Negativa | Predicción Positiva |\n",
            "+---------------+---------------------+---------------------+\n",
            "| Real Negativa |        11559        |          0          |\n",
            "| Real Positiva |         752         |          0          |\n",
            "+---------------+---------------------+---------------------+\n",
            "\n",
            "Informe de clasificación en conjunto de entrenamiento con svc:\n",
            "              precision    recall  f1-score   support\n",
            "\n",
            "           0       0.94      1.00      0.97     11559\n",
            "           1       1.00      0.00      0.00       752\n",
            "\n",
            "    accuracy                           0.94     12311\n",
            "   macro avg       0.97      0.50      0.48     12311\n",
            "weighted avg       0.94      0.94      0.91     12311\n",
            "\n",
            "\n",
            "F1-Score en conjunto de entrenamiento con svc: 0.0\n"
          ]
        }
      ]
    },
    {
      "cell_type": "code",
      "source": [
        "# Suprimir advertencias de scikit-learn\n",
        "warnings.filterwarnings(\"ignore\")\n",
        "\n",
        "# Predict en conjunto de prueba\n",
        "y_pred_test = pip_svc.predict(X_test)\n",
        "\n",
        "# Matriz de confusión\n",
        "conf_matrix_test = confusion_matrix(y_test, y_pred_test)\n",
        "\n",
        "# Informe de clasificación\n",
        "classification_rep_test = classification_report(y_test, y_pred_test, zero_division=1)\n",
        "\n",
        "# F1-Score\n",
        "f1_test = f1_score(y_test, y_pred_test).round(2)\n",
        "\n",
        "# Crear una tabla para la matriz de confusión\n",
        "table_test = pt.PrettyTable()\n",
        "table_test.field_names = [\"\", \"Predicción Negativa\", \"Predicción Positiva\"]\n",
        "table_test.add_row([\"Real Negativa\", conf_matrix_test[0, 0], conf_matrix_test[0, 1]])\n",
        "table_test.add_row([\"Real Positiva\", conf_matrix_test[1, 0], conf_matrix_test[1, 1]])\n",
        "\n",
        "# Imprimir resultados en conjunto de prueba\n",
        "print(\"Matriz de confusión en conjunto de prueba con svc:\")\n",
        "print(table_test)\n",
        "\n",
        "print(\"\\nInforme de clasificación en conjunto de prueba con svc:\")\n",
        "print(classification_rep_test)\n",
        "\n",
        "print(f\"\\nF1-Score en conjunto de prueba con svc: {f1_test}\")"
      ],
      "metadata": {
        "colab": {
          "base_uri": "https://localhost:8080/"
        },
        "id": "gVS67RpXjzhJ",
        "outputId": "89b0b2cf-9c9d-479e-f68d-2613063903e7"
      },
      "execution_count": 26,
      "outputs": [
        {
          "output_type": "stream",
          "name": "stdout",
          "text": [
            "Matriz de confusión en conjunto de prueba con svc:\n",
            "+---------------+---------------------+---------------------+\n",
            "|               | Predicción Negativa | Predicción Positiva |\n",
            "+---------------+---------------------+---------------------+\n",
            "| Real Negativa |         4954        |          0          |\n",
            "| Real Positiva |         323         |          0          |\n",
            "+---------------+---------------------+---------------------+\n",
            "\n",
            "Informe de clasificación en conjunto de prueba con svc:\n",
            "              precision    recall  f1-score   support\n",
            "\n",
            "           0       0.94      1.00      0.97      4954\n",
            "           1       1.00      0.00      0.00       323\n",
            "\n",
            "    accuracy                           0.94      5277\n",
            "   macro avg       0.97      0.50      0.48      5277\n",
            "weighted avg       0.94      0.94      0.91      5277\n",
            "\n",
            "\n",
            "F1-Score en conjunto de prueba con svc: 0.0\n"
          ]
        }
      ]
    },
    {
      "cell_type": "markdown",
      "source": [
        "##Resultados con KNN"
      ],
      "metadata": {
        "id": "3ldQoc3dkKBL"
      }
    },
    {
      "cell_type": "code",
      "source": [
        "warnings.filterwarnings(\"ignore\")\n",
        "\n",
        "# Fit\n",
        "pip_knn.fit(X_train, y_train)\n",
        "\n",
        "# Predict\n",
        "y_pred = pip_knn.predict(X_train)\n",
        "\n",
        "# Matriz de confusión\n",
        "conf_matrix = confusion_matrix(y_train, y_pred)\n",
        "\n",
        "# Informe de clasificación\n",
        "classification_rep = classification_report(y_train, y_pred, zero_division=1)\n",
        "\n",
        "# F1-Score\n",
        "f1 = f1_score(y_train, y_pred).round(2)\n",
        "\n",
        "# Crear una tabla para la matriz de confusión\n",
        "table = pt.PrettyTable()\n",
        "table.field_names = [\"\", \"Predicción Negativa\", \"Predicción Positiva\"]\n",
        "table.add_row([\"Real Negativa\", conf_matrix[0, 0], conf_matrix[0, 1]])\n",
        "table.add_row([\"Real Positiva\", conf_matrix[1, 0], conf_matrix[1, 1]])\n",
        "\n",
        "# Imprimir resultados\n",
        "print(\"Matriz de confusión en conjunto de entrenamiento con knn:\")\n",
        "print(table)\n",
        "\n",
        "print(\"\\nInforme de clasificación en conjunto de entrenamiento con knn:\")\n",
        "print(classification_rep)\n",
        "\n",
        "print(f\"\\nF1-Score en conjunto de entrenamiento con knn: {f1}\")"
      ],
      "metadata": {
        "colab": {
          "base_uri": "https://localhost:8080/"
        },
        "id": "CFfy0xChkRsx",
        "outputId": "99d1a067-cb33-489c-fd7d-7810e0e07c65"
      },
      "execution_count": 27,
      "outputs": [
        {
          "output_type": "stream",
          "name": "stdout",
          "text": [
            "Matriz de confusión en conjunto de entrenamiento con knn:\n",
            "+---------------+---------------------+---------------------+\n",
            "|               | Predicción Negativa | Predicción Positiva |\n",
            "+---------------+---------------------+---------------------+\n",
            "| Real Negativa |        11524        |          35         |\n",
            "| Real Positiva |         659         |          93         |\n",
            "+---------------+---------------------+---------------------+\n",
            "\n",
            "Informe de clasificación en conjunto de entrenamiento con knn:\n",
            "              precision    recall  f1-score   support\n",
            "\n",
            "           0       0.95      1.00      0.97     11559\n",
            "           1       0.73      0.12      0.21       752\n",
            "\n",
            "    accuracy                           0.94     12311\n",
            "   macro avg       0.84      0.56      0.59     12311\n",
            "weighted avg       0.93      0.94      0.92     12311\n",
            "\n",
            "\n",
            "F1-Score en conjunto de entrenamiento con knn: 0.21\n"
          ]
        }
      ]
    },
    {
      "cell_type": "code",
      "source": [
        "# Suprimir advertencias de scikit-learn\n",
        "warnings.filterwarnings(\"ignore\")\n",
        "\n",
        "# Predict en conjunto de prueba\n",
        "y_pred_test = pip_knn.predict(X_test)\n",
        "\n",
        "# Matriz de confusión\n",
        "conf_matrix_test = confusion_matrix(y_test, y_pred_test)\n",
        "\n",
        "# Informe de clasificación\n",
        "classification_rep_test = classification_report(y_test, y_pred_test, zero_division=1)\n",
        "\n",
        "# F1-Score\n",
        "f1_test = f1_score(y_test, y_pred_test).round(2)\n",
        "\n",
        "# Crear una tabla para la matriz de confusión\n",
        "table_test = pt.PrettyTable()\n",
        "table_test.field_names = [\"\", \"Predicción Negativa\", \"Predicción Positiva\"]\n",
        "table_test.add_row([\"Real Negativa\", conf_matrix_test[0, 0], conf_matrix_test[0, 1]])\n",
        "table_test.add_row([\"Real Positiva\", conf_matrix_test[1, 0], conf_matrix_test[1, 1]])\n",
        "\n",
        "# Imprimir resultados en conjunto de prueba\n",
        "print(\"Matriz de confusión en conjunto de prueba con knn:\")\n",
        "print(table_test)\n",
        "\n",
        "print(\"\\nInforme de clasificación en conjunto de prueba con knn:\")\n",
        "print(classification_rep_test)\n",
        "\n",
        "print(f\"\\nF1-Score en conjunto de prueba con knn: {f1_test}\")\n"
      ],
      "metadata": {
        "colab": {
          "base_uri": "https://localhost:8080/"
        },
        "id": "ejgw8NTrkVv5",
        "outputId": "5d00b940-0c42-4e32-9921-6c5d7e5b0f27"
      },
      "execution_count": 28,
      "outputs": [
        {
          "output_type": "stream",
          "name": "stdout",
          "text": [
            "Matriz de confusión en conjunto de prueba con knn:\n",
            "+---------------+---------------------+---------------------+\n",
            "|               | Predicción Negativa | Predicción Positiva |\n",
            "+---------------+---------------------+---------------------+\n",
            "| Real Negativa |         4929        |          25         |\n",
            "| Real Positiva |         313         |          10         |\n",
            "+---------------+---------------------+---------------------+\n",
            "\n",
            "Informe de clasificación en conjunto de prueba con knn:\n",
            "              precision    recall  f1-score   support\n",
            "\n",
            "           0       0.94      0.99      0.97      4954\n",
            "           1       0.29      0.03      0.06       323\n",
            "\n",
            "    accuracy                           0.94      5277\n",
            "   macro avg       0.61      0.51      0.51      5277\n",
            "weighted avg       0.90      0.94      0.91      5277\n",
            "\n",
            "\n",
            "F1-Score en conjunto de prueba con knn: 0.06\n"
          ]
        }
      ]
    },
    {
      "cell_type": "markdown",
      "source": [
        "##Resultados con RandomForest"
      ],
      "metadata": {
        "id": "Ap8MtbcKkLLu"
      }
    },
    {
      "cell_type": "code",
      "source": [
        "warnings.filterwarnings(\"ignore\")\n",
        "\n",
        "# Fit\n",
        "pip_rf.fit(X_train, y_train)\n",
        "\n",
        "# Predict\n",
        "y_pred = pip_rf.predict(X_train)\n",
        "\n",
        "# Matriz de confusión\n",
        "conf_matrix = confusion_matrix(y_train, y_pred)\n",
        "\n",
        "# Informe de clasificación\n",
        "classification_rep = classification_report(y_train, y_pred, zero_division=1)\n",
        "\n",
        "# F1-Score\n",
        "f1 = f1_score(y_train, y_pred).round(2)\n",
        "\n",
        "# Crear una tabla para la matriz de confusión\n",
        "table = pt.PrettyTable()\n",
        "table.field_names = [\"\", \"Predicción Negativa\", \"Predicción Positiva\"]\n",
        "table.add_row([\"Real Negativa\", conf_matrix[0, 0], conf_matrix[0, 1]])\n",
        "table.add_row([\"Real Positiva\", conf_matrix[1, 0], conf_matrix[1, 1]])\n",
        "\n",
        "# Imprimir resultados\n",
        "print(\"Matriz de confusión en conjunto de entrenamiento con rf:\")\n",
        "print(table)\n",
        "\n",
        "print(\"\\nInforme de clasificación en conjunto de entrenamiento con rf:\")\n",
        "print(classification_rep)\n",
        "\n",
        "print(f\"\\nF1-Score en conjunto de entrenamiento con rf: {f1}\")\n"
      ],
      "metadata": {
        "colab": {
          "base_uri": "https://localhost:8080/"
        },
        "id": "r5hvR2Wcj_jb",
        "outputId": "4b713250-3151-4776-bb83-53e8b366a9dc"
      },
      "execution_count": 29,
      "outputs": [
        {
          "output_type": "stream",
          "name": "stdout",
          "text": [
            "Matriz de confusión en conjunto de entrenamiento con rf:\n",
            "+---------------+---------------------+---------------------+\n",
            "|               | Predicción Negativa | Predicción Positiva |\n",
            "+---------------+---------------------+---------------------+\n",
            "| Real Negativa |        11559        |          0          |\n",
            "| Real Positiva |          0          |         752         |\n",
            "+---------------+---------------------+---------------------+\n",
            "\n",
            "Informe de clasificación en conjunto de entrenamiento con rf:\n",
            "              precision    recall  f1-score   support\n",
            "\n",
            "           0       1.00      1.00      1.00     11559\n",
            "           1       1.00      1.00      1.00       752\n",
            "\n",
            "    accuracy                           1.00     12311\n",
            "   macro avg       1.00      1.00      1.00     12311\n",
            "weighted avg       1.00      1.00      1.00     12311\n",
            "\n",
            "\n",
            "F1-Score en conjunto de entrenamiento con rf: 1.0\n"
          ]
        }
      ]
    },
    {
      "cell_type": "code",
      "source": [
        "# Suprimir advertencias de scikit-learn\n",
        "warnings.filterwarnings(\"ignore\")\n",
        "\n",
        "# Predict en conjunto de prueba\n",
        "y_pred_test = pip_rf.predict(X_test)\n",
        "\n",
        "# Matriz de confusión\n",
        "conf_matrix_test = confusion_matrix(y_test, y_pred_test)\n",
        "\n",
        "# Informe de clasificación\n",
        "classification_rep_test = classification_report(y_test, y_pred_test, zero_division=1)\n",
        "\n",
        "# F1-Score\n",
        "f1_test = f1_score(y_test, y_pred_test).round(2)\n",
        "\n",
        "# Crear una tabla para la matriz de confusión\n",
        "table_test = pt.PrettyTable()\n",
        "table_test.field_names = [\"\", \"Predicción Negativa\", \"Predicción Positiva\"]\n",
        "table_test.add_row([\"Real Negativa\", conf_matrix_test[0, 0], conf_matrix_test[0, 1]])\n",
        "table_test.add_row([\"Real Positiva\", conf_matrix_test[1, 0], conf_matrix_test[1, 1]])\n",
        "\n",
        "# Imprimir resultados en conjunto de prueba\n",
        "print(\"Matriz de confusión en conjunto de prueba con rf:\")\n",
        "print(table_test)\n",
        "\n",
        "print(\"\\nInforme de clasificación en conjunto de prueba con rf:\")\n",
        "print(classification_rep_test)\n",
        "\n",
        "print(f\"\\nF1-Score en conjunto de prueba con rf: {f1_test}\")\n"
      ],
      "metadata": {
        "colab": {
          "base_uri": "https://localhost:8080/"
        },
        "id": "4co4Tx_CkYMg",
        "outputId": "6c3c377d-aea9-4714-b3af-dd7779562f6f"
      },
      "execution_count": 30,
      "outputs": [
        {
          "output_type": "stream",
          "name": "stdout",
          "text": [
            "Matriz de confusión en conjunto de prueba con rf:\n",
            "+---------------+---------------------+---------------------+\n",
            "|               | Predicción Negativa | Predicción Positiva |\n",
            "+---------------+---------------------+---------------------+\n",
            "| Real Negativa |         4938        |          16         |\n",
            "| Real Positiva |         300         |          23         |\n",
            "+---------------+---------------------+---------------------+\n",
            "\n",
            "Informe de clasificación en conjunto de prueba con rf:\n",
            "              precision    recall  f1-score   support\n",
            "\n",
            "           0       0.94      1.00      0.97      4954\n",
            "           1       0.59      0.07      0.13       323\n",
            "\n",
            "    accuracy                           0.94      5277\n",
            "   macro avg       0.77      0.53      0.55      5277\n",
            "weighted avg       0.92      0.94      0.92      5277\n",
            "\n",
            "\n",
            "F1-Score en conjunto de prueba con rf: 0.13\n"
          ]
        }
      ]
    },
    {
      "cell_type": "markdown",
      "metadata": {
        "id": "QgSeo0aIx9ow",
        "cell_id": "2e9c35fbe33d4a38bfdf6af6de3022f3",
        "deepnote_cell_height": 106.33332824707031,
        "deepnote_cell_type": "markdown"
      },
      "source": [
        "**Respuesta**:\n",
        "\n",
        "```\n",
        "Respecto a las métricas se puede indicar que el accuracy corresponde a la proporción de ejemplos clasificados correctamente en\n",
        "comparación al total de ejemplos; Precision es la proporción de verdaderos positivos respecto a la totalidad de predicciones\n",
        "positivas; Recall es la proporción de muestras clasificadas como positivas respecto a la totalidad de muestras positivas.\n",
        "\n",
        "Estas métricas nos dan una idea de que tan bien se realiza la clasificación y hacia donde tiende a fallar más el modelo, por esto\n",
        "mismo la métrica usada para comparar sus desempeños será el F1 score que combina tanto precision como recall, mostrándonos la\n",
        "capacidad del modelo para clasificar correctamente ejemplos positivos y para clasificar todos los ejemplos positivos.\n",
        "\n",
        "\n",
        "A partir de esto se tiene que el mejor modelo es Random Forest con un F1 score de 0.13, mientras que KNN tiene 0.06 y SVC 0.00\n",
        "\n",
        "\n",
        "Los resultados actuales tienen margen de mejora, ya que los modelos se entrenaron con los parámetros por defecto y sin utilizar\n",
        "técnicas como la validación cruzada ni una métrica de evaluación específica para optimizar el rendimiento. Además, se empleó un\n",
        "conjunto de datos de entrenamiento desbalanceado, lo que condujo a que el modelo se enfocara en clasificar con mayor precisión los\n",
        "ejemplos de la clase 0, es decir, aquellos que no fueron seleccionados, que corresponden a la clase mayoritaria.\n",
        "```"
      ]
    },
    {
      "cell_type": "markdown",
      "metadata": {
        "id": "ix97Ho4uOARH",
        "cell_id": "5aa0cc14dba04749ad3bc07a92d351d2",
        "deepnote_cell_type": "markdown"
      },
      "source": [
        "## 1.2 Predicción de posiciones de jugadores [2 puntos]\n",
        "\n",
        "<p align=\"center\">\n",
        "  <img src=\"https://pbs.twimg.com/media/E1rfA1aWEAYU6Ny.jpg\" width=\"500\">\n",
        "</p>"
      ]
    },
    {
      "cell_type": "markdown",
      "metadata": {
        "id": "oHAwZfV8hMsk",
        "cell_id": "6cd2eee12b6147bc8eba66af43a1f1f7",
        "deepnote_cell_type": "markdown"
      },
      "source": [
        "En una nueva jornada de desmesuradas transacciones deportivas, Renacín escuchó a sus colegas discutir acerca de que el precio de cada jugador depende en gran medida de la posición en la cancha en la que juega. Y además, que hay bastantes jugadores nuevos que no tienen muy claro en que posición verdaderamente brillarían, por lo que actualmente puede que actualmente estén jugando en posiciones sub-optimas.\n",
        "\n",
        "Viendo que los resultados del primer análisis no son tan esperanzadores, el corporeo los comanda a cambiar su tarea: ahora, les solicita que construyan un clasificador enfocado en predecir la mejor posición de los jugadores en la cancha según sus características.\n",
        "\n",
        "Para lograr esto, primero, les pide que etiqueten de la siguiente manera los valores que aparecen en el atributo ```Club_Position```, pidiendo que agrupen los valores en los siguientes grupos:\n",
        "\n",
        "**Nota**:  Renacín les recalca que **no deben utilizar los valores ```Sub``` y ```Res``` de esta columna**.\n",
        "\n",
        "```python\n",
        "ataque = ['ST', 'CF']\n",
        "central_ataque = ['RW', 'CAM', 'LW']\n",
        "central = ['RM', 'CM', 'LM']\n",
        "central_defensa = ['RWB', 'CDM', 'LWB']\n",
        "defensa = ['RB', 'CB', 'LB']\n",
        "arquero = ['GK']\n",
        "```\n",
        "\n",
        "Cabe señalar que al igual como lo realizado con la clasificación binaria, deberá justificar en base a la [guía](https://scikit-learn.org/stable/tutorial/machine_learning_map/index.html) la elección del clasificador y se deben comentar los resultados obtenidos en la clasificación.\n",
        "\n",
        "**Nota:** Clasifique solamente con las clases señaladas, si observa mas clases eliminelas de la clasficación.\n",
        "\n",
        "**To-Do**:\n",
        "\n",
        "- [ ] Aplique las etiquetas descritas anteriormente en cada uno de los valores señalados en esta sección.\n",
        "- [ ] Cuente cuantos por clase quedan.\n",
        "- [ ] Entrene el nuevo pipeline y ejecute una evaluación de este.  \n",
        "- [ ] Comente los resultados obtenidos."
      ]
    },
    {
      "cell_type": "markdown",
      "metadata": {
        "tags": [],
        "cell_id": "71cd4b2ee5a74b96aa2dd4e1da166655",
        "deepnote_cell_type": "markdown",
        "id": "KiE6JJeDkDSz"
      },
      "source": [
        "**Respuesta:**"
      ]
    },
    {
      "cell_type": "code",
      "metadata": {
        "tags": [],
        "cell_id": "e54c0311c11e47cf917f4c7ec61370bc",
        "deepnote_cell_type": "code",
        "id": "5E7edEOzkDSz"
      },
      "source": [
        "#Copiamos las listas dadas\n",
        "ataque = ['ST', 'CF']\n",
        "central_ataque = ['RW', 'CAM', 'LW']\n",
        "central = ['RM', 'CM', 'LM']\n",
        "central_defensa = ['RWB', 'CDM', 'LWB']\n",
        "defensa = ['RB', 'CB', 'LB']\n",
        "arquero = ['GK']\n",
        "\n",
        "#Creamos un diccionario para almacenar los distintos roles que tiene cada posicion\n",
        "Positions = {}\n",
        "\n",
        "#Agregamos las listas al diccionario\n",
        "Positions.update({k: 'ataque' for k in ataque})\n",
        "Positions.update({k: 'central_ataque' for k in central_ataque})\n",
        "Positions.update({k: 'central' for k in central})\n",
        "Positions.update({k: 'central_defensa' for k in central_defensa})\n",
        "Positions.update({k: 'defensa' for k in defensa})\n",
        "Positions.update({k: 'arquero' for k in arquero})"
      ],
      "execution_count": 34,
      "outputs": []
    },
    {
      "cell_type": "code",
      "source": [
        "Positions"
      ],
      "metadata": {
        "colab": {
          "base_uri": "https://localhost:8080/"
        },
        "id": "wEUaECQa1rbv",
        "outputId": "bb2c0e5b-e8c0-44f8-b93a-8c579fff9626"
      },
      "execution_count": 35,
      "outputs": [
        {
          "output_type": "execute_result",
          "data": {
            "text/plain": [
              "{'ST': 'ataque',\n",
              " 'CF': 'ataque',\n",
              " 'RW': 'central_ataque',\n",
              " 'CAM': 'central_ataque',\n",
              " 'LW': 'central_ataque',\n",
              " 'RM': 'central',\n",
              " 'CM': 'central',\n",
              " 'LM': 'central',\n",
              " 'RWB': 'central_defensa',\n",
              " 'CDM': 'central_defensa',\n",
              " 'LWB': 'central_defensa',\n",
              " 'RB': 'defensa',\n",
              " 'CB': 'defensa',\n",
              " 'LB': 'defensa',\n",
              " 'GK': 'arquero'}"
            ]
          },
          "metadata": {},
          "execution_count": 35
        }
      ]
    },
    {
      "cell_type": "code",
      "source": [
        "df_players = df_players.replace({'Club_Position': Positions})\n",
        "df_filtered = df_players[(df_players[\"Club_Position\"] != \"Sub\") & (df_players[\"Club_Position\"] != \"Res\")]\n",
        "df_filtered['Club_Position'].value_counts()"
      ],
      "metadata": {
        "colab": {
          "base_uri": "https://localhost:8080/"
        },
        "id": "e90OdXNh1-_t",
        "outputId": "ec706881-df8f-4547-8354-02a249d27635"
      },
      "execution_count": 41,
      "outputs": [
        {
          "output_type": "execute_result",
          "data": {
            "text/plain": [
              "defensa            1180\n",
              "central             907\n",
              "RCB                 633\n",
              "arquero             632\n",
              "LCB                 631\n",
              "central_ataque      581\n",
              "ataque              430\n",
              "LCM                 354\n",
              "RCM                 353\n",
              "LDM                 266\n",
              "RDM                 266\n",
              "central_defensa     209\n",
              "RS                  206\n",
              "LS                  205\n",
              "LAM                  36\n",
              "RAM                  36\n",
              "LF                   12\n",
              "RF                   12\n",
              "Name: Club_Position, dtype: int64"
            ]
          },
          "metadata": {},
          "execution_count": 41
        }
      ]
    },
    {
      "cell_type": "code",
      "source": [
        "#Eliminamos las clases que no fueron señaladas\n",
        "#Creamos un filtro para identificar las filas con clases no señaladas\n",
        "filtro = ~df_filtered['Club_Position'].isin(Positions.values())\n",
        "\n",
        "#Eliminamos las filas que cumplan con el filtro\n",
        "df_filtered = df_filtered[~filtro]\n",
        "\n",
        "df_filtered['Club_Position'].value_counts()"
      ],
      "metadata": {
        "colab": {
          "base_uri": "https://localhost:8080/"
        },
        "id": "brEMGbrc3DyX",
        "outputId": "7d37af55-7c37-46f2-e637-3790d184f56c"
      },
      "execution_count": 42,
      "outputs": [
        {
          "output_type": "execute_result",
          "data": {
            "text/plain": [
              "defensa            1180\n",
              "central             907\n",
              "arquero             632\n",
              "central_ataque      581\n",
              "ataque              430\n",
              "central_defensa     209\n",
              "Name: Club_Position, dtype: int64"
            ]
          },
          "metadata": {},
          "execution_count": 42
        }
      ]
    },
    {
      "cell_type": "markdown",
      "source": [
        "Se obtiene que la clase mayoritaria es defensa con 1180 entradas, seguida de central, arquero, central_ataque, ataque y por último la que menos muestras posee es central_defensa con 209."
      ],
      "metadata": {
        "id": "jUaniM7L7PSP"
      }
    },
    {
      "cell_type": "markdown",
      "source": [
        "Al igual que en el caso anterior, por el tipo de dato que se tiene y se busca predecir, se seleccionan los mismos tres modelos de la parte anterior (SVC lineal, KNN y Random Forest), por lo que se puede utilizar el mismo pipeline."
      ],
      "metadata": {
        "id": "jz3QULsm3dA1"
      }
    },
    {
      "cell_type": "code",
      "source": [
        "df_filtered.dropna(subset=[\"Club_Position\"], inplace=True)\n",
        "labels = df_filtered.loc[:, \"Club_Position\"]\n",
        "features = df_filtered.drop(columns=text)\n",
        "#80% entrenamiento y 20% test\n",
        "X_train, X_test, y_train, y_test = train_test_split(features,labels,test_size=0.2,random_state=42,stratify=labels)"
      ],
      "metadata": {
        "id": "fb6B7Bcg3y5M"
      },
      "execution_count": 44,
      "outputs": []
    },
    {
      "cell_type": "markdown",
      "source": [
        "##Resultados con SVC"
      ],
      "metadata": {
        "id": "gJYGK91l38Er"
      }
    },
    {
      "cell_type": "code",
      "source": [
        "# Suprimir advertencias de scikit-learn\n",
        "warnings.filterwarnings(\"ignore\")\n",
        "\n",
        "pip_svc.fit(X_train, y_train)\n",
        "y_pred = pip_svc.predict(X_train)\n",
        "\n",
        "# Obtener los nombres reales de las clases\n",
        "class_names = pip_svc.classes_\n",
        "\n",
        "# Calcular la matriz de confusión\n",
        "conf_matrix = confusion_matrix(y_train, y_pred)\n",
        "\n",
        "# Generar un informe de clasificación\n",
        "classification_rep = classification_report(y_train, y_pred, target_names=class_names)\n",
        "\n",
        "# Crear una tabla para la matriz de confusión\n",
        "table = pt.PrettyTable()\n",
        "table.field_names = [\"\", *class_names]\n",
        "for i, row in enumerate(conf_matrix):\n",
        "    table.add_row([class_names[i], *row])\n",
        "\n",
        "# Imprimir resultados\n",
        "print(\"Matriz de confusión en conjunto de entrenamiento con svc:\")\n",
        "print(table)\n",
        "\n",
        "print(\"\\nInforme de clasificación en conjunto de entrenamiento con svc:\")\n",
        "print(classification_rep)"
      ],
      "metadata": {
        "colab": {
          "base_uri": "https://localhost:8080/"
        },
        "id": "KgKUo9Ax34Y7",
        "outputId": "202b06c2-da30-43d7-cf06-1514cb2fbd59"
      },
      "execution_count": 52,
      "outputs": [
        {
          "output_type": "stream",
          "name": "stdout",
          "text": [
            "Matriz de confusión en conjunto de entrenamiento con svc:\n",
            "+-----------------+---------+--------+---------+----------------+-----------------+---------+\n",
            "|                 | arquero | ataque | central | central_ataque | central_defensa | defensa |\n",
            "+-----------------+---------+--------+---------+----------------+-----------------+---------+\n",
            "|     arquero     |   506   |   0    |    0    |       0        |        0        |    0    |\n",
            "|      ataque     |    0    |  296   |    36   |       10       |        0        |    2    |\n",
            "|     central     |    0    |   34   |   508   |       79       |        7        |    97   |\n",
            "|  central_ataque |    0    |   32   |   255   |      158       |        2        |    18   |\n",
            "| central_defensa |    0    |   0    |    23   |       1        |        41       |   102   |\n",
            "|     defensa     |    0    |   0    |    23   |       0        |        6        |   915   |\n",
            "+-----------------+---------+--------+---------+----------------+-----------------+---------+\n",
            "\n",
            "Informe de clasificación en conjunto de entrenamiento con svc:\n",
            "                 precision    recall  f1-score   support\n",
            "\n",
            "        arquero       1.00      1.00      1.00       506\n",
            "         ataque       0.82      0.86      0.84       344\n",
            "        central       0.60      0.70      0.65       725\n",
            " central_ataque       0.64      0.34      0.44       465\n",
            "central_defensa       0.73      0.25      0.37       167\n",
            "        defensa       0.81      0.97      0.88       944\n",
            "\n",
            "       accuracy                           0.77      3151\n",
            "      macro avg       0.77      0.69      0.70      3151\n",
            "   weighted avg       0.76      0.77      0.75      3151\n",
            "\n"
          ]
        }
      ]
    },
    {
      "cell_type": "code",
      "source": [
        "# Predecir en el conjunto de prueba\n",
        "y_pred = pip_svc.predict(X_test)\n",
        "\n",
        "# Calcular la matriz de confusión en el conjunto de prueba\n",
        "conf_matrix_test = confusion_matrix(y_pred, y_test)\n",
        "\n",
        "# Generar un informe de clasificación en el conjunto de prueba\n",
        "classification_rep_test = classification_report(y_pred, y_test, target_names=class_names)\n",
        "\n",
        "# Crear una tabla para la matriz de confusión en el conjunto de prueba\n",
        "table_test = pt.PrettyTable()\n",
        "table_test.field_names = [\"\", *class_names]\n",
        "for i, row in enumerate(conf_matrix_test):\n",
        "    table_test.add_row([class_names[i], *row])\n",
        "\n",
        "# Imprimir resultados en el conjunto de prueba\n",
        "print(\"Matriz de confusión en conjunto de prueba con svc:\")\n",
        "print(table_test)\n",
        "\n",
        "print(\"\\nInforme de clasificación en conjunto de prueba con svc:\")\n",
        "print(classification_rep_test)\n"
      ],
      "metadata": {
        "colab": {
          "base_uri": "https://localhost:8080/"
        },
        "id": "DPmLFcwN4F04",
        "outputId": "10691916-bc50-44eb-b736-379ea9431735"
      },
      "execution_count": 53,
      "outputs": [
        {
          "output_type": "stream",
          "name": "stdout",
          "text": [
            "Matriz de confusión en conjunto de prueba con svc:\n",
            "+-----------------+---------+--------+---------+----------------+-----------------+---------+\n",
            "|                 | arquero | ataque | central | central_ataque | central_defensa | defensa |\n",
            "+-----------------+---------+--------+---------+----------------+-----------------+---------+\n",
            "|     arquero     |   126   |   0    |    0    |       0        |        0        |    0    |\n",
            "|      ataque     |    0    |   75   |    9    |       12       |        1        |    0    |\n",
            "|     central     |    0    |   10   |   118   |       61       |        9        |    6    |\n",
            "|  central_ataque |    0    |   1    |    27   |       39       |        2        |    0    |\n",
            "| central_defensa |    0    |   0    |    3    |       0        |        5        |    2    |\n",
            "|     defensa     |    0    |   0    |    25   |       4        |        25       |   228   |\n",
            "+-----------------+---------+--------+---------+----------------+-----------------+---------+\n",
            "\n",
            "Informe de clasificación en conjunto de prueba con svc:\n",
            "                 precision    recall  f1-score   support\n",
            "\n",
            "        arquero       1.00      1.00      1.00       126\n",
            "         ataque       0.87      0.77      0.82        97\n",
            "        central       0.65      0.58      0.61       204\n",
            " central_ataque       0.34      0.57      0.42        69\n",
            "central_defensa       0.12      0.50      0.19        10\n",
            "        defensa       0.97      0.81      0.88       282\n",
            "\n",
            "       accuracy                           0.75       788\n",
            "      macro avg       0.66      0.70      0.65       788\n",
            "   weighted avg       0.81      0.75      0.77       788\n",
            "\n"
          ]
        }
      ]
    },
    {
      "cell_type": "markdown",
      "source": [
        "##Resultados con KNN"
      ],
      "metadata": {
        "id": "lcLn--f04Dqs"
      }
    },
    {
      "cell_type": "code",
      "source": [
        "# Suprimir advertencias de scikit-learn\n",
        "warnings.filterwarnings(\"ignore\")\n",
        "\n",
        "pip_knn.fit(X_train, y_train)\n",
        "y_pred = pip_knn.predict(X_train)\n",
        "\n",
        "# Obtener los nombres reales de las clases\n",
        "class_names = pip_knn.classes_\n",
        "\n",
        "# Calcular la matriz de confusión\n",
        "conf_matrix = confusion_matrix(y_train, y_pred)\n",
        "\n",
        "# Generar un informe de clasificación\n",
        "classification_rep = classification_report(y_train, y_pred, target_names=class_names)\n",
        "\n",
        "# Crear una tabla para la matriz de confusión\n",
        "table = pt.PrettyTable()\n",
        "table.field_names = [\"\", *class_names]\n",
        "for i, row in enumerate(conf_matrix):\n",
        "    table.add_row([class_names[i], *row])\n",
        "\n",
        "# Imprimir resultados\n",
        "print(\"Matriz de confusión en conjunto de entrenamiento con knn:\")\n",
        "print(table)\n",
        "\n",
        "print(\"\\nInforme de clasificación en conjunto de entrenamiento con knn:\")\n",
        "print(classification_rep)"
      ],
      "metadata": {
        "colab": {
          "base_uri": "https://localhost:8080/"
        },
        "id": "z6Im29Xu4GVZ",
        "outputId": "9a001eff-859b-49b3-c2f4-226ecf39fad7"
      },
      "execution_count": 47,
      "outputs": [
        {
          "output_type": "stream",
          "name": "stdout",
          "text": [
            "Matriz de confusión en conjunto de entrenamiento con knn:\n",
            "+-----------------+---------+--------+---------+----------------+-----------------+---------+\n",
            "|                 | arquero | ataque | central | central_ataque | central_defensa | defensa |\n",
            "+-----------------+---------+--------+---------+----------------+-----------------+---------+\n",
            "|     arquero     |   506   |   0    |    0    |       0        |        0        |    0    |\n",
            "|      ataque     |    0    |  283   |    44   |       14       |        2        |    1    |\n",
            "|     central     |    0    |   43   |   528   |       65       |        9        |    80   |\n",
            "|  central_ataque |    0    |   46   |   208   |      187       |        3        |    21   |\n",
            "| central_defensa |    0    |   1    |    21   |       10       |        43       |    92   |\n",
            "|     defensa     |    0    |   2    |    43   |       6        |        14       |   879   |\n",
            "+-----------------+---------+--------+---------+----------------+-----------------+---------+\n",
            "\n",
            "Informe de clasificación en conjunto de entrenamiento con knn:\n",
            "                 precision    recall  f1-score   support\n",
            "\n",
            "        arquero       1.00      1.00      1.00       506\n",
            "         ataque       0.75      0.82      0.79       344\n",
            "        central       0.63      0.73      0.67       725\n",
            " central_ataque       0.66      0.40      0.50       465\n",
            "central_defensa       0.61      0.26      0.36       167\n",
            "        defensa       0.82      0.93      0.87       944\n",
            "\n",
            "       accuracy                           0.77      3151\n",
            "      macro avg       0.74      0.69      0.70      3151\n",
            "   weighted avg       0.76      0.77      0.76      3151\n",
            "\n"
          ]
        }
      ]
    },
    {
      "cell_type": "code",
      "source": [
        "# Predecir en el conjunto de prueba\n",
        "y_pred = pip_knn.predict(X_test)\n",
        "\n",
        "# Calcular la matriz de confusión en el conjunto de prueba\n",
        "conf_matrix_test = confusion_matrix(y_pred, y_test)\n",
        "\n",
        "# Generar un informe de clasificación en el conjunto de prueba\n",
        "classification_rep_test = classification_report(y_pred, y_test, target_names=class_names)\n",
        "\n",
        "# Crear una tabla para la matriz de confusión en el conjunto de prueba\n",
        "table_test = pt.PrettyTable()\n",
        "table_test.field_names = [\"\", *class_names]\n",
        "for i, row in enumerate(conf_matrix_test):\n",
        "    table_test.add_row([class_names[i], *row])\n",
        "\n",
        "# Imprimir resultados en el conjunto de prueba\n",
        "print(\"Matriz de confusión en conjunto de prueba con knn:\")\n",
        "print(table_test)\n",
        "\n",
        "print(\"\\nInforme de clasificación en conjunto de prueba con knn:\")\n",
        "print(classification_rep_test)\n"
      ],
      "metadata": {
        "colab": {
          "base_uri": "https://localhost:8080/"
        },
        "id": "gL0cMYPC4GSf",
        "outputId": "542de985-9cc6-4be0-a192-d473f3be71e8"
      },
      "execution_count": 48,
      "outputs": [
        {
          "output_type": "stream",
          "name": "stdout",
          "text": [
            "Matriz de confusión en conjunto de prueba con knn:\n",
            "+-----------------+---------+--------+---------+----------------+-----------------+---------+\n",
            "|                 | arquero | ataque | central | central_ataque | central_defensa | defensa |\n",
            "+-----------------+---------+--------+---------+----------------+-----------------+---------+\n",
            "|     arquero     |   126   |   0    |    0    |       0        |        0        |    0    |\n",
            "|      ataque     |    0    |   57   |    13   |       19       |        0        |    1    |\n",
            "|     central     |    0    |   21   |   101   |       70       |        11       |    10   |\n",
            "|  central_ataque |    0    |   6    |    36   |       22       |        1        |    2    |\n",
            "| central_defensa |    0    |   0    |    3    |       1        |        6        |    10   |\n",
            "|     defensa     |    0    |   2    |    29   |       4        |        24       |   213   |\n",
            "+-----------------+---------+--------+---------+----------------+-----------------+---------+\n",
            "\n",
            "Informe de clasificación en conjunto de prueba con knn:\n",
            "                 precision    recall  f1-score   support\n",
            "\n",
            "        arquero       1.00      1.00      1.00       126\n",
            "         ataque       0.66      0.63      0.65        90\n",
            "        central       0.55      0.47      0.51       213\n",
            " central_ataque       0.19      0.33      0.24        67\n",
            "central_defensa       0.14      0.30      0.19        20\n",
            "        defensa       0.90      0.78      0.84       272\n",
            "\n",
            "       accuracy                           0.67       788\n",
            "      macro avg       0.58      0.59      0.57       788\n",
            "   weighted avg       0.72      0.67      0.69       788\n",
            "\n"
          ]
        }
      ]
    },
    {
      "cell_type": "markdown",
      "source": [
        "##Resultados con RandomForest"
      ],
      "metadata": {
        "id": "rfD8wRrB4C3M"
      }
    },
    {
      "cell_type": "code",
      "source": [
        "# Suprimir advertencias de scikit-learn\n",
        "warnings.filterwarnings(\"ignore\")\n",
        "\n",
        "pip_rf.fit(X_train, y_train)\n",
        "y_pred = pip_rf.predict(X_train)\n",
        "\n",
        "# Obtener los nombres reales de las clases\n",
        "class_names = pip_rf.classes_\n",
        "\n",
        "# Calcular la matriz de confusión\n",
        "conf_matrix = confusion_matrix(y_train, y_pred)\n",
        "\n",
        "# Generar un informe de clasificación\n",
        "classification_rep = classification_report(y_train, y_pred, target_names=class_names)\n",
        "\n",
        "# Crear una tabla para la matriz de confusión\n",
        "table = pt.PrettyTable()\n",
        "table.field_names = [\"\", *class_names]\n",
        "for i, row in enumerate(conf_matrix):\n",
        "    table.add_row([class_names[i], *row])\n",
        "\n",
        "# Imprimir resultados\n",
        "print(\"Matriz de confusión en conjunto de entrenamiento con rf:\")\n",
        "print(table)\n",
        "\n",
        "print(\"\\nInforme de clasificación en conjunto de entrenamiento con rf:\")\n",
        "print(classification_rep)"
      ],
      "metadata": {
        "colab": {
          "base_uri": "https://localhost:8080/"
        },
        "id": "lpWqP5pZ4Gx2",
        "outputId": "03fdcdd3-5210-4487-ff6f-e94ce4a4bc4d"
      },
      "execution_count": 49,
      "outputs": [
        {
          "output_type": "stream",
          "name": "stdout",
          "text": [
            "Matriz de confusión en conjunto de entrenamiento con rf:\n",
            "+-----------------+---------+--------+---------+----------------+-----------------+---------+\n",
            "|                 | arquero | ataque | central | central_ataque | central_defensa | defensa |\n",
            "+-----------------+---------+--------+---------+----------------+-----------------+---------+\n",
            "|     arquero     |   506   |   0    |    0    |       0        |        0        |    0    |\n",
            "|      ataque     |    0    |  344   |    0    |       0        |        0        |    0    |\n",
            "|     central     |    0    |   0    |   725   |       0        |        0        |    0    |\n",
            "|  central_ataque |    0    |   0    |    0    |      465       |        0        |    0    |\n",
            "| central_defensa |    0    |   0    |    0    |       0        |       167       |    0    |\n",
            "|     defensa     |    0    |   0    |    0    |       0        |        0        |   944   |\n",
            "+-----------------+---------+--------+---------+----------------+-----------------+---------+\n",
            "\n",
            "Informe de clasificación en conjunto de entrenamiento con rf:\n",
            "                 precision    recall  f1-score   support\n",
            "\n",
            "        arquero       1.00      1.00      1.00       506\n",
            "         ataque       1.00      1.00      1.00       344\n",
            "        central       1.00      1.00      1.00       725\n",
            " central_ataque       1.00      1.00      1.00       465\n",
            "central_defensa       1.00      1.00      1.00       167\n",
            "        defensa       1.00      1.00      1.00       944\n",
            "\n",
            "       accuracy                           1.00      3151\n",
            "      macro avg       1.00      1.00      1.00      3151\n",
            "   weighted avg       1.00      1.00      1.00      3151\n",
            "\n"
          ]
        }
      ]
    },
    {
      "cell_type": "code",
      "source": [
        "# Predecir en el conjunto de prueba\n",
        "y_pred = pip_rf.predict(X_test)\n",
        "\n",
        "# Calcular la matriz de confusión en el conjunto de prueba\n",
        "conf_matrix_test = confusion_matrix(y_pred, y_test)\n",
        "\n",
        "# Generar un informe de clasificación en el conjunto de prueba\n",
        "classification_rep_test = classification_report(y_pred, y_test, target_names=class_names)\n",
        "\n",
        "# Crear una tabla para la matriz de confusión en el conjunto de prueba\n",
        "table_test = pt.PrettyTable()\n",
        "table_test.field_names = [\"\", *class_names]\n",
        "for i, row in enumerate(conf_matrix_test):\n",
        "    table_test.add_row([class_names[i], *row])\n",
        "\n",
        "# Imprimir resultados en el conjunto de prueba\n",
        "print(\"Matriz de confusión en conjunto de prueba con rf:\")\n",
        "print(table_test)\n",
        "\n",
        "print(\"\\nInforme de clasificación en conjunto de prueba con rf:\")\n",
        "print(classification_rep_test)\n"
      ],
      "metadata": {
        "colab": {
          "base_uri": "https://localhost:8080/"
        },
        "id": "IfVWNuuU4GvS",
        "outputId": "1800bb63-8b79-421e-b9f3-46502c16c2a8"
      },
      "execution_count": 50,
      "outputs": [
        {
          "output_type": "stream",
          "name": "stdout",
          "text": [
            "Matriz de confusión en conjunto de prueba con rf:\n",
            "+-----------------+---------+--------+---------+----------------+-----------------+---------+\n",
            "|                 | arquero | ataque | central | central_ataque | central_defensa | defensa |\n",
            "+-----------------+---------+--------+---------+----------------+-----------------+---------+\n",
            "|     arquero     |   126   |   0    |    0    |       0        |        0        |    0    |\n",
            "|      ataque     |    0    |   72   |    8    |       12       |        0        |    0    |\n",
            "|     central     |    0    |   12   |   125   |       66       |        9        |    4    |\n",
            "|  central_ataque |    0    |   2    |    25   |       33       |        4        |    2    |\n",
            "| central_defensa |    0    |   0    |    2    |       2        |        5        |    3    |\n",
            "|     defensa     |    0    |   0    |    22   |       3        |        24       |   227   |\n",
            "+-----------------+---------+--------+---------+----------------+-----------------+---------+\n",
            "\n",
            "Informe de clasificación en conjunto de prueba con rf:\n",
            "                 precision    recall  f1-score   support\n",
            "\n",
            "        arquero       1.00      1.00      1.00       126\n",
            "         ataque       0.84      0.78      0.81        92\n",
            "        central       0.69      0.58      0.63       216\n",
            " central_ataque       0.28      0.50      0.36        66\n",
            "central_defensa       0.12      0.42      0.19        12\n",
            "        defensa       0.96      0.82      0.89       276\n",
            "\n",
            "       accuracy                           0.75       788\n",
            "      macro avg       0.65      0.68      0.65       788\n",
            "   weighted avg       0.81      0.75      0.77       788\n",
            "\n"
          ]
        }
      ]
    },
    {
      "cell_type": "markdown",
      "metadata": {
        "tags": [],
        "cell_id": "bea1283d202545a7a1008e29ee53e044",
        "deepnote_cell_type": "markdown",
        "id": "x-aCmMiKkDS0"
      },
      "source": [
        "**Respuesta**:\n",
        "\n",
        "```\n",
        "Los resultados obtenidos para cada modelo son los siguientes:\n",
        "\n",
        "SVC:\n",
        "Accuracy=0.75\n",
        "Precision=0.66\n",
        "Recall=0.70\n",
        "F1 score=0.65\n",
        "\n",
        "KNN:\n",
        "Accuracy=0.67\n",
        "Precision=0.58\n",
        "Recall=0.59\n",
        "F1 score=0.57\n",
        "\n",
        "RF:\n",
        "Accuracy=0.75\n",
        "Precision=0.65\n",
        "Recall=0.68\n",
        "F1 score=0.65\n",
        "\n",
        "\n",
        "A la luz de estos resultados, se observa que los modelos SVC y Random Forest sobresalen como los mejores entre los tres modelos\n",
        "evaluados.\n",
        "Esto se debe a que presentan la mayor precisión, recall y F1-score promedio con diferencias ínfimas entre ellos. Por lo tanto, en\n",
        "términos de rendimiento global, estos dos modelos son virtualmente igual de eficacez para esta tarea.\n",
        "```"
      ]
    },
    {
      "cell_type": "markdown",
      "metadata": {
        "id": "C-vkB4xoOGtM",
        "cell_id": "f8008fda06be4d8ab7564d7362151a14",
        "deepnote_cell_type": "markdown"
      },
      "source": [
        "## 1.3 Predicción de Sueldos [2 puntos]\n",
        "\n",
        "<p align=\"center\">\n",
        "  <img src=\"https://media.giphy.com/media/3oEjHWtHAFcOKS4iA0/giphy.gif\" width=\"460\">\n",
        "</p>"
      ]
    },
    {
      "cell_type": "markdown",
      "metadata": {
        "tags": [],
        "cell_id": "598c8a91d80c412091470f396af54b5f",
        "deepnote_cell_type": "markdown",
        "id": "WM9Crt_wkDS0"
      },
      "source": [
        "Queriendo ahondar aún más en el mercado del balompíe, Renacin, logra obtener (de una manera no muy formal) los sueldos de múltiples futbolistas y los guarda en el archivo ```sueldos.csv```. Con ellos les solicita que generen un regresor que les permita predecir el sueldo de los futbolistas en base a las características de los pichichis, esto, debido a su motivación por invertir y/o realizar especulación sobre los sueldos de jugadores.\n",
        "\n",
        "Renacin es claro señalando que deben seguir utilizando la [guía](https://scikit-learn.org/stable/tutorial/machine_learning_map/index.html) y comenten cada uno de los pasos realizados, para obtener su regresión lineal. Señalándoles que no aceptara un $R^2$ inferior a 0.35 para el modelo solicitado.\n",
        "\n",
        "Para esta parte usted tiene total libertad en la generación del regresor, la unica exigencia es que utilice un pipeline para generar la regresión y utilice la metrica $R^2$ para medir el rendimiento de esta.\n",
        "\n",
        "**To-Do**:\n",
        "\n",
        "- [ ] Explique en que consiste la métrica $R^2$\n",
        "- [ ] Generar un pipeline para la regresión.\n",
        "- [ ] Obtener un regresor con un $R^2$ superior a  $0.35$.\n",
        "- [ ] Comente sus resultados y si es posible mejorar los resultados obtenidos. ¿Se necesitarían más datos o otros tipos de características o una combinación de ambos?"
      ]
    },
    {
      "cell_type": "markdown",
      "metadata": {
        "tags": [],
        "cell_id": "5ce70aab37cb4924b1543eeab84e7de4",
        "deepnote_cell_type": "markdown",
        "id": "rW_RiqHdkDS1"
      },
      "source": [
        "**Respuesta**"
      ]
    },
    {
      "cell_type": "code",
      "metadata": {
        "tags": [],
        "cell_id": "96e8db5c5a7044b79966da981618c807",
        "deepnote_cell_type": "code",
        "colab": {
          "base_uri": "https://localhost:8080/",
          "height": 424
        },
        "id": "jHfTZT4fkDS1",
        "outputId": "bce0d4ef-8439-4699-aaf2-bd1659e4edec"
      },
      "source": [
        "df_salarios = pd.read_csv(path + 'salarios.csv')\n",
        "df_salarios"
      ],
      "execution_count": 68,
      "outputs": [
        {
          "output_type": "execute_result",
          "data": {
            "text/plain": [
              "      Unnamed: 0             Player  Weekly Salary\n",
              "0           1528       Lionel Messi      1538905.0\n",
              "1           1006  Cristiano Ronaldo      1248536.0\n",
              "2           1529  Antoine Griezmann       997032.0\n",
              "3           2004             Neymar       797726.0\n",
              "4           1530        Gareth Bale       607706.0\n",
              "...          ...                ...            ...\n",
              "2529        1527    Simone Ghidotti          283.0\n",
              "2530        2539   Valentin Gendrey          100.0\n",
              "2531        1001        John Yeboah           70.0\n",
              "2532        1000    Antonis Aidonis           70.0\n",
              "2533        1002        Leon Dajaku           70.0\n",
              "\n",
              "[2534 rows x 3 columns]"
            ],
            "text/html": [
              "\n",
              "  <div id=\"df-cd30f6d1-e6b4-46bd-80f6-c1a841052e03\" class=\"colab-df-container\">\n",
              "    <div>\n",
              "<style scoped>\n",
              "    .dataframe tbody tr th:only-of-type {\n",
              "        vertical-align: middle;\n",
              "    }\n",
              "\n",
              "    .dataframe tbody tr th {\n",
              "        vertical-align: top;\n",
              "    }\n",
              "\n",
              "    .dataframe thead th {\n",
              "        text-align: right;\n",
              "    }\n",
              "</style>\n",
              "<table border=\"1\" class=\"dataframe\">\n",
              "  <thead>\n",
              "    <tr style=\"text-align: right;\">\n",
              "      <th></th>\n",
              "      <th>Unnamed: 0</th>\n",
              "      <th>Player</th>\n",
              "      <th>Weekly Salary</th>\n",
              "    </tr>\n",
              "  </thead>\n",
              "  <tbody>\n",
              "    <tr>\n",
              "      <th>0</th>\n",
              "      <td>1528</td>\n",
              "      <td>Lionel Messi</td>\n",
              "      <td>1538905.0</td>\n",
              "    </tr>\n",
              "    <tr>\n",
              "      <th>1</th>\n",
              "      <td>1006</td>\n",
              "      <td>Cristiano Ronaldo</td>\n",
              "      <td>1248536.0</td>\n",
              "    </tr>\n",
              "    <tr>\n",
              "      <th>2</th>\n",
              "      <td>1529</td>\n",
              "      <td>Antoine Griezmann</td>\n",
              "      <td>997032.0</td>\n",
              "    </tr>\n",
              "    <tr>\n",
              "      <th>3</th>\n",
              "      <td>2004</td>\n",
              "      <td>Neymar</td>\n",
              "      <td>797726.0</td>\n",
              "    </tr>\n",
              "    <tr>\n",
              "      <th>4</th>\n",
              "      <td>1530</td>\n",
              "      <td>Gareth Bale</td>\n",
              "      <td>607706.0</td>\n",
              "    </tr>\n",
              "    <tr>\n",
              "      <th>...</th>\n",
              "      <td>...</td>\n",
              "      <td>...</td>\n",
              "      <td>...</td>\n",
              "    </tr>\n",
              "    <tr>\n",
              "      <th>2529</th>\n",
              "      <td>1527</td>\n",
              "      <td>Simone Ghidotti</td>\n",
              "      <td>283.0</td>\n",
              "    </tr>\n",
              "    <tr>\n",
              "      <th>2530</th>\n",
              "      <td>2539</td>\n",
              "      <td>Valentin Gendrey</td>\n",
              "      <td>100.0</td>\n",
              "    </tr>\n",
              "    <tr>\n",
              "      <th>2531</th>\n",
              "      <td>1001</td>\n",
              "      <td>John Yeboah</td>\n",
              "      <td>70.0</td>\n",
              "    </tr>\n",
              "    <tr>\n",
              "      <th>2532</th>\n",
              "      <td>1000</td>\n",
              "      <td>Antonis Aidonis</td>\n",
              "      <td>70.0</td>\n",
              "    </tr>\n",
              "    <tr>\n",
              "      <th>2533</th>\n",
              "      <td>1002</td>\n",
              "      <td>Leon Dajaku</td>\n",
              "      <td>70.0</td>\n",
              "    </tr>\n",
              "  </tbody>\n",
              "</table>\n",
              "<p>2534 rows × 3 columns</p>\n",
              "</div>\n",
              "    <div class=\"colab-df-buttons\">\n",
              "\n",
              "  <div class=\"colab-df-container\">\n",
              "    <button class=\"colab-df-convert\" onclick=\"convertToInteractive('df-cd30f6d1-e6b4-46bd-80f6-c1a841052e03')\"\n",
              "            title=\"Convert this dataframe to an interactive table.\"\n",
              "            style=\"display:none;\">\n",
              "\n",
              "  <svg xmlns=\"http://www.w3.org/2000/svg\" height=\"24px\" viewBox=\"0 -960 960 960\">\n",
              "    <path d=\"M120-120v-720h720v720H120Zm60-500h600v-160H180v160Zm220 220h160v-160H400v160Zm0 220h160v-160H400v160ZM180-400h160v-160H180v160Zm440 0h160v-160H620v160ZM180-180h160v-160H180v160Zm440 0h160v-160H620v160Z\"/>\n",
              "  </svg>\n",
              "    </button>\n",
              "\n",
              "  <style>\n",
              "    .colab-df-container {\n",
              "      display:flex;\n",
              "      gap: 12px;\n",
              "    }\n",
              "\n",
              "    .colab-df-convert {\n",
              "      background-color: #E8F0FE;\n",
              "      border: none;\n",
              "      border-radius: 50%;\n",
              "      cursor: pointer;\n",
              "      display: none;\n",
              "      fill: #1967D2;\n",
              "      height: 32px;\n",
              "      padding: 0 0 0 0;\n",
              "      width: 32px;\n",
              "    }\n",
              "\n",
              "    .colab-df-convert:hover {\n",
              "      background-color: #E2EBFA;\n",
              "      box-shadow: 0px 1px 2px rgba(60, 64, 67, 0.3), 0px 1px 3px 1px rgba(60, 64, 67, 0.15);\n",
              "      fill: #174EA6;\n",
              "    }\n",
              "\n",
              "    .colab-df-buttons div {\n",
              "      margin-bottom: 4px;\n",
              "    }\n",
              "\n",
              "    [theme=dark] .colab-df-convert {\n",
              "      background-color: #3B4455;\n",
              "      fill: #D2E3FC;\n",
              "    }\n",
              "\n",
              "    [theme=dark] .colab-df-convert:hover {\n",
              "      background-color: #434B5C;\n",
              "      box-shadow: 0px 1px 3px 1px rgba(0, 0, 0, 0.15);\n",
              "      filter: drop-shadow(0px 1px 2px rgba(0, 0, 0, 0.3));\n",
              "      fill: #FFFFFF;\n",
              "    }\n",
              "  </style>\n",
              "\n",
              "    <script>\n",
              "      const buttonEl =\n",
              "        document.querySelector('#df-cd30f6d1-e6b4-46bd-80f6-c1a841052e03 button.colab-df-convert');\n",
              "      buttonEl.style.display =\n",
              "        google.colab.kernel.accessAllowed ? 'block' : 'none';\n",
              "\n",
              "      async function convertToInteractive(key) {\n",
              "        const element = document.querySelector('#df-cd30f6d1-e6b4-46bd-80f6-c1a841052e03');\n",
              "        const dataTable =\n",
              "          await google.colab.kernel.invokeFunction('convertToInteractive',\n",
              "                                                    [key], {});\n",
              "        if (!dataTable) return;\n",
              "\n",
              "        const docLinkHtml = 'Like what you see? Visit the ' +\n",
              "          '<a target=\"_blank\" href=https://colab.research.google.com/notebooks/data_table.ipynb>data table notebook</a>'\n",
              "          + ' to learn more about interactive tables.';\n",
              "        element.innerHTML = '';\n",
              "        dataTable['output_type'] = 'display_data';\n",
              "        await google.colab.output.renderOutput(dataTable, element);\n",
              "        const docLink = document.createElement('div');\n",
              "        docLink.innerHTML = docLinkHtml;\n",
              "        element.appendChild(docLink);\n",
              "      }\n",
              "    </script>\n",
              "  </div>\n",
              "\n",
              "\n",
              "<div id=\"df-4b68a9f3-dd2c-45fe-843d-9e69000f370d\">\n",
              "  <button class=\"colab-df-quickchart\" onclick=\"quickchart('df-4b68a9f3-dd2c-45fe-843d-9e69000f370d')\"\n",
              "            title=\"Suggest charts\"\n",
              "            style=\"display:none;\">\n",
              "\n",
              "<svg xmlns=\"http://www.w3.org/2000/svg\" height=\"24px\"viewBox=\"0 0 24 24\"\n",
              "     width=\"24px\">\n",
              "    <g>\n",
              "        <path d=\"M19 3H5c-1.1 0-2 .9-2 2v14c0 1.1.9 2 2 2h14c1.1 0 2-.9 2-2V5c0-1.1-.9-2-2-2zM9 17H7v-7h2v7zm4 0h-2V7h2v10zm4 0h-2v-4h2v4z\"/>\n",
              "    </g>\n",
              "</svg>\n",
              "  </button>\n",
              "\n",
              "<style>\n",
              "  .colab-df-quickchart {\n",
              "      --bg-color: #E8F0FE;\n",
              "      --fill-color: #1967D2;\n",
              "      --hover-bg-color: #E2EBFA;\n",
              "      --hover-fill-color: #174EA6;\n",
              "      --disabled-fill-color: #AAA;\n",
              "      --disabled-bg-color: #DDD;\n",
              "  }\n",
              "\n",
              "  [theme=dark] .colab-df-quickchart {\n",
              "      --bg-color: #3B4455;\n",
              "      --fill-color: #D2E3FC;\n",
              "      --hover-bg-color: #434B5C;\n",
              "      --hover-fill-color: #FFFFFF;\n",
              "      --disabled-bg-color: #3B4455;\n",
              "      --disabled-fill-color: #666;\n",
              "  }\n",
              "\n",
              "  .colab-df-quickchart {\n",
              "    background-color: var(--bg-color);\n",
              "    border: none;\n",
              "    border-radius: 50%;\n",
              "    cursor: pointer;\n",
              "    display: none;\n",
              "    fill: var(--fill-color);\n",
              "    height: 32px;\n",
              "    padding: 0;\n",
              "    width: 32px;\n",
              "  }\n",
              "\n",
              "  .colab-df-quickchart:hover {\n",
              "    background-color: var(--hover-bg-color);\n",
              "    box-shadow: 0 1px 2px rgba(60, 64, 67, 0.3), 0 1px 3px 1px rgba(60, 64, 67, 0.15);\n",
              "    fill: var(--button-hover-fill-color);\n",
              "  }\n",
              "\n",
              "  .colab-df-quickchart-complete:disabled,\n",
              "  .colab-df-quickchart-complete:disabled:hover {\n",
              "    background-color: var(--disabled-bg-color);\n",
              "    fill: var(--disabled-fill-color);\n",
              "    box-shadow: none;\n",
              "  }\n",
              "\n",
              "  .colab-df-spinner {\n",
              "    border: 2px solid var(--fill-color);\n",
              "    border-color: transparent;\n",
              "    border-bottom-color: var(--fill-color);\n",
              "    animation:\n",
              "      spin 1s steps(1) infinite;\n",
              "  }\n",
              "\n",
              "  @keyframes spin {\n",
              "    0% {\n",
              "      border-color: transparent;\n",
              "      border-bottom-color: var(--fill-color);\n",
              "      border-left-color: var(--fill-color);\n",
              "    }\n",
              "    20% {\n",
              "      border-color: transparent;\n",
              "      border-left-color: var(--fill-color);\n",
              "      border-top-color: var(--fill-color);\n",
              "    }\n",
              "    30% {\n",
              "      border-color: transparent;\n",
              "      border-left-color: var(--fill-color);\n",
              "      border-top-color: var(--fill-color);\n",
              "      border-right-color: var(--fill-color);\n",
              "    }\n",
              "    40% {\n",
              "      border-color: transparent;\n",
              "      border-right-color: var(--fill-color);\n",
              "      border-top-color: var(--fill-color);\n",
              "    }\n",
              "    60% {\n",
              "      border-color: transparent;\n",
              "      border-right-color: var(--fill-color);\n",
              "    }\n",
              "    80% {\n",
              "      border-color: transparent;\n",
              "      border-right-color: var(--fill-color);\n",
              "      border-bottom-color: var(--fill-color);\n",
              "    }\n",
              "    90% {\n",
              "      border-color: transparent;\n",
              "      border-bottom-color: var(--fill-color);\n",
              "    }\n",
              "  }\n",
              "</style>\n",
              "\n",
              "  <script>\n",
              "    async function quickchart(key) {\n",
              "      const quickchartButtonEl =\n",
              "        document.querySelector('#' + key + ' button');\n",
              "      quickchartButtonEl.disabled = true;  // To prevent multiple clicks.\n",
              "      quickchartButtonEl.classList.add('colab-df-spinner');\n",
              "      try {\n",
              "        const charts = await google.colab.kernel.invokeFunction(\n",
              "            'suggestCharts', [key], {});\n",
              "      } catch (error) {\n",
              "        console.error('Error during call to suggestCharts:', error);\n",
              "      }\n",
              "      quickchartButtonEl.classList.remove('colab-df-spinner');\n",
              "      quickchartButtonEl.classList.add('colab-df-quickchart-complete');\n",
              "    }\n",
              "    (() => {\n",
              "      let quickchartButtonEl =\n",
              "        document.querySelector('#df-4b68a9f3-dd2c-45fe-843d-9e69000f370d button');\n",
              "      quickchartButtonEl.style.display =\n",
              "        google.colab.kernel.accessAllowed ? 'block' : 'none';\n",
              "    })();\n",
              "  </script>\n",
              "</div>\n",
              "    </div>\n",
              "  </div>\n"
            ]
          },
          "metadata": {},
          "execution_count": 68
        }
      ]
    },
    {
      "cell_type": "markdown",
      "source": [
        "Primero, dado que este dataframe contiene menos filas que el anterior, hacemos un cruce de los datos que se encuentran en ambos."
      ],
      "metadata": {
        "id": "d3ySMphh-gBj"
      }
    },
    {
      "cell_type": "code",
      "source": [
        "df_players_salarios = df_salarios.merge(df_players, left_on='Player', right_on='Name')"
      ],
      "metadata": {
        "id": "PRjWrna_4t8w"
      },
      "execution_count": 83,
      "outputs": []
    },
    {
      "cell_type": "code",
      "source": [
        "# Contar valores nulos por columna\n",
        "valores_nulos_por_columna = df_players_salarios.isnull().sum()\n",
        "\n",
        "# Imprimir el recuento de valores nulos por columna\n",
        "print(valores_nulos_por_columna)"
      ],
      "metadata": {
        "colab": {
          "base_uri": "https://localhost:8080/"
        },
        "id": "tIuT__1D-fY0",
        "outputId": "c12a1951-e2d3-4dfe-d2ab-f9419303075d"
      },
      "execution_count": 84,
      "outputs": [
        {
          "output_type": "stream",
          "name": "stdout",
          "text": [
            "Unnamed: 0                    0\n",
            "Player                        0\n",
            "Weekly Salary                 0\n",
            "Name                          0\n",
            "Nationality                   0\n",
            "National_Position          1527\n",
            "Club_Position                 0\n",
            "Height                        0\n",
            "Weight                        0\n",
            "Preffered_Foot                0\n",
            "Age                           0\n",
            "Work_Rate                     0\n",
            "Weak_foot                     0\n",
            "Skill_Moves                   0\n",
            "Ball_Control                  0\n",
            "Dribbling                     0\n",
            "Marking                       0\n",
            "Sliding_Tackle                0\n",
            "Standing_Tackle               0\n",
            "Aggression                    0\n",
            "Reactions                     0\n",
            "Interceptions                 0\n",
            "Vision                        0\n",
            "Composure                     0\n",
            "Crossing                      0\n",
            "Short_Pass                    0\n",
            "Long_Pass                     0\n",
            "Acceleration                  0\n",
            "Speed                         0\n",
            "Stamina                       0\n",
            "Strength                      0\n",
            "Balance                       0\n",
            "Agility                       0\n",
            "Jumping                       0\n",
            "Heading                       0\n",
            "Shot_Power                    0\n",
            "Finishing                     0\n",
            "Long_Shots                    0\n",
            "Curve                         0\n",
            "Freekick_Accuracy             0\n",
            "Penalties                     0\n",
            "Volleys                       0\n",
            "National_Team_Selection       0\n",
            "dtype: int64\n"
          ]
        }
      ]
    },
    {
      "cell_type": "code",
      "source": [
        "#Eliminamos la columna Player ya que es redundante con la columna Name\n",
        "df_players_salarios.drop(columns=['Player'], inplace=True)"
      ],
      "metadata": {
        "id": "7pnlKzro-fV0"
      },
      "execution_count": 85,
      "outputs": []
    },
    {
      "cell_type": "markdown",
      "source": [
        "En primer lugar, ya que se tienen las mismas variables tipos de variables de antes, se mantienen las listas de tipos y ColumnTransformer anteriormente definidos.\n",
        "\n",
        "Luego, de acuerdo al diagrama guía, vamos a la sección de regresión, y dado que tenemos menos de 100,000 observaciones y 40 características se utiliza Ridge Regression."
      ],
      "metadata": {
        "id": "l8vL9ny9_aMq"
      }
    },
    {
      "cell_type": "code",
      "source": [
        "from sklearn.linear_model import Ridge\n",
        "\n",
        "Ridge_reg = Pipeline(steps=[\n",
        "                      (\"preprocessing\", ct),\n",
        "                      (\"model\", Ridge())\n",
        "])"
      ],
      "metadata": {
        "id": "VX2gQoOw_Iwh"
      },
      "execution_count": 86,
      "outputs": []
    },
    {
      "cell_type": "code",
      "source": [
        "from sklearn.metrics import r2_score\n",
        "\n",
        "labels = df_players_salarios.loc[:, \"Weekly Salary\"]\n",
        "features = df_players_salarios.drop(columns=text + ['Weekly Salary'])\n",
        "X_train, X_test, y_train, y_test = train_test_split(features, labels, test_size=0.2, random_state=42)\n",
        "\n",
        "# Fit\n",
        "Ridge_reg.fit(X_train, y_train)\n",
        "\n",
        "# Predict\n",
        "y_train_pred = Ridge_reg.predict(X_train)\n",
        "y_test_pred = Ridge_reg.predict(X_test)\n",
        "\n",
        "# Resultados\n",
        "r2_train = r2_score(y_train, y_train_pred)\n",
        "r2_test = r2_score(y_test, y_test_pred)\n",
        "\n",
        "print(\"R^2 en el conjunto de entrenamiento: {:.2f}\".format(r2_train))\n",
        "print(\"R^2 en el conjunto de prueba: {:.2f}\".format(r2_test))"
      ],
      "metadata": {
        "colab": {
          "base_uri": "https://localhost:8080/"
        },
        "id": "NAOWGDf3_ZpB",
        "outputId": "55a1dd6a-eae0-4a57-ad87-6418e1a26cce"
      },
      "execution_count": 87,
      "outputs": [
        {
          "output_type": "stream",
          "name": "stdout",
          "text": [
            "R^2 en el conjunto de entrenamiento: 0.30\n",
            "R^2 en el conjunto de prueba: 0.24\n"
          ]
        }
      ]
    },
    {
      "cell_type": "markdown",
      "source": [
        "Dado que el valor de R^2 es muy bajo, se sigue con el diagrama guía, donde la siguiente opción es utilizar un Ensemble Regressor, por lo que utilizamos el regresor Random Forest."
      ],
      "metadata": {
        "id": "7BgHxgLiBebT"
      }
    },
    {
      "cell_type": "code",
      "source": [
        "from sklearn.ensemble import RandomForestRegressor\n",
        "rf_reg = Pipeline(steps=[\n",
        "                      (\"preprocessing\", ct),\n",
        "                      (\"model\", RandomForestRegressor(random_state=42))\n",
        "])\n",
        "\n",
        "# Fit\n",
        "rf_reg.fit(X_train, y_train)\n",
        "\n",
        "# Predict\n",
        "y_train_pred = rf_reg.predict(X_train)\n",
        "y_test_pred = rf_reg.predict(X_test)\n",
        "\n",
        "# Resultados para el modelo de Random Forest Regressor\n",
        "r2_train_rf = r2_score(y_train, y_train_pred)\n",
        "r2_test_rf = r2_score(y_test, y_test_pred)\n",
        "\n",
        "print(\"R^2 en train (Random Forest Regressor): {:.2f}\".format(r2_train_rf))\n",
        "print(\"R^2 en test (Random Forest Regressor): {:.2f}\".format(r2_test_rf))"
      ],
      "metadata": {
        "colab": {
          "base_uri": "https://localhost:8080/"
        },
        "id": "iOMxvH5EBw0a",
        "outputId": "26344bd8-4938-4968-8a08-02a84d130e69"
      },
      "execution_count": 88,
      "outputs": [
        {
          "output_type": "stream",
          "name": "stdout",
          "text": [
            "R^2 en train (Random Forest Regressor): 0.96\n",
            "R^2 en test (Random Forest Regressor): 0.57\n"
          ]
        }
      ]
    },
    {
      "cell_type": "markdown",
      "metadata": {
        "tags": [],
        "cell_id": "bb39f9e88bf04d639ea5d67732450be6",
        "deepnote_cell_type": "markdown",
        "id": "AHgNdacRkDS1"
      },
      "source": [
        "**Respuesta**:\n",
        "\n",
        "```\n",
        "El modelo de regresión de Random Forest logra un R^2 de 0.57 en el conjunto de prueba, superando significativamente el puntaje de 0.24\n",
        "obtenido por la regresión de Ridge. Esta superioridad se puede atribuir a la capacidad de los bosques aleatorios para modelar\n",
        "relaciones no lineales y de alta dimensión entre las características. Por el contrario, la regresión Ridge es un modelo\n",
        "lineal que asume una relación lineal entre las características y la variable objetivo. Si las relaciones subyacentes en los datos son\n",
        "genuinamente no lineales, los modelos basados en árboles, como el bosque aleatorio, tienen más probabilidades de capturar estas\n",
        "relaciones de manera efectiva en comparación con los modelos lineales, como Ridge.\n",
        "\n",
        "Para mejorar aún más el rendimiento del modelo, se podría considerar la adición de más datos, ya que al cruzar los datos de\n",
        "las bases de datos de salarios y jugadores quedan únicamente 1866 filas. Además, sería beneficioso aumentar la cantidad de\n",
        "características relevantes para la regresión, como por ejemplo variables relacionadas a la economía de la liga o país en que juega.\n",
        "```"
      ]
    },
    {
      "cell_type": "markdown",
      "metadata": {
        "id": "Rg4ZMq8ezAH6",
        "cell_id": "502994b597214d4ba2f05e2b900d895c",
        "deepnote_cell_type": "markdown"
      },
      "source": [
        "# Conclusión\n",
        "Eso ha sido todo para el lab de hoy, recuerden que el laboratorio tiene un plazo de entrega de una semana. Cualquier duda del laboratorio, no duden en contactarnos por mail o U-cursos.\n",
        "\n",
        "<p align=\"center\">\n",
        "  <img src=\"https://media2.giphy.com/media/l1J3CbFgn5o7DGRuE/giphy.gif\">\n",
        "</p>"
      ]
    },
    {
      "cell_type": "markdown",
      "metadata": {
        "id": "wCL1lACBzAH7",
        "cell_id": "da6d643bcf1542a8b119a15edaf0f75c",
        "deepnote_cell_type": "markdown"
      },
      "source": [
        "<br>\n",
        "<center>\n",
        "<img src=\"https://i.kym-cdn.com/photos/images/original/001/194/195/b18.png\" width=100 height=50 />\n",
        "</center>\n",
        "<br>"
      ]
    },
    {
      "cell_type": "markdown",
      "source": [
        "<a style='text-decoration:none;line-height:16px;display:flex;color:#5B5B62;padding:10px;justify-content:end;' href='https://deepnote.com?utm_source=created-in-deepnote-cell&projectId=87110296-876e-426f-b91d-aaf681223468' target=\"_blank\">\n",
        "<img alt='Created in deepnote.com' style='display:inline;max-height:16px;margin:0px;margin-right:7.5px;' src='data:image/svg+xml;base64,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' > </img>\n",
        "Created in <span style='font-weight:600;margin-left:4px;'>Deepnote</span></a>"
      ],
      "metadata": {
        "created_in_deepnote_cell": true,
        "deepnote_cell_type": "markdown",
        "id": "b_W4FPsAkDS2"
      }
    }
  ],
  "nbformat": 4,
  "nbformat_minor": 0,
  "metadata": {
    "toc": {
      "sideBar": true,
      "nav_menu": {},
      "toc_cell": false,
      "title_cell": "Tabla de Contenidos",
      "toc_position": {
        "top": "150px",
        "left": "10px",
        "width": "241.867px",
        "height": "calc(100% - 180px)"
      },
      "skip_h1_title": true,
      "title_sidebar": "Contenidos",
      "base_numbering": 1,
      "number_sections": true,
      "toc_window_display": true,
      "toc_section_display": true
    },
    "colab": {
      "provenance": []
    },
    "deepnote": {},
    "kernelspec": {
      "name": "python3",
      "language": "python",
      "display_name": "Python 3"
    },
    "varInspector": {
      "cols": {
        "lenVar": 40,
        "lenName": 16,
        "lenType": 16
      },
      "kernels_config": {
        "r": {
          "library": "var_list.r",
          "varRefreshCmd": "cat(var_dic_list()) ",
          "delete_cmd_prefix": "rm(",
          "delete_cmd_postfix": ") "
        },
        "python": {
          "library": "var_list.py",
          "varRefreshCmd": "print(var_dic_list())",
          "delete_cmd_prefix": "del ",
          "delete_cmd_postfix": ""
        }
      },
      "window_display": false,
      "types_to_exclude": [
        "module",
        "function",
        "builtin_function_or_method",
        "instance",
        "_Feature"
      ]
    },
    "language_info": {
      "name": "python",
      "version": "3.8.3",
      "mimetype": "text/x-python",
      "file_extension": ".py",
      "pygments_lexer": "ipython3",
      "codemirror_mode": {
        "name": "ipython",
        "version": 3
      },
      "nbconvert_exporter": "python"
    },
    "deepnote_notebook_id": "41ad7e529bfb484c8f7f538003203695",
    "deepnote_execution_queue": []
  }
}