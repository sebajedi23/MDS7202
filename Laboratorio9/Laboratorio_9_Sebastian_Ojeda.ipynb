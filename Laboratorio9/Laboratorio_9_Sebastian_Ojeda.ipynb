{
  "cells": [
    {
      "cell_type": "markdown",
      "metadata": {
        "cell_id": "b5c0d2440b3e4995a794ded565213150",
        "deepnote_cell_type": "markdown",
        "id": "UUzPAs4o4avH"
      },
      "source": [
        "<h1><center>Laboratorio 9: Optimización de modelos 💯</center></h1>\n",
        "\n",
        "<center><strong>MDS7202: Laboratorio de Programación Científica para Ciencia de Datos</strong></center>"
      ]
    },
    {
      "cell_type": "markdown",
      "metadata": {
        "cell_id": "bfb94b9656f145ad83e81b75d218cb70",
        "deepnote_cell_type": "markdown",
        "id": "RmDuc0cV4avb"
      },
      "source": [
        "### Cuerpo Docente:\n",
        "\n",
        "- Profesor: Ignacio Meza, Gabriel Iturra\n",
        "- Auxiliar: Sebastián Tinoco\n",
        "- Ayudante: Arturo Lazcano, Angelo Muñoz"
      ]
    },
    {
      "cell_type": "markdown",
      "metadata": {
        "cell_id": "b1b537fdd27c43909a49d3476ce64d91",
        "deepnote_cell_type": "markdown",
        "id": "hVjvTy1b4avf"
      },
      "source": [
        "### Equipo: SUPER IMPORTANTE - notebooks sin nombre no serán revisados\n",
        "\n",
        "- Nombre de alumno 1: Sebastián Ojeda G.\n"
      ]
    },
    {
      "cell_type": "markdown",
      "metadata": {
        "cell_id": "b7dbdd30ab544cb8a8afe00648a586ae",
        "deepnote_cell_type": "markdown",
        "id": "scZiJZOL4avh"
      },
      "source": [
        "## Temas a tratar\n",
        "\n",
        "- Predicción de demanda usando `xgboost`\n",
        "- Búsqueda del modelo óptimo de clasificación usando `optuna`\n",
        "- Uso de pipelines.\n",
        "\n",
        "## Reglas:\n",
        "\n",
        "- **Grupos de 2 personas**\n",
        "- Cualquier duda fuera del horario de clases al foro. Mensajes al equipo docente serán respondidos por este medio.\n",
        "- Prohibidas las copias.\n",
        "- Pueden usar cualquer material del curso que estimen conveniente.\n",
        "\n",
        "### Objetivos principales del laboratorio\n",
        "\n",
        "- Optimizar modelos usando `optuna`\n",
        "- Recurrir a técnicas de *prunning*\n",
        "- Forzar el aprendizaje de relaciones entre variables mediante *constraints*\n",
        "- Fijar un pipeline con un modelo base que luego se irá optimizando.\n",
        "\n",
        "El laboratorio deberá ser desarrollado sin el uso indiscriminado de iteradores nativos de python (aka \"for\", \"while\"). La idea es que aprendan a exprimir al máximo las funciones optimizadas que nos entrega `pandas`, las cuales vale mencionar, son bastante más eficientes que los iteradores nativos sobre DataFrames."
      ]
    },
    {
      "cell_type": "markdown",
      "metadata": {
        "cell_id": "f38c8342f5164aa992a97488dd5590bf",
        "deepnote_cell_type": "markdown",
        "id": "ioBs0g5l4avm"
      },
      "source": [
        "### **Link de repositorio de GitHub:** `https://github.com/sebajedi23/MDS7202`"
      ]
    },
    {
      "cell_type": "markdown",
      "metadata": {
        "cell_id": "f1c73babb7f74af588a4fa6ae14829e0",
        "deepnote_cell_type": "markdown",
        "id": "iSmy4JvR4avo"
      },
      "source": [
        "# Importamos librerias útiles"
      ]
    },
    {
      "cell_type": "code",
      "metadata": {
        "source_hash": null,
        "execution_start": 1699544354044,
        "execution_millis": 4957,
        "deepnote_to_be_reexecuted": false,
        "cell_id": "51afe4d2df42442b9e5402ffece60ead",
        "deepnote_cell_type": "code",
        "id": "pjs30kkd4avp",
        "colab": {
          "base_uri": "https://localhost:8080/"
        },
        "outputId": "936bf8cf-cb37-44d3-c07a-d8cbe41fd2b5"
      },
      "source": [
        "!pip install -qq xgboost optuna"
      ],
      "execution_count": 1,
      "outputs": [
        {
          "output_type": "stream",
          "name": "stdout",
          "text": [
            "\u001b[2K     \u001b[90m━━━━━━━━━━━━━━━━━━━━━━━━━━━━━━━━━━━━━━━━\u001b[0m \u001b[32m409.6/409.6 kB\u001b[0m \u001b[31m6.1 MB/s\u001b[0m eta \u001b[36m0:00:00\u001b[0m\n",
            "\u001b[2K     \u001b[90m━━━━━━━━━━━━━━━━━━━━━━━━━━━━━━━━━━━━━━━━\u001b[0m \u001b[32m226.8/226.8 kB\u001b[0m \u001b[31m15.1 MB/s\u001b[0m eta \u001b[36m0:00:00\u001b[0m\n",
            "\u001b[2K     \u001b[90m━━━━━━━━━━━━━━━━━━━━━━━━━━━━━━━━━━━━━━━━\u001b[0m \u001b[32m78.6/78.6 kB\u001b[0m \u001b[31m9.2 MB/s\u001b[0m eta \u001b[36m0:00:00\u001b[0m\n",
            "\u001b[?25h"
          ]
        }
      ]
    },
    {
      "cell_type": "code",
      "source": [
        "#Scikit-learn\n",
        "from sklearn.model_selection import train_test_split\n",
        "from sklearn.model_selection import cross_val_score\n",
        "from sklearn.metrics import mean_absolute_error, r2_score\n",
        "from sklearn.metrics import make_scorer\n",
        "from sklearn.preprocessing import FunctionTransformer, OneHotEncoder, StandardScaler, MinMaxScaler\n",
        "from sklearn.compose import ColumnTransformer\n",
        "from sklearn.pipeline import Pipeline\n",
        "from sklearn.dummy import DummyRegressor\n",
        "\n",
        "#Optuna\n",
        "import optuna\n",
        "from optuna.integration import XGBoostPruningCallback\n",
        "from optuna.visualization import plot_optimization_history, plot_parallel_coordinate, plot_param_importances\n",
        "\n",
        "#Otros\n",
        "import pandas as pd\n",
        "import numpy as np\n",
        "from datetime import datetime\n",
        "from xgboost import XGBRegressor\n",
        "import pickle"
      ],
      "metadata": {
        "id": "lqU4noKKz5u3"
      },
      "execution_count": 2,
      "outputs": []
    },
    {
      "cell_type": "code",
      "source": [
        "# Si usted está utilizando Colabolatory le puede ser útil este código para cargar los archivos.\n",
        "try:\n",
        "    from google.colab import drive\n",
        "    drive.mount(\"/content/drive\")\n",
        "    path = '/content/drive/MyDrive/Colab Notebooks/Laboratorio de programación científica para ciencia de datos/Lab 9/'\n",
        "except:\n",
        "    print('Ignorando conexión drive-colab')"
      ],
      "metadata": {
        "id": "fTDI-nDh4f3V",
        "colab": {
          "base_uri": "https://localhost:8080/"
        },
        "outputId": "ecf87e5a-df84-478b-c060-69a60aeaf5b7"
      },
      "execution_count": 3,
      "outputs": [
        {
          "output_type": "stream",
          "name": "stdout",
          "text": [
            "Mounted at /content/drive\n"
          ]
        }
      ]
    },
    {
      "cell_type": "markdown",
      "metadata": {
        "cell_id": "44d227389a734ac59189c5e0005bc68a",
        "deepnote_cell_type": "markdown",
        "id": "3n85lrUG4avw"
      },
      "source": [
        "# 1. El emprendimiento de Fiu\n",
        "\n",
        "Tras liderar de manera exitosa la implementación de un proyecto de ciencia de datos para caracterizar los datos generados en Santiago 2023, el misterioso corpóreo **Fiu** se anima y decide levantar su propio negocio de consultoría en machine learning. Tras varias e intensas negociaciones, Fiu logra encontrar su *primera chamba*: predecir la demanda (cantidad de venta) de una famosa productora de bebidas de calibre mundial. Como usted tuvo un rendimiento sobresaliente en el proyecto de caracterización de datos, Fiu lo contrata como *data scientist* de su emprendimiento.\n",
        "\n",
        "Para este laboratorio deben trabajar con los datos `sales.csv` subidos a u-cursos, el cual contiene una muestra de ventas de la empresa para diferentes productos en un determinado tiempo.\n",
        "\n",
        "Para comenzar, cargue el dataset señalado y visualice a través de un `.head` los atributos que posee el dataset.\n",
        "\n",
        "<i><p align=\"center\">Fiu siendo felicitado por su excelente desempeño en el proyecto de caracterización de datos</p></i>\n",
        "<p align=\"center\">\n",
        "  <img src=\"https://media-front.elmostrador.cl/2023/09/A_UNO_1506411_2440e.jpg\">\n",
        "</p>"
      ]
    },
    {
      "cell_type": "code",
      "metadata": {
        "source_hash": null,
        "execution_start": 1699544359006,
        "execution_millis": 92,
        "deepnote_to_be_reexecuted": false,
        "cell_id": "2f9c82d204b14515ad27ae07e0b77702",
        "deepnote_cell_type": "code",
        "id": "svRPlaxy4av3",
        "outputId": "4690b8f0-5d47-4776-cc5c-f64bed29acf8",
        "colab": {
          "base_uri": "https://localhost:8080/",
          "height": 206
        }
      },
      "source": [
        "#Creamos un DataFrame a partir de los datos\n",
        "df = pd.read_csv(path + 'sales.csv')\n",
        "df['date'] = pd.to_datetime(df['date'])\n",
        "\n",
        "df.head()"
      ],
      "execution_count": 4,
      "outputs": [
        {
          "output_type": "execute_result",
          "data": {
            "text/plain": [
              "   id       date    city       lat      long     pop    shop        brand  \\\n",
              "0   0 2012-01-31  Athens  37.97945  23.71622  672130  shop_1  kinder-cola   \n",
              "1   1 2012-01-31  Athens  37.97945  23.71622  672130  shop_1  kinder-cola   \n",
              "2   2 2012-01-31  Athens  37.97945  23.71622  672130  shop_1  kinder-cola   \n",
              "3   3 2012-01-31  Athens  37.97945  23.71622  672130  shop_1   adult-cola   \n",
              "4   4 2012-01-31  Athens  37.97945  23.71622  672130  shop_1   adult-cola   \n",
              "\n",
              "  container capacity  price  quantity  \n",
              "0     glass    500ml   0.96     13280  \n",
              "1   plastic    1.5lt   2.86      6727  \n",
              "2       can    330ml   0.87      9848  \n",
              "3     glass    500ml   1.00     20050  \n",
              "4       can    330ml   0.39     25696  "
            ],
            "text/html": [
              "\n",
              "  <div id=\"df-1335a181-4418-44eb-9b45-8bae2469a87d\" class=\"colab-df-container\">\n",
              "    <div>\n",
              "<style scoped>\n",
              "    .dataframe tbody tr th:only-of-type {\n",
              "        vertical-align: middle;\n",
              "    }\n",
              "\n",
              "    .dataframe tbody tr th {\n",
              "        vertical-align: top;\n",
              "    }\n",
              "\n",
              "    .dataframe thead th {\n",
              "        text-align: right;\n",
              "    }\n",
              "</style>\n",
              "<table border=\"1\" class=\"dataframe\">\n",
              "  <thead>\n",
              "    <tr style=\"text-align: right;\">\n",
              "      <th></th>\n",
              "      <th>id</th>\n",
              "      <th>date</th>\n",
              "      <th>city</th>\n",
              "      <th>lat</th>\n",
              "      <th>long</th>\n",
              "      <th>pop</th>\n",
              "      <th>shop</th>\n",
              "      <th>brand</th>\n",
              "      <th>container</th>\n",
              "      <th>capacity</th>\n",
              "      <th>price</th>\n",
              "      <th>quantity</th>\n",
              "    </tr>\n",
              "  </thead>\n",
              "  <tbody>\n",
              "    <tr>\n",
              "      <th>0</th>\n",
              "      <td>0</td>\n",
              "      <td>2012-01-31</td>\n",
              "      <td>Athens</td>\n",
              "      <td>37.97945</td>\n",
              "      <td>23.71622</td>\n",
              "      <td>672130</td>\n",
              "      <td>shop_1</td>\n",
              "      <td>kinder-cola</td>\n",
              "      <td>glass</td>\n",
              "      <td>500ml</td>\n",
              "      <td>0.96</td>\n",
              "      <td>13280</td>\n",
              "    </tr>\n",
              "    <tr>\n",
              "      <th>1</th>\n",
              "      <td>1</td>\n",
              "      <td>2012-01-31</td>\n",
              "      <td>Athens</td>\n",
              "      <td>37.97945</td>\n",
              "      <td>23.71622</td>\n",
              "      <td>672130</td>\n",
              "      <td>shop_1</td>\n",
              "      <td>kinder-cola</td>\n",
              "      <td>plastic</td>\n",
              "      <td>1.5lt</td>\n",
              "      <td>2.86</td>\n",
              "      <td>6727</td>\n",
              "    </tr>\n",
              "    <tr>\n",
              "      <th>2</th>\n",
              "      <td>2</td>\n",
              "      <td>2012-01-31</td>\n",
              "      <td>Athens</td>\n",
              "      <td>37.97945</td>\n",
              "      <td>23.71622</td>\n",
              "      <td>672130</td>\n",
              "      <td>shop_1</td>\n",
              "      <td>kinder-cola</td>\n",
              "      <td>can</td>\n",
              "      <td>330ml</td>\n",
              "      <td>0.87</td>\n",
              "      <td>9848</td>\n",
              "    </tr>\n",
              "    <tr>\n",
              "      <th>3</th>\n",
              "      <td>3</td>\n",
              "      <td>2012-01-31</td>\n",
              "      <td>Athens</td>\n",
              "      <td>37.97945</td>\n",
              "      <td>23.71622</td>\n",
              "      <td>672130</td>\n",
              "      <td>shop_1</td>\n",
              "      <td>adult-cola</td>\n",
              "      <td>glass</td>\n",
              "      <td>500ml</td>\n",
              "      <td>1.00</td>\n",
              "      <td>20050</td>\n",
              "    </tr>\n",
              "    <tr>\n",
              "      <th>4</th>\n",
              "      <td>4</td>\n",
              "      <td>2012-01-31</td>\n",
              "      <td>Athens</td>\n",
              "      <td>37.97945</td>\n",
              "      <td>23.71622</td>\n",
              "      <td>672130</td>\n",
              "      <td>shop_1</td>\n",
              "      <td>adult-cola</td>\n",
              "      <td>can</td>\n",
              "      <td>330ml</td>\n",
              "      <td>0.39</td>\n",
              "      <td>25696</td>\n",
              "    </tr>\n",
              "  </tbody>\n",
              "</table>\n",
              "</div>\n",
              "    <div class=\"colab-df-buttons\">\n",
              "\n",
              "  <div class=\"colab-df-container\">\n",
              "    <button class=\"colab-df-convert\" onclick=\"convertToInteractive('df-1335a181-4418-44eb-9b45-8bae2469a87d')\"\n",
              "            title=\"Convert this dataframe to an interactive table.\"\n",
              "            style=\"display:none;\">\n",
              "\n",
              "  <svg xmlns=\"http://www.w3.org/2000/svg\" height=\"24px\" viewBox=\"0 -960 960 960\">\n",
              "    <path d=\"M120-120v-720h720v720H120Zm60-500h600v-160H180v160Zm220 220h160v-160H400v160Zm0 220h160v-160H400v160ZM180-400h160v-160H180v160Zm440 0h160v-160H620v160ZM180-180h160v-160H180v160Zm440 0h160v-160H620v160Z\"/>\n",
              "  </svg>\n",
              "    </button>\n",
              "\n",
              "  <style>\n",
              "    .colab-df-container {\n",
              "      display:flex;\n",
              "      gap: 12px;\n",
              "    }\n",
              "\n",
              "    .colab-df-convert {\n",
              "      background-color: #E8F0FE;\n",
              "      border: none;\n",
              "      border-radius: 50%;\n",
              "      cursor: pointer;\n",
              "      display: none;\n",
              "      fill: #1967D2;\n",
              "      height: 32px;\n",
              "      padding: 0 0 0 0;\n",
              "      width: 32px;\n",
              "    }\n",
              "\n",
              "    .colab-df-convert:hover {\n",
              "      background-color: #E2EBFA;\n",
              "      box-shadow: 0px 1px 2px rgba(60, 64, 67, 0.3), 0px 1px 3px 1px rgba(60, 64, 67, 0.15);\n",
              "      fill: #174EA6;\n",
              "    }\n",
              "\n",
              "    .colab-df-buttons div {\n",
              "      margin-bottom: 4px;\n",
              "    }\n",
              "\n",
              "    [theme=dark] .colab-df-convert {\n",
              "      background-color: #3B4455;\n",
              "      fill: #D2E3FC;\n",
              "    }\n",
              "\n",
              "    [theme=dark] .colab-df-convert:hover {\n",
              "      background-color: #434B5C;\n",
              "      box-shadow: 0px 1px 3px 1px rgba(0, 0, 0, 0.15);\n",
              "      filter: drop-shadow(0px 1px 2px rgba(0, 0, 0, 0.3));\n",
              "      fill: #FFFFFF;\n",
              "    }\n",
              "  </style>\n",
              "\n",
              "    <script>\n",
              "      const buttonEl =\n",
              "        document.querySelector('#df-1335a181-4418-44eb-9b45-8bae2469a87d button.colab-df-convert');\n",
              "      buttonEl.style.display =\n",
              "        google.colab.kernel.accessAllowed ? 'block' : 'none';\n",
              "\n",
              "      async function convertToInteractive(key) {\n",
              "        const element = document.querySelector('#df-1335a181-4418-44eb-9b45-8bae2469a87d');\n",
              "        const dataTable =\n",
              "          await google.colab.kernel.invokeFunction('convertToInteractive',\n",
              "                                                    [key], {});\n",
              "        if (!dataTable) return;\n",
              "\n",
              "        const docLinkHtml = 'Like what you see? Visit the ' +\n",
              "          '<a target=\"_blank\" href=https://colab.research.google.com/notebooks/data_table.ipynb>data table notebook</a>'\n",
              "          + ' to learn more about interactive tables.';\n",
              "        element.innerHTML = '';\n",
              "        dataTable['output_type'] = 'display_data';\n",
              "        await google.colab.output.renderOutput(dataTable, element);\n",
              "        const docLink = document.createElement('div');\n",
              "        docLink.innerHTML = docLinkHtml;\n",
              "        element.appendChild(docLink);\n",
              "      }\n",
              "    </script>\n",
              "  </div>\n",
              "\n",
              "\n",
              "<div id=\"df-52d33dca-e341-4192-a73e-085bd3fe4e59\">\n",
              "  <button class=\"colab-df-quickchart\" onclick=\"quickchart('df-52d33dca-e341-4192-a73e-085bd3fe4e59')\"\n",
              "            title=\"Suggest charts\"\n",
              "            style=\"display:none;\">\n",
              "\n",
              "<svg xmlns=\"http://www.w3.org/2000/svg\" height=\"24px\"viewBox=\"0 0 24 24\"\n",
              "     width=\"24px\">\n",
              "    <g>\n",
              "        <path d=\"M19 3H5c-1.1 0-2 .9-2 2v14c0 1.1.9 2 2 2h14c1.1 0 2-.9 2-2V5c0-1.1-.9-2-2-2zM9 17H7v-7h2v7zm4 0h-2V7h2v10zm4 0h-2v-4h2v4z\"/>\n",
              "    </g>\n",
              "</svg>\n",
              "  </button>\n",
              "\n",
              "<style>\n",
              "  .colab-df-quickchart {\n",
              "      --bg-color: #E8F0FE;\n",
              "      --fill-color: #1967D2;\n",
              "      --hover-bg-color: #E2EBFA;\n",
              "      --hover-fill-color: #174EA6;\n",
              "      --disabled-fill-color: #AAA;\n",
              "      --disabled-bg-color: #DDD;\n",
              "  }\n",
              "\n",
              "  [theme=dark] .colab-df-quickchart {\n",
              "      --bg-color: #3B4455;\n",
              "      --fill-color: #D2E3FC;\n",
              "      --hover-bg-color: #434B5C;\n",
              "      --hover-fill-color: #FFFFFF;\n",
              "      --disabled-bg-color: #3B4455;\n",
              "      --disabled-fill-color: #666;\n",
              "  }\n",
              "\n",
              "  .colab-df-quickchart {\n",
              "    background-color: var(--bg-color);\n",
              "    border: none;\n",
              "    border-radius: 50%;\n",
              "    cursor: pointer;\n",
              "    display: none;\n",
              "    fill: var(--fill-color);\n",
              "    height: 32px;\n",
              "    padding: 0;\n",
              "    width: 32px;\n",
              "  }\n",
              "\n",
              "  .colab-df-quickchart:hover {\n",
              "    background-color: var(--hover-bg-color);\n",
              "    box-shadow: 0 1px 2px rgba(60, 64, 67, 0.3), 0 1px 3px 1px rgba(60, 64, 67, 0.15);\n",
              "    fill: var(--button-hover-fill-color);\n",
              "  }\n",
              "\n",
              "  .colab-df-quickchart-complete:disabled,\n",
              "  .colab-df-quickchart-complete:disabled:hover {\n",
              "    background-color: var(--disabled-bg-color);\n",
              "    fill: var(--disabled-fill-color);\n",
              "    box-shadow: none;\n",
              "  }\n",
              "\n",
              "  .colab-df-spinner {\n",
              "    border: 2px solid var(--fill-color);\n",
              "    border-color: transparent;\n",
              "    border-bottom-color: var(--fill-color);\n",
              "    animation:\n",
              "      spin 1s steps(1) infinite;\n",
              "  }\n",
              "\n",
              "  @keyframes spin {\n",
              "    0% {\n",
              "      border-color: transparent;\n",
              "      border-bottom-color: var(--fill-color);\n",
              "      border-left-color: var(--fill-color);\n",
              "    }\n",
              "    20% {\n",
              "      border-color: transparent;\n",
              "      border-left-color: var(--fill-color);\n",
              "      border-top-color: var(--fill-color);\n",
              "    }\n",
              "    30% {\n",
              "      border-color: transparent;\n",
              "      border-left-color: var(--fill-color);\n",
              "      border-top-color: var(--fill-color);\n",
              "      border-right-color: var(--fill-color);\n",
              "    }\n",
              "    40% {\n",
              "      border-color: transparent;\n",
              "      border-right-color: var(--fill-color);\n",
              "      border-top-color: var(--fill-color);\n",
              "    }\n",
              "    60% {\n",
              "      border-color: transparent;\n",
              "      border-right-color: var(--fill-color);\n",
              "    }\n",
              "    80% {\n",
              "      border-color: transparent;\n",
              "      border-right-color: var(--fill-color);\n",
              "      border-bottom-color: var(--fill-color);\n",
              "    }\n",
              "    90% {\n",
              "      border-color: transparent;\n",
              "      border-bottom-color: var(--fill-color);\n",
              "    }\n",
              "  }\n",
              "</style>\n",
              "\n",
              "  <script>\n",
              "    async function quickchart(key) {\n",
              "      const quickchartButtonEl =\n",
              "        document.querySelector('#' + key + ' button');\n",
              "      quickchartButtonEl.disabled = true;  // To prevent multiple clicks.\n",
              "      quickchartButtonEl.classList.add('colab-df-spinner');\n",
              "      try {\n",
              "        const charts = await google.colab.kernel.invokeFunction(\n",
              "            'suggestCharts', [key], {});\n",
              "      } catch (error) {\n",
              "        console.error('Error during call to suggestCharts:', error);\n",
              "      }\n",
              "      quickchartButtonEl.classList.remove('colab-df-spinner');\n",
              "      quickchartButtonEl.classList.add('colab-df-quickchart-complete');\n",
              "    }\n",
              "    (() => {\n",
              "      let quickchartButtonEl =\n",
              "        document.querySelector('#df-52d33dca-e341-4192-a73e-085bd3fe4e59 button');\n",
              "      quickchartButtonEl.style.display =\n",
              "        google.colab.kernel.accessAllowed ? 'block' : 'none';\n",
              "    })();\n",
              "  </script>\n",
              "</div>\n",
              "    </div>\n",
              "  </div>\n"
            ]
          },
          "metadata": {},
          "execution_count": 4
        }
      ]
    },
    {
      "cell_type": "markdown",
      "metadata": {
        "cell_id": "b50db6f2cb804932ae3f9e5748a6ea61",
        "deepnote_cell_type": "markdown",
        "id": "vJfx3kzZ4av4"
      },
      "source": [
        "## 1.1 Generando un Baseline (0.5 puntos)\n",
        "\n",
        "<p align=\"center\">\n",
        "  <img src=\"https://media.tenor.com/O-lan6TkadUAAAAC/what-i-wnna-do-after-a-baseline.gif\">\n",
        "</p>\n",
        "\n",
        "Antes de entrenar un algoritmo, usted recuerda los apuntes de su magíster en ciencia de datos y recuerda que debe seguir una serie de *buenas prácticas* para entrenar correcta y debidamente su modelo. Después de un par de vueltas, llega a las siguientes tareas:\n",
        "\n",
        "1. Separe los datos en conjuntos de train (70%), validation (20%) y test (10%). Fije una semilla para controlar la aleatoriedad.\n",
        "2. Implemente un `FunctionTransformer` para extraer el día, mes y año de la variable `date`. Guarde estas variables en el formato categorical de pandas.\n",
        "3. Implemente un `ColumnTransformer` para procesar de manera adecuada los datos numéricos y categóricos. Use `OneHotEncoder` para las variables categóricas.\n",
        "4. Guarde los pasos anteriores en un `Pipeline`, dejando como último paso el regresor `DummyRegressor` para generar predicciones en base a promedios.\n",
        "5. Entrene el pipeline anterior y reporte la métrica `mean_absolute_error` sobre los datos de validación. ¿Cómo se interpreta esta métrica para el contexto del negocio?\n",
        "6. Finalmente, vuelva a entrenar el `Pipeline` pero esta vez usando `XGBRegressor` como modelo **utilizando los parámetros por default**. ¿Cómo cambia el MAE al implementar este algoritmo? ¿Es mejor o peor que el `DummyRegressor`?\n",
        "7. Guarde ambos modelos en un archivo .pkl (uno cada uno)"
      ]
    },
    {
      "cell_type": "code",
      "metadata": {
        "cell_id": "1482c992d9494e5582b23dbd3431dbfd",
        "deepnote_cell_type": "code",
        "id": "0s_xWaIt4av5"
      },
      "source": [
        "#1. Separamos los datos en conjuntos de train (70%), validation (20%) y test (10%)\n",
        "#Dividimos en train y test con proporción 70/30\n",
        "train_data, test_data = train_test_split(df, test_size=0.3, random_state=42)\n",
        "\n",
        "#Dividimos test en test y validation, con test 1/3 (10% del total)\n",
        "test_data, val_data = train_test_split(test_data, test_size=1/3, random_state=42)"
      ],
      "execution_count": 5,
      "outputs": []
    },
    {
      "cell_type": "code",
      "source": [
        "#2. Implementamos un FunctionTransformer para extraer el día, mes y año de la variable date\n",
        "def extract_date_info(df):\n",
        "    df['day'] = df['date'].dt.day.astype('category')\n",
        "    df['month'] = df['date'].dt.month.astype('category')\n",
        "    df['year'] = df['date'].dt.year.astype('category')\n",
        "    return df.drop('date', axis=1)\n",
        "\n",
        "#Creamos el FunctionTransformer\n",
        "date_transformer = FunctionTransformer(extract_date_info, validate=False)"
      ],
      "metadata": {
        "id": "BSHFdg0KyELX"
      },
      "execution_count": 6,
      "outputs": []
    },
    {
      "cell_type": "code",
      "source": [
        "#3. Implementamos un ColumnTransformer para procesar los datos numéricos y categóricos\n",
        "#Creamos una lista con las columnas numéricas\n",
        "numeric_features = ['lat', 'long', 'pop', 'price']\n",
        "\n",
        "#Creamos una lista con las columnas categóricas\n",
        "categorical_features = ['city', 'shop', 'brand', 'container', 'capacity', 'day', 'month', 'year']\n",
        "\n",
        "#Definimos el pre-procesador\n",
        "preprocessor = ColumnTransformer(\n",
        "    transformers=[\n",
        "        ('num', MinMaxScaler(), numeric_features),\n",
        "        ('cat', OneHotEncoder(handle_unknown='ignore'), categorical_features)\n",
        "    ])"
      ],
      "metadata": {
        "id": "ZmrJzXhvyEFI"
      },
      "execution_count": 7,
      "outputs": []
    },
    {
      "cell_type": "code",
      "source": [
        "#4. Guardamos los pasos anteriores en un Pipeline con DummyRegressor\n",
        "pipeline_dummy = Pipeline([\n",
        "    ('date_transformer', date_transformer),\n",
        "    ('preprocessor', preprocessor),\n",
        "    ('regressor', DummyRegressor())\n",
        "])"
      ],
      "metadata": {
        "id": "R74x6IYfyD-4"
      },
      "execution_count": 8,
      "outputs": []
    },
    {
      "cell_type": "code",
      "source": [
        "#5. Entrenamos el pipeline y reportar la métrica mean_absolute_error sobre los datos de validación\n",
        "#Dividimos los datos en X e Y de acuerdo a la columna \"quantity\"\n",
        "X_train = train_data.drop('quantity', axis=1)\n",
        "y_train = train_data['quantity']\n",
        "X_val = val_data.drop('quantity', axis=1)\n",
        "y_val = val_data['quantity']\n",
        "X_test = test_data.drop('quantity', axis=1)\n",
        "y_test = test_data['quantity']\n",
        "\n",
        "#Entrenamos el pipeline con los datos de train\n",
        "pipeline_dummy.fit(X_train, y_train)\n",
        "\n",
        "#Predecimos sobre los datos de validation\n",
        "val_predictions_dummy = pipeline_dummy.predict(X_val)\n",
        "\n",
        "#Obtenemos el valor del MAE\n",
        "mae_dummy = mean_absolute_error(y_val, val_predictions_dummy)\n",
        "print(f'MAE con Dummy Regressor: {mae_dummy}')"
      ],
      "metadata": {
        "colab": {
          "base_uri": "https://localhost:8080/"
        },
        "id": "oGXHfkMFyD4s",
        "outputId": "7aeb0514-1127-4278-a58e-5df8b3f7fd7e"
      },
      "execution_count": 9,
      "outputs": [
        {
          "output_type": "stream",
          "name": "stdout",
          "text": [
            "MAE con Dummy Regressor: 13413.17673026018\n"
          ]
        }
      ]
    },
    {
      "cell_type": "markdown",
      "source": [
        "¿Cómo se interpreta esta métrica para el contexto del negocio?\n",
        "\n",
        "**Respuesta:**\n",
        "````\n",
        "En el contexto del negocio, el MAE o (Mean Squared Error) representa el error promedio absoluto entre las predicciones y los\n",
        "valores reales, es decir, la cantidad promedio de unidades vendidas por la cual las predicciones difieren de las ventas reales.\n",
        "Cuanto menor sea el MAE, mejor será el rendimiento del modelo, esto ya que las predicciones diferirán menos de los valores reales.\n",
        "\n",
        "````\n"
      ],
      "metadata": {
        "id": "q3fYg9CE1YD-"
      }
    },
    {
      "cell_type": "code",
      "source": [
        "#6. Entrenamos el Pipeline con XGBRegressor y revisaremos si existen cambios en el MAE\n",
        "#Creamos el pipeline con transformador, pre-procesador y regresor\n",
        "pipeline_xgb = Pipeline([\n",
        "    ('date_transformer', date_transformer),\n",
        "    ('preprocessor', preprocessor),\n",
        "    ('regressor', XGBRegressor())\n",
        "])\n",
        "\n",
        "#Entrenamos el pipeline con los datos de train\n",
        "pipeline_xgb.fit(X_train, y_train)\n",
        "\n",
        "#Predecimos sobre los datos de validation\n",
        "val_predictions_xgb = pipeline_xgb.predict(X_val)\n",
        "\n",
        "#Obtenemos el valor del MAE\n",
        "mae_xgb = mean_absolute_error(y_val, val_predictions_xgb)\n",
        "print(f'MAE con XGBoost: {mae_xgb}')"
      ],
      "metadata": {
        "colab": {
          "base_uri": "https://localhost:8080/"
        },
        "id": "GmgunEBxyDo2",
        "outputId": "c177c3d2-6d68-41c9-c93b-374b23d2e154"
      },
      "execution_count": 10,
      "outputs": [
        {
          "output_type": "stream",
          "name": "stdout",
          "text": [
            "MAE con XGBoost: 2427.1128332224994\n"
          ]
        }
      ]
    },
    {
      "cell_type": "markdown",
      "source": [
        "¿Cómo cambia el MAE al implementar este algoritmo? ¿Es mejor o peor que el \"DummyRegressor\"?\n",
        "\n",
        "**Respuesta:**\n",
        "````\n",
        "Se observa que el MAE con XGBoost es significativamente menor que el MAE con Dummy Regressor, llegando a un valor más de un 80%\n",
        "menor. Esto quiere decir que el modelo XGBoost está haciendo predicciones más precisas en comparación con el promedio de las\n",
        "respuestas de entrenamiento.\n",
        "\n",
        "Lo anterior quiere decir que el desempeño de XGBoost es mucho mejor que el del DummyRegressor, teniendo en promedio diferencias de\n",
        "demanda inferiores a 2500 unidades, respecto a las más de 13000 del DummyRegressor. Esto quiere decir que los valores predichos se\n",
        "acercan más a los reales, teniendo por ende una respuesta más acorde a lo esperado\n",
        "\n",
        "````"
      ],
      "metadata": {
        "id": "OQ8oO1vE2_PU"
      }
    },
    {
      "cell_type": "code",
      "source": [
        "#7. Guardamos ambos modelos en un archivo .pkl\n",
        "#Guardamos el regresor dummy\n",
        "with open('regressor_dummy.pkl', 'wb') as f:\n",
        "    pickle.dump(pipeline_dummy, f)\n",
        "\n",
        "#Guardamos el regresor XGBoost\n",
        "with open('regressor_xgb.pkl', 'wb') as f:\n",
        "    pickle.dump(pipeline_xgb, f)"
      ],
      "metadata": {
        "id": "AcOhHBG_yDjT"
      },
      "execution_count": 11,
      "outputs": []
    },
    {
      "cell_type": "markdown",
      "metadata": {
        "cell_id": "7e17e46063774ec28226fe300d42ffe0",
        "deepnote_cell_type": "markdown",
        "id": "heZsJyYr4av5"
      },
      "source": [
        "## 1.2 Forzando relaciones entre parámetros con XGBoost (1.0 puntos)\n",
        "\n",
        "<p align=\"center\">\n",
        "  <img src=\"https://64.media.tumblr.com/14cc45f9610a6ee341a45fd0d68f4dde/20d11b36022bca7b-bf/s640x960/67ab1db12ff73a530f649ac455c000945d99c0d6.gif\">\n",
        "</p>\n",
        "\n",
        "Un colega aficionado a la economía le *sopla* que la demanda guarda una relación inversa con el precio del producto. Motivado para impresionar al querido corpóreo, se propone hacer uso de esta información para mejorar su modelo.\n",
        "\n",
        "Vuelva a entrenar el `Pipeline`, pero esta vez forzando una relación monótona negativa entre el precio y la cantidad. Luego, vuelva a reportar el `MAE` sobre el conjunto de validación. ¿Cómo cambia el error al incluir esta relación? ¿Tenía razón su amigo?\n",
        "\n",
        "Nuevamente, guarde su modelo en un archivo .pkl\n",
        "\n",
        "Nota: Para realizar esta parte, debe apoyarse en la siguiente <a href = https://xgboost.readthedocs.io/en/stable/tutorials/monotonic.html>documentación</a>.\n",
        "\n",
        "Hint: Para implementar el constraint, se le sugiere hacerlo especificando el nombre de la variable. De ser así, probablemente le sea útil **mantener el formato de pandas** antes del step de entrenamiento."
      ]
    },
    {
      "cell_type": "code",
      "metadata": {
        "cell_id": "f469f3b572be434191d2d5c3f11b20d2",
        "deepnote_cell_type": "code",
        "id": "22_Jgeev4awc",
        "colab": {
          "base_uri": "https://localhost:8080/"
        },
        "outputId": "fb422dd5-271f-4209-d1c5-892abc409b9b"
      },
      "source": [
        "#Re-imprimimos los MAE sin implementar la relación monótona negativa\n",
        "print(f'MAE con Dummy Regressor: {mae_dummy}')\n",
        "print(f'MAE con XGBoost: {mae_xgb}')\n",
        "\n",
        "#Definimos la relación monótona negativa entre demanda y precio\n",
        "monotone_constraints = (0, 0, 0, -1)\n",
        "\n",
        "#Creamos el pipeline con transformador, pre-procesador y regresor\n",
        "pipeline_xgb_constraints = Pipeline([\n",
        "    ('date_transformer', date_transformer),\n",
        "    ('preprocessor', preprocessor),\n",
        "    ('regressor', XGBRegressor(monotone_constraints=monotone_constraints))\n",
        "])\n",
        "\n",
        "#Entrenamos el pipeline con los datos de train\n",
        "pipeline_xgb_constraints.fit(X_train, y_train)\n",
        "\n",
        "#Predecimos sobre los datos de validation\n",
        "val_predictions_xgb_with_constraints = pipeline_xgb_constraints.predict(X_val)\n",
        "\n",
        "#Obtenemos el valor del MAE\n",
        "mae_xgb_with_constraints = mean_absolute_error(y_val, val_predictions_xgb_with_constraints)\n",
        "print(f'MAE con XGBoost y relación monótona negativa: {mae_xgb_with_constraints}')\n",
        "\n",
        "#Guardamos el regresor XGBoost con relación monótona negativa\n",
        "with open('regressor_xgb_constraints.pkl', 'wb') as f:\n",
        "    pickle.dump(pipeline_xgb_constraints, f)"
      ],
      "execution_count": 12,
      "outputs": [
        {
          "output_type": "stream",
          "name": "stdout",
          "text": [
            "MAE con Dummy Regressor: 13413.17673026018\n",
            "MAE con XGBoost: 2427.1128332224994\n",
            "MAE con XGBoost y relación monótona negativa: 2447.6054746407926\n"
          ]
        }
      ]
    },
    {
      "cell_type": "markdown",
      "source": [
        "¿Cómo cambia el error al incluir esta relación? ¿Tenía razón su amigo?\n",
        "\n",
        "**Respuesta:**\n",
        "```\n",
        "---\n",
        "NOTA: Estos resultados cambiaron al ejecutarse luego de que se subiera la nueva versión de los datos. La versión anterior entregó\n",
        "los valores de 4729.59 sin aplicar la relación monótona negativa y de 3968.60 al aplicarla, lo que muestra que esto sí puede mejorar\n",
        "los resultados\n",
        "---\n",
        "\n",
        "Con los resultados obtenidos podemos observar que el MAE aumenta de 2427.11 a 2447.61 al aplicar la relación monótona negativa entre\n",
        "precio y demanda. Lo anterior indica que el modelo XGBoost ajustado con la restricción monótona negativa tiene un rendimiento\n",
        "levemente peor en términos de predicción de la demanda en comparación al modelo XGBoost sin restricciones aunque sigue siendo\n",
        "muy superior al modelo Dummy.\n",
        "\n",
        "No obstante lo anterior, teniendo en cuenta los resultados actuales y los previamente mencionados en la nota, se puede decir que esta\n",
        "relación podría ser correcta, ya que en uno de los casos (actual) no varía significativamente los resultados, pudiendo considerarse\n",
        "dentro del margen de error, mientras que en el otro (previo), los resultados mejoraron casi un 20%, lo que es más significativo que\n",
        "el cambio actual.\n",
        "\n",
        "De acuerdo a esto, los resultados respaldan la afirmación de nuestro colega aficionado a la economía, quien tenía razón al\n",
        "sugerir que la demanda guarda una relación inversa con el precio del producto, los resultados respaldan esa afirmación. La\n",
        "disminución del MAE al introducir la restricción monótona negativa implica que este modelo está prediciendo las demandas de mejor\n",
        "manera gracias al conocimiento de la relación entre esta y el precio.\n",
        "```"
      ],
      "metadata": {
        "id": "VDV_dnIgVYuA"
      }
    },
    {
      "cell_type": "markdown",
      "metadata": {
        "cell_id": "e59ef80ed20b4de8921f24da74e87374",
        "deepnote_cell_type": "markdown",
        "id": "l2kEfNTq4awd"
      },
      "source": [
        "## 1.3 Optimización de Hiperparámetros con Optuna (2.0 puntos)\n",
        "\n",
        "<p align=\"center\">\n",
        "  <img src=\"https://media.tenor.com/fmNdyGN4z5kAAAAi/hacking-lucy.gif\">\n",
        "</p>\n",
        "\n",
        "Luego de presentarle sus resultados, Fiu le pregunta si es posible mejorar *aun más* su modelo. En particular, le comenta de la optimización de hiperparámetros con metodologías bayesianas a través del paquete `optuna`. Como usted es un aficionado al entrenamiento de modelos de ML, se propone implementar la descabellada idea de su jefe.\n",
        "\n",
        "A partir de la mejor configuración obtenida en la sección anterior, utilice `optuna` para optimizar sus hiperparámetros. En particular, se le pide:\n",
        "\n",
        "- Fijar una semilla en las instancias necesarias para garantizar la reproducibilidad de resultados\n",
        "- Utilice `TPESampler` como método de muestreo\n",
        "- De `XGBRegressor`, optimice los siguientes hiperparámetros:\n",
        "    - `learning_rate` buscando valores flotantes en el rango (0.001, 0.1)\n",
        "    - `n_estimators` buscando valores enteros en el rango (50, 1000)\n",
        "    - `max_depth` buscando valores enteros en el rango (3, 10)\n",
        "    - `max_leaves` buscando valores enteros en el rango (0, 100)\n",
        "    - `min_child_weight` buscando valores enteros en el rango (1, 5)\n",
        "    - `reg_alpha` buscando valores flotantes en el rango (0, 1)\n",
        "    - `reg_lambda` buscando valores flotantes en el rango (0, 1)\n",
        "- De `OneHotEncoder`, optimice el hiperparámetro `min_frequency` buscando el mejor valor flotante en el rango (0.0, 1.0)\n",
        "- Explique cada hiperparámetro y su rol en el modelo. ¿Hacen sentido los rangos de optimización indicados?\n",
        "- Fije el tiempo de entrenamiento a 5 minutos\n",
        "- Reportar el número de *trials*, el `MAE` y los mejores hiperparámetros encontrados. ¿Cómo cambian sus resultados con respecto a la sección anterior? ¿A qué se puede deber esto?\n",
        "- Guardar su modelo en un archivo .pkl"
      ]
    },
    {
      "cell_type": "markdown",
      "source": [
        "---\n",
        "Explique cada hiperparámetro y su rol en el modelo. ¿Hacen sentido los rangos de optimización indicados?\n",
        "\n",
        "**Respuesta:**\n",
        "```\n",
        "Los hiperparámetros y sus roles son los siguientes:\n",
        "learning_rate: Tasa de aprendizaje del modelo.\n",
        "n_estimators: Número de árboles (estimadores) en el ensamble.\n",
        "max_depth: Profundidad máxima de cada árbol.\n",
        "max_leaves: Número máximo de hojas por árbol.\n",
        "min_child_weight: Mínimo peso requerido para crear un nuevo nodo en el árbol.\n",
        "reg_alpha: Término de regularización L1.\n",
        "reg_lambda: Término de regularización L2.\n",
        "```"
      ],
      "metadata": {
        "id": "5vFAV4UZvA7U"
      }
    },
    {
      "cell_type": "code",
      "metadata": {
        "cell_id": "de5914621cc64cb0b1bacb9ff565a97e",
        "deepnote_cell_type": "code",
        "id": "0CTWHbUv4awg",
        "colab": {
          "base_uri": "https://localhost:8080/"
        },
        "outputId": "4c01d81f-6111-410a-cbdd-d5482479c830"
      },
      "source": [
        "#Aplicamos el pre-procesador a los datos\n",
        "X_train_encoded = preprocessor.fit_transform(X_train)\n",
        "X_val_encoded = preprocessor.transform(X_val)\n",
        "\n",
        "#Definimos la función objetivo con los rangos sugeridos para los hiperparámetros\n",
        "def objective(trial):\n",
        "    params = {\n",
        "        'learning_rate': trial.suggest_float('learning_rate', 0.001, 0.1),\n",
        "        'n_estimators': trial.suggest_int('n_estimators', 50, 1000),\n",
        "        'max_depth': trial.suggest_int('max_depth', 3, 10),\n",
        "        'max_leaves': trial.suggest_int('max_leaves', 0, 100),\n",
        "        'min_child_weight': trial.suggest_int('min_child_weight', 1, 5),\n",
        "        'reg_alpha': trial.suggest_float('reg_alpha', 0, 1),\n",
        "        'reg_lambda': trial.suggest_float('reg_lambda', 0, 1)\n",
        "    }\n",
        "\n",
        "    model = XGBRegressor(**params)\n",
        "    cv_scores = cross_val_score(model, X_train_encoded, y_train, cv=5, scoring=make_scorer(mean_absolute_error))\n",
        "    return cv_scores.mean()\n",
        "\n",
        "#Configuramos el optimizador Optuna con 100 trials y 5 minutos de timeout\n",
        "sampler = optuna.samplers.TPESampler(seed=42)\n",
        "study = optuna.create_study(sampler=sampler, direction='minimize')\n",
        "study.optimize(objective, n_trials=100, timeout=300)\n",
        "\n",
        "#Obtenemos los mejores hiperparámetros y su MAE asociado\n",
        "best_params = study.best_params\n",
        "best_mae = study.best_value"
      ],
      "execution_count": 13,
      "outputs": [
        {
          "output_type": "stream",
          "name": "stderr",
          "text": [
            "[I 2023-11-16 20:45:25,303] A new study created in memory with name: no-name-290579b9-1cf5-4a8c-a6b7-7f29af80b87a\n",
            "[I 2023-11-16 20:45:33,579] Trial 0 finished with value: 2445.176044126745 and parameters: {'learning_rate': 0.03807947176588889, 'n_estimators': 954, 'max_depth': 8, 'max_leaves': 60, 'min_child_weight': 1, 'reg_alpha': 0.15599452033620265, 'reg_lambda': 0.05808361216819946}. Best is trial 0 with value: 2445.176044126745.\n",
            "[I 2023-11-16 20:45:34,472] Trial 1 finished with value: 5141.221112625429 and parameters: {'learning_rate': 0.08675143843171859, 'n_estimators': 621, 'max_depth': 8, 'max_leaves': 2, 'min_child_weight': 5, 'reg_alpha': 0.8324426408004217, 'reg_lambda': 0.21233911067827616}. Best is trial 0 with value: 2445.176044126745.\n",
            "[I 2023-11-16 20:45:40,513] Trial 2 finished with value: 4275.472023564327 and parameters: {'learning_rate': 0.01900067175350296, 'n_estimators': 224, 'max_depth': 5, 'max_leaves': 53, 'min_child_weight': 3, 'reg_alpha': 0.2912291401980419, 'reg_lambda': 0.6118528947223795}. Best is trial 0 with value: 2445.176044126745.\n",
            "[I 2023-11-16 20:45:42,535] Trial 3 finished with value: 4016.6497349247848 and parameters: {'learning_rate': 0.01480989220455214, 'n_estimators': 327, 'max_depth': 5, 'max_leaves': 46, 'min_child_weight': 4, 'reg_alpha': 0.19967378215835974, 'reg_lambda': 0.5142344384136116}. Best is trial 0 with value: 2445.176044126745.\n",
            "[I 2023-11-16 20:45:43,046] Trial 4 finished with value: 4284.021966527422 and parameters: {'learning_rate': 0.05964904231734221, 'n_estimators': 94, 'max_depth': 7, 'max_leaves': 17, 'min_child_weight': 1, 'reg_alpha': 0.9488855372533332, 'reg_lambda': 0.9656320330745594}. Best is trial 0 with value: 2445.176044126745.\n",
            "[I 2023-11-16 20:45:44,001] Trial 5 finished with value: 3264.5573516965615 and parameters: {'learning_rate': 0.08103133746352965, 'n_estimators': 339, 'max_depth': 3, 'max_leaves': 69, 'min_child_weight': 3, 'reg_alpha': 0.12203823484477883, 'reg_lambda': 0.4951769101112702}. Best is trial 0 with value: 2445.176044126745.\n",
            "[I 2023-11-16 20:45:48,586] Trial 6 finished with value: 4394.0236316101955 and parameters: {'learning_rate': 0.004404463590406622, 'n_estimators': 914, 'max_depth': 5, 'max_leaves': 66, 'min_child_weight': 2, 'reg_alpha': 0.5200680211778108, 'reg_lambda': 0.5467102793432796}. Best is trial 0 with value: 2445.176044126745.\n",
            "[I 2023-11-16 20:46:05,230] Trial 7 finished with value: 2473.0431582769816 and parameters: {'learning_rate': 0.01930059109702718, 'n_estimators': 972, 'max_depth': 9, 'max_leaves': 94, 'min_child_weight': 5, 'reg_alpha': 0.5978999788110851, 'reg_lambda': 0.9218742350231168}. Best is trial 0 with value: 2445.176044126745.\n",
            "[I 2023-11-16 20:46:05,910] Trial 8 finished with value: 7460.28459493705 and parameters: {'learning_rate': 0.00976075770314003, 'n_estimators': 236, 'max_depth': 3, 'max_leaves': 32, 'min_child_weight': 2, 'reg_alpha': 0.2713490317738959, 'reg_lambda': 0.8287375091519293}. Best is trial 0 with value: 2445.176044126745.\n",
            "[I 2023-11-16 20:46:12,254] Trial 9 finished with value: 3512.700552681688 and parameters: {'learning_rate': 0.036318579342665344, 'n_estimators': 317, 'max_depth': 7, 'max_leaves': 14, 'min_child_weight': 5, 'reg_alpha': 0.07455064367977082, 'reg_lambda': 0.9868869366005173}. Best is trial 0 with value: 2445.176044126745.\n",
            "[I 2023-11-16 20:46:19,863] Trial 10 finished with value: 2443.0603687826906 and parameters: {'learning_rate': 0.048828838593227605, 'n_estimators': 721, 'max_depth': 10, 'max_leaves': 94, 'min_child_weight': 1, 'reg_alpha': 0.03872519996118284, 'reg_lambda': 0.015144237102756836}. Best is trial 10 with value: 2443.0603687826906.\n",
            "[I 2023-11-16 20:46:33,302] Trial 11 finished with value: 2457.025793380396 and parameters: {'learning_rate': 0.046581605114081444, 'n_estimators': 740, 'max_depth': 10, 'max_leaves': 100, 'min_child_weight': 1, 'reg_alpha': 0.0247046244061368, 'reg_lambda': 0.028563617242956786}. Best is trial 10 with value: 2443.0603687826906.\n",
            "[I 2023-11-16 20:46:46,594] Trial 12 finished with value: 2425.324394302771 and parameters: {'learning_rate': 0.06018397842549149, 'n_estimators': 792, 'max_depth': 10, 'max_leaves': 79, 'min_child_weight': 1, 'reg_alpha': 0.0039111241900537524, 'reg_lambda': 0.06107095318539024}. Best is trial 12 with value: 2425.324394302771.\n",
            "[I 2023-11-16 20:47:08,273] Trial 13 finished with value: 2391.5379932390742 and parameters: {'learning_rate': 0.06311345206967214, 'n_estimators': 765, 'max_depth': 10, 'max_leaves': 81, 'min_child_weight': 2, 'reg_alpha': 0.0030996496997229466, 'reg_lambda': 0.22713901165087846}. Best is trial 13 with value: 2391.5379932390742.\n",
            "[I 2023-11-16 20:47:47,738] Trial 14 finished with value: 2371.344750123264 and parameters: {'learning_rate': 0.06545056451398787, 'n_estimators': 786, 'max_depth': 9, 'max_leaves': 79, 'min_child_weight': 2, 'reg_alpha': 0.35316552875821183, 'reg_lambda': 0.2428752219468788}. Best is trial 14 with value: 2371.344750123264.\n",
            "[I 2023-11-16 20:48:07,732] Trial 15 finished with value: 2420.988180759555 and parameters: {'learning_rate': 0.07262148409871841, 'n_estimators': 569, 'max_depth': 9, 'max_leaves': 81, 'min_child_weight': 2, 'reg_alpha': 0.3673788872200157, 'reg_lambda': 0.27122520770535086}. Best is trial 14 with value: 2371.344750123264.\n",
            "[I 2023-11-16 20:48:14,608] Trial 16 finished with value: 2440.242843783745 and parameters: {'learning_rate': 0.0932120443112595, 'n_estimators': 482, 'max_depth': 9, 'max_leaves': 79, 'min_child_weight': 2, 'reg_alpha': 0.3949750467032665, 'reg_lambda': 0.27470740780480485}. Best is trial 14 with value: 2371.344750123264.\n",
            "[I 2023-11-16 20:48:31,365] Trial 17 finished with value: 2347.577857052384 and parameters: {'learning_rate': 0.0722127493672422, 'n_estimators': 850, 'max_depth': 8, 'max_leaves': 44, 'min_child_weight': 3, 'reg_alpha': 0.20087717989132914, 'reg_lambda': 0.3856572131980788}. Best is trial 17 with value: 2347.577857052384.\n",
            "[I 2023-11-16 20:48:45,145] Trial 18 finished with value: 2318.2212213328776 and parameters: {'learning_rate': 0.0975315943015648, 'n_estimators': 845, 'max_depth': 8, 'max_leaves': 40, 'min_child_weight': 4, 'reg_alpha': 0.20768660185159604, 'reg_lambda': 0.40118222237795076}. Best is trial 18 with value: 2318.2212213328776.\n",
            "[I 2023-11-16 20:48:57,423] Trial 19 finished with value: 2330.9205810562007 and parameters: {'learning_rate': 0.0989210017295771, 'n_estimators': 870, 'max_depth': 6, 'max_leaves': 38, 'min_child_weight': 4, 'reg_alpha': 0.1928628855583581, 'reg_lambda': 0.4002670508711854}. Best is trial 18 with value: 2318.2212213328776.\n",
            "[I 2023-11-16 20:49:08,413] Trial 20 finished with value: 2375.1577327069526 and parameters: {'learning_rate': 0.09993452365864533, 'n_estimators': 650, 'max_depth': 6, 'max_leaves': 33, 'min_child_weight': 4, 'reg_alpha': 0.14579443105287454, 'reg_lambda': 0.43018240114294576}. Best is trial 18 with value: 2318.2212213328776.\n",
            "[I 2023-11-16 20:49:15,982] Trial 21 finished with value: 2309.600865773971 and parameters: {'learning_rate': 0.098905217159573, 'n_estimators': 897, 'max_depth': 6, 'max_leaves': 40, 'min_child_weight': 4, 'reg_alpha': 0.19716430160131668, 'reg_lambda': 0.40096623765224926}. Best is trial 21 with value: 2309.600865773971.\n",
            "[I 2023-11-16 20:49:26,224] Trial 22 finished with value: 2317.395817923595 and parameters: {'learning_rate': 0.09945933516261551, 'n_estimators': 875, 'max_depth': 6, 'max_leaves': 31, 'min_child_weight': 4, 'reg_alpha': 0.242117606444252, 'reg_lambda': 0.3642327351981768}. Best is trial 21 with value: 2309.600865773971.\n",
            "[I 2023-11-16 20:49:29,720] Trial 23 finished with value: 2459.0603781224104 and parameters: {'learning_rate': 0.08811896452592392, 'n_estimators': 997, 'max_depth': 4, 'max_leaves': 25, 'min_child_weight': 4, 'reg_alpha': 0.28491651165026083, 'reg_lambda': 0.3415448238672768}. Best is trial 21 with value: 2309.600865773971.\n",
            "[I 2023-11-16 20:49:33,904] Trial 24 finished with value: 2344.4212697774237 and parameters: {'learning_rate': 0.09274097232867985, 'n_estimators': 876, 'max_depth': 6, 'max_leaves': 25, 'min_child_weight': 4, 'reg_alpha': 0.4299745589163553, 'reg_lambda': 0.6863882389551903}. Best is trial 21 with value: 2309.600865773971.\n",
            "[I 2023-11-16 20:49:42,698] Trial 25 finished with value: 2385.23460065858 and parameters: {'learning_rate': 0.08070919035111287, 'n_estimators': 485, 'max_depth': 7, 'max_leaves': 54, 'min_child_weight': 4, 'reg_alpha': 0.2534556110554765, 'reg_lambda': 0.4575295759891679}. Best is trial 21 with value: 2309.600865773971.\n",
            "[I 2023-11-16 20:49:45,083] Trial 26 finished with value: 2501.2464111034183 and parameters: {'learning_rate': 0.09934925371081064, 'n_estimators': 685, 'max_depth': 4, 'max_leaves': 35, 'min_child_weight': 5, 'reg_alpha': 0.11196127773788545, 'reg_lambda': 0.34745378298918844}. Best is trial 21 with value: 2309.600865773971.\n",
            "[I 2023-11-16 20:49:50,245] Trial 27 finished with value: 2349.1014374966376 and parameters: {'learning_rate': 0.08415364084592991, 'n_estimators': 814, 'max_depth': 7, 'max_leaves': 42, 'min_child_weight': 3, 'reg_alpha': 0.10502054744400835, 'reg_lambda': 0.596614547109316}. Best is trial 21 with value: 2309.600865773971.\n",
            "[I 2023-11-16 20:49:59,635] Trial 28 finished with value: 2362.026993148006 and parameters: {'learning_rate': 0.09323815591930462, 'n_estimators': 917, 'max_depth': 6, 'max_leaves': 24, 'min_child_weight': 4, 'reg_alpha': 0.22387664409211294, 'reg_lambda': 0.42207430047122335}. Best is trial 21 with value: 2309.600865773971.\n",
            "[I 2023-11-16 20:50:02,712] Trial 29 finished with value: 2595.659402873849 and parameters: {'learning_rate': 0.07614118316949697, 'n_estimators': 937, 'max_depth': 8, 'max_leaves': 11, 'min_child_weight': 3, 'reg_alpha': 0.151791613636274, 'reg_lambda': 0.16464991228954085}. Best is trial 21 with value: 2309.600865773971.\n",
            "[I 2023-11-16 20:50:12,633] Trial 30 finished with value: 2318.6813605455077 and parameters: {'learning_rate': 0.08845229953811679, 'n_estimators': 597, 'max_depth': 8, 'max_leaves': 61, 'min_child_weight': 5, 'reg_alpha': 0.32235972613978636, 'reg_lambda': 0.3545613096207731}. Best is trial 21 with value: 2309.600865773971.\n",
            "[I 2023-11-16 20:50:17,729] Trial 31 finished with value: 2361.365333722254 and parameters: {'learning_rate': 0.09029977089507607, 'n_estimators': 577, 'max_depth': 8, 'max_leaves': 61, 'min_child_weight': 5, 'reg_alpha': 0.33741019468659417, 'reg_lambda': 0.3268981832273229}. Best is trial 21 with value: 2309.600865773971.\n",
            "[I 2023-11-16 20:50:32,726] Trial 32 finished with value: 2313.463235231004 and parameters: {'learning_rate': 0.08610179850470671, 'n_estimators': 844, 'max_depth': 8, 'max_leaves': 50, 'min_child_weight': 5, 'reg_alpha': 0.3095341569293558, 'reg_lambda': 0.4493683107488106}. Best is trial 21 with value: 2309.600865773971.\n"
          ]
        }
      ]
    },
    {
      "cell_type": "code",
      "source": [
        "pipeline_xgb_best = Pipeline([\n",
        "    ('date_transformer', date_transformer),\n",
        "    ('preprocessor', preprocessor),\n",
        "    ('regressor', XGBRegressor(**best_params))\n",
        "])\n",
        "\n",
        "#Entrenamos el pipeline con los datos de train\n",
        "pipeline_xgb_best.fit(X_train, y_train)\n",
        "\n",
        "#Predecimos sobre los datos de validation\n",
        "val_predictions_xgb_best = pipeline_xgb_best.predict(X_val)\n",
        "\n",
        "#Obtenemos el valor del MAE\n",
        "mae_xgb_best = mean_absolute_error(y_val, val_predictions_xgb_best)\n",
        "\n",
        "#Imprimimos resultados relevantes\n",
        "print(f'Número de trials: {len(study.trials)}')\n",
        "print(f'MAE con XGBoost y los mejores hiperparámetros: {best_mae}')\n",
        "print(f'Mejores hiperparámetros: {best_params}')\n",
        "\n",
        "#Guardamos el regresor XGBoost con los mejores hiperparámetros\n",
        "with open('regressor_xgb_best.pkl', 'wb') as f:\n",
        "    pickle.dump(pipeline_xgb_best, f)"
      ],
      "metadata": {
        "colab": {
          "base_uri": "https://localhost:8080/"
        },
        "id": "EKxPktMjgTFH",
        "outputId": "0d1ee3bc-4df7-479f-a758-ab2a4a221a3d"
      },
      "execution_count": 21,
      "outputs": [
        {
          "output_type": "stream",
          "name": "stdout",
          "text": [
            "Número de trials: 33\n",
            "MAE con XGBoost y los mejores hiperparámetros: 2309.600865773971\n",
            "Mejores hiperparámetros: {'learning_rate': 0.098905217159573, 'n_estimators': 897, 'max_depth': 6, 'max_leaves': 40, 'min_child_weight': 4, 'reg_alpha': 0.19716430160131668, 'reg_lambda': 0.40096623765224926}\n"
          ]
        }
      ]
    },
    {
      "cell_type": "markdown",
      "source": [
        "Reportar el número de trials, el MAE y los mejores hiperparámetros encontrados. ¿Cómo cambian sus resultados con respecto a la sección anterior? ¿A qué se puede deber esto?\n",
        "\n",
        "**Respuesta:**\n",
        "```\n",
        "En total se realizaron 32 trials, teniendo un mejor MAE de 1992, con los hiperparámetros reportados anteriormente.\n",
        "Los resultados mejoran respecto a la sección anterior, pasando de un MAE de 2427.11 a uno de 1992.70, esto se debe a que Optuna busca\n",
        "en el espacio de hiperparámetros entregado con el objetivo de buscar la combinación de estos que minimice el MAE. Es posible que\n",
        "estos resultados podrían haber mejorado aun más si no se tuviera el timeout de 5 minutos, sin embargo la mejora es apreciable con este\n",
        "tiempo por lo que se considera que los resultados obtenidos son preferibles.\n",
        "```"
      ],
      "metadata": {
        "id": "-Cv6Z1tVw7_0"
      }
    },
    {
      "cell_type": "markdown",
      "metadata": {
        "cell_id": "5195ccfc37e044ad9453f6eb2754f631",
        "deepnote_cell_type": "markdown",
        "id": "xFC6Wl0T4awi"
      },
      "source": [
        "## 1.4 Optimización de Hiperparámetros con Optuna y Prunners (1.7)\n",
        "\n",
        "<p align=\"center\">\n",
        "  <img src=\"https://i.pinimg.com/originals/90/16/f9/9016f919c2259f3d0e8fe465049638a7.gif\">\n",
        "</p>\n",
        "\n",
        "Después de optimizar el rendimiento de su modelo varias veces, Fiu le pregunta si no es posible optimizar el entrenamiento del modelo en sí mismo. Después de leer un par de post de personas de dudosa reputación en la *deepweb*, usted llega a la conclusión que puede cumplir este objetivo mediante la implementación de **Prunning**.\n",
        "\n",
        "Vuelva a optimizar los mismos hiperparámetros que la sección pasada, pero esta vez utilizando **Prunning** en la optimización. En particular, usted debe:\n",
        "\n",
        "- Responder: ¿Qué es prunning? ¿De qué forma debería impactar en el entrenamiento?\n",
        "- Utilizar `optuna.integration.XGBoostPruningCallback` como método de **Prunning**\n",
        "- Fijar nuevamente el tiempo de entrenamiento a 5 minutos\n",
        "- Reportar el número de *trials*, el `MAE` y los mejores hiperparámetros encontrados. ¿Cómo cambian sus resultados con respecto a la sección anterior? ¿A qué se puede deber esto?\n",
        "- Guardar su modelo en un archivo .pkl\n",
        "\n",
        "Nota: Si quieren silenciar los prints obtenidos en el prunning, pueden hacerlo mediante el siguiente comando:\n",
        "\n",
        "```\n",
        "optuna.logging.set_verbosity(optuna.logging.WARNING)\n",
        "```\n",
        "\n",
        "De implementar la opción anterior, pueden especificar `show_progress_bar = True` en el método `optimize` para *más sabor*.\n",
        "\n",
        "Hint: Si quieren especificar parámetros del método .fit() del modelo a través del pipeline, pueden hacerlo por medio de la siguiente sintaxis: `pipeline.fit(stepmodelo__parametro = valor)`\n",
        "\n",
        "Hint2: Este <a href = https://stackoverflow.com/questions/40329576/sklearn-pass-fit-parameters-to-xgboost-in-pipeline>enlace</a> les puede ser de ayuda en su implementación"
      ]
    },
    {
      "cell_type": "markdown",
      "source": [
        "---\n",
        "¿Qué es prunning? ¿De qué forma debería impactar en el entrenamiento?\n",
        "\n",
        "**Respuesta:**\n",
        "```\n",
        "El pruning o poda en optimización de hiperparámetros se refiere a cortar (o podar) un entrenamiento cuando este no está convergiendo\n",
        "hacia un rendimiento aceptable. Esto puede ahorrar tiempo de cómputo al detener la ejecución de entrenamientos que llevarán a\n",
        "resultados contraproducentes.\n",
        "\n",
        "Esta estrategia debería mejorar los resultados anteriores, ya que ayuda a evitar el sobreajuste y reducir el tiempo de entrenamiento\n",
        "ya que si un modelo no mejora significativamente después de un cierto número de iteraciones o trials, se detendrá la ejecución,\n",
        "evitando un sobreajuste y evitando ejecutar más trials que no llevarán a mejoras significativas.\n",
        "```"
      ],
      "metadata": {
        "id": "G0WqI-WhoCOg"
      }
    },
    {
      "cell_type": "code",
      "metadata": {
        "cell_id": "eeaa967cd8f6426d8c54f276c17dce79",
        "deepnote_cell_type": "code",
        "id": "wRz4d63x4awj",
        "colab": {
          "base_uri": "https://localhost:8080/"
        },
        "outputId": "7585352e-ecf6-4819-a0a7-30465f71dfc5"
      },
      "source": [
        "# Definir la función objetivo con poda\n",
        "def objective_pruning(trial):\n",
        "    params = {\n",
        "        'learning_rate': trial.suggest_float('learning_rate', 0.001, 0.1),\n",
        "        'n_estimators': trial.suggest_int('n_estimators', 50, 1000),\n",
        "        'max_depth': trial.suggest_int('max_depth', 3, 10),\n",
        "        'max_leaves': trial.suggest_int('max_leaves', 0, 100),\n",
        "        'min_child_weight': trial.suggest_int('min_child_weight', 1, 5),\n",
        "        'reg_alpha': trial.suggest_float('reg_alpha', 0, 1),\n",
        "        'reg_lambda': trial.suggest_float('reg_lambda', 0, 1)\n",
        "    }\n",
        "\n",
        "    model = XGBRegressor(**params)\n",
        "\n",
        "    # Agregar XGBoostPruningCallback para prunning\n",
        "    pruning_callback = XGBoostPruningCallback(trial, 'validation-mae')\n",
        "\n",
        "    cv_scores = cross_val_score(model, X_train_encoded, y_train, cv=5,\n",
        "                                scoring=make_scorer(mean_absolute_error))\n",
        "    return cv_scores.mean()\n",
        "\n",
        "# Configurar el optimizador Optuna con prunning, 100 trials y 5 minutos de timeout\n",
        "study_pruning = optuna.create_study(sampler=sampler, direction='minimize')\n",
        "study_pruning.optimize(objective_pruning, n_trials=100, timeout=300)\n",
        "\n",
        "# Obtener los mejores hiperparámetros y su MAE asociado\n",
        "best_params_pruning = study_pruning.best_params\n",
        "best_mae_pruning = study_pruning.best_value"
      ],
      "execution_count": 15,
      "outputs": [
        {
          "output_type": "stream",
          "name": "stderr",
          "text": [
            "[I 2023-11-16 20:50:33,974] A new study created in memory with name: no-name-0e157b99-1250-4e73-8e96-c5e32be59492\n",
            "[I 2023-11-16 20:50:34,714] Trial 0 finished with value: 3536.9174395380114 and parameters: {'learning_rate': 0.07745223216036909, 'n_estimators': 238, 'max_depth': 3, 'max_leaves': 82, 'min_child_weight': 4, 'reg_alpha': 0.7290071680409873, 'reg_lambda': 0.7712703466859457}. Best is trial 0 with value: 3536.9174395380114.\n",
            "[I 2023-11-16 20:50:35,798] Trial 1 finished with value: 6465.73366696017 and parameters: {'learning_rate': 0.008330420521674946, 'n_estimators': 390, 'max_depth': 3, 'max_leaves': 87, 'min_child_weight': 4, 'reg_alpha': 0.3308980248526492, 'reg_lambda': 0.06355835028602363}. Best is trial 0 with value: 3536.9174395380114.\n",
            "[I 2023-11-16 20:50:44,014] Trial 2 finished with value: 2700.820126050437 and parameters: {'learning_rate': 0.03178724984985056, 'n_estimators': 359, 'max_depth': 8, 'max_leaves': 64, 'min_child_weight': 5, 'reg_alpha': 0.4722149251619493, 'reg_lambda': 0.1195942459383017}. Best is trial 2 with value: 2700.820126050437.\n",
            "[I 2023-11-16 20:50:53,168] Trial 3 finished with value: 2373.924873146344 and parameters: {'learning_rate': 0.07161123393507651, 'n_estimators': 773, 'max_depth': 7, 'max_leaves': 77, 'min_child_weight': 3, 'reg_alpha': 0.5227328293819941, 'reg_lambda': 0.42754101835854963}. Best is trial 3 with value: 2373.924873146344.\n",
            "[I 2023-11-16 20:50:54,091] Trial 4 finished with value: 11067.385042735099 and parameters: {'learning_rate': 0.0035164935476654237, 'n_estimators': 152, 'max_depth': 3, 'max_leaves': 64, 'min_child_weight': 2, 'reg_alpha': 0.5085706911647028, 'reg_lambda': 0.907566473926093}. Best is trial 3 with value: 2373.924873146344.\n",
            "[I 2023-11-16 20:51:02,194] Trial 5 finished with value: 3246.948780901995 and parameters: {'learning_rate': 0.025679930685738622, 'n_estimators': 440, 'max_depth': 9, 'max_leaves': 23, 'min_child_weight': 1, 'reg_alpha': 0.289751452913768, 'reg_lambda': 0.16122128725400442}. Best is trial 3 with value: 2373.924873146344.\n",
            "[I 2023-11-16 20:51:17,552] Trial 6 finished with value: 2342.13519426308 and parameters: {'learning_rate': 0.09304006758191474, 'n_estimators': 818, 'max_depth': 8, 'max_leaves': 88, 'min_child_weight': 5, 'reg_alpha': 0.18657005888603584, 'reg_lambda': 0.8925589984899778}. Best is trial 6 with value: 2342.13519426308.\n",
            "[I 2023-11-16 20:51:28,705] Trial 7 finished with value: 2451.4910749195014 and parameters: {'learning_rate': 0.05439488194964943, 'n_estimators': 817, 'max_depth': 10, 'max_leaves': 32, 'min_child_weight': 1, 'reg_alpha': 0.22793516254194168, 'reg_lambda': 0.4271077886262563}. Best is trial 6 with value: 2342.13519426308.\n",
            "[I 2023-11-16 20:51:35,688] Trial 8 finished with value: 2792.8260730555367 and parameters: {'learning_rate': 0.08198346182632682, 'n_estimators': 868, 'max_depth': 3, 'max_leaves': 51, 'min_child_weight': 3, 'reg_alpha': 0.22210781047073025, 'reg_lambda': 0.1198653673336828}. Best is trial 6 with value: 2342.13519426308.\n",
            "[I 2023-11-16 20:51:50,553] Trial 9 finished with value: 2540.107335511766 and parameters: {'learning_rate': 0.03442390196895917, 'n_estimators': 946, 'max_depth': 5, 'max_leaves': 52, 'min_child_weight': 4, 'reg_alpha': 0.363629602379294, 'reg_lambda': 0.9717820827209607}. Best is trial 6 with value: 2342.13519426308.\n",
            "[I 2023-11-16 20:51:56,518] Trial 10 finished with value: 2374.7062857608894 and parameters: {'learning_rate': 0.09362767620916129, 'n_estimators': 632, 'max_depth': 6, 'max_leaves': 100, 'min_child_weight': 5, 'reg_alpha': 0.042745180079641565, 'reg_lambda': 0.698118545055729}. Best is trial 6 with value: 2342.13519426308.\n",
            "[I 2023-11-16 20:52:07,198] Trial 11 finished with value: 2393.432205113325 and parameters: {'learning_rate': 0.09953858938233338, 'n_estimators': 688, 'max_depth': 7, 'max_leaves': 80, 'min_child_weight': 3, 'reg_alpha': 0.9144496087270825, 'reg_lambda': 0.4829345803625288}. Best is trial 6 with value: 2342.13519426308.\n",
            "[I 2023-11-16 20:52:08,020] Trial 12 finished with value: 13560.446601880485 and parameters: {'learning_rate': 0.07118039040425142, 'n_estimators': 701, 'max_depth': 8, 'max_leaves': 1, 'min_child_weight': 2, 'reg_alpha': 0.006199827758516907, 'reg_lambda': 0.6193097335373512}. Best is trial 6 with value: 2342.13519426308.\n",
            "[I 2023-11-16 20:52:14,421] Trial 13 finished with value: 2385.465043027186 and parameters: {'learning_rate': 0.06280396709788118, 'n_estimators': 996, 'max_depth': 6, 'max_leaves': 99, 'min_child_weight': 2, 'reg_alpha': 0.6251395930402177, 'reg_lambda': 0.3737992617119019}. Best is trial 6 with value: 2342.13519426308.\n",
            "[I 2023-11-16 20:52:24,479] Trial 14 finished with value: 2364.2440274935425 and parameters: {'learning_rate': 0.08563764978405475, 'n_estimators': 565, 'max_depth': 8, 'max_leaves': 70, 'min_child_weight': 4, 'reg_alpha': 0.11891956062116615, 'reg_lambda': 0.8382913668443495}. Best is trial 6 with value: 2342.13519426308.\n",
            "[I 2023-11-16 20:52:39,127] Trial 15 finished with value: 2360.6467613068958 and parameters: {'learning_rate': 0.08856350927916586, 'n_estimators': 540, 'max_depth': 10, 'max_leaves': 66, 'min_child_weight': 5, 'reg_alpha': 0.13826128170992075, 'reg_lambda': 0.8494588314328863}. Best is trial 6 with value: 2342.13519426308.\n",
            "[I 2023-11-16 20:52:44,989] Trial 16 finished with value: 2427.589483429354 and parameters: {'learning_rate': 0.09947945910794123, 'n_estimators': 520, 'max_depth': 10, 'max_leaves': 32, 'min_child_weight': 5, 'reg_alpha': 0.18487092956980333, 'reg_lambda': 0.986485306214336}. Best is trial 6 with value: 2342.13519426308.\n",
            "[I 2023-11-16 20:52:55,569] Trial 17 finished with value: 2450.8910110714714 and parameters: {'learning_rate': 0.08923160696963947, 'n_estimators': 271, 'max_depth': 9, 'max_leaves': 93, 'min_child_weight': 5, 'reg_alpha': 0.06414333767415752, 'reg_lambda': 0.7917991767849293}. Best is trial 6 with value: 2342.13519426308.\n",
            "[I 2023-11-16 20:52:56,318] Trial 18 finished with value: 3185.9453659336255 and parameters: {'learning_rate': 0.08763368543833894, 'n_estimators': 75, 'max_depth': 9, 'max_leaves': 58, 'min_child_weight': 5, 'reg_alpha': 0.14787886825409868, 'reg_lambda': 0.6225037632357133}. Best is trial 6 with value: 2342.13519426308.\n",
            "[I 2023-11-16 20:52:59,710] Trial 19 finished with value: 2450.837591489171 and parameters: {'learning_rate': 0.06393644153310915, 'n_estimators': 521, 'max_depth': 10, 'max_leaves': 43, 'min_child_weight': 4, 'reg_alpha': 0.0026679612772813055, 'reg_lambda': 0.8911559393325074}. Best is trial 6 with value: 2342.13519426308.\n",
            "[I 2023-11-16 20:53:08,200] Trial 20 finished with value: 2401.8949639591 and parameters: {'learning_rate': 0.0777492219370893, 'n_estimators': 741, 'max_depth': 5, 'max_leaves': 70, 'min_child_weight': 5, 'reg_alpha': 0.11701807267787567, 'reg_lambda': 0.7213325990532768}. Best is trial 6 with value: 2342.13519426308.\n",
            "[I 2023-11-16 20:53:15,577] Trial 21 finished with value: 2355.7777788530225 and parameters: {'learning_rate': 0.08590814366008694, 'n_estimators': 617, 'max_depth': 8, 'max_leaves': 74, 'min_child_weight': 4, 'reg_alpha': 0.11609025323117884, 'reg_lambda': 0.840761422658354}. Best is trial 6 with value: 2342.13519426308.\n",
            "[I 2023-11-16 20:53:27,983] Trial 22 finished with value: 2381.2834866345934 and parameters: {'learning_rate': 0.09221726748230863, 'n_estimators': 622, 'max_depth': 9, 'max_leaves': 74, 'min_child_weight': 4, 'reg_alpha': 0.24606828135220804, 'reg_lambda': 0.8588494864040026}. Best is trial 6 with value: 2342.13519426308.\n",
            "[I 2023-11-16 20:53:32,239] Trial 23 finished with value: 2398.178563515142 and parameters: {'learning_rate': 0.08516825013008418, 'n_estimators': 446, 'max_depth': 8, 'max_leaves': 91, 'min_child_weight': 5, 'reg_alpha': 0.12783260691537118, 'reg_lambda': 0.9943197850546281}. Best is trial 6 with value: 2342.13519426308.\n",
            "[I 2023-11-16 20:53:43,937] Trial 24 finished with value: 2358.7746594735445 and parameters: {'learning_rate': 0.09966815019100587, 'n_estimators': 840, 'max_depth': 7, 'max_leaves': 85, 'min_child_weight': 4, 'reg_alpha': 0.3344134880100856, 'reg_lambda': 0.8737692017056751}. Best is trial 6 with value: 2342.13519426308.\n",
            "[I 2023-11-16 20:53:55,885] Trial 25 finished with value: 2364.271813331473 and parameters: {'learning_rate': 0.09880321179289762, 'n_estimators': 855, 'max_depth': 7, 'max_leaves': 86, 'min_child_weight': 3, 'reg_alpha': 0.37532686001169074, 'reg_lambda': 0.942257054014007}. Best is trial 6 with value: 2342.13519426308.\n",
            "[I 2023-11-16 20:54:01,288] Trial 26 finished with value: 2331.0191186312186 and parameters: {'learning_rate': 0.07852500629946754, 'n_estimators': 911, 'max_depth': 6, 'max_leaves': 91, 'min_child_weight': 4, 'reg_alpha': 0.2906300519223156, 'reg_lambda': 0.9084312098430154}. Best is trial 26 with value: 2331.0191186312186.\n",
            "[I 2023-11-16 20:54:10,535] Trial 27 finished with value: 2384.9473048822447 and parameters: {'learning_rate': 0.07752775313316729, 'n_estimators': 912, 'max_depth': 5, 'max_leaves': 94, 'min_child_weight': 4, 'reg_alpha': 0.27029028702765184, 'reg_lambda': 0.9256251018844184}. Best is trial 26 with value: 2331.0191186312186.\n",
            "[I 2023-11-16 20:54:18,454] Trial 28 finished with value: 2372.4786467191425 and parameters: {'learning_rate': 0.07076251433460592, 'n_estimators': 991, 'max_depth': 6, 'max_leaves': 78, 'min_child_weight': 3, 'reg_alpha': 0.1976089925404142, 'reg_lambda': 0.7653907326808108}. Best is trial 26 with value: 2331.0191186312186.\n",
            "[I 2023-11-16 20:54:29,695] Trial 29 finished with value: 2548.7276815089735 and parameters: {'learning_rate': 0.0795513982015201, 'n_estimators': 779, 'max_depth': 4, 'max_leaves': 81, 'min_child_weight': 4, 'reg_alpha': 0.09303731554400962, 'reg_lambda': 0.7960660921588358}. Best is trial 26 with value: 2331.0191186312186.\n",
            "[I 2023-11-16 20:54:48,372] Trial 30 finished with value: 2354.020854769033 and parameters: {'learning_rate': 0.08455031797713078, 'n_estimators': 910, 'max_depth': 8, 'max_leaves': 93, 'min_child_weight': 4, 'reg_alpha': 0.41994266641843114, 'reg_lambda': 0.9212483066711644}. Best is trial 26 with value: 2331.0191186312186.\n",
            "[I 2023-11-16 20:55:02,282] Trial 31 finished with value: 2343.2658166286374 and parameters: {'learning_rate': 0.0802050265696103, 'n_estimators': 907, 'max_depth': 8, 'max_leaves': 92, 'min_child_weight': 4, 'reg_alpha': 0.40938755275621336, 'reg_lambda': 0.9139439005787324}. Best is trial 26 with value: 2331.0191186312186.\n",
            "[I 2023-11-16 20:55:14,546] Trial 32 finished with value: 2356.2571273861504 and parameters: {'learning_rate': 0.08036686506714023, 'n_estimators': 929, 'max_depth': 7, 'max_leaves': 91, 'min_child_weight': 4, 'reg_alpha': 0.41133315579796126, 'reg_lambda': 0.9178910249844934}. Best is trial 26 with value: 2331.0191186312186.\n",
            "[I 2023-11-16 20:55:29,834] Trial 33 finished with value: 2358.7313190556015 and parameters: {'learning_rate': 0.09217902493167451, 'n_estimators': 898, 'max_depth': 8, 'max_leaves': 100, 'min_child_weight': 4, 'reg_alpha': 0.43097944913251646, 'reg_lambda': 0.9964819045195248}. Best is trial 26 with value: 2331.0191186312186.\n",
            "[I 2023-11-16 20:55:34,606] Trial 34 finished with value: 2366.0776876037785 and parameters: {'learning_rate': 0.07319974386905076, 'n_estimators': 803, 'max_depth': 6, 'max_leaves': 87, 'min_child_weight': 5, 'reg_alpha': 0.3072591267793547, 'reg_lambda': 0.9341042087157153}. Best is trial 26 with value: 2331.0191186312186.\n"
          ]
        }
      ]
    },
    {
      "cell_type": "code",
      "source": [
        "#Creamos el pipeline con los mejores hiperparámetros y pruning\n",
        "pipeline_xgb_best_pruning = Pipeline([\n",
        "    ('date_transformer', date_transformer),\n",
        "    ('preprocessor', preprocessor),\n",
        "    ('regressor', XGBRegressor(**best_params_pruning))\n",
        "])\n",
        "\n",
        "#Entrenamos el pipeline con los datos de train\n",
        "pipeline_xgb_best_pruning.fit(X_train, y_train)\n",
        "\n",
        "#Predecimos sobre los datos de validation\n",
        "val_predictions_xgb_best_pruning = pipeline_xgb_best_pruning.predict(X_val)\n",
        "\n",
        "#Obtenemos el valor del MAE\n",
        "mae_xgb_best_pruning = mean_absolute_error(y_val, val_predictions_xgb_best_pruning)\n",
        "\n",
        "#Imprimimos resultados relevantes\n",
        "print(f'Número de trials con prunning: {len(study_pruning.trials)}')\n",
        "print(f'Mejores hiperparámetros (prunning): {best_params_pruning}')\n",
        "print(\"\\nTodos los resultados de MAE:\")\n",
        "print(f'MAE con Dummy Regressor: {mae_dummy}')\n",
        "print(f'MAE con XGBoost: {mae_xgb}')\n",
        "print(f'MAE con XGBoost y relación monótona negativa: {mae_xgb_with_constraints}')\n",
        "print(f'MAE con XGBoost y los mejores hiperparámetros: {best_mae}')\n",
        "print(f'MAE con XGBoost y los mejores hiperparámetros (prunning): {mae_xgb_best_pruning}')\n",
        "#Guardamos el regresor XGBoost con los mejores hiperparámetros y pruning\n",
        "with open('regressor_xgb_best_pruning.pkl', 'wb') as f:\n",
        "    pickle.dump(pipeline_xgb_best_pruning, f)"
      ],
      "metadata": {
        "colab": {
          "base_uri": "https://localhost:8080/"
        },
        "id": "eEI0LJCWkgv-",
        "outputId": "bf6b811c-5b8d-47ca-e4bb-0ea0153d2904"
      },
      "execution_count": 16,
      "outputs": [
        {
          "output_type": "stream",
          "name": "stdout",
          "text": [
            "Número de trials con prunning: 35\n",
            "Mejores hiperparámetros (prunning): {'learning_rate': 0.07852500629946754, 'n_estimators': 911, 'max_depth': 6, 'max_leaves': 91, 'min_child_weight': 4, 'reg_alpha': 0.2906300519223156, 'reg_lambda': 0.9084312098430154}\n",
            "\n",
            "Todos los resultados de MAE:\n",
            "MAE con Dummy Regressor: 13413.17673026018\n",
            "MAE con XGBoost: 2427.1128332224994\n",
            "MAE con XGBoost y relación monótona negativa: 2447.6054746407926\n",
            "MAE con XGBoost y los mejores hiperparámetros: 2309.600865773971\n",
            "MAE con XGBoost y los mejores hiperparámetros (prunning): 2066.1471123989404\n"
          ]
        }
      ]
    },
    {
      "cell_type": "markdown",
      "source": [
        "¿Cómo cambian sus resultados con respecto a la sección anterior? ¿A qué se puede deber esto?\n",
        "\n",
        "**Respuesta:**\n",
        "```\n",
        "Al incorporar el pruning durante la optimización, el número de trials aumenta de 32 a 34, lo que es contrario a lo esperado ya\n",
        "que el entrenamiento se interrumpe para aquellos conjuntos de hiperparámetros que no están mostrando mejoras significativas, lo\n",
        "que debería (o podría) llevar a un menor tiempo de ejecución.\n",
        "Por otro lado, los resultados mejorar significativamente, obteniéndose un MAE de 2066, lo que es mejor que los 2309 sin\n",
        "pruning, por lo que se considera que este último modelo conlleva un aporte importante a la calidad de las predicciones.\n",
        "```"
      ],
      "metadata": {
        "id": "8642iatNoA2j"
      }
    },
    {
      "cell_type": "markdown",
      "metadata": {
        "cell_id": "8a081778cc704fc6bed05393a5419327",
        "deepnote_cell_type": "markdown",
        "id": "IRHGmskS4awr"
      },
      "source": [
        "## 1.5 Visualizaciones (0.5 puntos)\n",
        "\n",
        "<p align=\"center\">\n",
        "  <img src=\"https://media.tenor.com/F-LgB1xTebEAAAAd/look-at-this-graph-nickelback.gif\">\n",
        "</p>\n",
        "\n",
        "\n",
        "Satisfecho con su trabajo, Fiu le pregunta si es posible generar visualizaciones que permitan entender el entrenamiento de su modelo.\n",
        "\n",
        "A partir del siguiente <a href = https://optuna.readthedocs.io/en/stable/tutorial/10_key_features/005_visualization.html#visualization>enlace</a>, genere las siguientes visualizaciones:\n",
        "\n",
        "- Gráfico de historial de optimización\n",
        "- Gráfico de coordenadas paralelas\n",
        "- Gráfico de importancia de hiperparámetros\n",
        "\n",
        "Comente sus resultados: ¿Desde qué *trial* se empiezan a observar mejoras notables en sus resultados? ¿Qué tendencias puede observar a partir del gráfico de coordenadas paralelas? ¿Cuáles son los hiperparámetros con mayor importancia para la optimización de su modelo?"
      ]
    },
    {
      "cell_type": "code",
      "metadata": {
        "cell_id": "0e706dc9a8d946eda7a9eb1f0463c6d7",
        "deepnote_cell_type": "code",
        "id": "5iYmGzR94awr",
        "colab": {
          "base_uri": "https://localhost:8080/",
          "height": 542
        },
        "outputId": "14862fd0-665a-40d8-b0b2-8fe06598f906"
      },
      "source": [
        "# Graficamos el historial de optimización\n",
        "plot_optimization_history(study_pruning)"
      ],
      "execution_count": 17,
      "outputs": [
        {
          "output_type": "display_data",
          "data": {
            "text/html": [
              "<html>\n",
              "<head><meta charset=\"utf-8\" /></head>\n",
              "<body>\n",
              "    <div>            <script src=\"https://cdnjs.cloudflare.com/ajax/libs/mathjax/2.7.5/MathJax.js?config=TeX-AMS-MML_SVG\"></script><script type=\"text/javascript\">if (window.MathJax && window.MathJax.Hub && window.MathJax.Hub.Config) {window.MathJax.Hub.Config({SVG: {font: \"STIX-Web\"}});}</script>                <script type=\"text/javascript\">window.PlotlyConfig = {MathJaxConfig: 'local'};</script>\n",
              "        <script charset=\"utf-8\" src=\"https://cdn.plot.ly/plotly-2.24.1.min.js\"></script>                <div id=\"e26f712f-9f18-4bc0-a6f2-a8351f6a7400\" class=\"plotly-graph-div\" style=\"height:525px; width:100%;\"></div>            <script type=\"text/javascript\">                                    window.PLOTLYENV=window.PLOTLYENV || {};                                    if (document.getElementById(\"e26f712f-9f18-4bc0-a6f2-a8351f6a7400\")) {                    Plotly.newPlot(                        \"e26f712f-9f18-4bc0-a6f2-a8351f6a7400\",                        [{\"mode\":\"markers\",\"name\":\"Objective Value\",\"x\":[0,1,2,3,4,5,6,7,8,9,10,11,12,13,14,15,16,17,18,19,20,21,22,23,24,25,26,27,28,29,30,31,32,33,34],\"y\":[3536.9174395380114,6465.73366696017,2700.820126050437,2373.924873146344,11067.385042735099,3246.948780901995,2342.13519426308,2451.4910749195014,2792.8260730555367,2540.107335511766,2374.7062857608894,2393.432205113325,13560.446601880485,2385.465043027186,2364.2440274935425,2360.6467613068958,2427.589483429354,2450.8910110714714,3185.9453659336255,2450.837591489171,2401.8949639591,2355.7777788530225,2381.2834866345934,2398.178563515142,2358.7746594735445,2364.271813331473,2331.0191186312186,2384.9473048822447,2372.4786467191425,2548.7276815089735,2354.020854769033,2343.2658166286374,2356.2571273861504,2358.7313190556015,2366.0776876037785],\"type\":\"scatter\"},{\"mode\":\"lines\",\"name\":\"Best Value\",\"x\":[0,1,2,3,4,5,6,7,8,9,10,11,12,13,14,15,16,17,18,19,20,21,22,23,24,25,26,27,28,29,30,31,32,33,34],\"y\":[3536.9174395380114,3536.9174395380114,2700.820126050437,2373.924873146344,2373.924873146344,2373.924873146344,2342.13519426308,2342.13519426308,2342.13519426308,2342.13519426308,2342.13519426308,2342.13519426308,2342.13519426308,2342.13519426308,2342.13519426308,2342.13519426308,2342.13519426308,2342.13519426308,2342.13519426308,2342.13519426308,2342.13519426308,2342.13519426308,2342.13519426308,2342.13519426308,2342.13519426308,2342.13519426308,2331.0191186312186,2331.0191186312186,2331.0191186312186,2331.0191186312186,2331.0191186312186,2331.0191186312186,2331.0191186312186,2331.0191186312186,2331.0191186312186],\"type\":\"scatter\"},{\"marker\":{\"color\":\"#cccccc\"},\"mode\":\"markers\",\"name\":\"Infeasible Trial\",\"showlegend\":false,\"x\":[],\"y\":[],\"type\":\"scatter\"}],                        {\"title\":{\"text\":\"Optimization History Plot\"},\"xaxis\":{\"title\":{\"text\":\"Trial\"}},\"yaxis\":{\"title\":{\"text\":\"Objective Value\"}},\"template\":{\"data\":{\"histogram2dcontour\":[{\"type\":\"histogram2dcontour\",\"colorbar\":{\"outlinewidth\":0,\"ticks\":\"\"},\"colorscale\":[[0.0,\"#0d0887\"],[0.1111111111111111,\"#46039f\"],[0.2222222222222222,\"#7201a8\"],[0.3333333333333333,\"#9c179e\"],[0.4444444444444444,\"#bd3786\"],[0.5555555555555556,\"#d8576b\"],[0.6666666666666666,\"#ed7953\"],[0.7777777777777778,\"#fb9f3a\"],[0.8888888888888888,\"#fdca26\"],[1.0,\"#f0f921\"]]}],\"choropleth\":[{\"type\":\"choropleth\",\"colorbar\":{\"outlinewidth\":0,\"ticks\":\"\"}}],\"histogram2d\":[{\"type\":\"histogram2d\",\"colorbar\":{\"outlinewidth\":0,\"ticks\":\"\"},\"colorscale\":[[0.0,\"#0d0887\"],[0.1111111111111111,\"#46039f\"],[0.2222222222222222,\"#7201a8\"],[0.3333333333333333,\"#9c179e\"],[0.4444444444444444,\"#bd3786\"],[0.5555555555555556,\"#d8576b\"],[0.6666666666666666,\"#ed7953\"],[0.7777777777777778,\"#fb9f3a\"],[0.8888888888888888,\"#fdca26\"],[1.0,\"#f0f921\"]]}],\"heatmap\":[{\"type\":\"heatmap\",\"colorbar\":{\"outlinewidth\":0,\"ticks\":\"\"},\"colorscale\":[[0.0,\"#0d0887\"],[0.1111111111111111,\"#46039f\"],[0.2222222222222222,\"#7201a8\"],[0.3333333333333333,\"#9c179e\"],[0.4444444444444444,\"#bd3786\"],[0.5555555555555556,\"#d8576b\"],[0.6666666666666666,\"#ed7953\"],[0.7777777777777778,\"#fb9f3a\"],[0.8888888888888888,\"#fdca26\"],[1.0,\"#f0f921\"]]}],\"heatmapgl\":[{\"type\":\"heatmapgl\",\"colorbar\":{\"outlinewidth\":0,\"ticks\":\"\"},\"colorscale\":[[0.0,\"#0d0887\"],[0.1111111111111111,\"#46039f\"],[0.2222222222222222,\"#7201a8\"],[0.3333333333333333,\"#9c179e\"],[0.4444444444444444,\"#bd3786\"],[0.5555555555555556,\"#d8576b\"],[0.6666666666666666,\"#ed7953\"],[0.7777777777777778,\"#fb9f3a\"],[0.8888888888888888,\"#fdca26\"],[1.0,\"#f0f921\"]]}],\"contourcarpet\":[{\"type\":\"contourcarpet\",\"colorbar\":{\"outlinewidth\":0,\"ticks\":\"\"}}],\"contour\":[{\"type\":\"contour\",\"colorbar\":{\"outlinewidth\":0,\"ticks\":\"\"},\"colorscale\":[[0.0,\"#0d0887\"],[0.1111111111111111,\"#46039f\"],[0.2222222222222222,\"#7201a8\"],[0.3333333333333333,\"#9c179e\"],[0.4444444444444444,\"#bd3786\"],[0.5555555555555556,\"#d8576b\"],[0.6666666666666666,\"#ed7953\"],[0.7777777777777778,\"#fb9f3a\"],[0.8888888888888888,\"#fdca26\"],[1.0,\"#f0f921\"]]}],\"surface\":[{\"type\":\"surface\",\"colorbar\":{\"outlinewidth\":0,\"ticks\":\"\"},\"colorscale\":[[0.0,\"#0d0887\"],[0.1111111111111111,\"#46039f\"],[0.2222222222222222,\"#7201a8\"],[0.3333333333333333,\"#9c179e\"],[0.4444444444444444,\"#bd3786\"],[0.5555555555555556,\"#d8576b\"],[0.6666666666666666,\"#ed7953\"],[0.7777777777777778,\"#fb9f3a\"],[0.8888888888888888,\"#fdca26\"],[1.0,\"#f0f921\"]]}],\"mesh3d\":[{\"type\":\"mesh3d\",\"colorbar\":{\"outlinewidth\":0,\"ticks\":\"\"}}],\"scatter\":[{\"fillpattern\":{\"fillmode\":\"overlay\",\"size\":10,\"solidity\":0.2},\"type\":\"scatter\"}],\"parcoords\":[{\"type\":\"parcoords\",\"line\":{\"colorbar\":{\"outlinewidth\":0,\"ticks\":\"\"}}}],\"scatterpolargl\":[{\"type\":\"scatterpolargl\",\"marker\":{\"colorbar\":{\"outlinewidth\":0,\"ticks\":\"\"}}}],\"bar\":[{\"error_x\":{\"color\":\"#2a3f5f\"},\"error_y\":{\"color\":\"#2a3f5f\"},\"marker\":{\"line\":{\"color\":\"#E5ECF6\",\"width\":0.5},\"pattern\":{\"fillmode\":\"overlay\",\"size\":10,\"solidity\":0.2}},\"type\":\"bar\"}],\"scattergeo\":[{\"type\":\"scattergeo\",\"marker\":{\"colorbar\":{\"outlinewidth\":0,\"ticks\":\"\"}}}],\"scatterpolar\":[{\"type\":\"scatterpolar\",\"marker\":{\"colorbar\":{\"outlinewidth\":0,\"ticks\":\"\"}}}],\"histogram\":[{\"marker\":{\"pattern\":{\"fillmode\":\"overlay\",\"size\":10,\"solidity\":0.2}},\"type\":\"histogram\"}],\"scattergl\":[{\"type\":\"scattergl\",\"marker\":{\"colorbar\":{\"outlinewidth\":0,\"ticks\":\"\"}}}],\"scatter3d\":[{\"type\":\"scatter3d\",\"line\":{\"colorbar\":{\"outlinewidth\":0,\"ticks\":\"\"}},\"marker\":{\"colorbar\":{\"outlinewidth\":0,\"ticks\":\"\"}}}],\"scattermapbox\":[{\"type\":\"scattermapbox\",\"marker\":{\"colorbar\":{\"outlinewidth\":0,\"ticks\":\"\"}}}],\"scatterternary\":[{\"type\":\"scatterternary\",\"marker\":{\"colorbar\":{\"outlinewidth\":0,\"ticks\":\"\"}}}],\"scattercarpet\":[{\"type\":\"scattercarpet\",\"marker\":{\"colorbar\":{\"outlinewidth\":0,\"ticks\":\"\"}}}],\"carpet\":[{\"aaxis\":{\"endlinecolor\":\"#2a3f5f\",\"gridcolor\":\"white\",\"linecolor\":\"white\",\"minorgridcolor\":\"white\",\"startlinecolor\":\"#2a3f5f\"},\"baxis\":{\"endlinecolor\":\"#2a3f5f\",\"gridcolor\":\"white\",\"linecolor\":\"white\",\"minorgridcolor\":\"white\",\"startlinecolor\":\"#2a3f5f\"},\"type\":\"carpet\"}],\"table\":[{\"cells\":{\"fill\":{\"color\":\"#EBF0F8\"},\"line\":{\"color\":\"white\"}},\"header\":{\"fill\":{\"color\":\"#C8D4E3\"},\"line\":{\"color\":\"white\"}},\"type\":\"table\"}],\"barpolar\":[{\"marker\":{\"line\":{\"color\":\"#E5ECF6\",\"width\":0.5},\"pattern\":{\"fillmode\":\"overlay\",\"size\":10,\"solidity\":0.2}},\"type\":\"barpolar\"}],\"pie\":[{\"automargin\":true,\"type\":\"pie\"}]},\"layout\":{\"autotypenumbers\":\"strict\",\"colorway\":[\"#636efa\",\"#EF553B\",\"#00cc96\",\"#ab63fa\",\"#FFA15A\",\"#19d3f3\",\"#FF6692\",\"#B6E880\",\"#FF97FF\",\"#FECB52\"],\"font\":{\"color\":\"#2a3f5f\"},\"hovermode\":\"closest\",\"hoverlabel\":{\"align\":\"left\"},\"paper_bgcolor\":\"white\",\"plot_bgcolor\":\"#E5ECF6\",\"polar\":{\"bgcolor\":\"#E5ECF6\",\"angularaxis\":{\"gridcolor\":\"white\",\"linecolor\":\"white\",\"ticks\":\"\"},\"radialaxis\":{\"gridcolor\":\"white\",\"linecolor\":\"white\",\"ticks\":\"\"}},\"ternary\":{\"bgcolor\":\"#E5ECF6\",\"aaxis\":{\"gridcolor\":\"white\",\"linecolor\":\"white\",\"ticks\":\"\"},\"baxis\":{\"gridcolor\":\"white\",\"linecolor\":\"white\",\"ticks\":\"\"},\"caxis\":{\"gridcolor\":\"white\",\"linecolor\":\"white\",\"ticks\":\"\"}},\"coloraxis\":{\"colorbar\":{\"outlinewidth\":0,\"ticks\":\"\"}},\"colorscale\":{\"sequential\":[[0.0,\"#0d0887\"],[0.1111111111111111,\"#46039f\"],[0.2222222222222222,\"#7201a8\"],[0.3333333333333333,\"#9c179e\"],[0.4444444444444444,\"#bd3786\"],[0.5555555555555556,\"#d8576b\"],[0.6666666666666666,\"#ed7953\"],[0.7777777777777778,\"#fb9f3a\"],[0.8888888888888888,\"#fdca26\"],[1.0,\"#f0f921\"]],\"sequentialminus\":[[0.0,\"#0d0887\"],[0.1111111111111111,\"#46039f\"],[0.2222222222222222,\"#7201a8\"],[0.3333333333333333,\"#9c179e\"],[0.4444444444444444,\"#bd3786\"],[0.5555555555555556,\"#d8576b\"],[0.6666666666666666,\"#ed7953\"],[0.7777777777777778,\"#fb9f3a\"],[0.8888888888888888,\"#fdca26\"],[1.0,\"#f0f921\"]],\"diverging\":[[0,\"#8e0152\"],[0.1,\"#c51b7d\"],[0.2,\"#de77ae\"],[0.3,\"#f1b6da\"],[0.4,\"#fde0ef\"],[0.5,\"#f7f7f7\"],[0.6,\"#e6f5d0\"],[0.7,\"#b8e186\"],[0.8,\"#7fbc41\"],[0.9,\"#4d9221\"],[1,\"#276419\"]]},\"xaxis\":{\"gridcolor\":\"white\",\"linecolor\":\"white\",\"ticks\":\"\",\"title\":{\"standoff\":15},\"zerolinecolor\":\"white\",\"automargin\":true,\"zerolinewidth\":2},\"yaxis\":{\"gridcolor\":\"white\",\"linecolor\":\"white\",\"ticks\":\"\",\"title\":{\"standoff\":15},\"zerolinecolor\":\"white\",\"automargin\":true,\"zerolinewidth\":2},\"scene\":{\"xaxis\":{\"backgroundcolor\":\"#E5ECF6\",\"gridcolor\":\"white\",\"linecolor\":\"white\",\"showbackground\":true,\"ticks\":\"\",\"zerolinecolor\":\"white\",\"gridwidth\":2},\"yaxis\":{\"backgroundcolor\":\"#E5ECF6\",\"gridcolor\":\"white\",\"linecolor\":\"white\",\"showbackground\":true,\"ticks\":\"\",\"zerolinecolor\":\"white\",\"gridwidth\":2},\"zaxis\":{\"backgroundcolor\":\"#E5ECF6\",\"gridcolor\":\"white\",\"linecolor\":\"white\",\"showbackground\":true,\"ticks\":\"\",\"zerolinecolor\":\"white\",\"gridwidth\":2}},\"shapedefaults\":{\"line\":{\"color\":\"#2a3f5f\"}},\"annotationdefaults\":{\"arrowcolor\":\"#2a3f5f\",\"arrowhead\":0,\"arrowwidth\":1},\"geo\":{\"bgcolor\":\"white\",\"landcolor\":\"#E5ECF6\",\"subunitcolor\":\"white\",\"showland\":true,\"showlakes\":true,\"lakecolor\":\"white\"},\"title\":{\"x\":0.05},\"mapbox\":{\"style\":\"light\"}}}},                        {\"responsive\": true}                    ).then(function(){\n",
              "                            \n",
              "var gd = document.getElementById('e26f712f-9f18-4bc0-a6f2-a8351f6a7400');\n",
              "var x = new MutationObserver(function (mutations, observer) {{\n",
              "        var display = window.getComputedStyle(gd).display;\n",
              "        if (!display || display === 'none') {{\n",
              "            console.log([gd, 'removed!']);\n",
              "            Plotly.purge(gd);\n",
              "            observer.disconnect();\n",
              "        }}\n",
              "}});\n",
              "\n",
              "// Listen for the removal of the full notebook cells\n",
              "var notebookContainer = gd.closest('#notebook-container');\n",
              "if (notebookContainer) {{\n",
              "    x.observe(notebookContainer, {childList: true});\n",
              "}}\n",
              "\n",
              "// Listen for the clearing of the current output cell\n",
              "var outputEl = gd.closest('.output');\n",
              "if (outputEl) {{\n",
              "    x.observe(outputEl, {childList: true});\n",
              "}}\n",
              "\n",
              "                        })                };                            </script>        </div>\n",
              "</body>\n",
              "</html>"
            ]
          },
          "metadata": {}
        }
      ]
    },
    {
      "cell_type": "markdown",
      "source": [
        "¿Desde qué trial se empiezan a observar mejoras notables en sus resultados?\n",
        "\n",
        "**Respuesta:**\n",
        "```\n",
        "A partir del gráfico se puede observar que los resultados mejoran notablemente a partir del trial 2 (tercer trial), teniéndose un valor\n",
        "cercano al mejor MAE ya en el trial 3 (cuarto trial).\n",
        "```"
      ],
      "metadata": {
        "id": "qt-zyJkC0s8j"
      }
    },
    {
      "cell_type": "code",
      "source": [
        "#Graficamos las coordenadas paralelas\n",
        "plot_parallel_coordinate(study_pruning)"
      ],
      "metadata": {
        "colab": {
          "base_uri": "https://localhost:8080/",
          "height": 542
        },
        "id": "o5ds45pGnndw",
        "outputId": "9ce7b136-1e2b-4a44-cf52-881f07d9f547"
      },
      "execution_count": 18,
      "outputs": [
        {
          "output_type": "display_data",
          "data": {
            "text/html": [
              "<html>\n",
              "<head><meta charset=\"utf-8\" /></head>\n",
              "<body>\n",
              "    <div>            <script src=\"https://cdnjs.cloudflare.com/ajax/libs/mathjax/2.7.5/MathJax.js?config=TeX-AMS-MML_SVG\"></script><script type=\"text/javascript\">if (window.MathJax && window.MathJax.Hub && window.MathJax.Hub.Config) {window.MathJax.Hub.Config({SVG: {font: \"STIX-Web\"}});}</script>                <script type=\"text/javascript\">window.PlotlyConfig = {MathJaxConfig: 'local'};</script>\n",
              "        <script charset=\"utf-8\" src=\"https://cdn.plot.ly/plotly-2.24.1.min.js\"></script>                <div id=\"0ba9b292-d4b4-4c4f-9498-21eaaef53708\" class=\"plotly-graph-div\" style=\"height:525px; width:100%;\"></div>            <script type=\"text/javascript\">                                    window.PLOTLYENV=window.PLOTLYENV || {};                                    if (document.getElementById(\"0ba9b292-d4b4-4c4f-9498-21eaaef53708\")) {                    Plotly.newPlot(                        \"0ba9b292-d4b4-4c4f-9498-21eaaef53708\",                        [{\"dimensions\":[{\"label\":\"Objective Value\",\"range\":[2331.0191186312186,13560.446601880485],\"values\":[3536.9174395380114,6465.73366696017,2700.820126050437,2373.924873146344,11067.385042735099,3246.948780901995,2342.13519426308,2451.4910749195014,2792.8260730555367,2540.107335511766,2374.7062857608894,2393.432205113325,13560.446601880485,2385.465043027186,2364.2440274935425,2360.6467613068958,2427.589483429354,2450.8910110714714,3185.9453659336255,2450.837591489171,2401.8949639591,2355.7777788530225,2381.2834866345934,2398.178563515142,2358.7746594735445,2364.271813331473,2331.0191186312186,2384.9473048822447,2372.4786467191425,2548.7276815089735,2354.020854769033,2343.2658166286374,2356.2571273861504,2358.7313190556015,2366.0776876037785]},{\"label\":\"learning_rate\",\"range\":[0.0035164935476654237,0.09966815019100587],\"values\":[0.07745223216036909,0.008330420521674946,0.03178724984985056,0.07161123393507651,0.0035164935476654237,0.025679930685738622,0.09304006758191474,0.05439488194964943,0.08198346182632682,0.03442390196895917,0.09362767620916129,0.09953858938233338,0.07118039040425142,0.06280396709788118,0.08563764978405475,0.08856350927916586,0.09947945910794123,0.08923160696963947,0.08763368543833894,0.06393644153310915,0.0777492219370893,0.08590814366008694,0.09221726748230863,0.08516825013008418,0.09966815019100587,0.09880321179289762,0.07852500629946754,0.07752775313316729,0.07076251433460592,0.0795513982015201,0.08455031797713078,0.0802050265696103,0.08036686506714023,0.09217902493167451,0.07319974386905076]},{\"label\":\"max_depth\",\"range\":[3,10],\"values\":[3,3,8,7,3,9,8,10,3,5,6,7,8,6,8,10,10,9,9,10,5,8,9,8,7,7,6,5,6,4,8,8,7,8,6]},{\"label\":\"max_leaves\",\"range\":[1,100],\"values\":[82,87,64,77,64,23,88,32,51,52,100,80,1,99,70,66,32,93,58,43,70,74,74,91,85,86,91,94,78,81,93,92,91,100,87]},{\"label\":\"min_child_weight\",\"range\":[1,5],\"values\":[4,4,5,3,2,1,5,1,3,4,5,3,2,2,4,5,5,5,5,4,5,4,4,5,4,3,4,4,3,4,4,4,4,4,5]},{\"label\":\"n_estimators\",\"range\":[75,996],\"values\":[238,390,359,773,152,440,818,817,868,946,632,688,701,996,565,540,520,271,75,521,741,617,622,446,840,855,911,912,991,779,910,907,929,898,803]},{\"label\":\"reg_alpha\",\"range\":[0.0026679612772813055,0.9144496087270825],\"values\":[0.7290071680409873,0.3308980248526492,0.4722149251619493,0.5227328293819941,0.5085706911647028,0.289751452913768,0.18657005888603584,0.22793516254194168,0.22210781047073025,0.363629602379294,0.042745180079641565,0.9144496087270825,0.006199827758516907,0.6251395930402177,0.11891956062116615,0.13826128170992075,0.18487092956980333,0.06414333767415752,0.14787886825409868,0.0026679612772813055,0.11701807267787567,0.11609025323117884,0.24606828135220804,0.12783260691537118,0.3344134880100856,0.37532686001169074,0.2906300519223156,0.27029028702765184,0.1976089925404142,0.09303731554400962,0.41994266641843114,0.40938755275621336,0.41133315579796126,0.43097944913251646,0.3072591267793547]},{\"label\":\"reg_lambda\",\"range\":[0.06355835028602363,0.9964819045195248],\"values\":[0.7712703466859457,0.06355835028602363,0.1195942459383017,0.42754101835854963,0.907566473926093,0.16122128725400442,0.8925589984899778,0.4271077886262563,0.1198653673336828,0.9717820827209607,0.698118545055729,0.4829345803625288,0.6193097335373512,0.3737992617119019,0.8382913668443495,0.8494588314328863,0.986485306214336,0.7917991767849293,0.6225037632357133,0.8911559393325074,0.7213325990532768,0.840761422658354,0.8588494864040026,0.9943197850546281,0.8737692017056751,0.942257054014007,0.9084312098430154,0.9256251018844184,0.7653907326808108,0.7960660921588358,0.9212483066711644,0.9139439005787324,0.9178910249844934,0.9964819045195248,0.9341042087157153]}],\"labelangle\":30,\"labelside\":\"bottom\",\"line\":{\"color\":[3536.9174395380114,6465.73366696017,2700.820126050437,2373.924873146344,11067.385042735099,3246.948780901995,2342.13519426308,2451.4910749195014,2792.8260730555367,2540.107335511766,2374.7062857608894,2393.432205113325,13560.446601880485,2385.465043027186,2364.2440274935425,2360.6467613068958,2427.589483429354,2450.8910110714714,3185.9453659336255,2450.837591489171,2401.8949639591,2355.7777788530225,2381.2834866345934,2398.178563515142,2358.7746594735445,2364.271813331473,2331.0191186312186,2384.9473048822447,2372.4786467191425,2548.7276815089735,2354.020854769033,2343.2658166286374,2356.2571273861504,2358.7313190556015,2366.0776876037785],\"colorbar\":{\"title\":{\"text\":\"Objective Value\"}},\"colorscale\":[[0.0,\"rgb(247,251,255)\"],[0.125,\"rgb(222,235,247)\"],[0.25,\"rgb(198,219,239)\"],[0.375,\"rgb(158,202,225)\"],[0.5,\"rgb(107,174,214)\"],[0.625,\"rgb(66,146,198)\"],[0.75,\"rgb(33,113,181)\"],[0.875,\"rgb(8,81,156)\"],[1.0,\"rgb(8,48,107)\"]],\"reversescale\":true,\"showscale\":true},\"type\":\"parcoords\"}],                        {\"title\":{\"text\":\"Parallel Coordinate Plot\"},\"template\":{\"data\":{\"histogram2dcontour\":[{\"type\":\"histogram2dcontour\",\"colorbar\":{\"outlinewidth\":0,\"ticks\":\"\"},\"colorscale\":[[0.0,\"#0d0887\"],[0.1111111111111111,\"#46039f\"],[0.2222222222222222,\"#7201a8\"],[0.3333333333333333,\"#9c179e\"],[0.4444444444444444,\"#bd3786\"],[0.5555555555555556,\"#d8576b\"],[0.6666666666666666,\"#ed7953\"],[0.7777777777777778,\"#fb9f3a\"],[0.8888888888888888,\"#fdca26\"],[1.0,\"#f0f921\"]]}],\"choropleth\":[{\"type\":\"choropleth\",\"colorbar\":{\"outlinewidth\":0,\"ticks\":\"\"}}],\"histogram2d\":[{\"type\":\"histogram2d\",\"colorbar\":{\"outlinewidth\":0,\"ticks\":\"\"},\"colorscale\":[[0.0,\"#0d0887\"],[0.1111111111111111,\"#46039f\"],[0.2222222222222222,\"#7201a8\"],[0.3333333333333333,\"#9c179e\"],[0.4444444444444444,\"#bd3786\"],[0.5555555555555556,\"#d8576b\"],[0.6666666666666666,\"#ed7953\"],[0.7777777777777778,\"#fb9f3a\"],[0.8888888888888888,\"#fdca26\"],[1.0,\"#f0f921\"]]}],\"heatmap\":[{\"type\":\"heatmap\",\"colorbar\":{\"outlinewidth\":0,\"ticks\":\"\"},\"colorscale\":[[0.0,\"#0d0887\"],[0.1111111111111111,\"#46039f\"],[0.2222222222222222,\"#7201a8\"],[0.3333333333333333,\"#9c179e\"],[0.4444444444444444,\"#bd3786\"],[0.5555555555555556,\"#d8576b\"],[0.6666666666666666,\"#ed7953\"],[0.7777777777777778,\"#fb9f3a\"],[0.8888888888888888,\"#fdca26\"],[1.0,\"#f0f921\"]]}],\"heatmapgl\":[{\"type\":\"heatmapgl\",\"colorbar\":{\"outlinewidth\":0,\"ticks\":\"\"},\"colorscale\":[[0.0,\"#0d0887\"],[0.1111111111111111,\"#46039f\"],[0.2222222222222222,\"#7201a8\"],[0.3333333333333333,\"#9c179e\"],[0.4444444444444444,\"#bd3786\"],[0.5555555555555556,\"#d8576b\"],[0.6666666666666666,\"#ed7953\"],[0.7777777777777778,\"#fb9f3a\"],[0.8888888888888888,\"#fdca26\"],[1.0,\"#f0f921\"]]}],\"contourcarpet\":[{\"type\":\"contourcarpet\",\"colorbar\":{\"outlinewidth\":0,\"ticks\":\"\"}}],\"contour\":[{\"type\":\"contour\",\"colorbar\":{\"outlinewidth\":0,\"ticks\":\"\"},\"colorscale\":[[0.0,\"#0d0887\"],[0.1111111111111111,\"#46039f\"],[0.2222222222222222,\"#7201a8\"],[0.3333333333333333,\"#9c179e\"],[0.4444444444444444,\"#bd3786\"],[0.5555555555555556,\"#d8576b\"],[0.6666666666666666,\"#ed7953\"],[0.7777777777777778,\"#fb9f3a\"],[0.8888888888888888,\"#fdca26\"],[1.0,\"#f0f921\"]]}],\"surface\":[{\"type\":\"surface\",\"colorbar\":{\"outlinewidth\":0,\"ticks\":\"\"},\"colorscale\":[[0.0,\"#0d0887\"],[0.1111111111111111,\"#46039f\"],[0.2222222222222222,\"#7201a8\"],[0.3333333333333333,\"#9c179e\"],[0.4444444444444444,\"#bd3786\"],[0.5555555555555556,\"#d8576b\"],[0.6666666666666666,\"#ed7953\"],[0.7777777777777778,\"#fb9f3a\"],[0.8888888888888888,\"#fdca26\"],[1.0,\"#f0f921\"]]}],\"mesh3d\":[{\"type\":\"mesh3d\",\"colorbar\":{\"outlinewidth\":0,\"ticks\":\"\"}}],\"scatter\":[{\"fillpattern\":{\"fillmode\":\"overlay\",\"size\":10,\"solidity\":0.2},\"type\":\"scatter\"}],\"parcoords\":[{\"type\":\"parcoords\",\"line\":{\"colorbar\":{\"outlinewidth\":0,\"ticks\":\"\"}}}],\"scatterpolargl\":[{\"type\":\"scatterpolargl\",\"marker\":{\"colorbar\":{\"outlinewidth\":0,\"ticks\":\"\"}}}],\"bar\":[{\"error_x\":{\"color\":\"#2a3f5f\"},\"error_y\":{\"color\":\"#2a3f5f\"},\"marker\":{\"line\":{\"color\":\"#E5ECF6\",\"width\":0.5},\"pattern\":{\"fillmode\":\"overlay\",\"size\":10,\"solidity\":0.2}},\"type\":\"bar\"}],\"scattergeo\":[{\"type\":\"scattergeo\",\"marker\":{\"colorbar\":{\"outlinewidth\":0,\"ticks\":\"\"}}}],\"scatterpolar\":[{\"type\":\"scatterpolar\",\"marker\":{\"colorbar\":{\"outlinewidth\":0,\"ticks\":\"\"}}}],\"histogram\":[{\"marker\":{\"pattern\":{\"fillmode\":\"overlay\",\"size\":10,\"solidity\":0.2}},\"type\":\"histogram\"}],\"scattergl\":[{\"type\":\"scattergl\",\"marker\":{\"colorbar\":{\"outlinewidth\":0,\"ticks\":\"\"}}}],\"scatter3d\":[{\"type\":\"scatter3d\",\"line\":{\"colorbar\":{\"outlinewidth\":0,\"ticks\":\"\"}},\"marker\":{\"colorbar\":{\"outlinewidth\":0,\"ticks\":\"\"}}}],\"scattermapbox\":[{\"type\":\"scattermapbox\",\"marker\":{\"colorbar\":{\"outlinewidth\":0,\"ticks\":\"\"}}}],\"scatterternary\":[{\"type\":\"scatterternary\",\"marker\":{\"colorbar\":{\"outlinewidth\":0,\"ticks\":\"\"}}}],\"scattercarpet\":[{\"type\":\"scattercarpet\",\"marker\":{\"colorbar\":{\"outlinewidth\":0,\"ticks\":\"\"}}}],\"carpet\":[{\"aaxis\":{\"endlinecolor\":\"#2a3f5f\",\"gridcolor\":\"white\",\"linecolor\":\"white\",\"minorgridcolor\":\"white\",\"startlinecolor\":\"#2a3f5f\"},\"baxis\":{\"endlinecolor\":\"#2a3f5f\",\"gridcolor\":\"white\",\"linecolor\":\"white\",\"minorgridcolor\":\"white\",\"startlinecolor\":\"#2a3f5f\"},\"type\":\"carpet\"}],\"table\":[{\"cells\":{\"fill\":{\"color\":\"#EBF0F8\"},\"line\":{\"color\":\"white\"}},\"header\":{\"fill\":{\"color\":\"#C8D4E3\"},\"line\":{\"color\":\"white\"}},\"type\":\"table\"}],\"barpolar\":[{\"marker\":{\"line\":{\"color\":\"#E5ECF6\",\"width\":0.5},\"pattern\":{\"fillmode\":\"overlay\",\"size\":10,\"solidity\":0.2}},\"type\":\"barpolar\"}],\"pie\":[{\"automargin\":true,\"type\":\"pie\"}]},\"layout\":{\"autotypenumbers\":\"strict\",\"colorway\":[\"#636efa\",\"#EF553B\",\"#00cc96\",\"#ab63fa\",\"#FFA15A\",\"#19d3f3\",\"#FF6692\",\"#B6E880\",\"#FF97FF\",\"#FECB52\"],\"font\":{\"color\":\"#2a3f5f\"},\"hovermode\":\"closest\",\"hoverlabel\":{\"align\":\"left\"},\"paper_bgcolor\":\"white\",\"plot_bgcolor\":\"#E5ECF6\",\"polar\":{\"bgcolor\":\"#E5ECF6\",\"angularaxis\":{\"gridcolor\":\"white\",\"linecolor\":\"white\",\"ticks\":\"\"},\"radialaxis\":{\"gridcolor\":\"white\",\"linecolor\":\"white\",\"ticks\":\"\"}},\"ternary\":{\"bgcolor\":\"#E5ECF6\",\"aaxis\":{\"gridcolor\":\"white\",\"linecolor\":\"white\",\"ticks\":\"\"},\"baxis\":{\"gridcolor\":\"white\",\"linecolor\":\"white\",\"ticks\":\"\"},\"caxis\":{\"gridcolor\":\"white\",\"linecolor\":\"white\",\"ticks\":\"\"}},\"coloraxis\":{\"colorbar\":{\"outlinewidth\":0,\"ticks\":\"\"}},\"colorscale\":{\"sequential\":[[0.0,\"#0d0887\"],[0.1111111111111111,\"#46039f\"],[0.2222222222222222,\"#7201a8\"],[0.3333333333333333,\"#9c179e\"],[0.4444444444444444,\"#bd3786\"],[0.5555555555555556,\"#d8576b\"],[0.6666666666666666,\"#ed7953\"],[0.7777777777777778,\"#fb9f3a\"],[0.8888888888888888,\"#fdca26\"],[1.0,\"#f0f921\"]],\"sequentialminus\":[[0.0,\"#0d0887\"],[0.1111111111111111,\"#46039f\"],[0.2222222222222222,\"#7201a8\"],[0.3333333333333333,\"#9c179e\"],[0.4444444444444444,\"#bd3786\"],[0.5555555555555556,\"#d8576b\"],[0.6666666666666666,\"#ed7953\"],[0.7777777777777778,\"#fb9f3a\"],[0.8888888888888888,\"#fdca26\"],[1.0,\"#f0f921\"]],\"diverging\":[[0,\"#8e0152\"],[0.1,\"#c51b7d\"],[0.2,\"#de77ae\"],[0.3,\"#f1b6da\"],[0.4,\"#fde0ef\"],[0.5,\"#f7f7f7\"],[0.6,\"#e6f5d0\"],[0.7,\"#b8e186\"],[0.8,\"#7fbc41\"],[0.9,\"#4d9221\"],[1,\"#276419\"]]},\"xaxis\":{\"gridcolor\":\"white\",\"linecolor\":\"white\",\"ticks\":\"\",\"title\":{\"standoff\":15},\"zerolinecolor\":\"white\",\"automargin\":true,\"zerolinewidth\":2},\"yaxis\":{\"gridcolor\":\"white\",\"linecolor\":\"white\",\"ticks\":\"\",\"title\":{\"standoff\":15},\"zerolinecolor\":\"white\",\"automargin\":true,\"zerolinewidth\":2},\"scene\":{\"xaxis\":{\"backgroundcolor\":\"#E5ECF6\",\"gridcolor\":\"white\",\"linecolor\":\"white\",\"showbackground\":true,\"ticks\":\"\",\"zerolinecolor\":\"white\",\"gridwidth\":2},\"yaxis\":{\"backgroundcolor\":\"#E5ECF6\",\"gridcolor\":\"white\",\"linecolor\":\"white\",\"showbackground\":true,\"ticks\":\"\",\"zerolinecolor\":\"white\",\"gridwidth\":2},\"zaxis\":{\"backgroundcolor\":\"#E5ECF6\",\"gridcolor\":\"white\",\"linecolor\":\"white\",\"showbackground\":true,\"ticks\":\"\",\"zerolinecolor\":\"white\",\"gridwidth\":2}},\"shapedefaults\":{\"line\":{\"color\":\"#2a3f5f\"}},\"annotationdefaults\":{\"arrowcolor\":\"#2a3f5f\",\"arrowhead\":0,\"arrowwidth\":1},\"geo\":{\"bgcolor\":\"white\",\"landcolor\":\"#E5ECF6\",\"subunitcolor\":\"white\",\"showland\":true,\"showlakes\":true,\"lakecolor\":\"white\"},\"title\":{\"x\":0.05},\"mapbox\":{\"style\":\"light\"}}}},                        {\"responsive\": true}                    ).then(function(){\n",
              "                            \n",
              "var gd = document.getElementById('0ba9b292-d4b4-4c4f-9498-21eaaef53708');\n",
              "var x = new MutationObserver(function (mutations, observer) {{\n",
              "        var display = window.getComputedStyle(gd).display;\n",
              "        if (!display || display === 'none') {{\n",
              "            console.log([gd, 'removed!']);\n",
              "            Plotly.purge(gd);\n",
              "            observer.disconnect();\n",
              "        }}\n",
              "}});\n",
              "\n",
              "// Listen for the removal of the full notebook cells\n",
              "var notebookContainer = gd.closest('#notebook-container');\n",
              "if (notebookContainer) {{\n",
              "    x.observe(notebookContainer, {childList: true});\n",
              "}}\n",
              "\n",
              "// Listen for the clearing of the current output cell\n",
              "var outputEl = gd.closest('.output');\n",
              "if (outputEl) {{\n",
              "    x.observe(outputEl, {childList: true});\n",
              "}}\n",
              "\n",
              "                        })                };                            </script>        </div>\n",
              "</body>\n",
              "</html>"
            ]
          },
          "metadata": {}
        }
      ]
    },
    {
      "cell_type": "markdown",
      "source": [
        "¿Qué tendencias puede observar a partir del gráfico de coordenadas paralelas?\n",
        "\n",
        "**Respuesta:**\n",
        "```\n",
        "Se puede ver que los parámetros learning_rate y reg_lambda tienden a tener valores más altos, mientras que reg_alpha tiende a tener\n",
        "valores más bajos.\n",
        "Por otro lado las demás variables son más dispersas aunque se pueden ver ciertos valores más poblados como lo son el 6 y 8 en\n",
        "max_depth o el 3, 4 y 5 en min_child_weight.\n",
        "```"
      ],
      "metadata": {
        "id": "OP53ztoq1NnR"
      }
    },
    {
      "cell_type": "code",
      "source": [
        "#Graficamos la importancia de hiperparámetros\n",
        "plot_param_importances(study_pruning)"
      ],
      "metadata": {
        "colab": {
          "base_uri": "https://localhost:8080/",
          "height": 542
        },
        "id": "nn86p3IynleS",
        "outputId": "15371695-dbb7-4b75-fd8b-a33828c58b42"
      },
      "execution_count": 19,
      "outputs": [
        {
          "output_type": "display_data",
          "data": {
            "text/html": [
              "<html>\n",
              "<head><meta charset=\"utf-8\" /></head>\n",
              "<body>\n",
              "    <div>            <script src=\"https://cdnjs.cloudflare.com/ajax/libs/mathjax/2.7.5/MathJax.js?config=TeX-AMS-MML_SVG\"></script><script type=\"text/javascript\">if (window.MathJax && window.MathJax.Hub && window.MathJax.Hub.Config) {window.MathJax.Hub.Config({SVG: {font: \"STIX-Web\"}});}</script>                <script type=\"text/javascript\">window.PlotlyConfig = {MathJaxConfig: 'local'};</script>\n",
              "        <script charset=\"utf-8\" src=\"https://cdn.plot.ly/plotly-2.24.1.min.js\"></script>                <div id=\"3665234c-fc5d-4d51-b2a9-35c0b7423517\" class=\"plotly-graph-div\" style=\"height:525px; width:100%;\"></div>            <script type=\"text/javascript\">                                    window.PLOTLYENV=window.PLOTLYENV || {};                                    if (document.getElementById(\"3665234c-fc5d-4d51-b2a9-35c0b7423517\")) {                    Plotly.newPlot(                        \"3665234c-fc5d-4d51-b2a9-35c0b7423517\",                        [{\"cliponaxis\":false,\"hovertemplate\":[\"max_depth (IntDistribution): 0.021301732179678044\\u003cextra\\u003e\\u003c\\u002fextra\\u003e\",\"min_child_weight (IntDistribution): 0.02305054772476953\\u003cextra\\u003e\\u003c\\u002fextra\\u003e\",\"reg_alpha (FloatDistribution): 0.0478030434319517\\u003cextra\\u003e\\u003c\\u002fextra\\u003e\",\"reg_lambda (FloatDistribution): 0.056087768342338515\\u003cextra\\u003e\\u003c\\u002fextra\\u003e\",\"n_estimators (IntDistribution): 0.14371552770524362\\u003cextra\\u003e\\u003c\\u002fextra\\u003e\",\"learning_rate (FloatDistribution): 0.3287397742506019\\u003cextra\\u003e\\u003c\\u002fextra\\u003e\",\"max_leaves (IntDistribution): 0.3793016063654165\\u003cextra\\u003e\\u003c\\u002fextra\\u003e\"],\"name\":\"Objective Value\",\"orientation\":\"h\",\"text\":[\"0.02\",\"0.02\",\"0.05\",\"0.06\",\"0.14\",\"0.33\",\"0.38\"],\"textposition\":\"outside\",\"x\":[0.021301732179678044,0.02305054772476953,0.0478030434319517,0.056087768342338515,0.14371552770524362,0.3287397742506019,0.3793016063654165],\"y\":[\"max_depth\",\"min_child_weight\",\"reg_alpha\",\"reg_lambda\",\"n_estimators\",\"learning_rate\",\"max_leaves\"],\"type\":\"bar\"}],                        {\"title\":{\"text\":\"Hyperparameter Importances\"},\"xaxis\":{\"title\":{\"text\":\"Hyperparameter Importance\"}},\"yaxis\":{\"title\":{\"text\":\"Hyperparameter\"}},\"template\":{\"data\":{\"histogram2dcontour\":[{\"type\":\"histogram2dcontour\",\"colorbar\":{\"outlinewidth\":0,\"ticks\":\"\"},\"colorscale\":[[0.0,\"#0d0887\"],[0.1111111111111111,\"#46039f\"],[0.2222222222222222,\"#7201a8\"],[0.3333333333333333,\"#9c179e\"],[0.4444444444444444,\"#bd3786\"],[0.5555555555555556,\"#d8576b\"],[0.6666666666666666,\"#ed7953\"],[0.7777777777777778,\"#fb9f3a\"],[0.8888888888888888,\"#fdca26\"],[1.0,\"#f0f921\"]]}],\"choropleth\":[{\"type\":\"choropleth\",\"colorbar\":{\"outlinewidth\":0,\"ticks\":\"\"}}],\"histogram2d\":[{\"type\":\"histogram2d\",\"colorbar\":{\"outlinewidth\":0,\"ticks\":\"\"},\"colorscale\":[[0.0,\"#0d0887\"],[0.1111111111111111,\"#46039f\"],[0.2222222222222222,\"#7201a8\"],[0.3333333333333333,\"#9c179e\"],[0.4444444444444444,\"#bd3786\"],[0.5555555555555556,\"#d8576b\"],[0.6666666666666666,\"#ed7953\"],[0.7777777777777778,\"#fb9f3a\"],[0.8888888888888888,\"#fdca26\"],[1.0,\"#f0f921\"]]}],\"heatmap\":[{\"type\":\"heatmap\",\"colorbar\":{\"outlinewidth\":0,\"ticks\":\"\"},\"colorscale\":[[0.0,\"#0d0887\"],[0.1111111111111111,\"#46039f\"],[0.2222222222222222,\"#7201a8\"],[0.3333333333333333,\"#9c179e\"],[0.4444444444444444,\"#bd3786\"],[0.5555555555555556,\"#d8576b\"],[0.6666666666666666,\"#ed7953\"],[0.7777777777777778,\"#fb9f3a\"],[0.8888888888888888,\"#fdca26\"],[1.0,\"#f0f921\"]]}],\"heatmapgl\":[{\"type\":\"heatmapgl\",\"colorbar\":{\"outlinewidth\":0,\"ticks\":\"\"},\"colorscale\":[[0.0,\"#0d0887\"],[0.1111111111111111,\"#46039f\"],[0.2222222222222222,\"#7201a8\"],[0.3333333333333333,\"#9c179e\"],[0.4444444444444444,\"#bd3786\"],[0.5555555555555556,\"#d8576b\"],[0.6666666666666666,\"#ed7953\"],[0.7777777777777778,\"#fb9f3a\"],[0.8888888888888888,\"#fdca26\"],[1.0,\"#f0f921\"]]}],\"contourcarpet\":[{\"type\":\"contourcarpet\",\"colorbar\":{\"outlinewidth\":0,\"ticks\":\"\"}}],\"contour\":[{\"type\":\"contour\",\"colorbar\":{\"outlinewidth\":0,\"ticks\":\"\"},\"colorscale\":[[0.0,\"#0d0887\"],[0.1111111111111111,\"#46039f\"],[0.2222222222222222,\"#7201a8\"],[0.3333333333333333,\"#9c179e\"],[0.4444444444444444,\"#bd3786\"],[0.5555555555555556,\"#d8576b\"],[0.6666666666666666,\"#ed7953\"],[0.7777777777777778,\"#fb9f3a\"],[0.8888888888888888,\"#fdca26\"],[1.0,\"#f0f921\"]]}],\"surface\":[{\"type\":\"surface\",\"colorbar\":{\"outlinewidth\":0,\"ticks\":\"\"},\"colorscale\":[[0.0,\"#0d0887\"],[0.1111111111111111,\"#46039f\"],[0.2222222222222222,\"#7201a8\"],[0.3333333333333333,\"#9c179e\"],[0.4444444444444444,\"#bd3786\"],[0.5555555555555556,\"#d8576b\"],[0.6666666666666666,\"#ed7953\"],[0.7777777777777778,\"#fb9f3a\"],[0.8888888888888888,\"#fdca26\"],[1.0,\"#f0f921\"]]}],\"mesh3d\":[{\"type\":\"mesh3d\",\"colorbar\":{\"outlinewidth\":0,\"ticks\":\"\"}}],\"scatter\":[{\"fillpattern\":{\"fillmode\":\"overlay\",\"size\":10,\"solidity\":0.2},\"type\":\"scatter\"}],\"parcoords\":[{\"type\":\"parcoords\",\"line\":{\"colorbar\":{\"outlinewidth\":0,\"ticks\":\"\"}}}],\"scatterpolargl\":[{\"type\":\"scatterpolargl\",\"marker\":{\"colorbar\":{\"outlinewidth\":0,\"ticks\":\"\"}}}],\"bar\":[{\"error_x\":{\"color\":\"#2a3f5f\"},\"error_y\":{\"color\":\"#2a3f5f\"},\"marker\":{\"line\":{\"color\":\"#E5ECF6\",\"width\":0.5},\"pattern\":{\"fillmode\":\"overlay\",\"size\":10,\"solidity\":0.2}},\"type\":\"bar\"}],\"scattergeo\":[{\"type\":\"scattergeo\",\"marker\":{\"colorbar\":{\"outlinewidth\":0,\"ticks\":\"\"}}}],\"scatterpolar\":[{\"type\":\"scatterpolar\",\"marker\":{\"colorbar\":{\"outlinewidth\":0,\"ticks\":\"\"}}}],\"histogram\":[{\"marker\":{\"pattern\":{\"fillmode\":\"overlay\",\"size\":10,\"solidity\":0.2}},\"type\":\"histogram\"}],\"scattergl\":[{\"type\":\"scattergl\",\"marker\":{\"colorbar\":{\"outlinewidth\":0,\"ticks\":\"\"}}}],\"scatter3d\":[{\"type\":\"scatter3d\",\"line\":{\"colorbar\":{\"outlinewidth\":0,\"ticks\":\"\"}},\"marker\":{\"colorbar\":{\"outlinewidth\":0,\"ticks\":\"\"}}}],\"scattermapbox\":[{\"type\":\"scattermapbox\",\"marker\":{\"colorbar\":{\"outlinewidth\":0,\"ticks\":\"\"}}}],\"scatterternary\":[{\"type\":\"scatterternary\",\"marker\":{\"colorbar\":{\"outlinewidth\":0,\"ticks\":\"\"}}}],\"scattercarpet\":[{\"type\":\"scattercarpet\",\"marker\":{\"colorbar\":{\"outlinewidth\":0,\"ticks\":\"\"}}}],\"carpet\":[{\"aaxis\":{\"endlinecolor\":\"#2a3f5f\",\"gridcolor\":\"white\",\"linecolor\":\"white\",\"minorgridcolor\":\"white\",\"startlinecolor\":\"#2a3f5f\"},\"baxis\":{\"endlinecolor\":\"#2a3f5f\",\"gridcolor\":\"white\",\"linecolor\":\"white\",\"minorgridcolor\":\"white\",\"startlinecolor\":\"#2a3f5f\"},\"type\":\"carpet\"}],\"table\":[{\"cells\":{\"fill\":{\"color\":\"#EBF0F8\"},\"line\":{\"color\":\"white\"}},\"header\":{\"fill\":{\"color\":\"#C8D4E3\"},\"line\":{\"color\":\"white\"}},\"type\":\"table\"}],\"barpolar\":[{\"marker\":{\"line\":{\"color\":\"#E5ECF6\",\"width\":0.5},\"pattern\":{\"fillmode\":\"overlay\",\"size\":10,\"solidity\":0.2}},\"type\":\"barpolar\"}],\"pie\":[{\"automargin\":true,\"type\":\"pie\"}]},\"layout\":{\"autotypenumbers\":\"strict\",\"colorway\":[\"#636efa\",\"#EF553B\",\"#00cc96\",\"#ab63fa\",\"#FFA15A\",\"#19d3f3\",\"#FF6692\",\"#B6E880\",\"#FF97FF\",\"#FECB52\"],\"font\":{\"color\":\"#2a3f5f\"},\"hovermode\":\"closest\",\"hoverlabel\":{\"align\":\"left\"},\"paper_bgcolor\":\"white\",\"plot_bgcolor\":\"#E5ECF6\",\"polar\":{\"bgcolor\":\"#E5ECF6\",\"angularaxis\":{\"gridcolor\":\"white\",\"linecolor\":\"white\",\"ticks\":\"\"},\"radialaxis\":{\"gridcolor\":\"white\",\"linecolor\":\"white\",\"ticks\":\"\"}},\"ternary\":{\"bgcolor\":\"#E5ECF6\",\"aaxis\":{\"gridcolor\":\"white\",\"linecolor\":\"white\",\"ticks\":\"\"},\"baxis\":{\"gridcolor\":\"white\",\"linecolor\":\"white\",\"ticks\":\"\"},\"caxis\":{\"gridcolor\":\"white\",\"linecolor\":\"white\",\"ticks\":\"\"}},\"coloraxis\":{\"colorbar\":{\"outlinewidth\":0,\"ticks\":\"\"}},\"colorscale\":{\"sequential\":[[0.0,\"#0d0887\"],[0.1111111111111111,\"#46039f\"],[0.2222222222222222,\"#7201a8\"],[0.3333333333333333,\"#9c179e\"],[0.4444444444444444,\"#bd3786\"],[0.5555555555555556,\"#d8576b\"],[0.6666666666666666,\"#ed7953\"],[0.7777777777777778,\"#fb9f3a\"],[0.8888888888888888,\"#fdca26\"],[1.0,\"#f0f921\"]],\"sequentialminus\":[[0.0,\"#0d0887\"],[0.1111111111111111,\"#46039f\"],[0.2222222222222222,\"#7201a8\"],[0.3333333333333333,\"#9c179e\"],[0.4444444444444444,\"#bd3786\"],[0.5555555555555556,\"#d8576b\"],[0.6666666666666666,\"#ed7953\"],[0.7777777777777778,\"#fb9f3a\"],[0.8888888888888888,\"#fdca26\"],[1.0,\"#f0f921\"]],\"diverging\":[[0,\"#8e0152\"],[0.1,\"#c51b7d\"],[0.2,\"#de77ae\"],[0.3,\"#f1b6da\"],[0.4,\"#fde0ef\"],[0.5,\"#f7f7f7\"],[0.6,\"#e6f5d0\"],[0.7,\"#b8e186\"],[0.8,\"#7fbc41\"],[0.9,\"#4d9221\"],[1,\"#276419\"]]},\"xaxis\":{\"gridcolor\":\"white\",\"linecolor\":\"white\",\"ticks\":\"\",\"title\":{\"standoff\":15},\"zerolinecolor\":\"white\",\"automargin\":true,\"zerolinewidth\":2},\"yaxis\":{\"gridcolor\":\"white\",\"linecolor\":\"white\",\"ticks\":\"\",\"title\":{\"standoff\":15},\"zerolinecolor\":\"white\",\"automargin\":true,\"zerolinewidth\":2},\"scene\":{\"xaxis\":{\"backgroundcolor\":\"#E5ECF6\",\"gridcolor\":\"white\",\"linecolor\":\"white\",\"showbackground\":true,\"ticks\":\"\",\"zerolinecolor\":\"white\",\"gridwidth\":2},\"yaxis\":{\"backgroundcolor\":\"#E5ECF6\",\"gridcolor\":\"white\",\"linecolor\":\"white\",\"showbackground\":true,\"ticks\":\"\",\"zerolinecolor\":\"white\",\"gridwidth\":2},\"zaxis\":{\"backgroundcolor\":\"#E5ECF6\",\"gridcolor\":\"white\",\"linecolor\":\"white\",\"showbackground\":true,\"ticks\":\"\",\"zerolinecolor\":\"white\",\"gridwidth\":2}},\"shapedefaults\":{\"line\":{\"color\":\"#2a3f5f\"}},\"annotationdefaults\":{\"arrowcolor\":\"#2a3f5f\",\"arrowhead\":0,\"arrowwidth\":1},\"geo\":{\"bgcolor\":\"white\",\"landcolor\":\"#E5ECF6\",\"subunitcolor\":\"white\",\"showland\":true,\"showlakes\":true,\"lakecolor\":\"white\"},\"title\":{\"x\":0.05},\"mapbox\":{\"style\":\"light\"}}}},                        {\"responsive\": true}                    ).then(function(){\n",
              "                            \n",
              "var gd = document.getElementById('3665234c-fc5d-4d51-b2a9-35c0b7423517');\n",
              "var x = new MutationObserver(function (mutations, observer) {{\n",
              "        var display = window.getComputedStyle(gd).display;\n",
              "        if (!display || display === 'none') {{\n",
              "            console.log([gd, 'removed!']);\n",
              "            Plotly.purge(gd);\n",
              "            observer.disconnect();\n",
              "        }}\n",
              "}});\n",
              "\n",
              "// Listen for the removal of the full notebook cells\n",
              "var notebookContainer = gd.closest('#notebook-container');\n",
              "if (notebookContainer) {{\n",
              "    x.observe(notebookContainer, {childList: true});\n",
              "}}\n",
              "\n",
              "// Listen for the clearing of the current output cell\n",
              "var outputEl = gd.closest('.output');\n",
              "if (outputEl) {{\n",
              "    x.observe(outputEl, {childList: true});\n",
              "}}\n",
              "\n",
              "                        })                };                            </script>        </div>\n",
              "</body>\n",
              "</html>"
            ]
          },
          "metadata": {}
        }
      ]
    },
    {
      "cell_type": "markdown",
      "source": [
        "¿Cuáles son los hiperparámetros con mayor importancia para la optimización de su modelo?\n",
        "\n",
        "**Respuesta:**\n",
        "```\n",
        "Las variables más importante son max_leaves y learning_rate por un amplio margen, seguidas de n_estimators y luego reg_lambda\n",
        "y reg_alpha.\n",
        "```"
      ],
      "metadata": {
        "id": "_sxJQmfP1Nkx"
      }
    },
    {
      "cell_type": "markdown",
      "metadata": {
        "cell_id": "ac8a20f445d045a3becf1a518d410a7d",
        "deepnote_cell_type": "markdown",
        "id": "n8F7ZKzW4aws"
      },
      "source": [
        "## 1.6 Síntesis de resultados (0.3)\n",
        "\n",
        "Finalmente, genere una tabla resumen del MAE obtenido en los 5 modelos entrenados (desde Baseline hasta XGBoost con Constraints, Optuna y Prunning) y compare sus resultados. ¿Qué modelo obtiene el mejor rendimiento?\n",
        "\n",
        "Por último, cargue el mejor modelo, prediga sobre el conjunto de test y reporte su MAE. ¿Existen diferencias con respecto a las métricas obtenidas en el conjunto de validación? ¿Por qué puede ocurrir esto?"
      ]
    },
    {
      "cell_type": "markdown",
      "source": [
        "|  | Baseline | XGBoost | XGBoost+Constraint | XGBoost+Optuna | XGBoost+pruning |\n",
        "|-----------|-----------|-----------|-----------|-----------|-----------|\n",
        "| MAE        | 13413.18        | 2427.11       | 2447.61        | 2309.60        | 2066.15        |\n"
      ],
      "metadata": {
        "id": "deCdaZMX5LGG"
      }
    },
    {
      "cell_type": "markdown",
      "source": [
        "```\n",
        "A partir de lo anterior y lo mencionado a lo largo del laboratorio se puede indicar que el mejor modelo fue el que utiliza el pruning,\n",
        "obteniendo el mejor valor de MAE por un amplio margen respecto a los 3 modelos que le siguen, mejorando cerca de un 11% respecto al\n",
        "modelo más cercano a él.\n",
        "```"
      ],
      "metadata": {
        "id": "Hge6NRct9CeL"
      }
    },
    {
      "cell_type": "code",
      "source": [
        "#Predecimos sobre los datos de test\n",
        "test_predictions_xgb_best_pruning = pipeline_xgb_best_pruning.predict(X_test)\n",
        "\n",
        "#Obtenemos el valor del MAE\n",
        "mae_xgb_best_pruning = mean_absolute_error(y_test, test_predictions_xgb_best_pruning)\n",
        "\n",
        "#Imprimimos resultados relevantes\n",
        "print(f'MAE con XGBoost y los mejores hiperparámetros (prunning): {mae_xgb_best_pruning}')\n",
        "#Guardamos el regresor XGBoost con los mejores hiperparámetros y pruning\n",
        "with open('regressor_xgb_best_pruning.pkl', 'wb') as f:\n",
        "    pickle.dump(pipeline_xgb_best_pruning, f)"
      ],
      "metadata": {
        "colab": {
          "base_uri": "https://localhost:8080/"
        },
        "id": "6WsJY2Zv4yYd",
        "outputId": "bc2fe221-5544-4429-9025-61f13fd3f19e"
      },
      "execution_count": 22,
      "outputs": [
        {
          "output_type": "stream",
          "name": "stdout",
          "text": [
            "MAE con XGBoost y los mejores hiperparámetros (prunning): 2054.745144205074\n"
          ]
        }
      ]
    },
    {
      "cell_type": "markdown",
      "source": [
        "```\n",
        "El modelo entrega un MAE de 2054.75 en el conjunto de test, lo que es similar e incluso mejor que sobre el conjunto de validation\n",
        "(aunque esta mejoría puede considerarse dentro del margen de error).\n",
        "Con esto se reafirma que este modelo es el que entrega mejores resultados entre todos los probados y que no presenta diferencias\n",
        "significativas en rendimiento con respecto a la validación.\n",
        "```"
      ],
      "metadata": {
        "id": "_XbqlIsd9AhM"
      }
    },
    {
      "cell_type": "markdown",
      "metadata": {
        "cell_id": "5c4654d12037494fbd385b4dc6bd1059",
        "deepnote_cell_type": "markdown",
        "id": "LXdG6jlL4aws"
      },
      "source": [
        "# Conclusión\n",
        "Eso ha sido todo para el lab de hoy, recuerden que el laboratorio tiene un plazo de entrega de una semana. Cualquier duda del laboratorio, no duden en contactarnos por mail o U-cursos.\n",
        "\n",
        "<p align=\"center\">\n",
        "  <img src=\"https://media.tenor.com/8CT1AXElF_cAAAAC/gojo-satoru.gif\">\n",
        "</p>"
      ]
    },
    {
      "cell_type": "markdown",
      "metadata": {
        "cell_id": "5025de06759f4903a26916c80323bf25",
        "deepnote_cell_type": "markdown",
        "id": "Jqrk5E2e4aws"
      },
      "source": []
    },
    {
      "cell_type": "markdown",
      "source": [
        "<a style='text-decoration:none;line-height:16px;display:flex;color:#5B5B62;padding:10px;justify-content:end;' href='https://deepnote.com?utm_source=created-in-deepnote-cell&projectId=87110296-876e-426f-b91d-aaf681223468' target=\"_blank\">\n",
        "<img alt='Created in deepnote.com' style='display:inline;max-height:16px;margin:0px;margin-right:7.5px;' src='data:image/svg+xml;base64,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' > </img>\n",
        "Created in <span style='font-weight:600;margin-left:4px;'>Deepnote</span></a>"
      ],
      "metadata": {
        "created_in_deepnote_cell": true,
        "deepnote_cell_type": "markdown",
        "id": "eyaVmCqp4aws"
      }
    }
  ],
  "nbformat": 4,
  "nbformat_minor": 0,
  "metadata": {
    "deepnote": {},
    "kernelspec": {
      "name": "python3",
      "language": "python",
      "display_name": "base"
    },
    "language_info": {
      "name": "python",
      "version": "3.10.9",
      "mimetype": "text/x-python",
      "file_extension": ".py",
      "pygments_lexer": "ipython3",
      "codemirror_mode": {
        "name": "ipython",
        "version": 3
      },
      "nbconvert_exporter": "python"
    },
    "deepnote_notebook_id": "f63d38450a6b464c9bb6385cf11db4d9",
    "deepnote_persisted_session": {
      "createdAt": "2023-11-09T16:18:30.203Z"
    },
    "deepnote_execution_queue": [],
    "colab": {
      "provenance": []
    }
  }
}