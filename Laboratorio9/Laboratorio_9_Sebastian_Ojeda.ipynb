{
  "cells": [
    {
      "cell_type": "markdown",
      "metadata": {
        "cell_id": "b5c0d2440b3e4995a794ded565213150",
        "deepnote_cell_type": "markdown",
        "id": "UUzPAs4o4avH"
      },
      "source": [
        "<h1><center>Laboratorio 9: Optimización de modelos 💯</center></h1>\n",
        "\n",
        "<center><strong>MDS7202: Laboratorio de Programación Científica para Ciencia de Datos</strong></center>"
      ]
    },
    {
      "cell_type": "markdown",
      "metadata": {
        "cell_id": "bfb94b9656f145ad83e81b75d218cb70",
        "deepnote_cell_type": "markdown",
        "id": "RmDuc0cV4avb"
      },
      "source": [
        "### Cuerpo Docente:\n",
        "\n",
        "- Profesor: Ignacio Meza, Gabriel Iturra\n",
        "- Auxiliar: Sebastián Tinoco\n",
        "- Ayudante: Arturo Lazcano, Angelo Muñoz"
      ]
    },
    {
      "cell_type": "markdown",
      "metadata": {
        "cell_id": "b1b537fdd27c43909a49d3476ce64d91",
        "deepnote_cell_type": "markdown",
        "id": "hVjvTy1b4avf"
      },
      "source": [
        "### Equipo: SUPER IMPORTANTE - notebooks sin nombre no serán revisados\n",
        "\n",
        "- Nombre de alumno 1: Sebastián Ojeda G.\n"
      ]
    },
    {
      "cell_type": "markdown",
      "metadata": {
        "cell_id": "b7dbdd30ab544cb8a8afe00648a586ae",
        "deepnote_cell_type": "markdown",
        "id": "scZiJZOL4avh"
      },
      "source": [
        "## Temas a tratar\n",
        "\n",
        "- Predicción de demanda usando `xgboost`\n",
        "- Búsqueda del modelo óptimo de clasificación usando `optuna`\n",
        "- Uso de pipelines.\n",
        "\n",
        "## Reglas:\n",
        "\n",
        "- **Grupos de 2 personas**\n",
        "- Cualquier duda fuera del horario de clases al foro. Mensajes al equipo docente serán respondidos por este medio.\n",
        "- Prohibidas las copias.\n",
        "- Pueden usar cualquer material del curso que estimen conveniente.\n",
        "\n",
        "### Objetivos principales del laboratorio\n",
        "\n",
        "- Optimizar modelos usando `optuna`\n",
        "- Recurrir a técnicas de *prunning*\n",
        "- Forzar el aprendizaje de relaciones entre variables mediante *constraints*\n",
        "- Fijar un pipeline con un modelo base que luego se irá optimizando.\n",
        "\n",
        "El laboratorio deberá ser desarrollado sin el uso indiscriminado de iteradores nativos de python (aka \"for\", \"while\"). La idea es que aprendan a exprimir al máximo las funciones optimizadas que nos entrega `pandas`, las cuales vale mencionar, son bastante más eficientes que los iteradores nativos sobre DataFrames."
      ]
    },
    {
      "cell_type": "markdown",
      "metadata": {
        "cell_id": "f38c8342f5164aa992a97488dd5590bf",
        "deepnote_cell_type": "markdown",
        "id": "ioBs0g5l4avm"
      },
      "source": [
        "### **Link de repositorio de GitHub:** `https://github.com/sebajedi23/MDS7202`"
      ]
    },
    {
      "cell_type": "markdown",
      "metadata": {
        "cell_id": "f1c73babb7f74af588a4fa6ae14829e0",
        "deepnote_cell_type": "markdown",
        "id": "iSmy4JvR4avo"
      },
      "source": [
        "# Importamos librerias útiles"
      ]
    },
    {
      "cell_type": "code",
      "metadata": {
        "source_hash": null,
        "execution_start": 1699544354044,
        "execution_millis": 4957,
        "deepnote_to_be_reexecuted": false,
        "cell_id": "51afe4d2df42442b9e5402ffece60ead",
        "deepnote_cell_type": "code",
        "id": "pjs30kkd4avp",
        "colab": {
          "base_uri": "https://localhost:8080/"
        },
        "outputId": "c72ffbb8-ae7d-47a3-9156-240f7d437e97"
      },
      "source": [
        "!pip install -qq xgboost optuna"
      ],
      "execution_count": 1,
      "outputs": [
        {
          "output_type": "stream",
          "name": "stdout",
          "text": [
            "\u001b[2K     \u001b[90m━━━━━━━━━━━━━━━━━━━━━━━━━━━━━━━━━━━━━━━━\u001b[0m \u001b[32m409.6/409.6 kB\u001b[0m \u001b[31m3.4 MB/s\u001b[0m eta \u001b[36m0:00:00\u001b[0m\n",
            "\u001b[2K     \u001b[90m━━━━━━━━━━━━━━━━━━━━━━━━━━━━━━━━━━━━━━━━\u001b[0m \u001b[32m226.8/226.8 kB\u001b[0m \u001b[31m7.5 MB/s\u001b[0m eta \u001b[36m0:00:00\u001b[0m\n",
            "\u001b[2K     \u001b[90m━━━━━━━━━━━━━━━━━━━━━━━━━━━━━━━━━━━━━━━━\u001b[0m \u001b[32m78.6/78.6 kB\u001b[0m \u001b[31m9.2 MB/s\u001b[0m eta \u001b[36m0:00:00\u001b[0m\n",
            "\u001b[?25h"
          ]
        }
      ]
    },
    {
      "cell_type": "code",
      "source": [
        "#Scikit-learn\n",
        "from sklearn.model_selection import train_test_split\n",
        "from sklearn.model_selection import cross_val_score\n",
        "from sklearn.metrics import mean_absolute_error, r2_score\n",
        "from sklearn.metrics import make_scorer\n",
        "from sklearn.preprocessing import FunctionTransformer, OneHotEncoder, StandardScaler, MinMaxScaler\n",
        "from sklearn.compose import ColumnTransformer\n",
        "from sklearn.pipeline import Pipeline\n",
        "from sklearn.dummy import DummyRegressor\n",
        "\n",
        "#Optuna\n",
        "import optuna\n",
        "from optuna.integration import XGBoostPruningCallback\n",
        "from optuna.samplers import TPESampler\n",
        "from optuna.visualization import plot_optimization_history, plot_parallel_coordinate, plot_param_importances\n",
        "\n",
        "#Otros\n",
        "import pandas as pd\n",
        "import numpy as np\n",
        "from datetime import datetime\n",
        "from xgboost import XGBRegressor\n",
        "import pickle\n",
        "import warnings"
      ],
      "metadata": {
        "id": "lqU4noKKz5u3"
      },
      "execution_count": 2,
      "outputs": []
    },
    {
      "cell_type": "code",
      "source": [
        "# Si usted está utilizando Colabolatory le puede ser útil este código para cargar los archivos.\n",
        "try:\n",
        "    from google.colab import drive\n",
        "    drive.mount(\"/content/drive\")\n",
        "    path = '/content/drive/MyDrive/Colab Notebooks/Laboratorio de programación científica para ciencia de datos/Lab 9/'\n",
        "except:\n",
        "    print('Ignorando conexión drive-colab')"
      ],
      "metadata": {
        "id": "fTDI-nDh4f3V",
        "colab": {
          "base_uri": "https://localhost:8080/"
        },
        "outputId": "74fa3b8e-4ed3-4305-a5d3-4aaba6741ffc"
      },
      "execution_count": 3,
      "outputs": [
        {
          "output_type": "stream",
          "name": "stdout",
          "text": [
            "Mounted at /content/drive\n"
          ]
        }
      ]
    },
    {
      "cell_type": "markdown",
      "metadata": {
        "cell_id": "44d227389a734ac59189c5e0005bc68a",
        "deepnote_cell_type": "markdown",
        "id": "3n85lrUG4avw"
      },
      "source": [
        "# 1. El emprendimiento de Fiu\n",
        "\n",
        "Tras liderar de manera exitosa la implementación de un proyecto de ciencia de datos para caracterizar los datos generados en Santiago 2023, el misterioso corpóreo **Fiu** se anima y decide levantar su propio negocio de consultoría en machine learning. Tras varias e intensas negociaciones, Fiu logra encontrar su *primera chamba*: predecir la demanda (cantidad de venta) de una famosa productora de bebidas de calibre mundial. Como usted tuvo un rendimiento sobresaliente en el proyecto de caracterización de datos, Fiu lo contrata como *data scientist* de su emprendimiento.\n",
        "\n",
        "Para este laboratorio deben trabajar con los datos `sales.csv` subidos a u-cursos, el cual contiene una muestra de ventas de la empresa para diferentes productos en un determinado tiempo.\n",
        "\n",
        "Para comenzar, cargue el dataset señalado y visualice a través de un `.head` los atributos que posee el dataset.\n",
        "\n",
        "<i><p align=\"center\">Fiu siendo felicitado por su excelente desempeño en el proyecto de caracterización de datos</p></i>\n",
        "<p align=\"center\">\n",
        "  <img src=\"https://media-front.elmostrador.cl/2023/09/A_UNO_1506411_2440e.jpg\">\n",
        "</p>"
      ]
    },
    {
      "cell_type": "code",
      "metadata": {
        "source_hash": null,
        "execution_start": 1699544359006,
        "execution_millis": 92,
        "deepnote_to_be_reexecuted": false,
        "cell_id": "2f9c82d204b14515ad27ae07e0b77702",
        "deepnote_cell_type": "code",
        "id": "svRPlaxy4av3",
        "outputId": "e797b708-5de0-46eb-f7f0-f4fd8ba9a6b8",
        "colab": {
          "base_uri": "https://localhost:8080/",
          "height": 206
        }
      },
      "source": [
        "#Creamos un DataFrame a partir de los datos\n",
        "df = pd.read_csv(path + 'sales.csv')\n",
        "df['date'] = pd.to_datetime(df['date'])\n",
        "\n",
        "df.head()"
      ],
      "execution_count": 4,
      "outputs": [
        {
          "output_type": "execute_result",
          "data": {
            "text/plain": [
              "   id       date    city       lat      long     pop    shop        brand  \\\n",
              "0   0 2012-01-31  Athens  37.97945  23.71622  672130  shop_1  kinder-cola   \n",
              "1   1 2012-01-31  Athens  37.97945  23.71622  672130  shop_1  kinder-cola   \n",
              "2   2 2012-01-31  Athens  37.97945  23.71622  672130  shop_1  kinder-cola   \n",
              "3   3 2012-01-31  Athens  37.97945  23.71622  672130  shop_1   adult-cola   \n",
              "4   4 2012-01-31  Athens  37.97945  23.71622  672130  shop_1   adult-cola   \n",
              "\n",
              "  container capacity  price  quantity  \n",
              "0     glass    500ml   0.96     13280  \n",
              "1   plastic    1.5lt   2.86      6727  \n",
              "2       can    330ml   0.87      9848  \n",
              "3     glass    500ml   1.00     20050  \n",
              "4       can    330ml   0.39     25696  "
            ],
            "text/html": [
              "\n",
              "  <div id=\"df-32439812-54ed-49e7-b97a-e3a033732fc3\" class=\"colab-df-container\">\n",
              "    <div>\n",
              "<style scoped>\n",
              "    .dataframe tbody tr th:only-of-type {\n",
              "        vertical-align: middle;\n",
              "    }\n",
              "\n",
              "    .dataframe tbody tr th {\n",
              "        vertical-align: top;\n",
              "    }\n",
              "\n",
              "    .dataframe thead th {\n",
              "        text-align: right;\n",
              "    }\n",
              "</style>\n",
              "<table border=\"1\" class=\"dataframe\">\n",
              "  <thead>\n",
              "    <tr style=\"text-align: right;\">\n",
              "      <th></th>\n",
              "      <th>id</th>\n",
              "      <th>date</th>\n",
              "      <th>city</th>\n",
              "      <th>lat</th>\n",
              "      <th>long</th>\n",
              "      <th>pop</th>\n",
              "      <th>shop</th>\n",
              "      <th>brand</th>\n",
              "      <th>container</th>\n",
              "      <th>capacity</th>\n",
              "      <th>price</th>\n",
              "      <th>quantity</th>\n",
              "    </tr>\n",
              "  </thead>\n",
              "  <tbody>\n",
              "    <tr>\n",
              "      <th>0</th>\n",
              "      <td>0</td>\n",
              "      <td>2012-01-31</td>\n",
              "      <td>Athens</td>\n",
              "      <td>37.97945</td>\n",
              "      <td>23.71622</td>\n",
              "      <td>672130</td>\n",
              "      <td>shop_1</td>\n",
              "      <td>kinder-cola</td>\n",
              "      <td>glass</td>\n",
              "      <td>500ml</td>\n",
              "      <td>0.96</td>\n",
              "      <td>13280</td>\n",
              "    </tr>\n",
              "    <tr>\n",
              "      <th>1</th>\n",
              "      <td>1</td>\n",
              "      <td>2012-01-31</td>\n",
              "      <td>Athens</td>\n",
              "      <td>37.97945</td>\n",
              "      <td>23.71622</td>\n",
              "      <td>672130</td>\n",
              "      <td>shop_1</td>\n",
              "      <td>kinder-cola</td>\n",
              "      <td>plastic</td>\n",
              "      <td>1.5lt</td>\n",
              "      <td>2.86</td>\n",
              "      <td>6727</td>\n",
              "    </tr>\n",
              "    <tr>\n",
              "      <th>2</th>\n",
              "      <td>2</td>\n",
              "      <td>2012-01-31</td>\n",
              "      <td>Athens</td>\n",
              "      <td>37.97945</td>\n",
              "      <td>23.71622</td>\n",
              "      <td>672130</td>\n",
              "      <td>shop_1</td>\n",
              "      <td>kinder-cola</td>\n",
              "      <td>can</td>\n",
              "      <td>330ml</td>\n",
              "      <td>0.87</td>\n",
              "      <td>9848</td>\n",
              "    </tr>\n",
              "    <tr>\n",
              "      <th>3</th>\n",
              "      <td>3</td>\n",
              "      <td>2012-01-31</td>\n",
              "      <td>Athens</td>\n",
              "      <td>37.97945</td>\n",
              "      <td>23.71622</td>\n",
              "      <td>672130</td>\n",
              "      <td>shop_1</td>\n",
              "      <td>adult-cola</td>\n",
              "      <td>glass</td>\n",
              "      <td>500ml</td>\n",
              "      <td>1.00</td>\n",
              "      <td>20050</td>\n",
              "    </tr>\n",
              "    <tr>\n",
              "      <th>4</th>\n",
              "      <td>4</td>\n",
              "      <td>2012-01-31</td>\n",
              "      <td>Athens</td>\n",
              "      <td>37.97945</td>\n",
              "      <td>23.71622</td>\n",
              "      <td>672130</td>\n",
              "      <td>shop_1</td>\n",
              "      <td>adult-cola</td>\n",
              "      <td>can</td>\n",
              "      <td>330ml</td>\n",
              "      <td>0.39</td>\n",
              "      <td>25696</td>\n",
              "    </tr>\n",
              "  </tbody>\n",
              "</table>\n",
              "</div>\n",
              "    <div class=\"colab-df-buttons\">\n",
              "\n",
              "  <div class=\"colab-df-container\">\n",
              "    <button class=\"colab-df-convert\" onclick=\"convertToInteractive('df-32439812-54ed-49e7-b97a-e3a033732fc3')\"\n",
              "            title=\"Convert this dataframe to an interactive table.\"\n",
              "            style=\"display:none;\">\n",
              "\n",
              "  <svg xmlns=\"http://www.w3.org/2000/svg\" height=\"24px\" viewBox=\"0 -960 960 960\">\n",
              "    <path d=\"M120-120v-720h720v720H120Zm60-500h600v-160H180v160Zm220 220h160v-160H400v160Zm0 220h160v-160H400v160ZM180-400h160v-160H180v160Zm440 0h160v-160H620v160ZM180-180h160v-160H180v160Zm440 0h160v-160H620v160Z\"/>\n",
              "  </svg>\n",
              "    </button>\n",
              "\n",
              "  <style>\n",
              "    .colab-df-container {\n",
              "      display:flex;\n",
              "      gap: 12px;\n",
              "    }\n",
              "\n",
              "    .colab-df-convert {\n",
              "      background-color: #E8F0FE;\n",
              "      border: none;\n",
              "      border-radius: 50%;\n",
              "      cursor: pointer;\n",
              "      display: none;\n",
              "      fill: #1967D2;\n",
              "      height: 32px;\n",
              "      padding: 0 0 0 0;\n",
              "      width: 32px;\n",
              "    }\n",
              "\n",
              "    .colab-df-convert:hover {\n",
              "      background-color: #E2EBFA;\n",
              "      box-shadow: 0px 1px 2px rgba(60, 64, 67, 0.3), 0px 1px 3px 1px rgba(60, 64, 67, 0.15);\n",
              "      fill: #174EA6;\n",
              "    }\n",
              "\n",
              "    .colab-df-buttons div {\n",
              "      margin-bottom: 4px;\n",
              "    }\n",
              "\n",
              "    [theme=dark] .colab-df-convert {\n",
              "      background-color: #3B4455;\n",
              "      fill: #D2E3FC;\n",
              "    }\n",
              "\n",
              "    [theme=dark] .colab-df-convert:hover {\n",
              "      background-color: #434B5C;\n",
              "      box-shadow: 0px 1px 3px 1px rgba(0, 0, 0, 0.15);\n",
              "      filter: drop-shadow(0px 1px 2px rgba(0, 0, 0, 0.3));\n",
              "      fill: #FFFFFF;\n",
              "    }\n",
              "  </style>\n",
              "\n",
              "    <script>\n",
              "      const buttonEl =\n",
              "        document.querySelector('#df-32439812-54ed-49e7-b97a-e3a033732fc3 button.colab-df-convert');\n",
              "      buttonEl.style.display =\n",
              "        google.colab.kernel.accessAllowed ? 'block' : 'none';\n",
              "\n",
              "      async function convertToInteractive(key) {\n",
              "        const element = document.querySelector('#df-32439812-54ed-49e7-b97a-e3a033732fc3');\n",
              "        const dataTable =\n",
              "          await google.colab.kernel.invokeFunction('convertToInteractive',\n",
              "                                                    [key], {});\n",
              "        if (!dataTable) return;\n",
              "\n",
              "        const docLinkHtml = 'Like what you see? Visit the ' +\n",
              "          '<a target=\"_blank\" href=https://colab.research.google.com/notebooks/data_table.ipynb>data table notebook</a>'\n",
              "          + ' to learn more about interactive tables.';\n",
              "        element.innerHTML = '';\n",
              "        dataTable['output_type'] = 'display_data';\n",
              "        await google.colab.output.renderOutput(dataTable, element);\n",
              "        const docLink = document.createElement('div');\n",
              "        docLink.innerHTML = docLinkHtml;\n",
              "        element.appendChild(docLink);\n",
              "      }\n",
              "    </script>\n",
              "  </div>\n",
              "\n",
              "\n",
              "<div id=\"df-c8cc47f5-7c74-4361-845e-4691b1f92310\">\n",
              "  <button class=\"colab-df-quickchart\" onclick=\"quickchart('df-c8cc47f5-7c74-4361-845e-4691b1f92310')\"\n",
              "            title=\"Suggest charts\"\n",
              "            style=\"display:none;\">\n",
              "\n",
              "<svg xmlns=\"http://www.w3.org/2000/svg\" height=\"24px\"viewBox=\"0 0 24 24\"\n",
              "     width=\"24px\">\n",
              "    <g>\n",
              "        <path d=\"M19 3H5c-1.1 0-2 .9-2 2v14c0 1.1.9 2 2 2h14c1.1 0 2-.9 2-2V5c0-1.1-.9-2-2-2zM9 17H7v-7h2v7zm4 0h-2V7h2v10zm4 0h-2v-4h2v4z\"/>\n",
              "    </g>\n",
              "</svg>\n",
              "  </button>\n",
              "\n",
              "<style>\n",
              "  .colab-df-quickchart {\n",
              "      --bg-color: #E8F0FE;\n",
              "      --fill-color: #1967D2;\n",
              "      --hover-bg-color: #E2EBFA;\n",
              "      --hover-fill-color: #174EA6;\n",
              "      --disabled-fill-color: #AAA;\n",
              "      --disabled-bg-color: #DDD;\n",
              "  }\n",
              "\n",
              "  [theme=dark] .colab-df-quickchart {\n",
              "      --bg-color: #3B4455;\n",
              "      --fill-color: #D2E3FC;\n",
              "      --hover-bg-color: #434B5C;\n",
              "      --hover-fill-color: #FFFFFF;\n",
              "      --disabled-bg-color: #3B4455;\n",
              "      --disabled-fill-color: #666;\n",
              "  }\n",
              "\n",
              "  .colab-df-quickchart {\n",
              "    background-color: var(--bg-color);\n",
              "    border: none;\n",
              "    border-radius: 50%;\n",
              "    cursor: pointer;\n",
              "    display: none;\n",
              "    fill: var(--fill-color);\n",
              "    height: 32px;\n",
              "    padding: 0;\n",
              "    width: 32px;\n",
              "  }\n",
              "\n",
              "  .colab-df-quickchart:hover {\n",
              "    background-color: var(--hover-bg-color);\n",
              "    box-shadow: 0 1px 2px rgba(60, 64, 67, 0.3), 0 1px 3px 1px rgba(60, 64, 67, 0.15);\n",
              "    fill: var(--button-hover-fill-color);\n",
              "  }\n",
              "\n",
              "  .colab-df-quickchart-complete:disabled,\n",
              "  .colab-df-quickchart-complete:disabled:hover {\n",
              "    background-color: var(--disabled-bg-color);\n",
              "    fill: var(--disabled-fill-color);\n",
              "    box-shadow: none;\n",
              "  }\n",
              "\n",
              "  .colab-df-spinner {\n",
              "    border: 2px solid var(--fill-color);\n",
              "    border-color: transparent;\n",
              "    border-bottom-color: var(--fill-color);\n",
              "    animation:\n",
              "      spin 1s steps(1) infinite;\n",
              "  }\n",
              "\n",
              "  @keyframes spin {\n",
              "    0% {\n",
              "      border-color: transparent;\n",
              "      border-bottom-color: var(--fill-color);\n",
              "      border-left-color: var(--fill-color);\n",
              "    }\n",
              "    20% {\n",
              "      border-color: transparent;\n",
              "      border-left-color: var(--fill-color);\n",
              "      border-top-color: var(--fill-color);\n",
              "    }\n",
              "    30% {\n",
              "      border-color: transparent;\n",
              "      border-left-color: var(--fill-color);\n",
              "      border-top-color: var(--fill-color);\n",
              "      border-right-color: var(--fill-color);\n",
              "    }\n",
              "    40% {\n",
              "      border-color: transparent;\n",
              "      border-right-color: var(--fill-color);\n",
              "      border-top-color: var(--fill-color);\n",
              "    }\n",
              "    60% {\n",
              "      border-color: transparent;\n",
              "      border-right-color: var(--fill-color);\n",
              "    }\n",
              "    80% {\n",
              "      border-color: transparent;\n",
              "      border-right-color: var(--fill-color);\n",
              "      border-bottom-color: var(--fill-color);\n",
              "    }\n",
              "    90% {\n",
              "      border-color: transparent;\n",
              "      border-bottom-color: var(--fill-color);\n",
              "    }\n",
              "  }\n",
              "</style>\n",
              "\n",
              "  <script>\n",
              "    async function quickchart(key) {\n",
              "      const quickchartButtonEl =\n",
              "        document.querySelector('#' + key + ' button');\n",
              "      quickchartButtonEl.disabled = true;  // To prevent multiple clicks.\n",
              "      quickchartButtonEl.classList.add('colab-df-spinner');\n",
              "      try {\n",
              "        const charts = await google.colab.kernel.invokeFunction(\n",
              "            'suggestCharts', [key], {});\n",
              "      } catch (error) {\n",
              "        console.error('Error during call to suggestCharts:', error);\n",
              "      }\n",
              "      quickchartButtonEl.classList.remove('colab-df-spinner');\n",
              "      quickchartButtonEl.classList.add('colab-df-quickchart-complete');\n",
              "    }\n",
              "    (() => {\n",
              "      let quickchartButtonEl =\n",
              "        document.querySelector('#df-c8cc47f5-7c74-4361-845e-4691b1f92310 button');\n",
              "      quickchartButtonEl.style.display =\n",
              "        google.colab.kernel.accessAllowed ? 'block' : 'none';\n",
              "    })();\n",
              "  </script>\n",
              "</div>\n",
              "    </div>\n",
              "  </div>\n"
            ]
          },
          "metadata": {},
          "execution_count": 4
        }
      ]
    },
    {
      "cell_type": "markdown",
      "metadata": {
        "cell_id": "b50db6f2cb804932ae3f9e5748a6ea61",
        "deepnote_cell_type": "markdown",
        "id": "vJfx3kzZ4av4"
      },
      "source": [
        "## 1.1 Generando un Baseline (0.5 puntos)\n",
        "\n",
        "<p align=\"center\">\n",
        "  <img src=\"https://media.tenor.com/O-lan6TkadUAAAAC/what-i-wnna-do-after-a-baseline.gif\">\n",
        "</p>\n",
        "\n",
        "Antes de entrenar un algoritmo, usted recuerda los apuntes de su magíster en ciencia de datos y recuerda que debe seguir una serie de *buenas prácticas* para entrenar correcta y debidamente su modelo. Después de un par de vueltas, llega a las siguientes tareas:\n",
        "\n",
        "1. Separe los datos en conjuntos de train (70%), validation (20%) y test (10%). Fije una semilla para controlar la aleatoriedad.\n",
        "2. Implemente un `FunctionTransformer` para extraer el día, mes y año de la variable `date`. Guarde estas variables en el formato categorical de pandas.\n",
        "3. Implemente un `ColumnTransformer` para procesar de manera adecuada los datos numéricos y categóricos. Use `OneHotEncoder` para las variables categóricas.\n",
        "4. Guarde los pasos anteriores en un `Pipeline`, dejando como último paso el regresor `DummyRegressor` para generar predicciones en base a promedios.\n",
        "5. Entrene el pipeline anterior y reporte la métrica `mean_absolute_error` sobre los datos de validación. ¿Cómo se interpreta esta métrica para el contexto del negocio?\n",
        "6. Finalmente, vuelva a entrenar el `Pipeline` pero esta vez usando `XGBRegressor` como modelo **utilizando los parámetros por default**. ¿Cómo cambia el MAE al implementar este algoritmo? ¿Es mejor o peor que el `DummyRegressor`?\n",
        "7. Guarde ambos modelos en un archivo .pkl (uno cada uno)"
      ]
    },
    {
      "cell_type": "code",
      "metadata": {
        "cell_id": "1482c992d9494e5582b23dbd3431dbfd",
        "deepnote_cell_type": "code",
        "id": "0s_xWaIt4av5"
      },
      "source": [
        "#1. Separamos los datos en conjuntos de train (70%), validation (20%) y test (10%)\n",
        "#Dividimos en train y test con proporción 70/30\n",
        "train_data, test_data = train_test_split(df, test_size=0.3, random_state=42)\n",
        "\n",
        "#Dividimos test en test y validation, con test 1/3 (10% del total)\n",
        "test_data, val_data = train_test_split(test_data, test_size=1/3, random_state=42)"
      ],
      "execution_count": 5,
      "outputs": []
    },
    {
      "cell_type": "code",
      "source": [
        "#2. Implementamos un FunctionTransformer para extraer el día, mes y año de la variable date\n",
        "def extract_date_info(df):\n",
        "    df['day'] = df['date'].dt.day.astype('category')\n",
        "    df['month'] = df['date'].dt.month.astype('category')\n",
        "    df['year'] = df['date'].dt.year.astype('category')\n",
        "    return df.drop('date', axis=1)\n",
        "\n",
        "#Creamos el FunctionTransformer\n",
        "date_transformer = FunctionTransformer(extract_date_info, validate=False)"
      ],
      "metadata": {
        "id": "BSHFdg0KyELX"
      },
      "execution_count": 6,
      "outputs": []
    },
    {
      "cell_type": "code",
      "source": [
        "#3. Implementamos un ColumnTransformer para procesar los datos numéricos y categóricos\n",
        "#Creamos una lista con las columnas numéricas\n",
        "numeric_features = ['lat', 'long', 'pop', 'price']\n",
        "\n",
        "#Creamos una lista con las columnas categóricas\n",
        "categorical_features = ['city', 'shop', 'brand', 'container', 'capacity', 'day', 'month', 'year']\n",
        "\n",
        "#Definimos el pre-procesador\n",
        "preprocessor = ColumnTransformer(\n",
        "    transformers=[\n",
        "        ('num', MinMaxScaler(), numeric_features),\n",
        "        ('cat', OneHotEncoder(handle_unknown='ignore'), categorical_features)\n",
        "    ])"
      ],
      "metadata": {
        "id": "ZmrJzXhvyEFI"
      },
      "execution_count": 7,
      "outputs": []
    },
    {
      "cell_type": "code",
      "source": [
        "#4. Guardamos los pasos anteriores en un Pipeline con DummyRegressor\n",
        "pipeline_dummy = Pipeline([\n",
        "    ('date_transformer', date_transformer),\n",
        "    ('preprocessor', preprocessor),\n",
        "    ('regressor', DummyRegressor())\n",
        "])"
      ],
      "metadata": {
        "id": "R74x6IYfyD-4"
      },
      "execution_count": 8,
      "outputs": []
    },
    {
      "cell_type": "code",
      "source": [
        "#5. Entrenamos el pipeline y reportar la métrica mean_absolute_error sobre los datos de validación\n",
        "#Dividimos los datos en X e Y de acuerdo a la columna \"quantity\"\n",
        "X_train = train_data.drop('quantity', axis=1)\n",
        "y_train = train_data['quantity']\n",
        "X_val = val_data.drop('quantity', axis=1)\n",
        "y_val = val_data['quantity']\n",
        "X_test = test_data.drop('quantity', axis=1)\n",
        "y_test = test_data['quantity']\n",
        "\n",
        "#Entrenamos el pipeline con los datos de train\n",
        "pipeline_dummy.fit(X_train, y_train)\n",
        "\n",
        "#Predecimos sobre los datos de validation\n",
        "val_predictions_dummy = pipeline_dummy.predict(X_val)\n",
        "\n",
        "#Obtenemos el valor del MAE\n",
        "mae_dummy = mean_absolute_error(y_val, val_predictions_dummy)\n",
        "print(f'MAE con Dummy Regressor: {mae_dummy}')"
      ],
      "metadata": {
        "colab": {
          "base_uri": "https://localhost:8080/"
        },
        "id": "oGXHfkMFyD4s",
        "outputId": "fef9e614-36b0-4084-d5a7-eb58ea610243"
      },
      "execution_count": 9,
      "outputs": [
        {
          "output_type": "stream",
          "name": "stdout",
          "text": [
            "MAE con Dummy Regressor: 13413.17673026018\n"
          ]
        }
      ]
    },
    {
      "cell_type": "markdown",
      "source": [
        "¿Cómo se interpreta esta métrica para el contexto del negocio?\n",
        "\n",
        "**Respuesta:**\n",
        "````\n",
        "En el contexto del negocio, el MAE o (Mean Squared Error) representa el error promedio absoluto entre las predicciones y los\n",
        "valores reales, es decir, la cantidad promedio de unidades vendidas por la cual las predicciones difieren de las ventas reales.\n",
        "Cuanto menor sea el MAE, mejor será el rendimiento del modelo, esto ya que las predicciones diferirán menos de los valores reales.\n",
        "\n",
        "````\n"
      ],
      "metadata": {
        "id": "q3fYg9CE1YD-"
      }
    },
    {
      "cell_type": "code",
      "source": [
        "#6. Entrenamos el Pipeline con XGBRegressor y revisaremos si existen cambios en el MAE\n",
        "#Creamos el pipeline con transformador, pre-procesador y regresor\n",
        "pipeline_xgb = Pipeline([\n",
        "    ('date_transformer', date_transformer),\n",
        "    ('preprocessor', preprocessor),\n",
        "    ('regressor', XGBRegressor())\n",
        "])\n",
        "\n",
        "#Entrenamos el pipeline con los datos de train\n",
        "pipeline_xgb.fit(X_train, y_train)\n",
        "\n",
        "#Predecimos sobre los datos de validation\n",
        "val_predictions_xgb = pipeline_xgb.predict(X_val)\n",
        "\n",
        "#Obtenemos el valor del MAE\n",
        "mae_xgb = mean_absolute_error(y_val, val_predictions_xgb)\n",
        "print(f'MAE con XGBoost: {mae_xgb}')"
      ],
      "metadata": {
        "colab": {
          "base_uri": "https://localhost:8080/"
        },
        "id": "GmgunEBxyDo2",
        "outputId": "fd210469-5aa1-4f28-b6ea-114f20ee15c1"
      },
      "execution_count": 10,
      "outputs": [
        {
          "output_type": "stream",
          "name": "stdout",
          "text": [
            "MAE con XGBoost: 2427.1128332224994\n"
          ]
        }
      ]
    },
    {
      "cell_type": "markdown",
      "source": [
        "¿Cómo cambia el MAE al implementar este algoritmo? ¿Es mejor o peor que el \"DummyRegressor\"?\n",
        "\n",
        "**Respuesta:**\n",
        "````\n",
        "Se observa que el MAE con XGBoost es significativamente menor que el MAE con Dummy Regressor, llegando a un valor más de un 80%\n",
        "menor. Esto quiere decir que el modelo XGBoost está haciendo predicciones más precisas en comparación con el promedio de las\n",
        "respuestas de entrenamiento.\n",
        "\n",
        "Lo anterior quiere decir que el desempeño de XGBoost es mucho mejor que el del DummyRegressor, teniendo en promedio diferencias de\n",
        "demanda inferiores a 2500 unidades, respecto a las más de 13000 del DummyRegressor. Esto quiere decir que los valores predichos se\n",
        "acercan más a los reales, teniendo por ende una respuesta más acorde a lo esperado\n",
        "\n",
        "````"
      ],
      "metadata": {
        "id": "OQ8oO1vE2_PU"
      }
    },
    {
      "cell_type": "code",
      "source": [
        "#7. Guardamos ambos modelos en un archivo .pkl\n",
        "#Guardamos el regresor dummy\n",
        "with open('regressor_dummy.pkl', 'wb') as f:\n",
        "    pickle.dump(pipeline_dummy, f)\n",
        "\n",
        "#Guardamos el regresor XGBoost\n",
        "with open('regressor_xgb.pkl', 'wb') as f:\n",
        "    pickle.dump(pipeline_xgb, f)"
      ],
      "metadata": {
        "id": "AcOhHBG_yDjT"
      },
      "execution_count": 11,
      "outputs": []
    },
    {
      "cell_type": "markdown",
      "metadata": {
        "cell_id": "7e17e46063774ec28226fe300d42ffe0",
        "deepnote_cell_type": "markdown",
        "id": "heZsJyYr4av5"
      },
      "source": [
        "## 1.2 Forzando relaciones entre parámetros con XGBoost (1.0 puntos)\n",
        "\n",
        "<p align=\"center\">\n",
        "  <img src=\"https://64.media.tumblr.com/14cc45f9610a6ee341a45fd0d68f4dde/20d11b36022bca7b-bf/s640x960/67ab1db12ff73a530f649ac455c000945d99c0d6.gif\">\n",
        "</p>\n",
        "\n",
        "Un colega aficionado a la economía le *sopla* que la demanda guarda una relación inversa con el precio del producto. Motivado para impresionar al querido corpóreo, se propone hacer uso de esta información para mejorar su modelo.\n",
        "\n",
        "Vuelva a entrenar el `Pipeline`, pero esta vez forzando una relación monótona negativa entre el precio y la cantidad. Luego, vuelva a reportar el `MAE` sobre el conjunto de validación. ¿Cómo cambia el error al incluir esta relación? ¿Tenía razón su amigo?\n",
        "\n",
        "Nuevamente, guarde su modelo en un archivo .pkl\n",
        "\n",
        "Nota: Para realizar esta parte, debe apoyarse en la siguiente <a href = https://xgboost.readthedocs.io/en/stable/tutorials/monotonic.html>documentación</a>.\n",
        "\n",
        "Hint: Para implementar el constraint, se le sugiere hacerlo especificando el nombre de la variable. De ser así, probablemente le sea útil **mantener el formato de pandas** antes del step de entrenamiento."
      ]
    },
    {
      "cell_type": "code",
      "metadata": {
        "cell_id": "f469f3b572be434191d2d5c3f11b20d2",
        "deepnote_cell_type": "code",
        "id": "22_Jgeev4awc",
        "colab": {
          "base_uri": "https://localhost:8080/"
        },
        "outputId": "61e93402-a597-43e7-c11a-27e11ded5070"
      },
      "source": [
        "#Re-imprimimos los MAE sin implementar la relación monótona negativa\n",
        "print(f'MAE con Dummy Regressor: {mae_dummy}')\n",
        "print(f'MAE con XGBoost: {mae_xgb}')\n",
        "\n",
        "#Definimos la relación monótona negativa entre demanda y precio\n",
        "monotone_constraints = (0, 0, 0, -1)\n",
        "\n",
        "#Creamos el pipeline con transformador, pre-procesador y regresor\n",
        "pipeline_xgb_constraints = Pipeline([\n",
        "    ('date_transformer', date_transformer),\n",
        "    ('preprocessor', preprocessor),\n",
        "    ('regressor', XGBRegressor(monotone_constraints=monotone_constraints))\n",
        "])\n",
        "\n",
        "#Entrenamos el pipeline con los datos de train\n",
        "pipeline_xgb_constraints.fit(X_train, y_train)\n",
        "\n",
        "#Predecimos sobre los datos de validation\n",
        "val_predictions_xgb_with_constraints = pipeline_xgb_constraints.predict(X_val)\n",
        "\n",
        "#Obtenemos el valor del MAE\n",
        "mae_xgb_with_constraints = mean_absolute_error(y_val, val_predictions_xgb_with_constraints)\n",
        "print(f'MAE con XGBoost y relación monótona negativa: {mae_xgb_with_constraints}')\n",
        "\n",
        "#Guardamos el regresor XGBoost con relación monótona negativa\n",
        "with open('regressor_xgb_constraints.pkl', 'wb') as f:\n",
        "    pickle.dump(pipeline_xgb_constraints, f)"
      ],
      "execution_count": 12,
      "outputs": [
        {
          "output_type": "stream",
          "name": "stdout",
          "text": [
            "MAE con Dummy Regressor: 13413.17673026018\n",
            "MAE con XGBoost: 2427.1128332224994\n",
            "MAE con XGBoost y relación monótona negativa: 2447.6054746407926\n"
          ]
        }
      ]
    },
    {
      "cell_type": "markdown",
      "source": [
        "¿Cómo cambia el error al incluir esta relación? ¿Tenía razón su amigo?\n",
        "\n",
        "**Respuesta:**\n",
        "```\n",
        "Con los resultados obtenidos podemos observar que el MAE aumenta de 2427.11 a 2447.61 al aplicar la relación monótona negativa entre\n",
        "precio y demanda. Lo anterior indica que el modelo XGBoost ajustado con la restricción monótona negativa tiene un rendimiento\n",
        "levemente peor en términos de predicción de la demanda en comparación al modelo XGBoost sin restricciones.\n",
        "\n",
        "Lo anterior quiere decir que la relación sugerida entre demanda y precio no es real o no es relevante para el problema, puesto que no\n",
        "afecta mayormente los resultados obtenidos y el poco cambio que genera es negativo, por lo que es mejor desestimar la recomendación\n",
        "de nuestro colega aficionado a la economía ya que no tiene la razón.\n",
        "```"
      ],
      "metadata": {
        "id": "VDV_dnIgVYuA"
      }
    },
    {
      "cell_type": "markdown",
      "metadata": {
        "cell_id": "e59ef80ed20b4de8921f24da74e87374",
        "deepnote_cell_type": "markdown",
        "id": "l2kEfNTq4awd"
      },
      "source": [
        "## 1.3 Optimización de Hiperparámetros con Optuna (2.0 puntos)\n",
        "\n",
        "<p align=\"center\">\n",
        "  <img src=\"https://media.tenor.com/fmNdyGN4z5kAAAAi/hacking-lucy.gif\">\n",
        "</p>\n",
        "\n",
        "Luego de presentarle sus resultados, Fiu le pregunta si es posible mejorar *aun más* su modelo. En particular, le comenta de la optimización de hiperparámetros con metodologías bayesianas a través del paquete `optuna`. Como usted es un aficionado al entrenamiento de modelos de ML, se propone implementar la descabellada idea de su jefe.\n",
        "\n",
        "A partir de la mejor configuración obtenida en la sección anterior, utilice `optuna` para optimizar sus hiperparámetros. En particular, se le pide:\n",
        "\n",
        "- Fijar una semilla en las instancias necesarias para garantizar la reproducibilidad de resultados\n",
        "- Utilice `TPESampler` como método de muestreo\n",
        "- De `XGBRegressor`, optimice los siguientes hiperparámetros:\n",
        "    - `learning_rate` buscando valores flotantes en el rango (0.001, 0.1)\n",
        "    - `n_estimators` buscando valores enteros en el rango (50, 1000)\n",
        "    - `max_depth` buscando valores enteros en el rango (3, 10)\n",
        "    - `max_leaves` buscando valores enteros en el rango (0, 100)\n",
        "    - `min_child_weight` buscando valores enteros en el rango (1, 5)\n",
        "    - `reg_alpha` buscando valores flotantes en el rango (0, 1)\n",
        "    - `reg_lambda` buscando valores flotantes en el rango (0, 1)\n",
        "- De `OneHotEncoder`, optimice el hiperparámetro `min_frequency` buscando el mejor valor flotante en el rango (0.0, 1.0)\n",
        "- Explique cada hiperparámetro y su rol en el modelo. ¿Hacen sentido los rangos de optimización indicados?\n",
        "- Fije el tiempo de entrenamiento a 5 minutos\n",
        "- Reportar el número de *trials*, el `MAE` y los mejores hiperparámetros encontrados. ¿Cómo cambian sus resultados con respecto a la sección anterior? ¿A qué se puede deber esto?\n",
        "- Guardar su modelo en un archivo .pkl"
      ]
    },
    {
      "cell_type": "markdown",
      "source": [
        "---\n",
        "Explique cada hiperparámetro y su rol en el modelo. ¿Hacen sentido los rangos de optimización indicados?\n",
        "\n",
        "**Respuesta:**\n",
        "```\n",
        "Los hiperparámetros y sus roles son los siguientes:\n",
        "learning_rate: Define la tasa de aprendizaje del modelo.\n",
        "n_estimators: Número de árboles (estimadores) en el ensamble.\n",
        "max_depth: Profundidad máxima de cada árbol.\n",
        "max_leaves: Número máximo de hojas por árbol.\n",
        "min_child_weight: Mínimo peso requerido para crear un nuevo nodo en el árbol.\n",
        "reg_alpha: Término de regularización L1.\n",
        "reg_lambda: Término de regularización L2.\n",
        "\n",
        "Respecto a los rangos de optimización, estos tienen sentido ya que ofrecen una buena flexibilidad para ajustar los hiperparámetros\n",
        "según las características específicas del problema, por ejemplo el rango de learning_rate favorece un aprendizaje gradual, evitando\n",
        "un overfitting, al igual que con el caso de max_depth, reg_alpha y reg_lambda. Por otro lado, n_estimators, max leaves y\n",
        "min_child_weight ofrecen un rango ideal para que el modelo puede ajustarse a diferentes posibles niveles de complejidad del problema.\n",
        "```"
      ],
      "metadata": {
        "id": "5vFAV4UZvA7U"
      }
    },
    {
      "cell_type": "code",
      "source": [
        "#Fijamos la semilla para asegurar consistencia entre ejecuciones\n",
        "np.random.seed(42)\n",
        "#Definimos la función objetivo\n",
        "def objective(trial):\n",
        "    #Definimos los rangos de los hiperparámetros a optimizar\n",
        "    xgb_params = {\n",
        "        'learning_rate': trial.suggest_float('learning_rate', 0.001, 0.1),\n",
        "        'n_estimators': trial.suggest_int('n_estimators', 50, 1000),\n",
        "        'max_depth': trial.suggest_int('max_depth', 3, 10),\n",
        "        'max_leaves': trial.suggest_int('max_leaves', 0, 100),\n",
        "        'min_child_weight': trial.suggest_int('min_child_weight', 1, 5),\n",
        "        'reg_alpha': trial.suggest_float('reg_alpha', 0, 1),\n",
        "        'reg_lambda': trial.suggest_float('reg_lambda', 0, 1),\n",
        "    }\n",
        "\n",
        "    #Definimos los rangos de min_frequency OneHotEncoder\n",
        "    onehot_params = {\n",
        "        'min_frequency': trial.suggest_float('min_frequency', 0.0, 1.0)\n",
        "    }\n",
        "\n",
        "    #Creamos el pipeline con los hiperparámetros obtenidos\n",
        "    pipeline_xgb = Pipeline([\n",
        "        ('date_transformer', date_transformer),\n",
        "        ('preprocessor', ColumnTransformer(\n",
        "            transformers=[\n",
        "                ('num', MinMaxScaler(), numeric_features),\n",
        "                ('cat', OneHotEncoder(handle_unknown='ignore',\n",
        "                                      sparse_output=False,\n",
        "                                      **onehot_params),\n",
        "                 categorical_features)\n",
        "            ],\n",
        "            remainder=\"passthrough\",\n",
        "            verbose_feature_names_out=False\n",
        "        )),\n",
        "        ('regressor', XGBRegressor(seed=42,\n",
        "                                   **xgb_params))\n",
        "    ])\n",
        "\n",
        "    #Entrenamos el pipeline con los datos de train\n",
        "    pipeline_xgb.fit(X_train, y_train)\n",
        "\n",
        "    #Predecimos sobre los datos de validation\n",
        "    val_predictions_xgb = pipeline_xgb.predict(X_val)\n",
        "\n",
        "    #Calculamos el MAE\n",
        "    mae_xgb = mean_absolute_error(y_val, val_predictions_xgb)\n",
        "\n",
        "    return mae_xgb"
      ],
      "metadata": {
        "id": "8dcj8rzSP3uq"
      },
      "execution_count": 25,
      "outputs": []
    },
    {
      "cell_type": "code",
      "source": [
        "#Configuramos el optimizador de Optuna\n",
        "optuna.logging.set_verbosity(optuna.logging.WARNING)\n",
        "sampler = TPESampler(seed=42)\n",
        "study = optuna.create_study(direction='minimize', sampler=sampler)\n",
        "\n",
        "#Ejecutamos el estudio de optimización\n",
        "study.optimize(objective, timeout=300, show_progress_bar=True)\n",
        "\n",
        "#Obtenemos los mejores hiperparámetros y el MAE\n",
        "best_params = study.best_params\n",
        "best_mae = study.best_value\n",
        "num_trials = len(study.trials)\n",
        "\n",
        "#Reportamos los resultados relevantes\n",
        "print(f'Número de trials: {num_trials}')\n",
        "print(f'MAE con los mejores hiperparámetros: {best_mae}')\n",
        "print(f'Mejores hiperparámetros: {best_params}')"
      ],
      "metadata": {
        "colab": {
          "base_uri": "https://localhost:8080/",
          "height": 123,
          "referenced_widgets": [
            "b0f5b661b541482e900695f4a3cc148f",
            "ac85b99d61b04c09b0090496fcf54139",
            "3763ed7bfcd34ff6bc0fa3e6c5474bcf",
            "fc9db7f1308447be9096a77787d00d19",
            "58926d57275c44ad9e0cfc509c3f2aec",
            "9b7c9a1bc40a4c60856027bbd9316327",
            "8eaf0fe40d2b404e82c3383a4d69bd63",
            "6660a9aee3764c61b4f3278ce54f1533",
            "5f89eda9f06140cbb30dd143fd5b90af",
            "f3f2f7cbcf364220b93934c08f780e0e",
            "83eb82fa5928420d8c352e051dd3381c"
          ]
        },
        "id": "B_TDoZBlk_y4",
        "outputId": "4228d137-94df-4229-bb98-e52b04f5f65f"
      },
      "execution_count": 26,
      "outputs": [
        {
          "output_type": "display_data",
          "data": {
            "text/plain": [
              "   0%|          | 00:00/05:00"
            ],
            "application/vnd.jupyter.widget-view+json": {
              "version_major": 2,
              "version_minor": 0,
              "model_id": "b0f5b661b541482e900695f4a3cc148f"
            }
          },
          "metadata": {}
        },
        {
          "output_type": "stream",
          "name": "stdout",
          "text": [
            "Número de trials: 135\n",
            "MAE con los mejores hiperparámetros: 2043.054916259111\n",
            "Mejores hiperparámetros: {'learning_rate': 0.06685908862102091, 'n_estimators': 803, 'max_depth': 9, 'max_leaves': 48, 'min_child_weight': 3, 'reg_alpha': 0.0012829997393770387, 'reg_lambda': 0.11839783284335671, 'min_frequency': 0.05743884972235069}\n"
          ]
        }
      ]
    },
    {
      "cell_type": "code",
      "source": [
        "#Guardamos los mejores hiperparámetros de XGBoost obtenidos en un diccionario\n",
        "params_xgb = {'learning_rate': best_params['learning_rate'],\n",
        "              'n_estimators': best_params['n_estimators'],\n",
        "              'max_depth': best_params['max_depth'],\n",
        "              'max_leaves': best_params['max_leaves'],\n",
        "              'min_child_weight': best_params['min_child_weight'],\n",
        "              'reg_alpha': best_params['reg_alpha'],\n",
        "              'reg_lambda': best_params['reg_lambda'],}\n",
        "\n",
        "\n",
        "#Definimos un pipeline con los mejores hiperparámetros de XGBoost y OneHotEncoder\n",
        "best_model = Pipeline([\n",
        "    ('date_transformer', date_transformer),\n",
        "    ('preprocessor', ColumnTransformer(\n",
        "        transformers=[\n",
        "                      ('num', MinMaxScaler(), numeric_features),\n",
        "                      ('cat', OneHotEncoder(handle_unknown='ignore',\n",
        "                                            sparse_output=False,\n",
        "                                            min_frequency=best_params['min_frequency']),\n",
        "                      categorical_features)\n",
        "                      ],\n",
        "        remainder=\"passthrough\",\n",
        "        verbose_feature_names_out=False\n",
        "    )),\n",
        "    ('regressor', XGBRegressor(seed=42,**params_xgb))\n",
        "])\n",
        "\n",
        "#Entrenamos el modelo con los datos de train\n",
        "best_model.fit(X_train, y_train)\n",
        "\n",
        "#Predecimos sobre los datos de validation\n",
        "val_predictions_xgb_optuna = best_model.predict(X_val)\n",
        "\n",
        "#Obtenemos el MAE\n",
        "mae_xgb_optuna = mean_absolute_error(y_val, val_predictions_xgb_optuna)\n",
        "\n",
        "#Reportamos los resultados relevantes\n",
        "print(f'MAE con los mejores hiperparámetros: {mae_xgb_optuna}')\n",
        "print(f'Número de trials: {num_trials}')\n",
        "print('\\nMejores hiperparámetros:')\n",
        "for key, value in best_params.items():\n",
        "    print(f'{key}: {value}')\n",
        "\n",
        "#Guardamos el regresor XGBoost con relación monótona negativa\n",
        "with open('regressor_xgb_optuna.pkl', 'wb') as f:\n",
        "    pickle.dump(best_model, f)"
      ],
      "metadata": {
        "colab": {
          "base_uri": "https://localhost:8080/"
        },
        "id": "YcxEJ0qgks9C",
        "outputId": "6b0f6256-8667-4bd5-ea7c-9138029e895c"
      },
      "execution_count": 27,
      "outputs": [
        {
          "output_type": "stream",
          "name": "stdout",
          "text": [
            "MAE con los mejores hiperparámetros: 2043.054916259111\n",
            "Número de trials: 135\n",
            "\n",
            "Mejores hiperparámetros:\n",
            "learning_rate: 0.06685908862102091\n",
            "n_estimators: 803\n",
            "max_depth: 9\n",
            "max_leaves: 48\n",
            "min_child_weight: 3\n",
            "reg_alpha: 0.0012829997393770387\n",
            "reg_lambda: 0.11839783284335671\n",
            "min_frequency: 0.05743884972235069\n"
          ]
        }
      ]
    },
    {
      "cell_type": "markdown",
      "source": [
        "Reportar el número de trials, el MAE y los mejores hiperparámetros encontrados. ¿Cómo cambian sus resultados con respecto a la sección anterior? ¿A qué se puede deber esto?\n",
        "\n",
        "**Respuesta:**\n",
        "```\n",
        "En total se realizaron 135 trials, teniendo un mejor MAE de 2043, con los hiperparámetros reportados anteriormente.\n",
        "Los resultados mejoran respecto a la sección anterior, pasando de un MAE de 2427.11 a uno de 2043.05, esto se debe a que Optuna busca\n",
        "en el espacio de hiperparámetros entregado con el objetivo de buscar la combinación de estos que minimice el MAE. Es posible que\n",
        "estos resultados pudieran haber mejorado aun más si no se tuviera el timeout de 5 minutos, sin embargo la mejora es apreciable con\n",
        "este tiempo por lo que se considera que los resultados obtenidos son preferibles a los anteriores.\n",
        "```"
      ],
      "metadata": {
        "id": "-Cv6Z1tVw7_0"
      }
    },
    {
      "cell_type": "markdown",
      "metadata": {
        "cell_id": "5195ccfc37e044ad9453f6eb2754f631",
        "deepnote_cell_type": "markdown",
        "id": "xFC6Wl0T4awi"
      },
      "source": [
        "## 1.4 Optimización de Hiperparámetros con Optuna y Prunners (1.7)\n",
        "\n",
        "<p align=\"center\">\n",
        "  <img src=\"https://i.pinimg.com/originals/90/16/f9/9016f919c2259f3d0e8fe465049638a7.gif\">\n",
        "</p>\n",
        "\n",
        "Después de optimizar el rendimiento de su modelo varias veces, Fiu le pregunta si no es posible optimizar el entrenamiento del modelo en sí mismo. Después de leer un par de post de personas de dudosa reputación en la *deepweb*, usted llega a la conclusión que puede cumplir este objetivo mediante la implementación de **Prunning**.\n",
        "\n",
        "Vuelva a optimizar los mismos hiperparámetros que la sección pasada, pero esta vez utilizando **Prunning** en la optimización. En particular, usted debe:\n",
        "\n",
        "- Responder: ¿Qué es prunning? ¿De qué forma debería impactar en el entrenamiento?\n",
        "- Utilizar `optuna.integration.XGBoostPruningCallback` como método de **Prunning**\n",
        "- Fijar nuevamente el tiempo de entrenamiento a 5 minutos\n",
        "- Reportar el número de *trials*, el `MAE` y los mejores hiperparámetros encontrados. ¿Cómo cambian sus resultados con respecto a la sección anterior? ¿A qué se puede deber esto?\n",
        "- Guardar su modelo en un archivo .pkl\n",
        "\n",
        "Nota: Si quieren silenciar los prints obtenidos en el prunning, pueden hacerlo mediante el siguiente comando:\n",
        "\n",
        "```\n",
        "optuna.logging.set_verbosity(optuna.logging.WARNING)\n",
        "```\n",
        "\n",
        "De implementar la opción anterior, pueden especificar `show_progress_bar = True` en el método `optimize` para *más sabor*.\n",
        "\n",
        "Hint: Si quieren especificar parámetros del método .fit() del modelo a través del pipeline, pueden hacerlo por medio de la siguiente sintaxis: `pipeline.fit(stepmodelo__parametro = valor)`\n",
        "\n",
        "Hint2: Este <a href = https://stackoverflow.com/questions/40329576/sklearn-pass-fit-parameters-to-xgboost-in-pipeline>enlace</a> les puede ser de ayuda en su implementación"
      ]
    },
    {
      "cell_type": "markdown",
      "source": [
        "---\n",
        "¿Qué es prunning? ¿De qué forma debería impactar en el entrenamiento?\n",
        "\n",
        "**Respuesta:**\n",
        "```\n",
        "El pruning o poda en optimización de hiperparámetros se refiere a cortar (o podar) un entrenamiento cuando este no está convergiendo\n",
        "hacia un rendimiento aceptable. Esto puede ahorrar tiempo de cómputo al detener la ejecución de entrenamientos que llevarán a\n",
        "resultados contraproducentes.\n",
        "\n",
        "Esta estrategia debería mejorar los resultados anteriores, ya que ayuda a evitar el sobreajuste y reducir el tiempo de entrenamiento\n",
        "ya que si un modelo no mejora significativamente después de un cierto número de iteraciones o trials, se detendrá la ejecución,\n",
        "evitando un sobreajuste y evitando ejecutar más trials que no llevarán a mejoras significativas.\n",
        "```"
      ],
      "metadata": {
        "id": "G0WqI-WhoCOg"
      }
    },
    {
      "cell_type": "code",
      "source": [
        "#Definimos la función objetivo con pruning\n",
        "def objective_prunners(trial):\n",
        "    #Definimos los rangos de los hiperparámetros a optimizar\n",
        "    xgb_params = {\n",
        "        'eval_metric': mean_absolute_error,\n",
        "        'learning_rate': trial.suggest_float('learning_rate', 0.001, 0.1),\n",
        "        'n_estimators': trial.suggest_int('n_estimators', 50, 1000),\n",
        "        'max_depth': trial.suggest_int('max_depth', 3, 10),\n",
        "        'max_leaves': trial.suggest_int('max_leaves', 0, 100),\n",
        "        'min_child_weight': trial.suggest_int('min_child_weight', 1, 5),\n",
        "        'reg_alpha': trial.suggest_float('reg_alpha', 0, 1),\n",
        "        'reg_lambda': trial.suggest_float('reg_lambda', 0, 1),\n",
        "    }\n",
        "\n",
        "    #Definimos los rangos de min_frequency OneHotEncoder\n",
        "    onehot_params = {\n",
        "        'min_frequency': trial.suggest_float('min_frequency', 0.0, 1.0)\n",
        "    }\n",
        "\n",
        "    #Configuramos el pruner de optuna\n",
        "    pruning_callback = optuna.integration.XGBoostPruningCallback(trial,\n",
        "                                                                 observation_key=\"validation_0-mean_absolute_error\")\n",
        "\n",
        "    #Creamos el ColumnTransformer para el pre-procesamiento\n",
        "    preprocessor_opt = ColumnTransformer(\n",
        "        transformers=[\n",
        "                      ('num', MinMaxScaler(), numeric_features),\n",
        "                      ('cat', OneHotEncoder(handle_unknown='error',\n",
        "                                            sparse_output=False,\n",
        "                                            **onehot_params),\n",
        "                      categorical_features),\n",
        "                      ])\n",
        "\n",
        "    #Mantenemos el formato de pandas\n",
        "    preprocessor_opt.set_output(transform='pandas')\n",
        "\n",
        "    #Definimos un pipeline para el pre-procesamiento\n",
        "    pipeline_procesamiento = Pipeline(steps=[\n",
        "        ('date_extraction', date_transformer),\n",
        "        ('preprocessor', preprocessor_opt),\n",
        "    ])\n",
        "\n",
        "    #Definimos un segundo pipeline con el regresor\n",
        "    pipeline_xgb = Pipeline([\n",
        "        ('date_transformer', date_transformer),\n",
        "        ('preprocessor',preprocessor_opt),\n",
        "        ('regressor', XGBRegressor(seed=42,**xgb_params))\n",
        "    ])\n",
        "\n",
        "    #Entrenamos el pipeline con los datos de train\n",
        "    pipeline_procesamiento.fit_transform(X_train)\n",
        "\n",
        "    # Aplicar la misma transformación al conjunto de validación\n",
        "    X_val_processed = pipeline_procesamiento.transform(X_val)\n",
        "\n",
        "    #Entrenamos el pipeline con pruning en los datos de train\n",
        "    pipeline_xgb.fit(X_train,\n",
        "                     y_train,\n",
        "                     regressor__callbacks=[pruning_callback],\n",
        "                     regressor__eval_set=[(X_val_processed,y_val),],\n",
        "                     regressor__verbose=False)\n",
        "\n",
        "    #Predecimos sobre los datos de validation\n",
        "    val_predictions_xgb = pipeline_xgb.predict(X_val)\n",
        "\n",
        "    #Obtenemos el MAE\n",
        "    mae_xgb = mean_absolute_error(y_val, val_predictions_xgb)\n",
        "    return mae_xgb"
      ],
      "metadata": {
        "id": "h_cnBbMtn_dC"
      },
      "execution_count": 16,
      "outputs": []
    },
    {
      "cell_type": "code",
      "source": [
        "#Ocultamos las advertencias\n",
        "warnings.filterwarnings(\"ignore\")\n",
        "\n",
        "#Configuramos el optimizador de Optuna con pruning\n",
        "sampler = TPESampler(seed=42)\n",
        "study_opt_pr = optuna.create_study(direction='minimize', sampler=sampler)\n",
        "\n",
        "#Ejecutamos el estudio de optimización con pruning\n",
        "study_opt_pr.optimize(objective_prunners,\n",
        "                      timeout=300,\n",
        "                      show_progress_bar = True)\n",
        "\n",
        "#Obtenemos los mejores hiperparámetros y el MAE\n",
        "best_params = study_opt_pr.best_params\n",
        "best_mae = study_opt_pr.best_value\n",
        "num_trials = len(study_opt_pr.trials)\n",
        "\n",
        "#Reportamos los resultados relevantes\n",
        "print(f'Número de trials: {num_trials}')\n",
        "print(f'MAE con los mejores hiperparámetros: {best_mae}')\n",
        "print(f'Mejores hiperparámetros: {best_params}')"
      ],
      "metadata": {
        "colab": {
          "base_uri": "https://localhost:8080/",
          "height": 123,
          "referenced_widgets": [
            "b32bd2f1f55c4773bceb4766e8d507c7",
            "a0a3a810770b4d6197dd49e02e99787e",
            "bbae7d5c1e804b6c8b0ea47aca94305f",
            "a86fffd79439437d9c0bd75b9a1b4099",
            "52ede37e942f42bca750a53589897e7b",
            "a1f71930799e47bab0b29425b235c838",
            "f4ad3ffbf43343b8b9617ebd19eefa0b",
            "c05c7afeff04462b930761f5566da16d",
            "ffa5a7fbaf734cf6a96b0091fc3e99ca",
            "1d736fa1794e4f0cbc06f573cdcafbea",
            "e0817d7616f44f538f3b11e1ed27c0eb"
          ]
        },
        "id": "vvN-aMXxoBeo",
        "outputId": "80fd0114-1469-45ca-a63e-1117f34d7732"
      },
      "execution_count": 17,
      "outputs": [
        {
          "output_type": "display_data",
          "data": {
            "text/plain": [
              "   0%|          | 00:00/05:00"
            ],
            "application/vnd.jupyter.widget-view+json": {
              "version_major": 2,
              "version_minor": 0,
              "model_id": "b32bd2f1f55c4773bceb4766e8d507c7"
            }
          },
          "metadata": {}
        },
        {
          "output_type": "stream",
          "name": "stdout",
          "text": [
            "Número de trials: 140\n",
            "MAE con los mejores hiperparámetros: 1940.9989838382833\n",
            "Mejores hiperparámetros: {'learning_rate': 0.09391585041713191, 'n_estimators': 956, 'max_depth': 10, 'max_leaves': 84, 'min_child_weight': 1, 'reg_alpha': 0.8105922236983762, 'reg_lambda': 0.4876393145933732, 'min_frequency': 0.05401631954675916}\n"
          ]
        }
      ]
    },
    {
      "cell_type": "code",
      "source": [
        "# Obtener el mejor modelo con los mejores hiperparámetros\n",
        "params_xgb_prunning = {\n",
        "                      'learning_rate': best_params['learning_rate'],\n",
        "                      'n_estimators': best_params['n_estimators'],\n",
        "                      'max_depth': best_params['max_depth'],\n",
        "                      'max_leaves': best_params['max_leaves'],\n",
        "                      'min_child_weight': best_params['min_child_weight'],\n",
        "                      'reg_alpha': best_params['reg_alpha'],\n",
        "                      'reg_lambda': best_params['reg_lambda'],\n",
        "                      }\n",
        "\n",
        "\n",
        "preprocessor_opt = ColumnTransformer(\n",
        "    transformers=[\n",
        "        ('num', MinMaxScaler(), numeric_features),\n",
        "        ('cat', OneHotEncoder(handle_unknown='error',sparse_output=False, min_frequency=best_params['min_frequency']), categorical_features),\n",
        "        ])\n",
        "\n",
        "best_model = Pipeline([\n",
        "    ('date_transformer', date_transformer),\n",
        "    ('preprocessor', preprocessor_opt),\n",
        "    ('regressor', XGBRegressor(seed=42,**params_xgb_prunning))\n",
        "])\n",
        "\n",
        "# Entrenar el mejor modelo con todos los datos\n",
        "best_model.fit(X_train, y_train)\n",
        "val_predictions_xgb_prunning = best_model.predict(X_val)\n",
        "mae_xgb_prunning = mean_absolute_error(y_val, val_predictions_xgb_prunning)\n",
        "print(f'MAE con XGBoost Optimizado y Prunning: {mae_xgb_prunning}')\n",
        "print(f'Número de trials: {num_trials}')\n",
        "# Mostramos los hiperparámetros del mejor modelo\n",
        "print('')\n",
        "print('Mejores hiperparámetros:')\n",
        "# Imprimimos los hiperparámetros del modelo del diccionario best_params de la forma: hiperparámetro: valor\n",
        "for key, value in best_params.items():\n",
        "    print(f'{key}: {value}')\n",
        "\n",
        "#Guardamos el regresor XGBoost con los mejores hiperparámetros y pruning\n",
        "with open('regressor_xgb_pruning.pkl', 'wb') as f:\n",
        "    pickle.dump(best_model, f)"
      ],
      "metadata": {
        "colab": {
          "base_uri": "https://localhost:8080/"
        },
        "id": "sAcq98sBqNZ2",
        "outputId": "f4243f3c-5479-4a31-ca03-2eb8d130168a"
      },
      "execution_count": 18,
      "outputs": [
        {
          "output_type": "stream",
          "name": "stdout",
          "text": [
            "MAE con XGBoost Optimizado y Prunning: 1940.9989838382833\n",
            "Número de trials: 140\n",
            "\n",
            "Mejores hiperparámetros:\n",
            "learning_rate: 0.09391585041713191\n",
            "n_estimators: 956\n",
            "max_depth: 10\n",
            "max_leaves: 84\n",
            "min_child_weight: 1\n",
            "reg_alpha: 0.8105922236983762\n",
            "reg_lambda: 0.4876393145933732\n",
            "min_frequency: 0.05401631954675916\n"
          ]
        }
      ]
    },
    {
      "cell_type": "markdown",
      "source": [
        "¿Cómo cambian sus resultados con respecto a la sección anterior? ¿A qué se puede deber esto?\n",
        "\n",
        "**Respuesta:**\n",
        "```\n",
        "Al incorporar el pruning durante la optimización, el número de trials aumenta de 135 a 140, lo que podría deberse a que el\n",
        "entrenamiento se interrumpe para aquellos conjuntos de hiperparámetros que no están mostrando mejoras significativas, lo\n",
        "que podría llevar a un (levemente) menor tiempo de ejecución al evitar entrenar para los conjuntos de hiperparámetros menos óptimos.\n",
        "Por otro lado, los resultados mejoran significativamente, obteniéndose un MAE de 1940, lo que es mejor que los 2043 sin\n",
        "pruning, por lo que se considera que este último modelo conlleva un aporte importante a la calidad de las predicciones y es el mejor\n",
        "de los obtenidos en este laboratorio.\n",
        "```"
      ],
      "metadata": {
        "id": "8642iatNoA2j"
      }
    },
    {
      "cell_type": "markdown",
      "metadata": {
        "cell_id": "8a081778cc704fc6bed05393a5419327",
        "deepnote_cell_type": "markdown",
        "id": "IRHGmskS4awr"
      },
      "source": [
        "## 1.5 Visualizaciones (0.5 puntos)\n",
        "\n",
        "<p align=\"center\">\n",
        "  <img src=\"https://media.tenor.com/F-LgB1xTebEAAAAd/look-at-this-graph-nickelback.gif\">\n",
        "</p>\n",
        "\n",
        "\n",
        "Satisfecho con su trabajo, Fiu le pregunta si es posible generar visualizaciones que permitan entender el entrenamiento de su modelo.\n",
        "\n",
        "A partir del siguiente <a href = https://optuna.readthedocs.io/en/stable/tutorial/10_key_features/005_visualization.html#visualization>enlace</a>, genere las siguientes visualizaciones:\n",
        "\n",
        "- Gráfico de historial de optimización\n",
        "- Gráfico de coordenadas paralelas\n",
        "- Gráfico de importancia de hiperparámetros\n",
        "\n",
        "Comente sus resultados: ¿Desde qué *trial* se empiezan a observar mejoras notables en sus resultados? ¿Qué tendencias puede observar a partir del gráfico de coordenadas paralelas? ¿Cuáles son los hiperparámetros con mayor importancia para la optimización de su modelo?"
      ]
    },
    {
      "cell_type": "code",
      "metadata": {
        "cell_id": "0e706dc9a8d946eda7a9eb1f0463c6d7",
        "deepnote_cell_type": "code",
        "id": "5iYmGzR94awr",
        "colab": {
          "base_uri": "https://localhost:8080/",
          "height": 542
        },
        "outputId": "46dad012-9097-4ce6-90b7-826b0aa4046d"
      },
      "source": [
        "# Graficamos el historial de optimización\n",
        "plot_optimization_history(study_opt_pr)"
      ],
      "execution_count": 19,
      "outputs": [
        {
          "output_type": "display_data",
          "data": {
            "text/html": [
              "<html>\n",
              "<head><meta charset=\"utf-8\" /></head>\n",
              "<body>\n",
              "    <div>            <script src=\"https://cdnjs.cloudflare.com/ajax/libs/mathjax/2.7.5/MathJax.js?config=TeX-AMS-MML_SVG\"></script><script type=\"text/javascript\">if (window.MathJax && window.MathJax.Hub && window.MathJax.Hub.Config) {window.MathJax.Hub.Config({SVG: {font: \"STIX-Web\"}});}</script>                <script type=\"text/javascript\">window.PlotlyConfig = {MathJaxConfig: 'local'};</script>\n",
              "        <script charset=\"utf-8\" src=\"https://cdn.plot.ly/plotly-2.24.1.min.js\"></script>                <div id=\"39217d6c-b150-49e0-bb2c-d127f9363df8\" class=\"plotly-graph-div\" style=\"height:525px; width:100%;\"></div>            <script type=\"text/javascript\">                                    window.PLOTLYENV=window.PLOTLYENV || {};                                    if (document.getElementById(\"39217d6c-b150-49e0-bb2c-d127f9363df8\")) {                    Plotly.newPlot(                        \"39217d6c-b150-49e0-bb2c-d127f9363df8\",                        [{\"mode\":\"markers\",\"name\":\"Objective Value\",\"x\":[0,1,2,3,4,11,12,14,15,17,19,21,22,25,26,27,31,32,34,36,38,41,42,44,47,52,55,61,74,80,94,97,110,115,122,130,132,133],\"y\":[10010.173500858748,5616.728802473871,9053.395234872445,5624.686032865387,9162.295503754398,6243.039070681656,3007.6129414658126,3068.8020930967764,2502.6602413392256,5670.263513478133,5584.195203520338,2969.900641474583,2975.329361820988,2274.389322480312,2147.9360839189217,2138.7541467906963,2229.6529233385345,2062.7680657517176,2030.7242045466446,1986.563577360506,2033.695083740889,2005.864839037366,1975.750354102086,1969.076408488501,2003.9467897798677,1982.705623350578,1966.5197590273124,1949.4517085916555,1986.6042578648626,1964.8289850557137,1980.4075230657256,2003.5036869816101,1975.5654329601625,1940.9989838382833,1954.3878952721807,1975.9678964896113,2167.4451403579505,1966.0736607610381],\"type\":\"scatter\"},{\"mode\":\"lines\",\"name\":\"Best Value\",\"x\":[0,1,2,3,4,5,6,7,8,9,10,11,12,13,14,15,16,17,18,19,20,21,22,23,24,25,26,27,28,29,30,31,32,33,34,35,36,37,38,39,40,41,42,43,44,45,46,47,48,49,50,51,52,53,54,55,56,57,58,59,60,61,62,63,64,65,66,67,68,69,70,71,72,73,74,75,76,77,78,79,80,81,82,83,84,85,86,87,88,89,90,91,92,93,94,95,96,97,98,99,100,101,102,103,104,105,106,107,108,109,110,111,112,113,114,115,116,117,118,119,120,121,122,123,124,125,126,127,128,129,130,131,132,133,134,135,136,137,138,139],\"y\":[10010.173500858748,5616.728802473871,5616.728802473871,5616.728802473871,5616.728802473871,5616.728802473871,5616.728802473871,5616.728802473871,5616.728802473871,5616.728802473871,5616.728802473871,5616.728802473871,3007.6129414658126,3007.6129414658126,3007.6129414658126,2502.6602413392256,2502.6602413392256,2502.6602413392256,2502.6602413392256,2502.6602413392256,2502.6602413392256,2502.6602413392256,2502.6602413392256,2502.6602413392256,2502.6602413392256,2274.389322480312,2147.9360839189217,2138.7541467906963,2138.7541467906963,2138.7541467906963,2138.7541467906963,2138.7541467906963,2062.7680657517176,2062.7680657517176,2030.7242045466446,2030.7242045466446,1986.563577360506,1986.563577360506,1986.563577360506,1986.563577360506,1986.563577360506,1986.563577360506,1975.750354102086,1975.750354102086,1969.076408488501,1969.076408488501,1969.076408488501,1969.076408488501,1969.076408488501,1969.076408488501,1969.076408488501,1969.076408488501,1969.076408488501,1969.076408488501,1969.076408488501,1966.5197590273124,1966.5197590273124,1966.5197590273124,1966.5197590273124,1966.5197590273124,1966.5197590273124,1949.4517085916555,1949.4517085916555,1949.4517085916555,1949.4517085916555,1949.4517085916555,1949.4517085916555,1949.4517085916555,1949.4517085916555,1949.4517085916555,1949.4517085916555,1949.4517085916555,1949.4517085916555,1949.4517085916555,1949.4517085916555,1949.4517085916555,1949.4517085916555,1949.4517085916555,1949.4517085916555,1949.4517085916555,1949.4517085916555,1949.4517085916555,1949.4517085916555,1949.4517085916555,1949.4517085916555,1949.4517085916555,1949.4517085916555,1949.4517085916555,1949.4517085916555,1949.4517085916555,1949.4517085916555,1949.4517085916555,1949.4517085916555,1949.4517085916555,1949.4517085916555,1949.4517085916555,1949.4517085916555,1949.4517085916555,1949.4517085916555,1949.4517085916555,1949.4517085916555,1949.4517085916555,1949.4517085916555,1949.4517085916555,1949.4517085916555,1949.4517085916555,1949.4517085916555,1949.4517085916555,1949.4517085916555,1949.4517085916555,1949.4517085916555,1949.4517085916555,1949.4517085916555,1949.4517085916555,1949.4517085916555,1940.9989838382833,1940.9989838382833,1940.9989838382833,1940.9989838382833,1940.9989838382833,1940.9989838382833,1940.9989838382833,1940.9989838382833,1940.9989838382833,1940.9989838382833,1940.9989838382833,1940.9989838382833,1940.9989838382833,1940.9989838382833,1940.9989838382833,1940.9989838382833,1940.9989838382833,1940.9989838382833,1940.9989838382833,1940.9989838382833,1940.9989838382833,1940.9989838382833,1940.9989838382833,1940.9989838382833,1940.9989838382833],\"type\":\"scatter\"},{\"marker\":{\"color\":\"#cccccc\"},\"mode\":\"markers\",\"name\":\"Infeasible Trial\",\"showlegend\":false,\"x\":[],\"y\":[],\"type\":\"scatter\"}],                        {\"title\":{\"text\":\"Optimization History Plot\"},\"xaxis\":{\"title\":{\"text\":\"Trial\"}},\"yaxis\":{\"title\":{\"text\":\"Objective Value\"}},\"template\":{\"data\":{\"histogram2dcontour\":[{\"type\":\"histogram2dcontour\",\"colorbar\":{\"outlinewidth\":0,\"ticks\":\"\"},\"colorscale\":[[0.0,\"#0d0887\"],[0.1111111111111111,\"#46039f\"],[0.2222222222222222,\"#7201a8\"],[0.3333333333333333,\"#9c179e\"],[0.4444444444444444,\"#bd3786\"],[0.5555555555555556,\"#d8576b\"],[0.6666666666666666,\"#ed7953\"],[0.7777777777777778,\"#fb9f3a\"],[0.8888888888888888,\"#fdca26\"],[1.0,\"#f0f921\"]]}],\"choropleth\":[{\"type\":\"choropleth\",\"colorbar\":{\"outlinewidth\":0,\"ticks\":\"\"}}],\"histogram2d\":[{\"type\":\"histogram2d\",\"colorbar\":{\"outlinewidth\":0,\"ticks\":\"\"},\"colorscale\":[[0.0,\"#0d0887\"],[0.1111111111111111,\"#46039f\"],[0.2222222222222222,\"#7201a8\"],[0.3333333333333333,\"#9c179e\"],[0.4444444444444444,\"#bd3786\"],[0.5555555555555556,\"#d8576b\"],[0.6666666666666666,\"#ed7953\"],[0.7777777777777778,\"#fb9f3a\"],[0.8888888888888888,\"#fdca26\"],[1.0,\"#f0f921\"]]}],\"heatmap\":[{\"type\":\"heatmap\",\"colorbar\":{\"outlinewidth\":0,\"ticks\":\"\"},\"colorscale\":[[0.0,\"#0d0887\"],[0.1111111111111111,\"#46039f\"],[0.2222222222222222,\"#7201a8\"],[0.3333333333333333,\"#9c179e\"],[0.4444444444444444,\"#bd3786\"],[0.5555555555555556,\"#d8576b\"],[0.6666666666666666,\"#ed7953\"],[0.7777777777777778,\"#fb9f3a\"],[0.8888888888888888,\"#fdca26\"],[1.0,\"#f0f921\"]]}],\"heatmapgl\":[{\"type\":\"heatmapgl\",\"colorbar\":{\"outlinewidth\":0,\"ticks\":\"\"},\"colorscale\":[[0.0,\"#0d0887\"],[0.1111111111111111,\"#46039f\"],[0.2222222222222222,\"#7201a8\"],[0.3333333333333333,\"#9c179e\"],[0.4444444444444444,\"#bd3786\"],[0.5555555555555556,\"#d8576b\"],[0.6666666666666666,\"#ed7953\"],[0.7777777777777778,\"#fb9f3a\"],[0.8888888888888888,\"#fdca26\"],[1.0,\"#f0f921\"]]}],\"contourcarpet\":[{\"type\":\"contourcarpet\",\"colorbar\":{\"outlinewidth\":0,\"ticks\":\"\"}}],\"contour\":[{\"type\":\"contour\",\"colorbar\":{\"outlinewidth\":0,\"ticks\":\"\"},\"colorscale\":[[0.0,\"#0d0887\"],[0.1111111111111111,\"#46039f\"],[0.2222222222222222,\"#7201a8\"],[0.3333333333333333,\"#9c179e\"],[0.4444444444444444,\"#bd3786\"],[0.5555555555555556,\"#d8576b\"],[0.6666666666666666,\"#ed7953\"],[0.7777777777777778,\"#fb9f3a\"],[0.8888888888888888,\"#fdca26\"],[1.0,\"#f0f921\"]]}],\"surface\":[{\"type\":\"surface\",\"colorbar\":{\"outlinewidth\":0,\"ticks\":\"\"},\"colorscale\":[[0.0,\"#0d0887\"],[0.1111111111111111,\"#46039f\"],[0.2222222222222222,\"#7201a8\"],[0.3333333333333333,\"#9c179e\"],[0.4444444444444444,\"#bd3786\"],[0.5555555555555556,\"#d8576b\"],[0.6666666666666666,\"#ed7953\"],[0.7777777777777778,\"#fb9f3a\"],[0.8888888888888888,\"#fdca26\"],[1.0,\"#f0f921\"]]}],\"mesh3d\":[{\"type\":\"mesh3d\",\"colorbar\":{\"outlinewidth\":0,\"ticks\":\"\"}}],\"scatter\":[{\"fillpattern\":{\"fillmode\":\"overlay\",\"size\":10,\"solidity\":0.2},\"type\":\"scatter\"}],\"parcoords\":[{\"type\":\"parcoords\",\"line\":{\"colorbar\":{\"outlinewidth\":0,\"ticks\":\"\"}}}],\"scatterpolargl\":[{\"type\":\"scatterpolargl\",\"marker\":{\"colorbar\":{\"outlinewidth\":0,\"ticks\":\"\"}}}],\"bar\":[{\"error_x\":{\"color\":\"#2a3f5f\"},\"error_y\":{\"color\":\"#2a3f5f\"},\"marker\":{\"line\":{\"color\":\"#E5ECF6\",\"width\":0.5},\"pattern\":{\"fillmode\":\"overlay\",\"size\":10,\"solidity\":0.2}},\"type\":\"bar\"}],\"scattergeo\":[{\"type\":\"scattergeo\",\"marker\":{\"colorbar\":{\"outlinewidth\":0,\"ticks\":\"\"}}}],\"scatterpolar\":[{\"type\":\"scatterpolar\",\"marker\":{\"colorbar\":{\"outlinewidth\":0,\"ticks\":\"\"}}}],\"histogram\":[{\"marker\":{\"pattern\":{\"fillmode\":\"overlay\",\"size\":10,\"solidity\":0.2}},\"type\":\"histogram\"}],\"scattergl\":[{\"type\":\"scattergl\",\"marker\":{\"colorbar\":{\"outlinewidth\":0,\"ticks\":\"\"}}}],\"scatter3d\":[{\"type\":\"scatter3d\",\"line\":{\"colorbar\":{\"outlinewidth\":0,\"ticks\":\"\"}},\"marker\":{\"colorbar\":{\"outlinewidth\":0,\"ticks\":\"\"}}}],\"scattermapbox\":[{\"type\":\"scattermapbox\",\"marker\":{\"colorbar\":{\"outlinewidth\":0,\"ticks\":\"\"}}}],\"scatterternary\":[{\"type\":\"scatterternary\",\"marker\":{\"colorbar\":{\"outlinewidth\":0,\"ticks\":\"\"}}}],\"scattercarpet\":[{\"type\":\"scattercarpet\",\"marker\":{\"colorbar\":{\"outlinewidth\":0,\"ticks\":\"\"}}}],\"carpet\":[{\"aaxis\":{\"endlinecolor\":\"#2a3f5f\",\"gridcolor\":\"white\",\"linecolor\":\"white\",\"minorgridcolor\":\"white\",\"startlinecolor\":\"#2a3f5f\"},\"baxis\":{\"endlinecolor\":\"#2a3f5f\",\"gridcolor\":\"white\",\"linecolor\":\"white\",\"minorgridcolor\":\"white\",\"startlinecolor\":\"#2a3f5f\"},\"type\":\"carpet\"}],\"table\":[{\"cells\":{\"fill\":{\"color\":\"#EBF0F8\"},\"line\":{\"color\":\"white\"}},\"header\":{\"fill\":{\"color\":\"#C8D4E3\"},\"line\":{\"color\":\"white\"}},\"type\":\"table\"}],\"barpolar\":[{\"marker\":{\"line\":{\"color\":\"#E5ECF6\",\"width\":0.5},\"pattern\":{\"fillmode\":\"overlay\",\"size\":10,\"solidity\":0.2}},\"type\":\"barpolar\"}],\"pie\":[{\"automargin\":true,\"type\":\"pie\"}]},\"layout\":{\"autotypenumbers\":\"strict\",\"colorway\":[\"#636efa\",\"#EF553B\",\"#00cc96\",\"#ab63fa\",\"#FFA15A\",\"#19d3f3\",\"#FF6692\",\"#B6E880\",\"#FF97FF\",\"#FECB52\"],\"font\":{\"color\":\"#2a3f5f\"},\"hovermode\":\"closest\",\"hoverlabel\":{\"align\":\"left\"},\"paper_bgcolor\":\"white\",\"plot_bgcolor\":\"#E5ECF6\",\"polar\":{\"bgcolor\":\"#E5ECF6\",\"angularaxis\":{\"gridcolor\":\"white\",\"linecolor\":\"white\",\"ticks\":\"\"},\"radialaxis\":{\"gridcolor\":\"white\",\"linecolor\":\"white\",\"ticks\":\"\"}},\"ternary\":{\"bgcolor\":\"#E5ECF6\",\"aaxis\":{\"gridcolor\":\"white\",\"linecolor\":\"white\",\"ticks\":\"\"},\"baxis\":{\"gridcolor\":\"white\",\"linecolor\":\"white\",\"ticks\":\"\"},\"caxis\":{\"gridcolor\":\"white\",\"linecolor\":\"white\",\"ticks\":\"\"}},\"coloraxis\":{\"colorbar\":{\"outlinewidth\":0,\"ticks\":\"\"}},\"colorscale\":{\"sequential\":[[0.0,\"#0d0887\"],[0.1111111111111111,\"#46039f\"],[0.2222222222222222,\"#7201a8\"],[0.3333333333333333,\"#9c179e\"],[0.4444444444444444,\"#bd3786\"],[0.5555555555555556,\"#d8576b\"],[0.6666666666666666,\"#ed7953\"],[0.7777777777777778,\"#fb9f3a\"],[0.8888888888888888,\"#fdca26\"],[1.0,\"#f0f921\"]],\"sequentialminus\":[[0.0,\"#0d0887\"],[0.1111111111111111,\"#46039f\"],[0.2222222222222222,\"#7201a8\"],[0.3333333333333333,\"#9c179e\"],[0.4444444444444444,\"#bd3786\"],[0.5555555555555556,\"#d8576b\"],[0.6666666666666666,\"#ed7953\"],[0.7777777777777778,\"#fb9f3a\"],[0.8888888888888888,\"#fdca26\"],[1.0,\"#f0f921\"]],\"diverging\":[[0,\"#8e0152\"],[0.1,\"#c51b7d\"],[0.2,\"#de77ae\"],[0.3,\"#f1b6da\"],[0.4,\"#fde0ef\"],[0.5,\"#f7f7f7\"],[0.6,\"#e6f5d0\"],[0.7,\"#b8e186\"],[0.8,\"#7fbc41\"],[0.9,\"#4d9221\"],[1,\"#276419\"]]},\"xaxis\":{\"gridcolor\":\"white\",\"linecolor\":\"white\",\"ticks\":\"\",\"title\":{\"standoff\":15},\"zerolinecolor\":\"white\",\"automargin\":true,\"zerolinewidth\":2},\"yaxis\":{\"gridcolor\":\"white\",\"linecolor\":\"white\",\"ticks\":\"\",\"title\":{\"standoff\":15},\"zerolinecolor\":\"white\",\"automargin\":true,\"zerolinewidth\":2},\"scene\":{\"xaxis\":{\"backgroundcolor\":\"#E5ECF6\",\"gridcolor\":\"white\",\"linecolor\":\"white\",\"showbackground\":true,\"ticks\":\"\",\"zerolinecolor\":\"white\",\"gridwidth\":2},\"yaxis\":{\"backgroundcolor\":\"#E5ECF6\",\"gridcolor\":\"white\",\"linecolor\":\"white\",\"showbackground\":true,\"ticks\":\"\",\"zerolinecolor\":\"white\",\"gridwidth\":2},\"zaxis\":{\"backgroundcolor\":\"#E5ECF6\",\"gridcolor\":\"white\",\"linecolor\":\"white\",\"showbackground\":true,\"ticks\":\"\",\"zerolinecolor\":\"white\",\"gridwidth\":2}},\"shapedefaults\":{\"line\":{\"color\":\"#2a3f5f\"}},\"annotationdefaults\":{\"arrowcolor\":\"#2a3f5f\",\"arrowhead\":0,\"arrowwidth\":1},\"geo\":{\"bgcolor\":\"white\",\"landcolor\":\"#E5ECF6\",\"subunitcolor\":\"white\",\"showland\":true,\"showlakes\":true,\"lakecolor\":\"white\"},\"title\":{\"x\":0.05},\"mapbox\":{\"style\":\"light\"}}}},                        {\"responsive\": true}                    ).then(function(){\n",
              "                            \n",
              "var gd = document.getElementById('39217d6c-b150-49e0-bb2c-d127f9363df8');\n",
              "var x = new MutationObserver(function (mutations, observer) {{\n",
              "        var display = window.getComputedStyle(gd).display;\n",
              "        if (!display || display === 'none') {{\n",
              "            console.log([gd, 'removed!']);\n",
              "            Plotly.purge(gd);\n",
              "            observer.disconnect();\n",
              "        }}\n",
              "}});\n",
              "\n",
              "// Listen for the removal of the full notebook cells\n",
              "var notebookContainer = gd.closest('#notebook-container');\n",
              "if (notebookContainer) {{\n",
              "    x.observe(notebookContainer, {childList: true});\n",
              "}}\n",
              "\n",
              "// Listen for the clearing of the current output cell\n",
              "var outputEl = gd.closest('.output');\n",
              "if (outputEl) {{\n",
              "    x.observe(outputEl, {childList: true});\n",
              "}}\n",
              "\n",
              "                        })                };                            </script>        </div>\n",
              "</body>\n",
              "</html>"
            ]
          },
          "metadata": {}
        }
      ]
    },
    {
      "cell_type": "markdown",
      "source": [
        "¿Desde qué trial se empiezan a observar mejoras notables en sus resultados?\n",
        "\n",
        "**Respuesta:**\n",
        "```\n",
        "A partir del gráfico se puede observar que los resultados mejoran notablemente en varios puntos, por ejemplo pasando del trial 0 al\n",
        "trial 1, luego en el trial 15 y finalmente en el trial 25. A partir de este punto siguen habiendo mejoras más leves hasta llegar al\n",
        "trial 115 en que se alcanza el mejor valor de MAE entre todos los trials.\n",
        "```"
      ],
      "metadata": {
        "id": "qt-zyJkC0s8j"
      }
    },
    {
      "cell_type": "code",
      "source": [
        "#Graficamos las coordenadas paralelas\n",
        "plot_parallel_coordinate(study_opt_pr)"
      ],
      "metadata": {
        "colab": {
          "base_uri": "https://localhost:8080/",
          "height": 542
        },
        "id": "o5ds45pGnndw",
        "outputId": "03c73251-1859-439f-ff44-a7c39fd2d92b"
      },
      "execution_count": 20,
      "outputs": [
        {
          "output_type": "display_data",
          "data": {
            "text/html": [
              "<html>\n",
              "<head><meta charset=\"utf-8\" /></head>\n",
              "<body>\n",
              "    <div>            <script src=\"https://cdnjs.cloudflare.com/ajax/libs/mathjax/2.7.5/MathJax.js?config=TeX-AMS-MML_SVG\"></script><script type=\"text/javascript\">if (window.MathJax && window.MathJax.Hub && window.MathJax.Hub.Config) {window.MathJax.Hub.Config({SVG: {font: \"STIX-Web\"}});}</script>                <script type=\"text/javascript\">window.PlotlyConfig = {MathJaxConfig: 'local'};</script>\n",
              "        <script charset=\"utf-8\" src=\"https://cdn.plot.ly/plotly-2.24.1.min.js\"></script>                <div id=\"02ba9f20-b214-466b-a48a-e42498e03486\" class=\"plotly-graph-div\" style=\"height:525px; width:100%;\"></div>            <script type=\"text/javascript\">                                    window.PLOTLYENV=window.PLOTLYENV || {};                                    if (document.getElementById(\"02ba9f20-b214-466b-a48a-e42498e03486\")) {                    Plotly.newPlot(                        \"02ba9f20-b214-466b-a48a-e42498e03486\",                        [{\"dimensions\":[{\"label\":\"Objective Value\",\"range\":[1940.9989838382833,10010.173500858748],\"values\":[10010.173500858748,5616.728802473871,9053.395234872445,5624.686032865387,9162.295503754398,6243.039070681656,3007.6129414658126,3068.8020930967764,2502.6602413392256,5670.263513478133,5584.195203520338,2969.900641474583,2975.329361820988,2274.389322480312,2147.9360839189217,2138.7541467906963,2229.6529233385345,2062.7680657517176,2030.7242045466446,1986.563577360506,2033.695083740889,2005.864839037366,1975.750354102086,1969.076408488501,2003.9467897798677,1982.705623350578,1966.5197590273124,1949.4517085916555,1986.6042578648626,1964.8289850557137,1980.4075230657256,2003.5036869816101,1975.5654329601625,1940.9989838382833,1954.3878952721807,1975.9678964896113,2167.4451403579505,1966.0736607610381]},{\"label\":\"learning_rate\",\"range\":[0.0074401077055426725,0.09999703853645388],\"values\":[0.03807947176588889,0.06051038616257767,0.03111998205299424,0.04615092843748656,0.0074401077055426725,0.06306148084575021,0.06996077200878173,0.06529886845926859,0.07109297454060096,0.07462376027613872,0.0875489461264603,0.06530458807652613,0.08307994554157207,0.09993005423129347,0.09680757184284944,0.09888402264750062,0.09096108312263457,0.09219412330840523,0.09288165200665716,0.09402412799170748,0.09233855321590319,0.0918784487759909,0.09239327159251942,0.08113922751135719,0.08675557690389832,0.0938951274183363,0.09499909051927008,0.09509968074252605,0.09253704638639731,0.09746148472745109,0.08701184849782666,0.09805852474973255,0.09566240342271748,0.09391585041713191,0.08478569119452212,0.09999703853645388,0.09975184632756044,0.09324408095567316]},{\"label\":\"max_depth\",\"range\":[3,10],\"values\":[8,3,6,4,10,5,4,3,5,7,7,4,4,5,5,6,5,6,7,8,9,9,9,10,9,9,9,9,9,10,8,8,9,10,9,9,9,9]},{\"label\":\"max_leaves\",\"range\":[6,99],\"values\":[60,97,29,51,81,44,6,99,19,17,25,9,9,35,38,37,47,45,56,61,67,52,53,67,68,66,80,65,67,67,62,68,79,84,87,63,60,64]},{\"label\":\"min_child_weight\",\"range\":[1,5],\"values\":[1,5,4,3,2,3,4,5,4,3,4,5,5,5,5,4,4,3,3,2,1,1,1,1,1,1,1,1,1,1,1,1,1,1,1,1,1,1]},{\"label\":\"min_frequency\",\"range\":[0.0009201308252379689,0.8661761457749352],\"values\":[0.8661761457749352,0.18340450985343382,0.3663618432936917,0.17052412368729153,0.4401524937396013,0.19949541921688124,0.04895637317151069,0.001927953997670942,0.00241599815061905,0.09268205927215767,0.09017405294742764,0.05065016278216242,0.06481745523779207,0.0009917036206705796,0.014815983050905153,0.0009201308252379689,0.013220513941172561,0.07409366503389156,0.06198933880261583,0.06360942111537676,0.07907902978057213,0.06937384609071028,0.07197999729079431,0.07206508946991429,0.05660882563412924,0.051182224900640616,0.04112990733840104,0.03575172185688161,0.008938958422980273,0.06487893416750826,0.07347039985938106,0.026018761261939097,0.041881302535366594,0.05401631954675916,0.06979457535485353,0.07935160775227389,0.03356344503151771,0.05592832108810352]},{\"label\":\"n_estimators\",\"range\":[113,993],\"values\":[954,723,549,796,952,731,714,400,392,413,113,369,314,339,451,463,430,603,542,705,853,808,784,879,677,927,993,813,790,747,723,588,915,956,768,773,231,764]},{\"label\":\"reg_alpha\",\"range\":[0.031502239667032306,0.8578239006130529],\"values\":[0.15599452033620265,0.21233911067827616,0.13949386065204183,0.046450412719997725,0.09767211400638387,0.031502239667032306,0.31841028970708946,0.5164077923393884,0.5999571082290116,0.7071944785663509,0.4721225751760479,0.5224682870256093,0.5006948882255358,0.5975998674985222,0.5872694181039121,0.6055397656919803,0.6263049842501528,0.6559177905537488,0.68561533760814,0.6807282285766656,0.6643097526976391,0.7491252506193825,0.7479754012511758,0.7643083280827792,0.8578239006130529,0.8437874386406838,0.7736998753723764,0.76559068183725,0.6895753806262492,0.7814161738517523,0.7136801441187179,0.677078002352247,0.8009771353763958,0.8105922236983762,0.7754638665735075,0.796873745277994,0.7995717099909485,0.7534856755220598]},{\"label\":\"reg_lambda\",\"range\":[0.013179214380923399,0.6842330265121569],\"values\":[0.05808361216819946,0.18182496720710062,0.29214464853521815,0.6075448519014384,0.6842330265121569,0.4818963296633295,0.10891102882347022,0.13881283755258755,0.10364983884639589,0.013179214380923399,0.2380380003862027,0.15676436557092316,0.22275230386272826,0.3819996117906488,0.3973222872391645,0.4195593850578627,0.354321088272021,0.3474184187487883,0.4380608536769174,0.5195137439833498,0.5576267343225451,0.45811683006474163,0.4957404924366598,0.5656845615556134,0.4937249823325269,0.44035771990019934,0.4710443944610134,0.4520157518100212,0.4056443949461729,0.43621278200057945,0.5819597841102823,0.5087732908287558,0.5683912027810369,0.4876393145933732,0.5336048983556951,0.5830187356903511,0.5394720506841216,0.564598183494204]}],\"labelangle\":30,\"labelside\":\"bottom\",\"line\":{\"color\":[10010.173500858748,5616.728802473871,9053.395234872445,5624.686032865387,9162.295503754398,6243.039070681656,3007.6129414658126,3068.8020930967764,2502.6602413392256,5670.263513478133,5584.195203520338,2969.900641474583,2975.329361820988,2274.389322480312,2147.9360839189217,2138.7541467906963,2229.6529233385345,2062.7680657517176,2030.7242045466446,1986.563577360506,2033.695083740889,2005.864839037366,1975.750354102086,1969.076408488501,2003.9467897798677,1982.705623350578,1966.5197590273124,1949.4517085916555,1986.6042578648626,1964.8289850557137,1980.4075230657256,2003.5036869816101,1975.5654329601625,1940.9989838382833,1954.3878952721807,1975.9678964896113,2167.4451403579505,1966.0736607610381],\"colorbar\":{\"title\":{\"text\":\"Objective Value\"}},\"colorscale\":[[0.0,\"rgb(247,251,255)\"],[0.125,\"rgb(222,235,247)\"],[0.25,\"rgb(198,219,239)\"],[0.375,\"rgb(158,202,225)\"],[0.5,\"rgb(107,174,214)\"],[0.625,\"rgb(66,146,198)\"],[0.75,\"rgb(33,113,181)\"],[0.875,\"rgb(8,81,156)\"],[1.0,\"rgb(8,48,107)\"]],\"reversescale\":true,\"showscale\":true},\"type\":\"parcoords\"}],                        {\"title\":{\"text\":\"Parallel Coordinate Plot\"},\"template\":{\"data\":{\"histogram2dcontour\":[{\"type\":\"histogram2dcontour\",\"colorbar\":{\"outlinewidth\":0,\"ticks\":\"\"},\"colorscale\":[[0.0,\"#0d0887\"],[0.1111111111111111,\"#46039f\"],[0.2222222222222222,\"#7201a8\"],[0.3333333333333333,\"#9c179e\"],[0.4444444444444444,\"#bd3786\"],[0.5555555555555556,\"#d8576b\"],[0.6666666666666666,\"#ed7953\"],[0.7777777777777778,\"#fb9f3a\"],[0.8888888888888888,\"#fdca26\"],[1.0,\"#f0f921\"]]}],\"choropleth\":[{\"type\":\"choropleth\",\"colorbar\":{\"outlinewidth\":0,\"ticks\":\"\"}}],\"histogram2d\":[{\"type\":\"histogram2d\",\"colorbar\":{\"outlinewidth\":0,\"ticks\":\"\"},\"colorscale\":[[0.0,\"#0d0887\"],[0.1111111111111111,\"#46039f\"],[0.2222222222222222,\"#7201a8\"],[0.3333333333333333,\"#9c179e\"],[0.4444444444444444,\"#bd3786\"],[0.5555555555555556,\"#d8576b\"],[0.6666666666666666,\"#ed7953\"],[0.7777777777777778,\"#fb9f3a\"],[0.8888888888888888,\"#fdca26\"],[1.0,\"#f0f921\"]]}],\"heatmap\":[{\"type\":\"heatmap\",\"colorbar\":{\"outlinewidth\":0,\"ticks\":\"\"},\"colorscale\":[[0.0,\"#0d0887\"],[0.1111111111111111,\"#46039f\"],[0.2222222222222222,\"#7201a8\"],[0.3333333333333333,\"#9c179e\"],[0.4444444444444444,\"#bd3786\"],[0.5555555555555556,\"#d8576b\"],[0.6666666666666666,\"#ed7953\"],[0.7777777777777778,\"#fb9f3a\"],[0.8888888888888888,\"#fdca26\"],[1.0,\"#f0f921\"]]}],\"heatmapgl\":[{\"type\":\"heatmapgl\",\"colorbar\":{\"outlinewidth\":0,\"ticks\":\"\"},\"colorscale\":[[0.0,\"#0d0887\"],[0.1111111111111111,\"#46039f\"],[0.2222222222222222,\"#7201a8\"],[0.3333333333333333,\"#9c179e\"],[0.4444444444444444,\"#bd3786\"],[0.5555555555555556,\"#d8576b\"],[0.6666666666666666,\"#ed7953\"],[0.7777777777777778,\"#fb9f3a\"],[0.8888888888888888,\"#fdca26\"],[1.0,\"#f0f921\"]]}],\"contourcarpet\":[{\"type\":\"contourcarpet\",\"colorbar\":{\"outlinewidth\":0,\"ticks\":\"\"}}],\"contour\":[{\"type\":\"contour\",\"colorbar\":{\"outlinewidth\":0,\"ticks\":\"\"},\"colorscale\":[[0.0,\"#0d0887\"],[0.1111111111111111,\"#46039f\"],[0.2222222222222222,\"#7201a8\"],[0.3333333333333333,\"#9c179e\"],[0.4444444444444444,\"#bd3786\"],[0.5555555555555556,\"#d8576b\"],[0.6666666666666666,\"#ed7953\"],[0.7777777777777778,\"#fb9f3a\"],[0.8888888888888888,\"#fdca26\"],[1.0,\"#f0f921\"]]}],\"surface\":[{\"type\":\"surface\",\"colorbar\":{\"outlinewidth\":0,\"ticks\":\"\"},\"colorscale\":[[0.0,\"#0d0887\"],[0.1111111111111111,\"#46039f\"],[0.2222222222222222,\"#7201a8\"],[0.3333333333333333,\"#9c179e\"],[0.4444444444444444,\"#bd3786\"],[0.5555555555555556,\"#d8576b\"],[0.6666666666666666,\"#ed7953\"],[0.7777777777777778,\"#fb9f3a\"],[0.8888888888888888,\"#fdca26\"],[1.0,\"#f0f921\"]]}],\"mesh3d\":[{\"type\":\"mesh3d\",\"colorbar\":{\"outlinewidth\":0,\"ticks\":\"\"}}],\"scatter\":[{\"fillpattern\":{\"fillmode\":\"overlay\",\"size\":10,\"solidity\":0.2},\"type\":\"scatter\"}],\"parcoords\":[{\"type\":\"parcoords\",\"line\":{\"colorbar\":{\"outlinewidth\":0,\"ticks\":\"\"}}}],\"scatterpolargl\":[{\"type\":\"scatterpolargl\",\"marker\":{\"colorbar\":{\"outlinewidth\":0,\"ticks\":\"\"}}}],\"bar\":[{\"error_x\":{\"color\":\"#2a3f5f\"},\"error_y\":{\"color\":\"#2a3f5f\"},\"marker\":{\"line\":{\"color\":\"#E5ECF6\",\"width\":0.5},\"pattern\":{\"fillmode\":\"overlay\",\"size\":10,\"solidity\":0.2}},\"type\":\"bar\"}],\"scattergeo\":[{\"type\":\"scattergeo\",\"marker\":{\"colorbar\":{\"outlinewidth\":0,\"ticks\":\"\"}}}],\"scatterpolar\":[{\"type\":\"scatterpolar\",\"marker\":{\"colorbar\":{\"outlinewidth\":0,\"ticks\":\"\"}}}],\"histogram\":[{\"marker\":{\"pattern\":{\"fillmode\":\"overlay\",\"size\":10,\"solidity\":0.2}},\"type\":\"histogram\"}],\"scattergl\":[{\"type\":\"scattergl\",\"marker\":{\"colorbar\":{\"outlinewidth\":0,\"ticks\":\"\"}}}],\"scatter3d\":[{\"type\":\"scatter3d\",\"line\":{\"colorbar\":{\"outlinewidth\":0,\"ticks\":\"\"}},\"marker\":{\"colorbar\":{\"outlinewidth\":0,\"ticks\":\"\"}}}],\"scattermapbox\":[{\"type\":\"scattermapbox\",\"marker\":{\"colorbar\":{\"outlinewidth\":0,\"ticks\":\"\"}}}],\"scatterternary\":[{\"type\":\"scatterternary\",\"marker\":{\"colorbar\":{\"outlinewidth\":0,\"ticks\":\"\"}}}],\"scattercarpet\":[{\"type\":\"scattercarpet\",\"marker\":{\"colorbar\":{\"outlinewidth\":0,\"ticks\":\"\"}}}],\"carpet\":[{\"aaxis\":{\"endlinecolor\":\"#2a3f5f\",\"gridcolor\":\"white\",\"linecolor\":\"white\",\"minorgridcolor\":\"white\",\"startlinecolor\":\"#2a3f5f\"},\"baxis\":{\"endlinecolor\":\"#2a3f5f\",\"gridcolor\":\"white\",\"linecolor\":\"white\",\"minorgridcolor\":\"white\",\"startlinecolor\":\"#2a3f5f\"},\"type\":\"carpet\"}],\"table\":[{\"cells\":{\"fill\":{\"color\":\"#EBF0F8\"},\"line\":{\"color\":\"white\"}},\"header\":{\"fill\":{\"color\":\"#C8D4E3\"},\"line\":{\"color\":\"white\"}},\"type\":\"table\"}],\"barpolar\":[{\"marker\":{\"line\":{\"color\":\"#E5ECF6\",\"width\":0.5},\"pattern\":{\"fillmode\":\"overlay\",\"size\":10,\"solidity\":0.2}},\"type\":\"barpolar\"}],\"pie\":[{\"automargin\":true,\"type\":\"pie\"}]},\"layout\":{\"autotypenumbers\":\"strict\",\"colorway\":[\"#636efa\",\"#EF553B\",\"#00cc96\",\"#ab63fa\",\"#FFA15A\",\"#19d3f3\",\"#FF6692\",\"#B6E880\",\"#FF97FF\",\"#FECB52\"],\"font\":{\"color\":\"#2a3f5f\"},\"hovermode\":\"closest\",\"hoverlabel\":{\"align\":\"left\"},\"paper_bgcolor\":\"white\",\"plot_bgcolor\":\"#E5ECF6\",\"polar\":{\"bgcolor\":\"#E5ECF6\",\"angularaxis\":{\"gridcolor\":\"white\",\"linecolor\":\"white\",\"ticks\":\"\"},\"radialaxis\":{\"gridcolor\":\"white\",\"linecolor\":\"white\",\"ticks\":\"\"}},\"ternary\":{\"bgcolor\":\"#E5ECF6\",\"aaxis\":{\"gridcolor\":\"white\",\"linecolor\":\"white\",\"ticks\":\"\"},\"baxis\":{\"gridcolor\":\"white\",\"linecolor\":\"white\",\"ticks\":\"\"},\"caxis\":{\"gridcolor\":\"white\",\"linecolor\":\"white\",\"ticks\":\"\"}},\"coloraxis\":{\"colorbar\":{\"outlinewidth\":0,\"ticks\":\"\"}},\"colorscale\":{\"sequential\":[[0.0,\"#0d0887\"],[0.1111111111111111,\"#46039f\"],[0.2222222222222222,\"#7201a8\"],[0.3333333333333333,\"#9c179e\"],[0.4444444444444444,\"#bd3786\"],[0.5555555555555556,\"#d8576b\"],[0.6666666666666666,\"#ed7953\"],[0.7777777777777778,\"#fb9f3a\"],[0.8888888888888888,\"#fdca26\"],[1.0,\"#f0f921\"]],\"sequentialminus\":[[0.0,\"#0d0887\"],[0.1111111111111111,\"#46039f\"],[0.2222222222222222,\"#7201a8\"],[0.3333333333333333,\"#9c179e\"],[0.4444444444444444,\"#bd3786\"],[0.5555555555555556,\"#d8576b\"],[0.6666666666666666,\"#ed7953\"],[0.7777777777777778,\"#fb9f3a\"],[0.8888888888888888,\"#fdca26\"],[1.0,\"#f0f921\"]],\"diverging\":[[0,\"#8e0152\"],[0.1,\"#c51b7d\"],[0.2,\"#de77ae\"],[0.3,\"#f1b6da\"],[0.4,\"#fde0ef\"],[0.5,\"#f7f7f7\"],[0.6,\"#e6f5d0\"],[0.7,\"#b8e186\"],[0.8,\"#7fbc41\"],[0.9,\"#4d9221\"],[1,\"#276419\"]]},\"xaxis\":{\"gridcolor\":\"white\",\"linecolor\":\"white\",\"ticks\":\"\",\"title\":{\"standoff\":15},\"zerolinecolor\":\"white\",\"automargin\":true,\"zerolinewidth\":2},\"yaxis\":{\"gridcolor\":\"white\",\"linecolor\":\"white\",\"ticks\":\"\",\"title\":{\"standoff\":15},\"zerolinecolor\":\"white\",\"automargin\":true,\"zerolinewidth\":2},\"scene\":{\"xaxis\":{\"backgroundcolor\":\"#E5ECF6\",\"gridcolor\":\"white\",\"linecolor\":\"white\",\"showbackground\":true,\"ticks\":\"\",\"zerolinecolor\":\"white\",\"gridwidth\":2},\"yaxis\":{\"backgroundcolor\":\"#E5ECF6\",\"gridcolor\":\"white\",\"linecolor\":\"white\",\"showbackground\":true,\"ticks\":\"\",\"zerolinecolor\":\"white\",\"gridwidth\":2},\"zaxis\":{\"backgroundcolor\":\"#E5ECF6\",\"gridcolor\":\"white\",\"linecolor\":\"white\",\"showbackground\":true,\"ticks\":\"\",\"zerolinecolor\":\"white\",\"gridwidth\":2}},\"shapedefaults\":{\"line\":{\"color\":\"#2a3f5f\"}},\"annotationdefaults\":{\"arrowcolor\":\"#2a3f5f\",\"arrowhead\":0,\"arrowwidth\":1},\"geo\":{\"bgcolor\":\"white\",\"landcolor\":\"#E5ECF6\",\"subunitcolor\":\"white\",\"showland\":true,\"showlakes\":true,\"lakecolor\":\"white\"},\"title\":{\"x\":0.05},\"mapbox\":{\"style\":\"light\"}}}},                        {\"responsive\": true}                    ).then(function(){\n",
              "                            \n",
              "var gd = document.getElementById('02ba9f20-b214-466b-a48a-e42498e03486');\n",
              "var x = new MutationObserver(function (mutations, observer) {{\n",
              "        var display = window.getComputedStyle(gd).display;\n",
              "        if (!display || display === 'none') {{\n",
              "            console.log([gd, 'removed!']);\n",
              "            Plotly.purge(gd);\n",
              "            observer.disconnect();\n",
              "        }}\n",
              "}});\n",
              "\n",
              "// Listen for the removal of the full notebook cells\n",
              "var notebookContainer = gd.closest('#notebook-container');\n",
              "if (notebookContainer) {{\n",
              "    x.observe(notebookContainer, {childList: true});\n",
              "}}\n",
              "\n",
              "// Listen for the clearing of the current output cell\n",
              "var outputEl = gd.closest('.output');\n",
              "if (outputEl) {{\n",
              "    x.observe(outputEl, {childList: true});\n",
              "}}\n",
              "\n",
              "                        })                };                            </script>        </div>\n",
              "</body>\n",
              "</html>"
            ]
          },
          "metadata": {}
        }
      ]
    },
    {
      "cell_type": "markdown",
      "source": [
        "¿Qué tendencias puede observar a partir del gráfico de coordenadas paralelas?\n",
        "\n",
        "**Respuesta:**\n",
        "```\n",
        "En el gráfico previo se puede ver que en varias de las variables las líneas se concentran en un rango reducido de valores, como lo\n",
        "pueden ser learning_rate, reg_alpha y reg_lambda tendiendo a valores más altos, mientras que otras variables como\n",
        "min_child_weight y min_frequency tienden a valores más bajo.\n",
        "Esto puede evidenciar cómo el método de pruning poda las ramas que dan resultados poco efectivos, de modo que para los valores poco\n",
        "óptimos de los hiperparámetros se encuentran pocas líneas, enfocándose mayoritariamente en aquellos valores que optimizan los\n",
        "resultados.\n",
        "```"
      ],
      "metadata": {
        "id": "OP53ztoq1NnR"
      }
    },
    {
      "cell_type": "code",
      "source": [
        "#Graficamos la importancia de hiperparámetros\n",
        "plot_param_importances(study_opt_pr)"
      ],
      "metadata": {
        "colab": {
          "base_uri": "https://localhost:8080/",
          "height": 542
        },
        "id": "nn86p3IynleS",
        "outputId": "da947de1-f500-4164-ce4a-e5c1308ea8a2"
      },
      "execution_count": 21,
      "outputs": [
        {
          "output_type": "display_data",
          "data": {
            "text/html": [
              "<html>\n",
              "<head><meta charset=\"utf-8\" /></head>\n",
              "<body>\n",
              "    <div>            <script src=\"https://cdnjs.cloudflare.com/ajax/libs/mathjax/2.7.5/MathJax.js?config=TeX-AMS-MML_SVG\"></script><script type=\"text/javascript\">if (window.MathJax && window.MathJax.Hub && window.MathJax.Hub.Config) {window.MathJax.Hub.Config({SVG: {font: \"STIX-Web\"}});}</script>                <script type=\"text/javascript\">window.PlotlyConfig = {MathJaxConfig: 'local'};</script>\n",
              "        <script charset=\"utf-8\" src=\"https://cdn.plot.ly/plotly-2.24.1.min.js\"></script>                <div id=\"e46a13c4-8a5f-477a-84d0-c3884f068fba\" class=\"plotly-graph-div\" style=\"height:525px; width:100%;\"></div>            <script type=\"text/javascript\">                                    window.PLOTLYENV=window.PLOTLYENV || {};                                    if (document.getElementById(\"e46a13c4-8a5f-477a-84d0-c3884f068fba\")) {                    Plotly.newPlot(                        \"e46a13c4-8a5f-477a-84d0-c3884f068fba\",                        [{\"cliponaxis\":false,\"hovertemplate\":[\"reg_lambda (FloatDistribution): 0.009876068147446796\\u003cextra\\u003e\\u003c\\u002fextra\\u003e\",\"max_leaves (IntDistribution): 0.010692683102533518\\u003cextra\\u003e\\u003c\\u002fextra\\u003e\",\"min_child_weight (IntDistribution): 0.0200474196628832\\u003cextra\\u003e\\u003c\\u002fextra\\u003e\",\"max_depth (IntDistribution): 0.030171505158070516\\u003cextra\\u003e\\u003c\\u002fextra\\u003e\",\"n_estimators (IntDistribution): 0.036715259099660655\\u003cextra\\u003e\\u003c\\u002fextra\\u003e\",\"reg_alpha (FloatDistribution): 0.061295829241770995\\u003cextra\\u003e\\u003c\\u002fextra\\u003e\",\"learning_rate (FloatDistribution): 0.17639530036962028\\u003cextra\\u003e\\u003c\\u002fextra\\u003e\",\"min_frequency (FloatDistribution): 0.6548059352180141\\u003cextra\\u003e\\u003c\\u002fextra\\u003e\"],\"name\":\"Objective Value\",\"orientation\":\"h\",\"text\":[\"\\u003c0.01\",\"0.01\",\"0.02\",\"0.03\",\"0.04\",\"0.06\",\"0.18\",\"0.65\"],\"textposition\":\"outside\",\"x\":[0.009876068147446796,0.010692683102533518,0.0200474196628832,0.030171505158070516,0.036715259099660655,0.061295829241770995,0.17639530036962028,0.6548059352180141],\"y\":[\"reg_lambda\",\"max_leaves\",\"min_child_weight\",\"max_depth\",\"n_estimators\",\"reg_alpha\",\"learning_rate\",\"min_frequency\"],\"type\":\"bar\"}],                        {\"title\":{\"text\":\"Hyperparameter Importances\"},\"xaxis\":{\"title\":{\"text\":\"Hyperparameter Importance\"}},\"yaxis\":{\"title\":{\"text\":\"Hyperparameter\"}},\"template\":{\"data\":{\"histogram2dcontour\":[{\"type\":\"histogram2dcontour\",\"colorbar\":{\"outlinewidth\":0,\"ticks\":\"\"},\"colorscale\":[[0.0,\"#0d0887\"],[0.1111111111111111,\"#46039f\"],[0.2222222222222222,\"#7201a8\"],[0.3333333333333333,\"#9c179e\"],[0.4444444444444444,\"#bd3786\"],[0.5555555555555556,\"#d8576b\"],[0.6666666666666666,\"#ed7953\"],[0.7777777777777778,\"#fb9f3a\"],[0.8888888888888888,\"#fdca26\"],[1.0,\"#f0f921\"]]}],\"choropleth\":[{\"type\":\"choropleth\",\"colorbar\":{\"outlinewidth\":0,\"ticks\":\"\"}}],\"histogram2d\":[{\"type\":\"histogram2d\",\"colorbar\":{\"outlinewidth\":0,\"ticks\":\"\"},\"colorscale\":[[0.0,\"#0d0887\"],[0.1111111111111111,\"#46039f\"],[0.2222222222222222,\"#7201a8\"],[0.3333333333333333,\"#9c179e\"],[0.4444444444444444,\"#bd3786\"],[0.5555555555555556,\"#d8576b\"],[0.6666666666666666,\"#ed7953\"],[0.7777777777777778,\"#fb9f3a\"],[0.8888888888888888,\"#fdca26\"],[1.0,\"#f0f921\"]]}],\"heatmap\":[{\"type\":\"heatmap\",\"colorbar\":{\"outlinewidth\":0,\"ticks\":\"\"},\"colorscale\":[[0.0,\"#0d0887\"],[0.1111111111111111,\"#46039f\"],[0.2222222222222222,\"#7201a8\"],[0.3333333333333333,\"#9c179e\"],[0.4444444444444444,\"#bd3786\"],[0.5555555555555556,\"#d8576b\"],[0.6666666666666666,\"#ed7953\"],[0.7777777777777778,\"#fb9f3a\"],[0.8888888888888888,\"#fdca26\"],[1.0,\"#f0f921\"]]}],\"heatmapgl\":[{\"type\":\"heatmapgl\",\"colorbar\":{\"outlinewidth\":0,\"ticks\":\"\"},\"colorscale\":[[0.0,\"#0d0887\"],[0.1111111111111111,\"#46039f\"],[0.2222222222222222,\"#7201a8\"],[0.3333333333333333,\"#9c179e\"],[0.4444444444444444,\"#bd3786\"],[0.5555555555555556,\"#d8576b\"],[0.6666666666666666,\"#ed7953\"],[0.7777777777777778,\"#fb9f3a\"],[0.8888888888888888,\"#fdca26\"],[1.0,\"#f0f921\"]]}],\"contourcarpet\":[{\"type\":\"contourcarpet\",\"colorbar\":{\"outlinewidth\":0,\"ticks\":\"\"}}],\"contour\":[{\"type\":\"contour\",\"colorbar\":{\"outlinewidth\":0,\"ticks\":\"\"},\"colorscale\":[[0.0,\"#0d0887\"],[0.1111111111111111,\"#46039f\"],[0.2222222222222222,\"#7201a8\"],[0.3333333333333333,\"#9c179e\"],[0.4444444444444444,\"#bd3786\"],[0.5555555555555556,\"#d8576b\"],[0.6666666666666666,\"#ed7953\"],[0.7777777777777778,\"#fb9f3a\"],[0.8888888888888888,\"#fdca26\"],[1.0,\"#f0f921\"]]}],\"surface\":[{\"type\":\"surface\",\"colorbar\":{\"outlinewidth\":0,\"ticks\":\"\"},\"colorscale\":[[0.0,\"#0d0887\"],[0.1111111111111111,\"#46039f\"],[0.2222222222222222,\"#7201a8\"],[0.3333333333333333,\"#9c179e\"],[0.4444444444444444,\"#bd3786\"],[0.5555555555555556,\"#d8576b\"],[0.6666666666666666,\"#ed7953\"],[0.7777777777777778,\"#fb9f3a\"],[0.8888888888888888,\"#fdca26\"],[1.0,\"#f0f921\"]]}],\"mesh3d\":[{\"type\":\"mesh3d\",\"colorbar\":{\"outlinewidth\":0,\"ticks\":\"\"}}],\"scatter\":[{\"fillpattern\":{\"fillmode\":\"overlay\",\"size\":10,\"solidity\":0.2},\"type\":\"scatter\"}],\"parcoords\":[{\"type\":\"parcoords\",\"line\":{\"colorbar\":{\"outlinewidth\":0,\"ticks\":\"\"}}}],\"scatterpolargl\":[{\"type\":\"scatterpolargl\",\"marker\":{\"colorbar\":{\"outlinewidth\":0,\"ticks\":\"\"}}}],\"bar\":[{\"error_x\":{\"color\":\"#2a3f5f\"},\"error_y\":{\"color\":\"#2a3f5f\"},\"marker\":{\"line\":{\"color\":\"#E5ECF6\",\"width\":0.5},\"pattern\":{\"fillmode\":\"overlay\",\"size\":10,\"solidity\":0.2}},\"type\":\"bar\"}],\"scattergeo\":[{\"type\":\"scattergeo\",\"marker\":{\"colorbar\":{\"outlinewidth\":0,\"ticks\":\"\"}}}],\"scatterpolar\":[{\"type\":\"scatterpolar\",\"marker\":{\"colorbar\":{\"outlinewidth\":0,\"ticks\":\"\"}}}],\"histogram\":[{\"marker\":{\"pattern\":{\"fillmode\":\"overlay\",\"size\":10,\"solidity\":0.2}},\"type\":\"histogram\"}],\"scattergl\":[{\"type\":\"scattergl\",\"marker\":{\"colorbar\":{\"outlinewidth\":0,\"ticks\":\"\"}}}],\"scatter3d\":[{\"type\":\"scatter3d\",\"line\":{\"colorbar\":{\"outlinewidth\":0,\"ticks\":\"\"}},\"marker\":{\"colorbar\":{\"outlinewidth\":0,\"ticks\":\"\"}}}],\"scattermapbox\":[{\"type\":\"scattermapbox\",\"marker\":{\"colorbar\":{\"outlinewidth\":0,\"ticks\":\"\"}}}],\"scatterternary\":[{\"type\":\"scatterternary\",\"marker\":{\"colorbar\":{\"outlinewidth\":0,\"ticks\":\"\"}}}],\"scattercarpet\":[{\"type\":\"scattercarpet\",\"marker\":{\"colorbar\":{\"outlinewidth\":0,\"ticks\":\"\"}}}],\"carpet\":[{\"aaxis\":{\"endlinecolor\":\"#2a3f5f\",\"gridcolor\":\"white\",\"linecolor\":\"white\",\"minorgridcolor\":\"white\",\"startlinecolor\":\"#2a3f5f\"},\"baxis\":{\"endlinecolor\":\"#2a3f5f\",\"gridcolor\":\"white\",\"linecolor\":\"white\",\"minorgridcolor\":\"white\",\"startlinecolor\":\"#2a3f5f\"},\"type\":\"carpet\"}],\"table\":[{\"cells\":{\"fill\":{\"color\":\"#EBF0F8\"},\"line\":{\"color\":\"white\"}},\"header\":{\"fill\":{\"color\":\"#C8D4E3\"},\"line\":{\"color\":\"white\"}},\"type\":\"table\"}],\"barpolar\":[{\"marker\":{\"line\":{\"color\":\"#E5ECF6\",\"width\":0.5},\"pattern\":{\"fillmode\":\"overlay\",\"size\":10,\"solidity\":0.2}},\"type\":\"barpolar\"}],\"pie\":[{\"automargin\":true,\"type\":\"pie\"}]},\"layout\":{\"autotypenumbers\":\"strict\",\"colorway\":[\"#636efa\",\"#EF553B\",\"#00cc96\",\"#ab63fa\",\"#FFA15A\",\"#19d3f3\",\"#FF6692\",\"#B6E880\",\"#FF97FF\",\"#FECB52\"],\"font\":{\"color\":\"#2a3f5f\"},\"hovermode\":\"closest\",\"hoverlabel\":{\"align\":\"left\"},\"paper_bgcolor\":\"white\",\"plot_bgcolor\":\"#E5ECF6\",\"polar\":{\"bgcolor\":\"#E5ECF6\",\"angularaxis\":{\"gridcolor\":\"white\",\"linecolor\":\"white\",\"ticks\":\"\"},\"radialaxis\":{\"gridcolor\":\"white\",\"linecolor\":\"white\",\"ticks\":\"\"}},\"ternary\":{\"bgcolor\":\"#E5ECF6\",\"aaxis\":{\"gridcolor\":\"white\",\"linecolor\":\"white\",\"ticks\":\"\"},\"baxis\":{\"gridcolor\":\"white\",\"linecolor\":\"white\",\"ticks\":\"\"},\"caxis\":{\"gridcolor\":\"white\",\"linecolor\":\"white\",\"ticks\":\"\"}},\"coloraxis\":{\"colorbar\":{\"outlinewidth\":0,\"ticks\":\"\"}},\"colorscale\":{\"sequential\":[[0.0,\"#0d0887\"],[0.1111111111111111,\"#46039f\"],[0.2222222222222222,\"#7201a8\"],[0.3333333333333333,\"#9c179e\"],[0.4444444444444444,\"#bd3786\"],[0.5555555555555556,\"#d8576b\"],[0.6666666666666666,\"#ed7953\"],[0.7777777777777778,\"#fb9f3a\"],[0.8888888888888888,\"#fdca26\"],[1.0,\"#f0f921\"]],\"sequentialminus\":[[0.0,\"#0d0887\"],[0.1111111111111111,\"#46039f\"],[0.2222222222222222,\"#7201a8\"],[0.3333333333333333,\"#9c179e\"],[0.4444444444444444,\"#bd3786\"],[0.5555555555555556,\"#d8576b\"],[0.6666666666666666,\"#ed7953\"],[0.7777777777777778,\"#fb9f3a\"],[0.8888888888888888,\"#fdca26\"],[1.0,\"#f0f921\"]],\"diverging\":[[0,\"#8e0152\"],[0.1,\"#c51b7d\"],[0.2,\"#de77ae\"],[0.3,\"#f1b6da\"],[0.4,\"#fde0ef\"],[0.5,\"#f7f7f7\"],[0.6,\"#e6f5d0\"],[0.7,\"#b8e186\"],[0.8,\"#7fbc41\"],[0.9,\"#4d9221\"],[1,\"#276419\"]]},\"xaxis\":{\"gridcolor\":\"white\",\"linecolor\":\"white\",\"ticks\":\"\",\"title\":{\"standoff\":15},\"zerolinecolor\":\"white\",\"automargin\":true,\"zerolinewidth\":2},\"yaxis\":{\"gridcolor\":\"white\",\"linecolor\":\"white\",\"ticks\":\"\",\"title\":{\"standoff\":15},\"zerolinecolor\":\"white\",\"automargin\":true,\"zerolinewidth\":2},\"scene\":{\"xaxis\":{\"backgroundcolor\":\"#E5ECF6\",\"gridcolor\":\"white\",\"linecolor\":\"white\",\"showbackground\":true,\"ticks\":\"\",\"zerolinecolor\":\"white\",\"gridwidth\":2},\"yaxis\":{\"backgroundcolor\":\"#E5ECF6\",\"gridcolor\":\"white\",\"linecolor\":\"white\",\"showbackground\":true,\"ticks\":\"\",\"zerolinecolor\":\"white\",\"gridwidth\":2},\"zaxis\":{\"backgroundcolor\":\"#E5ECF6\",\"gridcolor\":\"white\",\"linecolor\":\"white\",\"showbackground\":true,\"ticks\":\"\",\"zerolinecolor\":\"white\",\"gridwidth\":2}},\"shapedefaults\":{\"line\":{\"color\":\"#2a3f5f\"}},\"annotationdefaults\":{\"arrowcolor\":\"#2a3f5f\",\"arrowhead\":0,\"arrowwidth\":1},\"geo\":{\"bgcolor\":\"white\",\"landcolor\":\"#E5ECF6\",\"subunitcolor\":\"white\",\"showland\":true,\"showlakes\":true,\"lakecolor\":\"white\"},\"title\":{\"x\":0.05},\"mapbox\":{\"style\":\"light\"}}}},                        {\"responsive\": true}                    ).then(function(){\n",
              "                            \n",
              "var gd = document.getElementById('e46a13c4-8a5f-477a-84d0-c3884f068fba');\n",
              "var x = new MutationObserver(function (mutations, observer) {{\n",
              "        var display = window.getComputedStyle(gd).display;\n",
              "        if (!display || display === 'none') {{\n",
              "            console.log([gd, 'removed!']);\n",
              "            Plotly.purge(gd);\n",
              "            observer.disconnect();\n",
              "        }}\n",
              "}});\n",
              "\n",
              "// Listen for the removal of the full notebook cells\n",
              "var notebookContainer = gd.closest('#notebook-container');\n",
              "if (notebookContainer) {{\n",
              "    x.observe(notebookContainer, {childList: true});\n",
              "}}\n",
              "\n",
              "// Listen for the clearing of the current output cell\n",
              "var outputEl = gd.closest('.output');\n",
              "if (outputEl) {{\n",
              "    x.observe(outputEl, {childList: true});\n",
              "}}\n",
              "\n",
              "                        })                };                            </script>        </div>\n",
              "</body>\n",
              "</html>"
            ]
          },
          "metadata": {}
        }
      ]
    },
    {
      "cell_type": "markdown",
      "source": [
        "¿Cuáles son los hiperparámetros con mayor importancia para la optimización de su modelo?\n",
        "\n",
        "**Respuesta:**\n",
        "```\n",
        "De acuerdo a lo observado en el gráfico anterior se puede afirmar que las variables más importante son min_frequency que es la más\n",
        "contribuyente al rendimiento del modelo liderando por un amplio margen. A esta variable le siguen learning_rate, y más atrás\n",
        "reg_alpha, n_estimators y max depth.\n",
        "\n",
        "Los gráficos de importancia de hiperparámetros reflejan cómo cada parámetro contribuye al rendimiento del modelo, evaluando su\n",
        "impacto relativo. En el caso de la optimización con Optuna, el atributo de mayor importancia es min_frequency, seguido por\n",
        "max_leaves y reg_lambda. Por otro lado, cuando se emplea el Pruning junto con Optuna, min_frequency también se destaca como el más\n",
        "influyente, seguido por learning_rate y reg_alpha. En ambos casos, min_frequency se posiciona como el parámetro más significativo\n",
        "en la optimización, aunque las posiciones relativas de otros hiperparámetros varían entre los métodos de optimización, lo que\n",
        "sugiere que el Pruning puede dar mayor importancia a otros atributos como learning_rate y reg_alpha en la mejora del modelo.\n",
        "```"
      ],
      "metadata": {
        "id": "_sxJQmfP1Nkx"
      }
    },
    {
      "cell_type": "markdown",
      "metadata": {
        "cell_id": "ac8a20f445d045a3becf1a518d410a7d",
        "deepnote_cell_type": "markdown",
        "id": "n8F7ZKzW4aws"
      },
      "source": [
        "## 1.6 Síntesis de resultados (0.3)\n",
        "\n",
        "Finalmente, genere una tabla resumen del MAE obtenido en los 5 modelos entrenados (desde Baseline hasta XGBoost con Constraints, Optuna y Prunning) y compare sus resultados. ¿Qué modelo obtiene el mejor rendimiento?\n",
        "\n",
        "Por último, cargue el mejor modelo, prediga sobre el conjunto de test y reporte su MAE. ¿Existen diferencias con respecto a las métricas obtenidas en el conjunto de validación? ¿Por qué puede ocurrir esto?"
      ]
    },
    {
      "cell_type": "markdown",
      "source": [
        "|  | Baseline | XGBoost | XGBoost+Constraint | XGBoost+Optuna | XGBoost+pruning |\n",
        "|-----------|-----------|-----------|-----------|-----------|-----------|\n",
        "| MAE        | 13413.18        | 2427.11       | 2447.61        | 2043.05        | 1940.99        |\n"
      ],
      "metadata": {
        "id": "deCdaZMX5LGG"
      }
    },
    {
      "cell_type": "markdown",
      "source": [
        "```\n",
        "A partir de lo anterior y lo mencionado a lo largo del laboratorio se puede indicar que el mejor modelo fue el que utiliza el\n",
        "pruning, obteniendo el mejor valor de MAE por un amplio margen respecto a los 3 modelos que le siguen, mejorando cerca de un 5%\n",
        "respecto al modelo más cercano a él.\n",
        "```"
      ],
      "metadata": {
        "id": "Hge6NRct9CeL"
      }
    },
    {
      "cell_type": "code",
      "source": [
        "#Predecimos sobre los datos de test\n",
        "test_predictions_xgb_best_pruning = best_model.predict(X_test)\n",
        "\n",
        "#Obtenemos el valor del MAE\n",
        "mae_xgb_best_pruning = mean_absolute_error(y_test, test_predictions_xgb_best_pruning)\n",
        "\n",
        "#Imprimimos resultados relevantes\n",
        "print(f'MAE con XGBoost y los mejores hiperparámetros (prunning): {mae_xgb_best_pruning}')\n",
        "#Guardamos el regresor XGBoost con los mejores hiperparámetros y pruning\n",
        "with open('regressor_xgb_best_pruning.pkl', 'wb') as f:\n",
        "    pickle.dump(best_model, f)"
      ],
      "metadata": {
        "colab": {
          "base_uri": "https://localhost:8080/"
        },
        "id": "6WsJY2Zv4yYd",
        "outputId": "59880390-1e08-4098-b676-6d6e952018f7"
      },
      "execution_count": 28,
      "outputs": [
        {
          "output_type": "stream",
          "name": "stdout",
          "text": [
            "MAE con XGBoost y los mejores hiperparámetros (prunning): 2095.3997821564803\n"
          ]
        }
      ]
    },
    {
      "cell_type": "markdown",
      "source": [
        "```\n",
        "El modelo entrega un MAE de 2095.39 en el conjunto de test, lo que es similar a lo obtenido sobre el conjunto de validation por el\n",
        "modelo sin pruning.\n",
        "La diferencia apreciada puede deberse a ligeras diferencias entre los conjuntos de validation y test, los que pese a ser similares,\n",
        "no se adaptan perfectamente a lo aprendido por el modelo.\n",
        "A pesar de presentar peores resultados sobre este conjunto de\n",
        "datos, los resultados son considerados buenos, pues la diferencia no es excesivamente grande y aun así tiene mejores resultados que\n",
        "los primeros tres modelos.\n",
        "```"
      ],
      "metadata": {
        "id": "_XbqlIsd9AhM"
      }
    },
    {
      "cell_type": "markdown",
      "metadata": {
        "cell_id": "5c4654d12037494fbd385b4dc6bd1059",
        "deepnote_cell_type": "markdown",
        "id": "LXdG6jlL4aws"
      },
      "source": [
        "# Conclusión\n",
        "Eso ha sido todo para el lab de hoy, recuerden que el laboratorio tiene un plazo de entrega de una semana. Cualquier duda del laboratorio, no duden en contactarnos por mail o U-cursos.\n",
        "\n",
        "<p align=\"center\">\n",
        "  <img src=\"https://media.tenor.com/8CT1AXElF_cAAAAC/gojo-satoru.gif\">\n",
        "</p>"
      ]
    },
    {
      "cell_type": "markdown",
      "metadata": {
        "cell_id": "5025de06759f4903a26916c80323bf25",
        "deepnote_cell_type": "markdown",
        "id": "Jqrk5E2e4aws"
      },
      "source": []
    },
    {
      "cell_type": "markdown",
      "source": [
        "<a style='text-decoration:none;line-height:16px;display:flex;color:#5B5B62;padding:10px;justify-content:end;' href='https://deepnote.com?utm_source=created-in-deepnote-cell&projectId=87110296-876e-426f-b91d-aaf681223468' target=\"_blank\">\n",
        "<img alt='Created in deepnote.com' style='display:inline;max-height:16px;margin:0px;margin-right:7.5px;' src='data:image/svg+xml;base64,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' > </img>\n",
        "Created in <span style='font-weight:600;margin-left:4px;'>Deepnote</span></a>"
      ],
      "metadata": {
        "created_in_deepnote_cell": true,
        "deepnote_cell_type": "markdown",
        "id": "eyaVmCqp4aws"
      }
    }
  ],
  "nbformat": 4,
  "nbformat_minor": 0,
  "metadata": {
    "deepnote": {},
    "kernelspec": {
      "name": "python3",
      "language": "python",
      "display_name": "base"
    },
    "language_info": {
      "name": "python",
      "version": "3.10.9",
      "mimetype": "text/x-python",
      "file_extension": ".py",
      "pygments_lexer": "ipython3",
      "codemirror_mode": {
        "name": "ipython",
        "version": 3
      },
      "nbconvert_exporter": "python"
    },
    "deepnote_notebook_id": "f63d38450a6b464c9bb6385cf11db4d9",
    "deepnote_persisted_session": {
      "createdAt": "2023-11-09T16:18:30.203Z"
    },
    "deepnote_execution_queue": [],
    "colab": {
      "provenance": []
    },
    "widgets": {
      "application/vnd.jupyter.widget-state+json": {
        "b0f5b661b541482e900695f4a3cc148f": {
          "model_module": "@jupyter-widgets/controls",
          "model_name": "HBoxModel",
          "model_module_version": "1.5.0",
          "state": {
            "_dom_classes": [],
            "_model_module": "@jupyter-widgets/controls",
            "_model_module_version": "1.5.0",
            "_model_name": "HBoxModel",
            "_view_count": null,
            "_view_module": "@jupyter-widgets/controls",
            "_view_module_version": "1.5.0",
            "_view_name": "HBoxView",
            "box_style": "",
            "children": [
              "IPY_MODEL_ac85b99d61b04c09b0090496fcf54139",
              "IPY_MODEL_3763ed7bfcd34ff6bc0fa3e6c5474bcf",
              "IPY_MODEL_fc9db7f1308447be9096a77787d00d19"
            ],
            "layout": "IPY_MODEL_58926d57275c44ad9e0cfc509c3f2aec"
          }
        },
        "ac85b99d61b04c09b0090496fcf54139": {
          "model_module": "@jupyter-widgets/controls",
          "model_name": "HTMLModel",
          "model_module_version": "1.5.0",
          "state": {
            "_dom_classes": [],
            "_model_module": "@jupyter-widgets/controls",
            "_model_module_version": "1.5.0",
            "_model_name": "HTMLModel",
            "_view_count": null,
            "_view_module": "@jupyter-widgets/controls",
            "_view_module_version": "1.5.0",
            "_view_name": "HTMLView",
            "description": "",
            "description_tooltip": null,
            "layout": "IPY_MODEL_9b7c9a1bc40a4c60856027bbd9316327",
            "placeholder": "​",
            "style": "IPY_MODEL_8eaf0fe40d2b404e82c3383a4d69bd63",
            "value": "Best trial: 112. Best value: 2043.05:  100%"
          }
        },
        "3763ed7bfcd34ff6bc0fa3e6c5474bcf": {
          "model_module": "@jupyter-widgets/controls",
          "model_name": "FloatProgressModel",
          "model_module_version": "1.5.0",
          "state": {
            "_dom_classes": [],
            "_model_module": "@jupyter-widgets/controls",
            "_model_module_version": "1.5.0",
            "_model_name": "FloatProgressModel",
            "_view_count": null,
            "_view_module": "@jupyter-widgets/controls",
            "_view_module_version": "1.5.0",
            "_view_name": "ProgressView",
            "bar_style": "success",
            "description": "",
            "description_tooltip": null,
            "layout": "IPY_MODEL_6660a9aee3764c61b4f3278ce54f1533",
            "max": 300,
            "min": 0,
            "orientation": "horizontal",
            "style": "IPY_MODEL_5f89eda9f06140cbb30dd143fd5b90af",
            "value": 300
          }
        },
        "fc9db7f1308447be9096a77787d00d19": {
          "model_module": "@jupyter-widgets/controls",
          "model_name": "HTMLModel",
          "model_module_version": "1.5.0",
          "state": {
            "_dom_classes": [],
            "_model_module": "@jupyter-widgets/controls",
            "_model_module_version": "1.5.0",
            "_model_name": "HTMLModel",
            "_view_count": null,
            "_view_module": "@jupyter-widgets/controls",
            "_view_module_version": "1.5.0",
            "_view_name": "HTMLView",
            "description": "",
            "description_tooltip": null,
            "layout": "IPY_MODEL_f3f2f7cbcf364220b93934c08f780e0e",
            "placeholder": "​",
            "style": "IPY_MODEL_83eb82fa5928420d8c352e051dd3381c",
            "value": " 05:00/05:00"
          }
        },
        "58926d57275c44ad9e0cfc509c3f2aec": {
          "model_module": "@jupyter-widgets/base",
          "model_name": "LayoutModel",
          "model_module_version": "1.2.0",
          "state": {
            "_model_module": "@jupyter-widgets/base",
            "_model_module_version": "1.2.0",
            "_model_name": "LayoutModel",
            "_view_count": null,
            "_view_module": "@jupyter-widgets/base",
            "_view_module_version": "1.2.0",
            "_view_name": "LayoutView",
            "align_content": null,
            "align_items": null,
            "align_self": null,
            "border": null,
            "bottom": null,
            "display": null,
            "flex": null,
            "flex_flow": null,
            "grid_area": null,
            "grid_auto_columns": null,
            "grid_auto_flow": null,
            "grid_auto_rows": null,
            "grid_column": null,
            "grid_gap": null,
            "grid_row": null,
            "grid_template_areas": null,
            "grid_template_columns": null,
            "grid_template_rows": null,
            "height": null,
            "justify_content": null,
            "justify_items": null,
            "left": null,
            "margin": null,
            "max_height": null,
            "max_width": null,
            "min_height": null,
            "min_width": null,
            "object_fit": null,
            "object_position": null,
            "order": null,
            "overflow": null,
            "overflow_x": null,
            "overflow_y": null,
            "padding": null,
            "right": null,
            "top": null,
            "visibility": null,
            "width": null
          }
        },
        "9b7c9a1bc40a4c60856027bbd9316327": {
          "model_module": "@jupyter-widgets/base",
          "model_name": "LayoutModel",
          "model_module_version": "1.2.0",
          "state": {
            "_model_module": "@jupyter-widgets/base",
            "_model_module_version": "1.2.0",
            "_model_name": "LayoutModel",
            "_view_count": null,
            "_view_module": "@jupyter-widgets/base",
            "_view_module_version": "1.2.0",
            "_view_name": "LayoutView",
            "align_content": null,
            "align_items": null,
            "align_self": null,
            "border": null,
            "bottom": null,
            "display": null,
            "flex": null,
            "flex_flow": null,
            "grid_area": null,
            "grid_auto_columns": null,
            "grid_auto_flow": null,
            "grid_auto_rows": null,
            "grid_column": null,
            "grid_gap": null,
            "grid_row": null,
            "grid_template_areas": null,
            "grid_template_columns": null,
            "grid_template_rows": null,
            "height": null,
            "justify_content": null,
            "justify_items": null,
            "left": null,
            "margin": null,
            "max_height": null,
            "max_width": null,
            "min_height": null,
            "min_width": null,
            "object_fit": null,
            "object_position": null,
            "order": null,
            "overflow": null,
            "overflow_x": null,
            "overflow_y": null,
            "padding": null,
            "right": null,
            "top": null,
            "visibility": null,
            "width": null
          }
        },
        "8eaf0fe40d2b404e82c3383a4d69bd63": {
          "model_module": "@jupyter-widgets/controls",
          "model_name": "DescriptionStyleModel",
          "model_module_version": "1.5.0",
          "state": {
            "_model_module": "@jupyter-widgets/controls",
            "_model_module_version": "1.5.0",
            "_model_name": "DescriptionStyleModel",
            "_view_count": null,
            "_view_module": "@jupyter-widgets/base",
            "_view_module_version": "1.2.0",
            "_view_name": "StyleView",
            "description_width": ""
          }
        },
        "6660a9aee3764c61b4f3278ce54f1533": {
          "model_module": "@jupyter-widgets/base",
          "model_name": "LayoutModel",
          "model_module_version": "1.2.0",
          "state": {
            "_model_module": "@jupyter-widgets/base",
            "_model_module_version": "1.2.0",
            "_model_name": "LayoutModel",
            "_view_count": null,
            "_view_module": "@jupyter-widgets/base",
            "_view_module_version": "1.2.0",
            "_view_name": "LayoutView",
            "align_content": null,
            "align_items": null,
            "align_self": null,
            "border": null,
            "bottom": null,
            "display": null,
            "flex": null,
            "flex_flow": null,
            "grid_area": null,
            "grid_auto_columns": null,
            "grid_auto_flow": null,
            "grid_auto_rows": null,
            "grid_column": null,
            "grid_gap": null,
            "grid_row": null,
            "grid_template_areas": null,
            "grid_template_columns": null,
            "grid_template_rows": null,
            "height": null,
            "justify_content": null,
            "justify_items": null,
            "left": null,
            "margin": null,
            "max_height": null,
            "max_width": null,
            "min_height": null,
            "min_width": null,
            "object_fit": null,
            "object_position": null,
            "order": null,
            "overflow": null,
            "overflow_x": null,
            "overflow_y": null,
            "padding": null,
            "right": null,
            "top": null,
            "visibility": null,
            "width": null
          }
        },
        "5f89eda9f06140cbb30dd143fd5b90af": {
          "model_module": "@jupyter-widgets/controls",
          "model_name": "ProgressStyleModel",
          "model_module_version": "1.5.0",
          "state": {
            "_model_module": "@jupyter-widgets/controls",
            "_model_module_version": "1.5.0",
            "_model_name": "ProgressStyleModel",
            "_view_count": null,
            "_view_module": "@jupyter-widgets/base",
            "_view_module_version": "1.2.0",
            "_view_name": "StyleView",
            "bar_color": null,
            "description_width": ""
          }
        },
        "f3f2f7cbcf364220b93934c08f780e0e": {
          "model_module": "@jupyter-widgets/base",
          "model_name": "LayoutModel",
          "model_module_version": "1.2.0",
          "state": {
            "_model_module": "@jupyter-widgets/base",
            "_model_module_version": "1.2.0",
            "_model_name": "LayoutModel",
            "_view_count": null,
            "_view_module": "@jupyter-widgets/base",
            "_view_module_version": "1.2.0",
            "_view_name": "LayoutView",
            "align_content": null,
            "align_items": null,
            "align_self": null,
            "border": null,
            "bottom": null,
            "display": null,
            "flex": null,
            "flex_flow": null,
            "grid_area": null,
            "grid_auto_columns": null,
            "grid_auto_flow": null,
            "grid_auto_rows": null,
            "grid_column": null,
            "grid_gap": null,
            "grid_row": null,
            "grid_template_areas": null,
            "grid_template_columns": null,
            "grid_template_rows": null,
            "height": null,
            "justify_content": null,
            "justify_items": null,
            "left": null,
            "margin": null,
            "max_height": null,
            "max_width": null,
            "min_height": null,
            "min_width": null,
            "object_fit": null,
            "object_position": null,
            "order": null,
            "overflow": null,
            "overflow_x": null,
            "overflow_y": null,
            "padding": null,
            "right": null,
            "top": null,
            "visibility": null,
            "width": null
          }
        },
        "83eb82fa5928420d8c352e051dd3381c": {
          "model_module": "@jupyter-widgets/controls",
          "model_name": "DescriptionStyleModel",
          "model_module_version": "1.5.0",
          "state": {
            "_model_module": "@jupyter-widgets/controls",
            "_model_module_version": "1.5.0",
            "_model_name": "DescriptionStyleModel",
            "_view_count": null,
            "_view_module": "@jupyter-widgets/base",
            "_view_module_version": "1.2.0",
            "_view_name": "StyleView",
            "description_width": ""
          }
        },
        "b32bd2f1f55c4773bceb4766e8d507c7": {
          "model_module": "@jupyter-widgets/controls",
          "model_name": "HBoxModel",
          "model_module_version": "1.5.0",
          "state": {
            "_dom_classes": [],
            "_model_module": "@jupyter-widgets/controls",
            "_model_module_version": "1.5.0",
            "_model_name": "HBoxModel",
            "_view_count": null,
            "_view_module": "@jupyter-widgets/controls",
            "_view_module_version": "1.5.0",
            "_view_name": "HBoxView",
            "box_style": "",
            "children": [
              "IPY_MODEL_a0a3a810770b4d6197dd49e02e99787e",
              "IPY_MODEL_bbae7d5c1e804b6c8b0ea47aca94305f",
              "IPY_MODEL_a86fffd79439437d9c0bd75b9a1b4099"
            ],
            "layout": "IPY_MODEL_52ede37e942f42bca750a53589897e7b"
          }
        },
        "a0a3a810770b4d6197dd49e02e99787e": {
          "model_module": "@jupyter-widgets/controls",
          "model_name": "HTMLModel",
          "model_module_version": "1.5.0",
          "state": {
            "_dom_classes": [],
            "_model_module": "@jupyter-widgets/controls",
            "_model_module_version": "1.5.0",
            "_model_name": "HTMLModel",
            "_view_count": null,
            "_view_module": "@jupyter-widgets/controls",
            "_view_module_version": "1.5.0",
            "_view_name": "HTMLView",
            "description": "",
            "description_tooltip": null,
            "layout": "IPY_MODEL_a1f71930799e47bab0b29425b235c838",
            "placeholder": "​",
            "style": "IPY_MODEL_f4ad3ffbf43343b8b9617ebd19eefa0b",
            "value": "Best trial: 115. Best value: 1941:  100%"
          }
        },
        "bbae7d5c1e804b6c8b0ea47aca94305f": {
          "model_module": "@jupyter-widgets/controls",
          "model_name": "FloatProgressModel",
          "model_module_version": "1.5.0",
          "state": {
            "_dom_classes": [],
            "_model_module": "@jupyter-widgets/controls",
            "_model_module_version": "1.5.0",
            "_model_name": "FloatProgressModel",
            "_view_count": null,
            "_view_module": "@jupyter-widgets/controls",
            "_view_module_version": "1.5.0",
            "_view_name": "ProgressView",
            "bar_style": "success",
            "description": "",
            "description_tooltip": null,
            "layout": "IPY_MODEL_c05c7afeff04462b930761f5566da16d",
            "max": 300,
            "min": 0,
            "orientation": "horizontal",
            "style": "IPY_MODEL_ffa5a7fbaf734cf6a96b0091fc3e99ca",
            "value": 300
          }
        },
        "a86fffd79439437d9c0bd75b9a1b4099": {
          "model_module": "@jupyter-widgets/controls",
          "model_name": "HTMLModel",
          "model_module_version": "1.5.0",
          "state": {
            "_dom_classes": [],
            "_model_module": "@jupyter-widgets/controls",
            "_model_module_version": "1.5.0",
            "_model_name": "HTMLModel",
            "_view_count": null,
            "_view_module": "@jupyter-widgets/controls",
            "_view_module_version": "1.5.0",
            "_view_name": "HTMLView",
            "description": "",
            "description_tooltip": null,
            "layout": "IPY_MODEL_1d736fa1794e4f0cbc06f573cdcafbea",
            "placeholder": "​",
            "style": "IPY_MODEL_e0817d7616f44f538f3b11e1ed27c0eb",
            "value": " 05:01/05:00"
          }
        },
        "52ede37e942f42bca750a53589897e7b": {
          "model_module": "@jupyter-widgets/base",
          "model_name": "LayoutModel",
          "model_module_version": "1.2.0",
          "state": {
            "_model_module": "@jupyter-widgets/base",
            "_model_module_version": "1.2.0",
            "_model_name": "LayoutModel",
            "_view_count": null,
            "_view_module": "@jupyter-widgets/base",
            "_view_module_version": "1.2.0",
            "_view_name": "LayoutView",
            "align_content": null,
            "align_items": null,
            "align_self": null,
            "border": null,
            "bottom": null,
            "display": null,
            "flex": null,
            "flex_flow": null,
            "grid_area": null,
            "grid_auto_columns": null,
            "grid_auto_flow": null,
            "grid_auto_rows": null,
            "grid_column": null,
            "grid_gap": null,
            "grid_row": null,
            "grid_template_areas": null,
            "grid_template_columns": null,
            "grid_template_rows": null,
            "height": null,
            "justify_content": null,
            "justify_items": null,
            "left": null,
            "margin": null,
            "max_height": null,
            "max_width": null,
            "min_height": null,
            "min_width": null,
            "object_fit": null,
            "object_position": null,
            "order": null,
            "overflow": null,
            "overflow_x": null,
            "overflow_y": null,
            "padding": null,
            "right": null,
            "top": null,
            "visibility": null,
            "width": null
          }
        },
        "a1f71930799e47bab0b29425b235c838": {
          "model_module": "@jupyter-widgets/base",
          "model_name": "LayoutModel",
          "model_module_version": "1.2.0",
          "state": {
            "_model_module": "@jupyter-widgets/base",
            "_model_module_version": "1.2.0",
            "_model_name": "LayoutModel",
            "_view_count": null,
            "_view_module": "@jupyter-widgets/base",
            "_view_module_version": "1.2.0",
            "_view_name": "LayoutView",
            "align_content": null,
            "align_items": null,
            "align_self": null,
            "border": null,
            "bottom": null,
            "display": null,
            "flex": null,
            "flex_flow": null,
            "grid_area": null,
            "grid_auto_columns": null,
            "grid_auto_flow": null,
            "grid_auto_rows": null,
            "grid_column": null,
            "grid_gap": null,
            "grid_row": null,
            "grid_template_areas": null,
            "grid_template_columns": null,
            "grid_template_rows": null,
            "height": null,
            "justify_content": null,
            "justify_items": null,
            "left": null,
            "margin": null,
            "max_height": null,
            "max_width": null,
            "min_height": null,
            "min_width": null,
            "object_fit": null,
            "object_position": null,
            "order": null,
            "overflow": null,
            "overflow_x": null,
            "overflow_y": null,
            "padding": null,
            "right": null,
            "top": null,
            "visibility": null,
            "width": null
          }
        },
        "f4ad3ffbf43343b8b9617ebd19eefa0b": {
          "model_module": "@jupyter-widgets/controls",
          "model_name": "DescriptionStyleModel",
          "model_module_version": "1.5.0",
          "state": {
            "_model_module": "@jupyter-widgets/controls",
            "_model_module_version": "1.5.0",
            "_model_name": "DescriptionStyleModel",
            "_view_count": null,
            "_view_module": "@jupyter-widgets/base",
            "_view_module_version": "1.2.0",
            "_view_name": "StyleView",
            "description_width": ""
          }
        },
        "c05c7afeff04462b930761f5566da16d": {
          "model_module": "@jupyter-widgets/base",
          "model_name": "LayoutModel",
          "model_module_version": "1.2.0",
          "state": {
            "_model_module": "@jupyter-widgets/base",
            "_model_module_version": "1.2.0",
            "_model_name": "LayoutModel",
            "_view_count": null,
            "_view_module": "@jupyter-widgets/base",
            "_view_module_version": "1.2.0",
            "_view_name": "LayoutView",
            "align_content": null,
            "align_items": null,
            "align_self": null,
            "border": null,
            "bottom": null,
            "display": null,
            "flex": null,
            "flex_flow": null,
            "grid_area": null,
            "grid_auto_columns": null,
            "grid_auto_flow": null,
            "grid_auto_rows": null,
            "grid_column": null,
            "grid_gap": null,
            "grid_row": null,
            "grid_template_areas": null,
            "grid_template_columns": null,
            "grid_template_rows": null,
            "height": null,
            "justify_content": null,
            "justify_items": null,
            "left": null,
            "margin": null,
            "max_height": null,
            "max_width": null,
            "min_height": null,
            "min_width": null,
            "object_fit": null,
            "object_position": null,
            "order": null,
            "overflow": null,
            "overflow_x": null,
            "overflow_y": null,
            "padding": null,
            "right": null,
            "top": null,
            "visibility": null,
            "width": null
          }
        },
        "ffa5a7fbaf734cf6a96b0091fc3e99ca": {
          "model_module": "@jupyter-widgets/controls",
          "model_name": "ProgressStyleModel",
          "model_module_version": "1.5.0",
          "state": {
            "_model_module": "@jupyter-widgets/controls",
            "_model_module_version": "1.5.0",
            "_model_name": "ProgressStyleModel",
            "_view_count": null,
            "_view_module": "@jupyter-widgets/base",
            "_view_module_version": "1.2.0",
            "_view_name": "StyleView",
            "bar_color": null,
            "description_width": ""
          }
        },
        "1d736fa1794e4f0cbc06f573cdcafbea": {
          "model_module": "@jupyter-widgets/base",
          "model_name": "LayoutModel",
          "model_module_version": "1.2.0",
          "state": {
            "_model_module": "@jupyter-widgets/base",
            "_model_module_version": "1.2.0",
            "_model_name": "LayoutModel",
            "_view_count": null,
            "_view_module": "@jupyter-widgets/base",
            "_view_module_version": "1.2.0",
            "_view_name": "LayoutView",
            "align_content": null,
            "align_items": null,
            "align_self": null,
            "border": null,
            "bottom": null,
            "display": null,
            "flex": null,
            "flex_flow": null,
            "grid_area": null,
            "grid_auto_columns": null,
            "grid_auto_flow": null,
            "grid_auto_rows": null,
            "grid_column": null,
            "grid_gap": null,
            "grid_row": null,
            "grid_template_areas": null,
            "grid_template_columns": null,
            "grid_template_rows": null,
            "height": null,
            "justify_content": null,
            "justify_items": null,
            "left": null,
            "margin": null,
            "max_height": null,
            "max_width": null,
            "min_height": null,
            "min_width": null,
            "object_fit": null,
            "object_position": null,
            "order": null,
            "overflow": null,
            "overflow_x": null,
            "overflow_y": null,
            "padding": null,
            "right": null,
            "top": null,
            "visibility": null,
            "width": null
          }
        },
        "e0817d7616f44f538f3b11e1ed27c0eb": {
          "model_module": "@jupyter-widgets/controls",
          "model_name": "DescriptionStyleModel",
          "model_module_version": "1.5.0",
          "state": {
            "_model_module": "@jupyter-widgets/controls",
            "_model_module_version": "1.5.0",
            "_model_name": "DescriptionStyleModel",
            "_view_count": null,
            "_view_module": "@jupyter-widgets/base",
            "_view_module_version": "1.2.0",
            "_view_name": "StyleView",
            "description_width": ""
          }
        }
      }
    }
  }
}